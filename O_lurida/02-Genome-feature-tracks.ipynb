{
 "cells": [
  {
   "cell_type": "markdown",
   "metadata": {},
   "source": [
    "Looking at the genome feature tracks for \n",
    "```\n",
    "Olurida_v081.fa : http://owl.fish.washington.edu/halfshell/genomic-databank/Olurida_v081.fa\n",
    "\n",
    "MD5 = 3ac56372bd62038f264d27eef0883bd3\n",
    "```"
   ]
  },
  {
   "cell_type": "code",
   "execution_count": 3,
   "metadata": {
    "collapsed": false
   },
   "outputs": [
    {
     "name": "stdout",
     "output_type": "stream",
     "text": [
      "  % Total    % Received % Xferd  Average Speed   Time    Time     Time  Current\n",
      "                                 Dload  Upload   Total   Spent    Left  Speed\n",
      "100 9589k  100 9589k    0     0  11.3M      0 --:--:-- --:--:-- --:--:-- 11.3M\n",
      "/Users/sr320/git-repos/nb-2019/O_lurida\n"
     ]
    }
   ],
   "source": [
    "!cd data/ && { curl -O http://owl.fish.washington.edu/halfshell/genomic-databank/Olurida_v081.mRNA.gff ; cd -; }\n"
   ]
  },
  {
   "cell_type": "code",
   "execution_count": 5,
   "metadata": {
    "collapsed": false
   },
   "outputs": [
    {
     "name": "stdout",
     "output_type": "stream",
     "text": [
      "Contig61093\tmaker\tmRNA\t7093\t7949\t.\t+\t.\tID=Olurida_00016155-RA;Parent=Olurida_00016155;Name=Olurida_00016155-RA;Alias=maker-Contig61093-snap-gene-0.1-mRNA-1;_AED=0.14;_QI=0|0|0|0.5|0.33|0.25|4|0|163;_eAED=0.17;Note=Protein of unknown function;\r\n",
      "Contig1111\tmaker\tmRNA\t26039\t28696\t.\t-\t.\tID=Olurida_00005389-RA;Parent=Olurida_00005389;Name=Olurida_00005389-RA;Alias=maker-Contig1111-snap-gene-0.2-mRNA-1;_AED=0.06;_QI=0|0|0|1|0.75|0.8|5|0|242;_eAED=0.15;Note=Similar to Spag6: Sperm-associated antigen 6 (Mus musculus OX%3D10090);Dbxref=Gene3D:G3DSA:1.25.10.10,InterPro:IPR000225,InterPro:IPR000357,InterPro:IPR011989,InterPro:IPR016024,Pfam:PF02985,SMART:SM00185,SUPERFAMILY:SSF48371;Ontology_term=GO:0005515;\r\n",
      "Contig214118\tmaker\tmRNA\t201\t926\t.\t+\t.\tID=Olurida_00024644-RA;Parent=Olurida_00024644;Name=Olurida_00024644-RA;Alias=maker-Contig214118-snap-gene-0.0-mRNA-1;_AED=0.08;_QI=0|0|0|1|0|0|2|0|69;_eAED=0.08;Note=Protein of unknown function;Dbxref=Gene3D:G3DSA:3.10.450.10;\r\n",
      "Contig58217\tmaker\tmRNA\t9736\t11590\t.\t-\t.\tID=Olurida_00015060-RA;Parent=Olurida_00015060;Name=Olurida_00015060-RA;Alias=snap_masked-Contig58217-processed-gene-0.2-mRNA-1;_AED=0.31;_QI=36|0.5|0.4|0.8|0.75|0.6|5|0|478;_eAED=0.31;Note=Protein of unknown function;Dbxref=MobiDBLite:mobidb-lite;\r\n",
      "Contig2046\tmaker\tmRNA\t2295\t17986\t.\t+\t.\tID=Olurida_00009209-RA;Parent=Olurida_00009209;Name=Olurida_00009209-RA;Alias=maker-Contig2046-snap-gene-0.3-mRNA-1;_AED=0.35;_QI=0|0.5|0.66|0.66|0.62|0.55|9|254|262;_eAED=0.35;Note=Protein of unknown function;\r\n",
      "Contig52254\tmaker\tmRNA\t8908\t11733\t.\t+\t.\tID=Olurida_00009326-RA;Parent=Olurida_00009326;Name=Olurida_00009326-RA;Alias=maker-Contig52254-snap-gene-0.1-mRNA-1;_AED=0.00;_QI=0|0|0|1|1|0|2|0|249;_eAED=0.00;Note=Similar to MM_0045: Putative ankyrin repeat protein MM_0045 (Methanosarcina mazei (strain ATCC BAA-159 / DSM 3647 / Goe1 / Go1 / JCM 11833 / OCM 88) OX%3D192952);Dbxref=CDD:cd00204,Gene3D:G3DSA:1.25.40.20,InterPro:IPR002110,InterPro:IPR020683,InterPro:IPR036770,PRINTS:PR01415,Pfam:PF12796,Pfam:PF13606,Pfam:PF13857,ProSiteProfiles:PS50088,ProSiteProfiles:PS50297,SMART:SM00248,SUPERFAMILY:SSF48403;Ontology_term=GO:0005515;\r\n",
      "Contig3008\tmaker\tmRNA\t632\t6365\t.\t-\t.\tID=Olurida_00014801-RA;Parent=Olurida_00014801;Name=Olurida_00014801-RA;Alias=maker-Contig3008-snap-gene-0.1-mRNA-1;_AED=0.06;_QI=0|0|0|1|0.83|0.57|7|0|579;_eAED=0.06;Note=Protein of unknown function;Dbxref=CDD:cd01450,Gene3D:G3DSA:3.40.50.410,InterPro:IPR002035,InterPro:IPR015919,InterPro:IPR036465,Pfam:PF00092,ProSiteProfiles:PS50234,SMART:SM00327,SUPERFAMILY:SSF49313,SUPERFAMILY:SSF53300;Ontology_term=GO:0005509,GO:0016020;\r\n",
      "Contig103346\tmaker\tmRNA\t6131\t16731\t.\t-\t.\tID=Olurida_00009499-RA;Parent=Olurida_00009499;Name=Olurida_00009499-RA;Alias=maker-Contig103346-snap-gene-0.2-mRNA-1;_AED=0.16;_QI=73|0.75|0.8|1|0.75|0.8|5|0|565;_eAED=0.16;Note=Similar to HSPA12B: Heat shock 70 kDa protein 12B (Homo sapiens OX%3D9606);Dbxref=CDD:cd10229,Gene3D:G3DSA:3.30.420.40,Gene3D:G3DSA:3.90.640.10,InterPro:IPR013126,PRINTS:PR00301,Pfam:PF00012,SUPERFAMILY:SSF53067;\r\n",
      "Contig947\tmaker\tmRNA\t14348\t18200\t.\t-\t.\tID=Olurida_00005464-RA;Parent=Olurida_00005464;Name=Olurida_00005464-RA;Alias=snap_masked-Contig947-processed-gene-0.1-mRNA-1;_AED=0.04;_QI=0|0|0|0.5|1|0|2|0|370;_eAED=0.04;Note=Similar to Sp5: Transcription factor Sp5 (Mus musculus OX%3D10090);Dbxref=Gene3D:G3DSA:3.30.160.60,InterPro:IPR013087,InterPro:IPR036236,MobiDBLite:mobidb-lite,Pfam:PF00096,ProSitePatterns:PS00028,ProSiteProfiles:PS50157,SMART:SM00355,SUPERFAMILY:SSF57667;Ontology_term=GO:0003676;\r\n",
      "Contig171994\tmaker\tmRNA\t2608\t9323\t.\t-\t.\tID=Olurida_00016247-RA;Parent=Olurida_00016247;Name=Olurida_00016247-RA;Alias=maker-Contig171994-snap-gene-0.1-mRNA-1;_AED=0.27;_QI=379|0.71|0.87|1|0.57|0.75|8|0|144;_eAED=0.27;Note=Protein of unknown function;Dbxref=InterPro:IPR031981,Pfam:PF16026;\r\n"
     ]
    }
   ],
   "source": [
    "!head data/Olurida_v081.mRNA.gff"
   ]
  },
  {
   "cell_type": "code",
   "execution_count": 6,
   "metadata": {
    "collapsed": false
   },
   "outputs": [
    {
     "name": "stdout",
     "output_type": "stream",
     "text": [
      "   24680 data/Olurida_v081.mRNA.gff\r\n"
     ]
    }
   ],
   "source": [
    "!wc -l data/Olurida_v081.mRNA.gff"
   ]
  },
  {
   "cell_type": "code",
   "execution_count": 7,
   "metadata": {
    "collapsed": false
   },
   "outputs": [
    {
     "name": "stdout",
     "output_type": "stream",
     "text": [
      "  % Total    % Received % Xferd  Average Speed   Time    Time     Time  Current\n",
      "                                 Dload  Upload   Total   Spent    Left  Speed\n",
      "100 1034M  100 1034M    0     0  18.3M      0  0:00:56  0:00:56 --:--:-- 15.3M    0  8733k      0  0:02:01  0:00:03  0:01:58 8732k     0  7317k      0  0:02:24  0:00:16  0:02:08 7148k   0  8185k      0  0:02:09  0:00:25  0:01:44 9850k\n",
      "/Users/sr320/git-repos/nb-2019/O_lurida\n"
     ]
    }
   ],
   "source": [
    "!cd data/ && { curl -O http://owl.fish.washington.edu/halfshell/genomic-databank/Olurida_v081.all.sorted.gff ; cd -; }\n",
    " \n",
    "    "
   ]
  },
  {
   "cell_type": "code",
   "execution_count": 8,
   "metadata": {
    "collapsed": false
   },
   "outputs": [
    {
     "name": "stdout",
     "output_type": "stream",
     "text": [
      "##gff-version 3\r\n",
      "Contig0\t.\tcontig\t1\t116746\t.\t.\t.\tID=Contig0;Name=Contig0\r\n",
      "Contig0\test2genome\texpressed_sequence_match\t1453\t2131\t2238\t+\t.\tID=Contig0:hit:93:3.2.0.0;Name=comp43168_c1_seq17\r\n",
      "Contig0\test2genome\tmatch_part\t1453\t2131\t2238\t+\t.\tID=Contig0:hsp:1513:3.2.0.0;Parent=Contig0:hit:93:3.2.0.0;Target=comp43168_c1_seq17 121 802 +;Gap=M7 I1 M27 D2 M4 D1 M58 I2 M2 I1 M233 D1 M4 I3 M4 I1 M26 D1 M309\r\n",
      "Contig0\test2genome\texpressed_sequence_match\t1606\t2131\t2276\t+\t.\tID=Contig0:hit:90:3.2.0.0;Name=comp43168_c1_seq8\r\n",
      "Contig0\test2genome\tmatch_part\t1606\t2131\t2276\t+\t.\tID=Contig0:hsp:1510:3.2.0.0;Parent=Contig0:hit:90:3.2.0.0;Target=comp43168_c1_seq8 1 528 +;Gap=M181 D1 M4 I3 M4 I1 M26 D1 M309\r\n",
      "Contig0\tblastn\texpressed_sequence_match\t1608\t2131\t150\t+\t.\tID=Contig0:hit:30:3.2.0.0;Name=comp43168_c1_seq8\r\n",
      "Contig0\tblastn\tmatch_part\t1608\t1781\t150\t+\t.\tID=Contig0:hsp:30:3.2.0.0;Parent=Contig0:hit:30:3.2.0.0;Target=comp43168_c1_seq8 3 176 +;Gap=M174\r\n",
      "Contig0\test2genome\texpressed_sequence_match\t1669\t2131\t1781\t+\t.\tID=Contig0:hit:92:3.2.0.0;Name=comp43168_c1_seq15\r\n",
      "Contig0\test2genome\tmatch_part\t1669\t2131\t1781\t+\t.\tID=Contig0:hsp:1512:3.2.0.0;Parent=Contig0:hit:92:3.2.0.0;Target=comp43168_c1_seq15 23 487 +;Gap=M118 D1 M4 I3 M4 I1 M26 D1 M309\r\n"
     ]
    }
   ],
   "source": [
    "!head data/Olurida_v081.all.sorted.gff"
   ]
  },
  {
   "cell_type": "markdown",
   "metadata": {},
   "source": [
    "![igv](igv/IGV0619.png)"
   ]
  },
  {
   "cell_type": "code",
   "execution_count": null,
   "metadata": {
    "collapsed": false
   },
   "outputs": [
    {
     "name": "stdout",
     "output_type": "stream",
     "text": [
      "^C\r\n"
     ]
    }
   ],
   "source": []
  },
  {
   "cell_type": "code",
   "execution_count": 2,
   "metadata": {
    "collapsed": false
   },
   "outputs": [
    {
     "name": "stdout",
     "output_type": "stream",
     "text": [
      "150262 .\n",
      "   1 3\n",
      "893927 blastn\n",
      "3171884 blastx\n",
      "834689 est2genome\n",
      "1233044 protein2genome\n",
      "599982 repeatmasker\n",
      "5908 repeatrunner\n"
     ]
    }
   ],
   "source": [
    "!awk '{ print $2 }' data/Olurida_v081.all.sorted.gff | sort | uniq -c"
   ]
  },
  {
   "cell_type": "code",
   "execution_count": 3,
   "metadata": {
    "collapsed": false
   },
   "outputs": [
    {
     "name": "stdout",
     "output_type": "stream",
     "text": [
      "   1 \n",
      "150262 contig\n",
      "583163 expressed_sequence_match\n",
      "299991 match\n",
      "4604854 match_part\n",
      "1251426 protein_match\n"
     ]
    }
   ],
   "source": [
    "!awk '{ print $3 }' data/Olurida_v081.all.sorted.gff | sort | uniq -c"
   ]
  },
  {
   "cell_type": "code",
   "execution_count": 6,
   "metadata": {
    "collapsed": false
   },
   "outputs": [
    {
     "name": "stdout",
     "output_type": "stream",
     "text": [
      "  % Total    % Received % Xferd  Average Speed   Time    Time     Time  Current\n",
      "                                 Dload  Upload   Total   Spent    Left  Speed\n",
      "100 2318M  100 2318M    0     0  32.8M      0  0:01:10  0:01:10 --:--:-- 32.7M2.9M      0  0:01:10  0:00:32  0:00:38 33.2M\n",
      "/Users/sr320/git-repos/nb-2019/O_lurida\n"
     ]
    }
   ],
   "source": [
    "!cd data/ && { curl -O https://gannet.fish.washington.edu/Atumefaciens/20190109_oly_maker_functional_annotation/20181127_oly_genome_snap02.all.renamed.putative_function.domain_added.gff ; cd -; }\n"
   ]
  },
  {
   "cell_type": "code",
   "execution_count": 7,
   "metadata": {
    "collapsed": false
   },
   "outputs": [
    {
     "name": "stdout",
     "output_type": "stream",
     "text": [
      "##gff-version 3\r\n",
      "Contig56127\t.\tcontig\t1\t12532\t.\t.\t.\tID=Contig56127;Name=Contig56127\r\n",
      "Contig56127\tsnap_masked\tmatch\t129\t4463\t25.567\t+\t.\tID=Contig56127:hit:37108:4.5.0.0;Name=snap_masked-Contig56127-abinit-gene-0.0-mRNA-1\r\n",
      "Contig56127\tsnap_masked\tmatch_part\t129\t132\t9.723\t+\t.\tID=Contig56127:hsp:67913:4.5.0.0;Parent=Contig56127:hit:37108:4.5.0.0;Target=snap_masked-Contig56127-abinit-gene-0.0-mRNA-1 1 4 +;Gap=M4\r\n",
      "Contig56127\tsnap_masked\tmatch_part\t3917\t4075\t5.004\t+\t.\tID=Contig56127:hsp:67914:4.5.0.0;Parent=Contig56127:hit:37108:4.5.0.0;Target=snap_masked-Contig56127-abinit-gene-0.0-mRNA-1 5 163 +;Gap=M159\r\n",
      "Contig56127\tsnap_masked\tmatch_part\t4360\t4463\t10.840\t+\t.\tID=Contig56127:hsp:67915:4.5.0.0;Parent=Contig56127:hit:37108:4.5.0.0;Target=snap_masked-Contig56127-abinit-gene-0.0-mRNA-1 164 267 +;Gap=M104\r\n",
      "Contig56127\tsnap_masked\tmatch\t1178\t12095\t52.419\t-\t.\tID=Contig56127:hit:37109:4.5.0.0;Name=snap_masked-Contig56127-abinit-gene-0.1-mRNA-1\r\n",
      "Contig56127\tsnap_masked\tmatch_part\t11909\t12095\t9.347\t-\t.\tID=Contig56127:hsp:67916:4.5.0.0;Parent=Contig56127:hit:37109:4.5.0.0;Target=snap_masked-Contig56127-abinit-gene-0.1-mRNA-1 177 363 +;Gap=M187\r\n",
      "Contig56127\tsnap_masked\tmatch_part\t9230\t9309\t5.288\t-\t.\tID=Contig56127:hsp:67917:4.5.0.0;Parent=Contig56127:hit:37109:4.5.0.0;Target=snap_masked-Contig56127-abinit-gene-0.1-mRNA-1 97 176 +;Gap=M80\r\n",
      "Contig56127\tsnap_masked\tmatch_part\t9044\t9075\t13.741\t-\t.\tID=Contig56127:hsp:67918:4.5.0.0;Parent=Contig56127:hit:37109:4.5.0.0;Target=snap_masked-Contig56127-abinit-gene-0.1-mRNA-1 65 96 +;Gap=M32\r\n"
     ]
    }
   ],
   "source": [
    "!head data/20181127_oly_genome_snap02.all.renamed.putative_function.domain_added.gff"
   ]
  },
  {
   "cell_type": "code",
   "execution_count": 8,
   "metadata": {
    "collapsed": false
   },
   "outputs": [
    {
     "name": "stdout",
     "output_type": "stream",
     "text": [
      "19565118 \n",
      "159429 .\n",
      "   1 3\n",
      "317640 blastn\n",
      "1239436 blastx\n",
      "294249 est2genome\n",
      "347627 maker\n",
      "490038 protein2genome\n",
      "3967414 repeatmasker\n",
      " 200 repeatrunner\n",
      "566473 snap_masked\n"
     ]
    }
   ],
   "source": [
    "!awk '{ print $2 }' data/20181127_oly_genome_snap02.all.renamed.putative_function.domain_added.gff | sort | uniq -c"
   ]
  },
  {
   "cell_type": "code",
   "execution_count": 9,
   "metadata": {
    "collapsed": false
   },
   "outputs": [
    {
     "name": "stdout",
     "output_type": "stream",
     "text": [
      "19565119 \n",
      "139671 CDS\n",
      "159429 contig\n",
      "142530 exon\n",
      "157551 expressed_sequence_match\n",
      "9468 five_prime_UTR\n",
      "24680 gene\n",
      "24680 mRNA\n",
      "2094422 match\n",
      "4305411 match_part\n",
      "318066 protein_match\n",
      "6598 three_prime_UTR\n"
     ]
    }
   ],
   "source": [
    "!awk '{ print $3 }' data/20181127_oly_genome_snap02.all.renamed.putative_function.domain_added.gff | sort | uniq -c"
   ]
  },
  {
   "cell_type": "code",
   "execution_count": 4,
   "metadata": {
    "collapsed": false
   },
   "outputs": [
    {
     "name": "stdout",
     "output_type": "stream",
     "text": [
      "Contig61093\tmaker\tgene\t7093\t7949\t.\t+\t.\tID=Olurida_00016155;Name=Olurida_00016155;Alias=maker-Contig61093-snap-gene-0.1;Note=Protein of unknown function;\r\n",
      "Contig1111\tmaker\tgene\t26039\t28696\t.\t-\t.\tID=Olurida_00005389;Name=Olurida_00005389;Alias=maker-Contig1111-snap-gene-0.2;Note=Similar to Spag6: Sperm-associated antigen 6 (Mus musculus OX%3D10090);Dbxref=Gene3D:G3DSA:1.25.10.10,InterPro:IPR000225,InterPro:IPR000357,InterPro:IPR011989,InterPro:IPR016024,Pfam:PF02985,SMART:SM00185,SUPERFAMILY:SSF48371;Ontology_term=GO:0005515;\r\n",
      "Contig214118\tmaker\tgene\t201\t926\t.\t+\t.\tID=Olurida_00024644;Name=Olurida_00024644;Alias=maker-Contig214118-snap-gene-0.0;Note=Protein of unknown function;Dbxref=Gene3D:G3DSA:3.10.450.10;\r\n",
      "Contig58217\tmaker\tgene\t9736\t11590\t.\t-\t.\tID=Olurida_00015060;Name=Olurida_00015060;Alias=snap_masked-Contig58217-processed-gene-0.2;Note=Protein of unknown function;Dbxref=MobiDBLite:mobidb-lite;\r\n",
      "Contig2046\tmaker\tgene\t2295\t17986\t.\t+\t.\tID=Olurida_00009209;Name=Olurida_00009209;Alias=maker-Contig2046-snap-gene-0.3;Note=Protein of unknown function;\r\n"
     ]
    }
   ],
   "source": [
    "!fgrep -m 5 \"\tgene\"  data/20181127_oly_genome_snap02.all.renamed.putative_function.domain_added.gff | head"
   ]
  },
  {
   "cell_type": "code",
   "execution_count": 5,
   "metadata": {
    "collapsed": false
   },
   "outputs": [
    {
     "name": "stdout",
     "output_type": "stream",
     "text": [
      "Contig61093\tmaker\texon\t7093\t7100\t.\t+\t.\tID=Olurida_00016155-RA:exon:1369;Parent=Olurida_00016155-RA;\r\n",
      "Contig61093\tmaker\texon\t7128\t7192\t.\t+\t.\tID=Olurida_00016155-RA:exon:1370;Parent=Olurida_00016155-RA;\r\n",
      "Contig61093\tmaker\texon\t7491\t7773\t.\t+\t.\tID=Olurida_00016155-RA:exon:1371;Parent=Olurida_00016155-RA;\r\n",
      "Contig61093\tmaker\texon\t7814\t7949\t.\t+\t.\tID=Olurida_00016155-RA:exon:1372;Parent=Olurida_00016155-RA;\r\n",
      "Contig1111\tmaker\texon\t28523\t28696\t.\t-\t.\tID=Olurida_00005389-RA:exon:190;Parent=Olurida_00005389-RA;\r\n"
     ]
    }
   ],
   "source": [
    "!fgrep -m 5 \"\texon\"  data/20181127_oly_genome_snap02.all.renamed.putative_function.domain_added.gff | head"
   ]
  },
  {
   "cell_type": "code",
   "execution_count": 7,
   "metadata": {
    "collapsed": false
   },
   "outputs": [
    {
     "name": "stdout",
     "output_type": "stream",
     "text": [
      "Contig61093\tmaker\tmRNA\t7093\t7949\t.\t+\t.\tID=Olurida_00016155-RA;Parent=Olurida_00016155;Name=Olurida_00016155-RA;Alias=maker-Contig61093-snap-gene-0.1-mRNA-1;_AED=0.14;_QI=0|0|0|0.5|0.33|0.25|4|0|163;_eAED=0.17;Note=Protein of unknown function;\r\n",
      "Contig1111\tmaker\tmRNA\t26039\t28696\t.\t-\t.\tID=Olurida_00005389-RA;Parent=Olurida_00005389;Name=Olurida_00005389-RA;Alias=maker-Contig1111-snap-gene-0.2-mRNA-1;_AED=0.06;_QI=0|0|0|1|0.75|0.8|5|0|242;_eAED=0.15;Note=Similar to Spag6: Sperm-associated antigen 6 (Mus musculus OX%3D10090);Dbxref=Gene3D:G3DSA:1.25.10.10,InterPro:IPR000225,InterPro:IPR000357,InterPro:IPR011989,InterPro:IPR016024,Pfam:PF02985,SMART:SM00185,SUPERFAMILY:SSF48371;Ontology_term=GO:0005515;\r\n",
      "Contig214118\tmaker\tmRNA\t201\t926\t.\t+\t.\tID=Olurida_00024644-RA;Parent=Olurida_00024644;Name=Olurida_00024644-RA;Alias=maker-Contig214118-snap-gene-0.0-mRNA-1;_AED=0.08;_QI=0|0|0|1|0|0|2|0|69;_eAED=0.08;Note=Protein of unknown function;Dbxref=Gene3D:G3DSA:3.10.450.10;\r\n",
      "Contig58217\tmaker\tmRNA\t9736\t11590\t.\t-\t.\tID=Olurida_00015060-RA;Parent=Olurida_00015060;Name=Olurida_00015060-RA;Alias=snap_masked-Contig58217-processed-gene-0.2-mRNA-1;_AED=0.31;_QI=36|0.5|0.4|0.8|0.75|0.6|5|0|478;_eAED=0.31;Note=Protein of unknown function;Dbxref=MobiDBLite:mobidb-lite;\r\n",
      "Contig2046\tmaker\tmRNA\t2295\t17986\t.\t+\t.\tID=Olurida_00009209-RA;Parent=Olurida_00009209;Name=Olurida_00009209-RA;Alias=maker-Contig2046-snap-gene-0.3-mRNA-1;_AED=0.35;_QI=0|0.5|0.66|0.66|0.62|0.55|9|254|262;_eAED=0.35;Note=Protein of unknown function;\r\n"
     ]
    }
   ],
   "source": [
    "!fgrep -m 5 \"\tmRNA\"  data/20181127_oly_genome_snap02.all.renamed.putative_function.domain_added.gff | head"
   ]
  },
  {
   "cell_type": "code",
   "execution_count": 8,
   "metadata": {
    "collapsed": true
   },
   "outputs": [],
   "source": [
    "!fgrep \"\tmRNA\"  data/20181127_oly_genome_snap02.all.renamed.putative_function.domain_added.gff \\\n",
    "> analyses/Olurida_v081.mRNA.gff"
   ]
  },
  {
   "cell_type": "code",
   "execution_count": 9,
   "metadata": {
    "collapsed": false
   },
   "outputs": [
    {
     "name": "stdout",
     "output_type": "stream",
     "text": [
      "MD5 (analyses/Olurida_v081.mRNA.gff) = a77fb84e50b418302254fb1ce46e035f\r\n"
     ]
    }
   ],
   "source": [
    "!md5 analyses/Olurida_v081.mRNA.gff"
   ]
  },
  {
   "cell_type": "code",
   "execution_count": 10,
   "metadata": {
    "collapsed": true
   },
   "outputs": [],
   "source": [
    "!fgrep \"\tgene\"  data/20181127_oly_genome_snap02.all.renamed.putative_function.domain_added.gff \\\n",
    "> analyses/Olurida_v081.gene.gff"
   ]
  },
  {
   "cell_type": "code",
   "execution_count": 11,
   "metadata": {
    "collapsed": true
   },
   "outputs": [],
   "source": [
    "!fgrep \"\texon\"  data/20181127_oly_genome_snap02.all.renamed.putative_function.domain_added.gff \\\n",
    "> analyses/Olurida_v081.exon.gff"
   ]
  },
  {
   "cell_type": "code",
   "execution_count": 12,
   "metadata": {
    "collapsed": true
   },
   "outputs": [],
   "source": [
    "!fgrep \"\tCDS\"  data/20181127_oly_genome_snap02.all.renamed.putative_function.domain_added.gff \\\n",
    "> analyses/Olurida_v081.CDS.gff"
   ]
  },
  {
   "cell_type": "code",
   "execution_count": 17,
   "metadata": {
    "collapsed": false
   },
   "outputs": [
    {
     "name": "stdout",
     "output_type": "stream",
     "text": [
      "  139671 analyses/Olurida_v081.CDS.gff\r\n",
      "  142530 analyses/Olurida_v081.exon.gff\r\n",
      "    9468 analyses/Olurida_v081.five_prime_UTR.gff\r\n",
      "   24680 analyses/Olurida_v081.gene.gff\r\n",
      "   24680 analyses/Olurida_v081.mRNA.gff\r\n",
      "    6598 analyses/Olurida_v081.three_prime_UTR.gff\r\n",
      "  347627 total\r\n"
     ]
    }
   ],
   "source": [
    "!wc -l analyses/Olurid*gff"
   ]
  },
  {
   "cell_type": "code",
   "execution_count": 15,
   "metadata": {
    "collapsed": true
   },
   "outputs": [],
   "source": [
    "!fgrep \"\tfive_prime_UTR\"  data/20181127_oly_genome_snap02.all.renamed.putative_function.domain_added.gff \\\n",
    "> analyses/Olurida_v081.five_prime_UTR.gff"
   ]
  },
  {
   "cell_type": "code",
   "execution_count": 16,
   "metadata": {
    "collapsed": true
   },
   "outputs": [],
   "source": [
    "!fgrep \"\tthree_prime_UTR\"  data/20181127_oly_genome_snap02.all.renamed.putative_function.domain_added.gff \\\n",
    "> analyses/Olurida_v081.three_prime_UTR.gff"
   ]
  },
  {
   "cell_type": "code",
   "execution_count": null,
   "metadata": {
    "collapsed": true
   },
   "outputs": [],
   "source": []
  }
 ],
 "metadata": {
  "kernelspec": {
   "display_name": "Python 2",
   "language": "python",
   "name": "python2"
  },
  "language_info": {
   "codemirror_mode": {
    "name": "ipython",
    "version": 2
   },
   "file_extension": ".py",
   "mimetype": "text/x-python",
   "name": "python",
   "nbconvert_exporter": "python",
   "pygments_lexer": "ipython2",
   "version": "2.7.12"
  }
 },
 "nbformat": 4,
 "nbformat_minor": 0
}
