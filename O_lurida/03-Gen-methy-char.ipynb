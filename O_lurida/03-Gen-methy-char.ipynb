{
 "cells": [
  {
   "cell_type": "markdown",
   "metadata": {},
   "source": [
    "## Conisidering how to best provide general landscape of methylation."
   ]
  },
  {
   "cell_type": "markdown",
   "metadata": {},
   "source": [
    "Here is what was used for methylkit\n",
    "```\n",
    "file.list_18=list('../data/zr1394_1_s456_trimmed_bismark_bt2.deduplicated.sorted.bam',\n",
    "'../data/zr1394_2_s456_trimmed_bismark_bt2.deduplicated.sorted.bam',\n",
    "'../data/zr1394_3_s456_trimmed_bismark_bt2.deduplicated.sorted.bam',   '../data/zr1394_4_s456_trimmed_bismark_bt2.deduplicated.sorted.bam',\n",
    "'../data/zr1394_5_s456_trimmed_bismark_bt2.deduplicated.sorted.bam',                              '../data/zr1394_6_s456_trimmed_bismark_bt2.deduplicated.sorted.bam',\n",
    "'../data/zr1394_7_s456_trimmed_bismark_bt2.deduplicated.sorted.bam',\n",
    "'../data/zr1394_8_s456_trimmed_bismark_bt2.deduplicated.sorted.bam',               '../data/zr1394_9_s456_trimmed_bismark_bt2.deduplicated.sorted.bam',\n",
    "'../data/zr1394_10_s456_trimmed_bismark_bt2.deduplicated.sorted.bam',                              '../data/zr1394_11_s456_trimmed_bismark_bt2.deduplicated.sorted.bam',\n",
    "'../data/zr1394_12_s456_trimmed_bismark_bt2.deduplicated.sorted.bam',\n",
    "'../data/zr1394_13_s456_trimmed_bismark_bt2.deduplicated.sorted.bam',                         '../data/zr1394_14_s456_trimmed_bismark_bt2.deduplicated.sorted.bam',\n",
    "'../data/zr1394_15_s456_trimmed_bismark_bt2.deduplicated.sorted.bam',                              '../data/zr1394_16_s456_trimmed_bismark_bt2.deduplicated.sorted.bam',\n",
    "'../data/zr1394_17_s456_trimmed_bismark_bt2.deduplicated.sorted.bam',\n",
    "'../data/zr1394_18_s456_trimmed_bismark_bt2.deduplicated.sorted.bam'\n",
    ")\n",
    "```\n",
    "\n"
   ]
  },
  {
   "cell_type": "markdown",
   "metadata": {},
   "source": [
    "Lets see if files for bismark are still on mox\n",
    "\n",
    "`reads_dir=\"/gscratch/srlab/sr320/data/olurida-bs/\"`"
   ]
  },
  {
   "cell_type": "code",
   "execution_count": null,
   "metadata": {},
   "outputs": [],
   "source": []
  }
 ],
 "metadata": {
  "kernelspec": {
   "display_name": "Python 3",
   "language": "python",
   "name": "python3"
  },
  "language_info": {
   "codemirror_mode": {
    "name": "ipython",
    "version": 3
   },
   "file_extension": ".py",
   "mimetype": "text/x-python",
   "name": "python",
   "nbconvert_exporter": "python",
   "pygments_lexer": "ipython3",
   "version": "3.6.8"
  }
 },
 "nbformat": 4,
 "nbformat_minor": 2
}
