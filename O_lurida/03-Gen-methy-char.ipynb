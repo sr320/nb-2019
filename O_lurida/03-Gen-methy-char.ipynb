{
 "cells": [
  {
   "cell_type": "markdown",
   "metadata": {},
   "source": [
    "## Conisidering how to best provide general landscape of methylation."
   ]
  },
  {
   "cell_type": "markdown",
   "metadata": {},
   "source": [
    "Here is what was used for methylkit\n",
    "```\n",
    "file.list_18=list('../data/zr1394_1_s456_trimmed_bismark_bt2.deduplicated.sorted.bam',\n",
    "'../data/zr1394_2_s456_trimmed_bismark_bt2.deduplicated.sorted.bam',\n",
    "'../data/zr1394_3_s456_trimmed_bismark_bt2.deduplicated.sorted.bam',   '../data/zr1394_4_s456_trimmed_bismark_bt2.deduplicated.sorted.bam',\n",
    "'../data/zr1394_5_s456_trimmed_bismark_bt2.deduplicated.sorted.bam',                              '../data/zr1394_6_s456_trimmed_bismark_bt2.deduplicated.sorted.bam',\n",
    "'../data/zr1394_7_s456_trimmed_bismark_bt2.deduplicated.sorted.bam',\n",
    "'../data/zr1394_8_s456_trimmed_bismark_bt2.deduplicated.sorted.bam',               '../data/zr1394_9_s456_trimmed_bismark_bt2.deduplicated.sorted.bam',\n",
    "'../data/zr1394_10_s456_trimmed_bismark_bt2.deduplicated.sorted.bam',                              '../data/zr1394_11_s456_trimmed_bismark_bt2.deduplicated.sorted.bam',\n",
    "'../data/zr1394_12_s456_trimmed_bismark_bt2.deduplicated.sorted.bam',\n",
    "'../data/zr1394_13_s456_trimmed_bismark_bt2.deduplicated.sorted.bam',                         '../data/zr1394_14_s456_trimmed_bismark_bt2.deduplicated.sorted.bam',\n",
    "'../data/zr1394_15_s456_trimmed_bismark_bt2.deduplicated.sorted.bam',                              '../data/zr1394_16_s456_trimmed_bismark_bt2.deduplicated.sorted.bam',\n",
    "'../data/zr1394_17_s456_trimmed_bismark_bt2.deduplicated.sorted.bam',\n",
    "'../data/zr1394_18_s456_trimmed_bismark_bt2.deduplicated.sorted.bam'\n",
    ")\n",
    "```\n",
    "\n"
   ]
  },
  {
   "cell_type": "markdown",
   "metadata": {},
   "source": [
    "Lets see if files for bismark are still on mox\n",
    "\n",
    "`reads_dir=\"/gscratch/srlab/sr320/data/olurida-bs/\"`"
   ]
  },
  {
   "cell_type": "markdown",
   "metadata": {},
   "source": [
    "Made single concat file and bismarked."
   ]
  },
  {
   "cell_type": "markdown",
   "metadata": {},
   "source": [
    "```\n",
    "#!/bin/bash\n",
    "## Job Name\n",
    "#SBATCH --job-name=oly-gen\n",
    "## Allocation Definition\n",
    "#SBATCH --account=srlab\n",
    "#SBATCH --partition=srlab\n",
    "## Resources\n",
    "## Nodes (We only get 1, so this is fixed)\n",
    "#SBATCH --nodes=1\n",
    "## Walltime (days-hours:minutes:seconds format)\n",
    "#SBATCH --time=00-100:00:00\n",
    "## Memory per node\n",
    "#SBATCH --mem=100G\n",
    "#SBATCH --mail-type=ALL\n",
    "#SBATCH --mail-user=sr320@uw.edu\n",
    "## Specify the working directory for this job\n",
    "#SBATCH --workdir=/gscratch/srlab/sr320/analyses/2019/0620\n",
    " \n",
    " \n",
    " \n",
    "# Directories and programs\n",
    "wd=$(pwd)\n",
    "bismark_dir=\"/gscratch/srlab/programs/Bismark-0.21.0\"\n",
    "bowtie2_dir=\"/gscratch/srlab/programs/bowtie2-2.3.4.1-linux-x86_64/\"\n",
    "samtools=\"/gscratch/srlab/programs/samtools-1.9/samtools\"\n",
    "#reads_dir=\"/gscratch/srlab/sr320/data/olurida-bs/decomp/\"\n",
    " \n",
    " \n",
    " \n",
    "source /gscratch/srlab/programs/scripts/paths.sh\n",
    " \n",
    " \n",
    "${bismark_dir}/bismark \\\n",
    "--path_to_bowtie ${bowtie2_dir} \\\n",
    "-genome /gscratch/srlab/sr320/data/olurida-genomes/v081 \\\n",
    "-p 14 \\\n",
    "--non_directional \\\n",
    "/gscratch/scrubbed/sr320/0620/zr1394_all_s456_trimmed.fq\n",
    " \n",
    " \n",
    "\n",
    "find *.bam | \\\n",
    "xargs basename -s .bam | \\\n",
    "xargs -I{} ${bismark_dir}/deduplicate_bismark \\\n",
    "--bam \\\n",
    "--single \\\n",
    "{}.bam\n",
    "\n",
    "\n",
    "\n",
    "${bismark_dir}/bismark_methylation_extractor \\\n",
    "--bedGraph --counts --scaffolds \\\n",
    "--multicore 14 \\\n",
    "--buffer_size 75% \\\n",
    "*deduplicated.bam\n",
    "\n",
    "\n",
    "\n",
    "# Bismark processing report\n",
    "\n",
    "${bismark_dir}/bismark2report\n",
    "\n",
    "#Bismark summary report\n",
    "\n",
    "${bismark_dir}/bismark2summary\n",
    "\n",
    "\n",
    "\n",
    "# Sort files for methylkit and IGV\n",
    "\n",
    "find *deduplicated.bam | \\\n",
    "xargs basename -s .bam | \\\n",
    "xargs -I{} ${samtools} \\\n",
    "sort --threads 28 {}.bam \\\n",
    "-o {}.sorted.bam\n",
    "\n",
    "# Index sorted files for IGV\n",
    "# The \"-@ 28\" below specifies number of CPU threads to use.\n",
    "\n",
    "find *.sorted.bam | \\\n",
    "xargs basename -s .sorted.bam | \\\n",
    "xargs -I{} ${samtools} \\\n",
    "index -@ 28 {}.sorted.bam\n",
    "```"
   ]
  }
 ],
 "metadata": {
  "kernelspec": {
   "display_name": "Python 3",
   "language": "python",
   "name": "python3"
  },
  "language_info": {
   "codemirror_mode": {
    "name": "ipython",
    "version": 3
   },
   "file_extension": ".py",
   "mimetype": "text/x-python",
   "name": "python",
   "nbconvert_exporter": "python",
   "pygments_lexer": "ipython3",
   "version": "3.6.8"
  }
 },
 "nbformat": 4,
 "nbformat_minor": 2
}
