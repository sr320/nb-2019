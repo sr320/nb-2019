{
 "cells": [
  {
   "cell_type": "markdown",
   "metadata": {},
   "source": [
    "Looking at the genome feature tracks for \n",
    "```\n",
    "Olurida_v081.fa : http://owl.fish.washington.edu/halfshell/genomic-databank/Olurida_v081.fa\n",
    "\n",
    "MD5 = 3ac56372bd62038f264d27eef0883bd3\n",
    "```"
   ]
  },
  {
   "cell_type": "code",
   "execution_count": 1,
   "metadata": {},
   "outputs": [
    {
     "name": "stdout",
     "output_type": "stream",
     "text": [
      "Contig61093\tmaker\tmRNA\t7093\t7949\t.\t+\t.\tID=Olurida_00016155-RA;Parent=Olurida_00016155;Name=Olurida_00016155-RA;Alias=maker-Contig61093-snap-gene-0.1-mRNA-1;_AED=0.14;_QI=0|0|0|0.5|0.33|0.25|4|0|163;_eAED=0.17;Note=Protein of unknown function;\n"
     ]
    }
   ],
   "source": [
    "!head -1 data/Olurida_v081.mRNA.gff"
   ]
  },
  {
   "cell_type": "code",
   "execution_count": 6,
   "metadata": {},
   "outputs": [
    {
     "name": "stdout",
     "output_type": "stream",
     "text": [
      "   24680 data/Olurida_v081.mRNA.gff\n"
     ]
    }
   ],
   "source": [
    "!wc -l data/Olurida_v081.mRNA.gff"
   ]
  },
  {
   "cell_type": "code",
   "execution_count": null,
   "metadata": {},
   "outputs": [],
   "source": [
    "%%bash\n",
    "cd data\n",
    "curl --insecure -O https://gannet.fish.washington.edu/Atumefaciens/20190109_oly_maker_functional_annotation/20181127_oly_genome_snap02.all.renamed.putative_function.domain_added.gff\n",
    "cd ..    \n"
   ]
  },
  {
   "cell_type": "code",
   "execution_count": null,
   "metadata": {},
   "outputs": [],
   "source": [
    "!head -1  data/20181127_oly_genome_snap02.all.renamed.putative_function.domain_added.gff"
   ]
  },
  {
   "cell_type": "code",
   "execution_count": null,
   "metadata": {},
   "outputs": [],
   "source": []
  },
  {
   "cell_type": "code",
   "execution_count": null,
   "metadata": {},
   "outputs": [],
   "source": []
  },
  {
   "cell_type": "code",
   "execution_count": null,
   "metadata": {},
   "outputs": [],
   "source": []
  },
  {
   "cell_type": "code",
   "execution_count": 8,
   "metadata": {},
   "outputs": [
    {
     "name": "stdout",
     "output_type": "stream",
     "text": [
      "19565118 \n",
      "159429 .\n",
      "   1 3\n",
      "317640 blastn\n",
      "1239436 blastx\n",
      "294249 est2genome\n",
      "347627 maker\n",
      "490038 protein2genome\n",
      "3967414 repeatmasker\n",
      " 200 repeatrunner\n",
      "566473 snap_masked\n"
     ]
    }
   ],
   "source": [
    "!awk '{ print $2 }' data/20181127_oly_genome_snap02.all.renamed.putative_function.domain_added.gff | sort | uniq -c"
   ]
  },
  {
   "cell_type": "code",
   "execution_count": 63,
   "metadata": {},
   "outputs": [
    {
     "name": "stdout",
     "output_type": "stream",
     "text": [
      "19565118  \n",
      "159429 . contig\n",
      "   1 3 \n",
      "76681 blastn expressed_sequence_match\n",
      "240959 blastn match_part\n",
      "1046615 blastx match_part\n",
      "192821 blastx protein_match\n",
      "80870 est2genome expressed_sequence_match\n",
      "213379 est2genome match_part\n",
      "139671 maker CDS\n",
      "142530 maker exon\n",
      "9468 maker five_prime_UTR\n",
      "24680 maker gene\n",
      "24680 maker mRNA\n",
      "6598 maker three_prime_UTR\n",
      "364893 protein2genome match_part\n",
      "125145 protein2genome protein_match\n",
      "1983707 repeatmasker match\n",
      "1983707 repeatmasker match_part\n",
      " 100 repeatrunner match_part\n",
      " 100 repeatrunner protein_match\n",
      "110715 snap_masked match\n",
      "455758 snap_masked match_part\n"
     ]
    }
   ],
   "source": [
    "!awk '{ print $2,$3 }' data/20181127_oly_genome_snap02.all.renamed.putative_function.domain_added.gff | sort | uniq -c"
   ]
  },
  {
   "cell_type": "code",
   "execution_count": 62,
   "metadata": {},
   "outputs": [
    {
     "name": "stdout",
     "output_type": "stream",
     "text": [
      "Contig56127\trepeatmasker\tmatch\t5198\t5224\t12\t+\t.\tID=Contig56127:hit:37098:1.3.0.0;Name=species:%28ACAA%29n|genus:Simple_repeat;Target=species:%28ACAA%29n|genus:Simple_repeat 1 28 +\n",
      "Contig56127\trepeatmasker\tmatch_part\t5198\t5224\t12\t+\t.\tID=Contig56127:hsp:67903:1.3.0.0;Parent=Contig56127:hit:37098:1.3.0.0;Target=species:%2528ACAA%2529n|genus:Simple_repeat 1 28 +\n",
      "Contig56127\trepeatmasker\tmatch\t11017\t11050\t14\t+\t.\tID=Contig56127:hit:37099:1.3.0.0;Name=species:%28TTTG%29n|genus:Simple_repeat;Target=species:%28TTTG%29n|genus:Simple_repeat 1 35 +\n",
      "Contig56127\trepeatmasker\tmatch_part\t11017\t11050\t14\t+\t.\tID=Contig56127:hsp:67904:1.3.0.0;Parent=Contig56127:hit:37099:1.3.0.0;Target=species:%2528TTTG%2529n|genus:Simple_repeat 1 35 +\n",
      "Contig56127\trepeatmasker\tmatch\t11011\t11016\t15\t+\t.\tID=Contig56127:hit:37100:1.3.0.0;Name=species:%28TGAGTTTG%29n|genus:Simple_repeat;Target=species:%28TGAGTTTG%29n|genus:Simple_repeat 1 40 +\n",
      "Contig56127\trepeatmasker\tmatch_part\t11011\t11016\t15\t+\t.\tID=Contig56127:hsp:67905:1.3.0.0;Parent=Contig56127:hit:37100:1.3.0.0;Target=species:%2528TGAGTTTG%2529n|genus:Simple_repeat 1 40 +\n",
      "Contig56127\trepeatmasker\tmatch\t5198\t5224\t12\t+\t.\tID=Contig56127:hit:37101:1.3.0.0;Name=species:%28ACAA%29n|genus:Simple_repeat;Target=species:%28ACAA%29n|genus:Simple_repeat 1 28 +\n",
      "Contig56127\trepeatmasker\tmatch_part\t5198\t5224\t12\t+\t.\tID=Contig56127:hsp:67906:1.3.0.0;Parent=Contig56127:hit:37101:1.3.0.0;Target=species:%2528ACAA%2529n|genus:Simple_repeat 1 28 +\n",
      "Contig56127\trepeatmasker\tmatch\t11017\t11050\t14\t+\t.\tID=Contig56127:hit:37102:1.3.0.0;Name=species:%28TTTG%29n|genus:Simple_repeat;Target=species:%28TTTG%29n|genus:Simple_repeat 1 35 +\n",
      "Contig56127\trepeatmasker\tmatch_part\t11017\t11050\t14\t+\t.\tID=Contig56127:hsp:67907:1.3.0.0;Parent=Contig56127:hit:37102:1.3.0.0;Target=species:%2528TTTG%2529n|genus:Simple_repeat 1 35 +\n"
     ]
    }
   ],
   "source": [
    "!fgrep -m 25 \"\trepeatmasker\"  data/20181127_oly_genome_snap02.all.renamed.putative_function.domain_added.gff | head"
   ]
  },
  {
   "cell_type": "code",
   "execution_count": 9,
   "metadata": {},
   "outputs": [
    {
     "name": "stdout",
     "output_type": "stream",
     "text": [
      "19565119 \n",
      "139671 CDS\n",
      "159429 contig\n",
      "142530 exon\n",
      "157551 expressed_sequence_match\n",
      "9468 five_prime_UTR\n",
      "24680 gene\n",
      "24680 mRNA\n",
      "2094422 match\n",
      "4305411 match_part\n",
      "318066 protein_match\n",
      "6598 three_prime_UTR\n"
     ]
    }
   ],
   "source": [
    "!awk '{ print $3 }' data/20181127_oly_genome_snap02.all.renamed.putative_function.domain_added.gff | sort | uniq -c"
   ]
  },
  {
   "cell_type": "code",
   "execution_count": 4,
   "metadata": {},
   "outputs": [
    {
     "name": "stdout",
     "output_type": "stream",
     "text": [
      "Contig61093\tmaker\tgene\t7093\t7949\t.\t+\t.\tID=Olurida_00016155;Name=Olurida_00016155;Alias=maker-Contig61093-snap-gene-0.1;Note=Protein of unknown function;\n",
      "Contig1111\tmaker\tgene\t26039\t28696\t.\t-\t.\tID=Olurida_00005389;Name=Olurida_00005389;Alias=maker-Contig1111-snap-gene-0.2;Note=Similar to Spag6: Sperm-associated antigen 6 (Mus musculus OX%3D10090);Dbxref=Gene3D:G3DSA:1.25.10.10,InterPro:IPR000225,InterPro:IPR000357,InterPro:IPR011989,InterPro:IPR016024,Pfam:PF02985,SMART:SM00185,SUPERFAMILY:SSF48371;Ontology_term=GO:0005515;\n",
      "Contig214118\tmaker\tgene\t201\t926\t.\t+\t.\tID=Olurida_00024644;Name=Olurida_00024644;Alias=maker-Contig214118-snap-gene-0.0;Note=Protein of unknown function;Dbxref=Gene3D:G3DSA:3.10.450.10;\n",
      "Contig58217\tmaker\tgene\t9736\t11590\t.\t-\t.\tID=Olurida_00015060;Name=Olurida_00015060;Alias=snap_masked-Contig58217-processed-gene-0.2;Note=Protein of unknown function;Dbxref=MobiDBLite:mobidb-lite;\n",
      "Contig2046\tmaker\tgene\t2295\t17986\t.\t+\t.\tID=Olurida_00009209;Name=Olurida_00009209;Alias=maker-Contig2046-snap-gene-0.3;Note=Protein of unknown function;\n"
     ]
    }
   ],
   "source": [
    "!fgrep -m 5 \"\tgene\"  data/20181127_oly_genome_snap02.all.renamed.putative_function.domain_added.gff | head"
   ]
  },
  {
   "cell_type": "code",
   "execution_count": 5,
   "metadata": {},
   "outputs": [
    {
     "name": "stdout",
     "output_type": "stream",
     "text": [
      "Contig61093\tmaker\texon\t7093\t7100\t.\t+\t.\tID=Olurida_00016155-RA:exon:1369;Parent=Olurida_00016155-RA;\n",
      "Contig61093\tmaker\texon\t7128\t7192\t.\t+\t.\tID=Olurida_00016155-RA:exon:1370;Parent=Olurida_00016155-RA;\n",
      "Contig61093\tmaker\texon\t7491\t7773\t.\t+\t.\tID=Olurida_00016155-RA:exon:1371;Parent=Olurida_00016155-RA;\n",
      "Contig61093\tmaker\texon\t7814\t7949\t.\t+\t.\tID=Olurida_00016155-RA:exon:1372;Parent=Olurida_00016155-RA;\n",
      "Contig1111\tmaker\texon\t28523\t28696\t.\t-\t.\tID=Olurida_00005389-RA:exon:190;Parent=Olurida_00005389-RA;\n"
     ]
    }
   ],
   "source": [
    "!fgrep -m 5 \"\texon\"  data/20181127_oly_genome_snap02.all.renamed.putative_function.domain_added.gff | head"
   ]
  },
  {
   "cell_type": "code",
   "execution_count": 4,
   "metadata": {},
   "outputs": [
    {
     "name": "stdout",
     "output_type": "stream",
     "text": [
      "Contig61093\tmaker\tgene\t7093\t7949\t.\t+\t.\tID=Olurida_00016155;Name=Olurida_00016155;Alias=maker-Contig61093-snap-gene-0.1;Note=Protein of unknown function;\n",
      "Contig1111\tmaker\tgene\t26039\t28696\t.\t-\t.\tID=Olurida_00005389;Name=Olurida_00005389;Alias=maker-Contig1111-snap-gene-0.2;Note=Similar to Spag6: Sperm-associated antigen 6 (Mus musculus OX%3D10090);Dbxref=Gene3D:G3DSA:1.25.10.10,InterPro:IPR000225,InterPro:IPR000357,InterPro:IPR011989,InterPro:IPR016024,Pfam:PF02985,SMART:SM00185,SUPERFAMILY:SSF48371;Ontology_term=GO:0005515;\n",
      "Contig214118\tmaker\tgene\t201\t926\t.\t+\t.\tID=Olurida_00024644;Name=Olurida_00024644;Alias=maker-Contig214118-snap-gene-0.0;Note=Protein of unknown function;Dbxref=Gene3D:G3DSA:3.10.450.10;\n",
      "Contig58217\tmaker\tgene\t9736\t11590\t.\t-\t.\tID=Olurida_00015060;Name=Olurida_00015060;Alias=snap_masked-Contig58217-processed-gene-0.2;Note=Protein of unknown function;Dbxref=MobiDBLite:mobidb-lite;\n",
      "Contig2046\tmaker\tgene\t2295\t17986\t.\t+\t.\tID=Olurida_00009209;Name=Olurida_00009209;Alias=maker-Contig2046-snap-gene-0.3;Note=Protein of unknown function;\n"
     ]
    }
   ],
   "source": [
    "!fgrep -m 5 \"\tgene\"  data/20181127_oly_genome_snap02.all.renamed.putative_function.domain_added.gff | head"
   ]
  },
  {
   "cell_type": "code",
   "execution_count": 7,
   "metadata": {},
   "outputs": [
    {
     "name": "stdout",
     "output_type": "stream",
     "text": [
      "Contig61093\tmaker\tmRNA\t7093\t7949\t.\t+\t.\tID=Olurida_00016155-RA;Parent=Olurida_00016155;Name=Olurida_00016155-RA;Alias=maker-Contig61093-snap-gene-0.1-mRNA-1;_AED=0.14;_QI=0|0|0|0.5|0.33|0.25|4|0|163;_eAED=0.17;Note=Protein of unknown function;\n",
      "Contig1111\tmaker\tmRNA\t26039\t28696\t.\t-\t.\tID=Olurida_00005389-RA;Parent=Olurida_00005389;Name=Olurida_00005389-RA;Alias=maker-Contig1111-snap-gene-0.2-mRNA-1;_AED=0.06;_QI=0|0|0|1|0.75|0.8|5|0|242;_eAED=0.15;Note=Similar to Spag6: Sperm-associated antigen 6 (Mus musculus OX%3D10090);Dbxref=Gene3D:G3DSA:1.25.10.10,InterPro:IPR000225,InterPro:IPR000357,InterPro:IPR011989,InterPro:IPR016024,Pfam:PF02985,SMART:SM00185,SUPERFAMILY:SSF48371;Ontology_term=GO:0005515;\n",
      "Contig214118\tmaker\tmRNA\t201\t926\t.\t+\t.\tID=Olurida_00024644-RA;Parent=Olurida_00024644;Name=Olurida_00024644-RA;Alias=maker-Contig214118-snap-gene-0.0-mRNA-1;_AED=0.08;_QI=0|0|0|1|0|0|2|0|69;_eAED=0.08;Note=Protein of unknown function;Dbxref=Gene3D:G3DSA:3.10.450.10;\n",
      "Contig58217\tmaker\tmRNA\t9736\t11590\t.\t-\t.\tID=Olurida_00015060-RA;Parent=Olurida_00015060;Name=Olurida_00015060-RA;Alias=snap_masked-Contig58217-processed-gene-0.2-mRNA-1;_AED=0.31;_QI=36|0.5|0.4|0.8|0.75|0.6|5|0|478;_eAED=0.31;Note=Protein of unknown function;Dbxref=MobiDBLite:mobidb-lite;\n",
      "Contig2046\tmaker\tmRNA\t2295\t17986\t.\t+\t.\tID=Olurida_00009209-RA;Parent=Olurida_00009209;Name=Olurida_00009209-RA;Alias=maker-Contig2046-snap-gene-0.3-mRNA-1;_AED=0.35;_QI=0|0.5|0.66|0.66|0.62|0.55|9|254|262;_eAED=0.35;Note=Protein of unknown function;\n"
     ]
    }
   ],
   "source": [
    "!fgrep -m 5 \"\tmRNA\"  data/20181127_oly_genome_snap02.all.renamed.putative_function.domain_added.gff | head"
   ]
  },
  {
   "cell_type": "code",
   "execution_count": 8,
   "metadata": {
    "collapsed": true,
    "jupyter": {
     "outputs_hidden": true
    }
   },
   "outputs": [],
   "source": [
    "!fgrep \"\tmRNA\"  data/20181127_oly_genome_snap02.all.renamed.putative_function.domain_added.gff \\\n",
    "> analyses/Olurida_v081.mRNA.gff"
   ]
  },
  {
   "cell_type": "code",
   "execution_count": 9,
   "metadata": {},
   "outputs": [
    {
     "name": "stdout",
     "output_type": "stream",
     "text": [
      "MD5 (analyses/Olurida_v081.mRNA.gff) = a77fb84e50b418302254fb1ce46e035f\n"
     ]
    }
   ],
   "source": [
    "!md5 analyses/Olurida_v081.mRNA.gff"
   ]
  },
  {
   "cell_type": "code",
   "execution_count": 10,
   "metadata": {
    "collapsed": true,
    "jupyter": {
     "outputs_hidden": true
    }
   },
   "outputs": [],
   "source": [
    "!fgrep \"\tgene\"  data/20181127_oly_genome_snap02.all.renamed.putative_function.domain_added.gff \\\n",
    "> analyses/Olurida_v081.gene.gff"
   ]
  },
  {
   "cell_type": "code",
   "execution_count": 11,
   "metadata": {
    "collapsed": true,
    "jupyter": {
     "outputs_hidden": true
    }
   },
   "outputs": [],
   "source": [
    "!fgrep \"\texon\"  data/20181127_oly_genome_snap02.all.renamed.putative_function.domain_added.gff \\\n",
    "> analyses/Olurida_v081.exon.gff"
   ]
  },
  {
   "cell_type": "code",
   "execution_count": 12,
   "metadata": {
    "collapsed": true,
    "jupyter": {
     "outputs_hidden": true
    }
   },
   "outputs": [],
   "source": [
    "!fgrep \"\tCDS\"  data/20181127_oly_genome_snap02.all.renamed.putative_function.domain_added.gff \\\n",
    "> analyses/Olurida_v081.CDS.gff"
   ]
  },
  {
   "cell_type": "code",
   "execution_count": 17,
   "metadata": {},
   "outputs": [
    {
     "name": "stdout",
     "output_type": "stream",
     "text": [
      "  139671 analyses/Olurida_v081.CDS.gff\n",
      "  142530 analyses/Olurida_v081.exon.gff\n",
      "    9468 analyses/Olurida_v081.five_prime_UTR.gff\n",
      "   24680 analyses/Olurida_v081.gene.gff\n",
      "   24680 analyses/Olurida_v081.mRNA.gff\n",
      "    6598 analyses/Olurida_v081.three_prime_UTR.gff\n",
      "  347627 total\n"
     ]
    }
   ],
   "source": [
    "!wc -l analyses/Olurid*gff"
   ]
  },
  {
   "cell_type": "code",
   "execution_count": 15,
   "metadata": {
    "collapsed": true,
    "jupyter": {
     "outputs_hidden": true
    }
   },
   "outputs": [],
   "source": [
    "!fgrep \"\tfive_prime_UTR\"  data/20181127_oly_genome_snap02.all.renamed.putative_function.domain_added.gff \\\n",
    "> analyses/Olurida_v081.five_prime_UTR.gff"
   ]
  },
  {
   "cell_type": "code",
   "execution_count": 16,
   "metadata": {
    "collapsed": true,
    "jupyter": {
     "outputs_hidden": true
    }
   },
   "outputs": [],
   "source": [
    "!fgrep \"\tthree_prime_UTR\"  data/20181127_oly_genome_snap02.all.renamed.putative_function.domain_added.gff \\\n",
    "> analyses/Olurida_v081.three_prime_UTR.gff"
   ]
  },
  {
   "cell_type": "code",
   "execution_count": 18,
   "metadata": {},
   "outputs": [
    {
     "name": "stdout",
     "output_type": "stream",
     "text": [
      "\n",
      "*****\n",
      "*****ERROR: Need -i BED file and -g genome file. \n",
      "*****\n",
      "\n",
      "Tool:    bedtools complement (aka complementBed)\n",
      "Version: v2.22.0\n",
      "Summary: Returns the base pair complement of a feature file.\n",
      "\n",
      "Usage:   bedtools complement [OPTIONS] -i <bed/gff/vcf> -g <genome>\n",
      "\n",
      "Notes: \n",
      "\t(1)  The genome file should tab delimited and structured as follows:\n",
      "\t     <chromName><TAB><chromSize>\n",
      "\n",
      "\tFor example, Human (hg19):\n",
      "\tchr1\t249250621\n",
      "\tchr2\t243199373\n",
      "\t...\n",
      "\tchr18_gl000207_random\t4262\n",
      "\n",
      "Tips: \n",
      "\tOne can use the UCSC Genome Browser's MySQL database to extract\n",
      "\tchromosome sizes. For example, H. sapiens:\n",
      "\n",
      "\tmysql --user=genome --host=genome-mysql.cse.ucsc.edu -A -e \\\n",
      "\t\"select chrom, size from hg19.chromInfo\"  > hg19.genome\n",
      "\n"
     ]
    }
   ],
   "source": [
    "!/Applications/bioinfo/bedtools2/bin/complementBed"
   ]
  },
  {
   "cell_type": "markdown",
   "metadata": {},
   "source": [
    "## Creating a Genome File"
   ]
  },
  {
   "cell_type": "code",
   "execution_count": 19,
   "metadata": {},
   "outputs": [
    {
     "name": "stdout",
     "output_type": "stream",
     "text": [
      "  % Total    % Received % Xferd  Average Speed   Time    Time     Time  Current\n",
      "                                 Dload  Upload   Total   Spent    Left  Speed\n",
      "100 1090M  100 1090M    0     0  77.9M      0  0:00:13  0:00:13 --:--:-- 70.3M\n",
      "/Users/sr320/git-repos/nb-2019/O_lurida\n"
     ]
    }
   ],
   "source": [
    "#http://owl.fish.washington.edu/halfshell/genomic-databank/Olurida_v081.fa\n",
    "!cd data/ && { curl -O http://owl.fish.washington.edu/halfshell/genomic-databank/Olurida_v081.fa ; cd -; }\n"
   ]
  },
  {
   "cell_type": "code",
   "execution_count": 20,
   "metadata": {},
   "outputs": [
    {
     "name": "stdout",
     "output_type": "stream",
     "text": [
      "159429\n"
     ]
    }
   ],
   "source": [
    "!fgrep \">\" -c data/Olurida_v081.fa"
   ]
  },
  {
   "cell_type": "code",
   "execution_count": 21,
   "metadata": {
    "collapsed": true,
    "jupyter": {
     "outputs_hidden": true
    }
   },
   "outputs": [],
   "source": [
    "!fgrep \"\tcontig\"  data/20181127_oly_genome_snap02.all.renamed.putative_function.domain_added.gff \\\n",
    "> analyses/Olurida_v081.contig.gff"
   ]
  },
  {
   "cell_type": "code",
   "execution_count": 22,
   "metadata": {},
   "outputs": [
    {
     "name": "stdout",
     "output_type": "stream",
     "text": [
      "Contig56127\t.\tcontig\t1\t12532\t.\t.\t.\tID=Contig56127;Name=Contig56127\n",
      "Contig81695\t.\tcontig\t1\t22750\t.\t.\t.\tID=Contig81695;Name=Contig81695\n",
      "Contig130560\t.\tcontig\t1\t1525\t.\t.\t.\tID=Contig130560;Name=Contig130560\n",
      "Contig155059\t.\tcontig\t1\t2121\t.\t.\t.\tID=Contig155059;Name=Contig155059\n",
      "Contig61093\t.\tcontig\t1\t10407\t.\t.\t.\tID=Contig61093;Name=Contig61093\n",
      "Contig79811\t.\tcontig\t1\t2248\t.\t.\t.\tID=Contig79811;Name=Contig79811\n",
      "Contig89862\t.\tcontig\t1\t14043\t.\t.\t.\tID=Contig89862;Name=Contig89862\n",
      "Contig1111\t.\tcontig\t1\t28792\t.\t.\t.\tID=Contig1111;Name=Contig1111\n",
      "Contig160984\t.\tcontig\t1\t4700\t.\t.\t.\tID=Contig160984;Name=Contig160984\n",
      "Contig214118\t.\tcontig\t1\t1068\t.\t.\t.\tID=Contig214118;Name=Contig214118\n"
     ]
    }
   ],
   "source": [
    "!head analyses/Olurida_v081.contig.gff"
   ]
  },
  {
   "cell_type": "code",
   "execution_count": 29,
   "metadata": {},
   "outputs": [
    {
     "name": "stdout",
     "output_type": "stream",
     "text": [
      "Contig56127\t12532\n",
      "Contig81695\t22750\n",
      "Contig130560\t1525\n",
      "Contig155059\t2121\n",
      "Contig61093\t10407\n",
      "Contig79811\t2248\n",
      "Contig89862\t14043\n",
      "Contig1111\t28792\n",
      "Contig160984\t4700\n",
      "Contig214118\t1068\n"
     ]
    },
    {
     "name": "stderr",
     "output_type": "stream",
     "text": [
      "awk: write error on /dev/stdout\n",
      " input record number 1864, file analyses/Olurida_v081.contig.gff\n",
      " source line number 1\n"
     ]
    }
   ],
   "source": [
    "%%bash\n",
    "awk -v OFS='\\t' '{ print $1 ,$5 }' analyses/Olurida_v081.contig.gff | head"
   ]
  },
  {
   "cell_type": "code",
   "execution_count": 30,
   "metadata": {
    "collapsed": true,
    "jupyter": {
     "outputs_hidden": true
    }
   },
   "outputs": [],
   "source": [
    "%%bash\n",
    "awk -v OFS='\\t' '{ print $1 ,$5 }' analyses/Olurida_v081.contig.gff \\\n",
    "> analyses/Olurida_v081.genome"
   ]
  },
  {
   "cell_type": "code",
   "execution_count": 32,
   "metadata": {},
   "outputs": [
    {
     "name": "stdout",
     "output_type": "stream",
     "text": [
      "Contig56127\t12532\n",
      "Contig81695\t22750\n",
      "Contig130560\t1525\n",
      "Contig155059\t2121\n",
      "Contig61093\t10407\n",
      "Contig79811\t2248\n",
      "Contig89862\t14043\n",
      "Contig1111\t28792\n",
      "Contig160984\t4700\n",
      "Contig214118\t1068\n"
     ]
    }
   ],
   "source": [
    "!head analyses/Olurida_v081.genome"
   ]
  },
  {
   "cell_type": "code",
   "execution_count": 35,
   "metadata": {},
   "outputs": [],
   "source": [
    "%%bash\n",
    "awk -v OFS='\\t' '{ print $1, $5 }' analyses/Olurida_v081.contig.gff \\\n",
    "| sort -k1,1 -k2,2n > analyses/Olurida_v081.genome"
   ]
  },
  {
   "cell_type": "code",
   "execution_count": 36,
   "metadata": {},
   "outputs": [
    {
     "name": "stdout",
     "output_type": "stream",
     "text": [
      "Contig0\t0\t12484\n",
      "Contig0\t93036\t95721\n",
      "Contig0\t104319\t116746\n",
      "Contig1\t0\t7357\n",
      "Contig1\t13003\t37654\n",
      "Contig1\t62671\t72766\n",
      "Contig1\t78117\t83888\n",
      "Contig1\t86868\t87411\n",
      "Contig10\t0\t79314\n",
      "Contig100\t0\t39283\n"
     ]
    }
   ],
   "source": [
    "!/Applications/bioinfo/bedtools2/bin/complementBed \\\n",
    "-i analyses/Olurida_v081.gene.gff \\\n",
    "-g analyses/Olurida_v081.genome | head"
   ]
  },
  {
   "cell_type": "code",
   "execution_count": 37,
   "metadata": {
    "collapsed": true,
    "jupyter": {
     "outputs_hidden": true
    }
   },
   "outputs": [],
   "source": [
    "!/Applications/bioinfo/bedtools2/bin/complementBed \\\n",
    "-i analyses/Olurida_v081.gene.gff \\\n",
    "-g analyses/Olurida_v081.genome > analyses/Olurida_v081.intragenic.bed"
   ]
  },
  {
   "cell_type": "code",
   "execution_count": 52,
   "metadata": {},
   "outputs": [],
   "source": [
    "%%bash\n",
    "/Applications/bioinfo/bedtools2/bin/complementBed \\\n",
    "-i analyses/Olurida_v081.exon.gff -g analyses/Olurida_v081.genome | sort -k1,1 -k2,2n > analyses/Olurida_v081.notexon\n"
   ]
  },
  {
   "cell_type": "code",
   "execution_count": 54,
   "metadata": {},
   "outputs": [],
   "source": [
    "!/Applications/bioinfo/bedtools2/bin/intersectBed \\\n",
    "-a analyses/Olurida_v081.intragenic.bed -b analyses/Olurida_v081.notexon -v | head"
   ]
  },
  {
   "cell_type": "code",
   "execution_count": 56,
   "metadata": {},
   "outputs": [
    {
     "name": "stdout",
     "output_type": "stream",
     "text": [
      "Contig61093\t7101\t7127\n",
      "Contig61093\t7193\t7490\n",
      "Contig61093\t7774\t7813\n",
      "Contig1111\t26104\t26132\n",
      "Contig1111\t26278\t26888\n",
      "Contig1111\t27081\t27650\n",
      "Contig1111\t27804\t28522\n",
      "Contig214118\t291\t806\n",
      "Contig58217\t10146\t10235\n",
      "Contig58217\t10606\t10689\n"
     ]
    },
    {
     "name": "stderr",
     "output_type": "stream",
     "text": [
      "awk: write error on /dev/stdout\n",
      " input record number 1449, file \n",
      " source line number 1\n"
     ]
    }
   ],
   "source": [
    "%%bash\n",
    "/Applications/bioinfo/bedtools2/bin/subtractBed \\\n",
    "-a analyses/Olurida_v081.gene.gff \\\n",
    "-b analyses/Olurida_v081.exon.gff | awk -v OFS='\\t' '{ print $1, $4, $5}' | head"
   ]
  },
  {
   "cell_type": "code",
   "execution_count": 59,
   "metadata": {
    "collapsed": true,
    "jupyter": {
     "outputs_hidden": true
    }
   },
   "outputs": [],
   "source": [
    "%%bash\n",
    "/Applications/bioinfo/bedtools2/bin/subtractBed \\\n",
    "-a analyses/Olurida_v081.gene.gff \\\n",
    "-b analyses/Olurida_v081.exon.gff | awk -v OFS='\\t' '{ print $1, $4, $5}' \\\n",
    "> analyses/Olurida_v081.intron.bed"
   ]
  },
  {
   "cell_type": "code",
   "execution_count": 60,
   "metadata": {},
   "outputs": [
    {
     "name": "stdout",
     "output_type": "stream",
     "text": [
      "Contig61093\t7101\t7127\n",
      "Contig61093\t7193\t7490\n",
      "Contig61093\t7774\t7813\n",
      "Contig1111\t26104\t26132\n",
      "Contig1111\t26278\t26888\n",
      "Contig1111\t27081\t27650\n",
      "Contig1111\t27804\t28522\n",
      "Contig214118\t291\t806\n",
      "Contig58217\t10146\t10235\n",
      "Contig58217\t10606\t10689\n"
     ]
    }
   ],
   "source": [
    "!head analyses/Olurida_v081.intron.bed"
   ]
  },
  {
   "cell_type": "code",
   "execution_count": null,
   "metadata": {
    "collapsed": true,
    "jupyter": {
     "outputs_hidden": true
    }
   },
   "outputs": [],
   "source": []
  }
 ],
 "metadata": {
  "kernelspec": {
   "display_name": "Python 3",
   "language": "python",
   "name": "python3"
  },
  "language_info": {
   "codemirror_mode": {
    "name": "ipython",
    "version": 3
   },
   "file_extension": ".py",
   "mimetype": "text/x-python",
   "name": "python",
   "nbconvert_exporter": "python",
   "pygments_lexer": "ipython3",
   "version": "3.8.5"
  }
 },
 "nbformat": 4,
 "nbformat_minor": 4
}
