{
 "cells": [
  {
   "cell_type": "code",
   "execution_count": 2,
   "metadata": {
    "ExecuteTime": {
     "end_time": "2019-11-21T22:17:36.560489Z",
     "start_time": "2019-11-21T22:17:36.545098Z"
    }
   },
   "outputs": [
    {
     "name": "stdout",
     "output_type": "stream",
     "text": [
      "/Users/sr320/Documents/GitHub/nb-2019/O_lurida/data\n"
     ]
    }
   ],
   "source": [
    "cd data/"
   ]
  },
  {
   "cell_type": "code",
   "execution_count": 3,
   "metadata": {
    "ExecuteTime": {
     "end_time": "2019-11-21T22:17:38.602281Z",
     "start_time": "2019-11-21T22:17:38.479168Z"
    }
   },
   "outputs": [
    {
     "name": "stdout",
     "output_type": "stream",
     "text": [
      "Olurida_v081.mRNA.gff\r\n"
     ]
    }
   ],
   "source": [
    "ls"
   ]
  },
  {
   "cell_type": "code",
   "execution_count": 5,
   "metadata": {
    "ExecuteTime": {
     "end_time": "2019-11-21T22:18:26.483030Z",
     "start_time": "2019-11-21T22:17:58.822824Z"
    }
   },
   "outputs": [
    {
     "name": "stdout",
     "output_type": "stream",
     "text": [
      "  % Total    % Received % Xferd  Average Speed   Time    Time     Time  Current\n",
      "                                 Dload  Upload   Total   Spent    Left  Speed\n",
      "100 2318M  100 2318M    0     0  84.3M      0  0:00:27  0:00:27 --:--:-- 76.0M    0     0  87.5M      0  0:00:26  0:00:20  0:00:06 84.3M\n"
     ]
    }
   ],
   "source": [
    "!curl -O https://gannet.fish.washington.edu/Atumefaciens/20190109_oly_maker_functional_annotation/20181127_oly_genome_snap02.all.renamed.putative_function.domain_added.gff\n",
    "    "
   ]
  },
  {
   "cell_type": "code",
   "execution_count": 6,
   "metadata": {
    "ExecuteTime": {
     "end_time": "2019-11-21T22:19:09.226107Z",
     "start_time": "2019-11-21T22:19:09.096993Z"
    }
   },
   "outputs": [
    {
     "name": "stdout",
     "output_type": "stream",
     "text": [
      "20181127_oly_genome_snap02.all.renamed.putative_function.domain_added.gff\r\n",
      "Olurida_v081.mRNA.gff\r\n"
     ]
    }
   ],
   "source": [
    "ls"
   ]
  },
  {
   "cell_type": "code",
   "execution_count": 8,
   "metadata": {
    "ExecuteTime": {
     "end_time": "2019-11-21T22:19:27.855943Z",
     "start_time": "2019-11-21T22:19:27.702621Z"
    }
   },
   "outputs": [
    {
     "name": "stdout",
     "output_type": "stream",
     "text": [
      "GTTTCACGATTTAGATACAAGTCTCAAACTAATAACTATAAAAAGGTTGATATGAAGAAA\r\n",
      "TTCTAAAATAGAATTTTAATCCAAAAAACGAAGAATGATAATACGGTAACAAAATACGTT\r\n",
      "TAAGAATTGATAAGAACAATGATAGGTCATCGTCCAAATCTTGGTGTTTCAAAGGGCGAT\r\n",
      "TTTTGAAAAATTTTCAAGGAAATATTTTGCCCACGAAAGCATAAATAACTATTTTTTCTA\r\n",
      "CTTTTAGCGTCATATTCTTTCCTTTATAATAACTATATAGATTTGGAGGATGTTTAATTT\r\n",
      "CATATGTACAAAGCACTGAACCATGTATAATATTTTAGGGTTTGTTTCAAAATAGGTATT\r\n",
      "ATATAAATTGTCATAAAATTCCTAAAAACATAGTATTGCGGGCTTGAGACGATGGATTTT\r\n",
      "AATGCACCTGCAAGTATTAAACTTTGTTATTTTTGGTATTTATAGAGAGAAAGCACAGTG\r\n",
      "TAACAATGTACTTCTCGTAAGCGTTGGAACATAAAACAGAACTTTGTCTTTCTGTCTTCA\r\n",
      "TTATTTAATATCAAGTTTTCTGGAAGAAACCTTTTAGAATAAAAATGGAGTTTATTATTC\r\n",
      "CTTTGGACAGTTTTTTGGCTATTGAAAAATATGGATTAGTTTTGAACTTAATGTGGAACA\r\n",
      "AAAAAAACAAAACCTACAACTAGTTTTTATGAAAAAATATTTATTTTAGGTATCCTTGAG\r\n",
      "ATAAACAAGAGTAATTCAAAATCCCTTATCCTTTGGTTTGAAGTATTATATATATACAGC\r\n",
      "AGATGGCTGAGAAATTGTTGAGACATTCCGTTTTGGCAATTCCTACTTGAAATTTCTGTA\r\n",
      "TGAAACACAAAAAATTATATTTTACAAAAAAATGTGTAATAAAGAAATATTTGATGCCCA\r\n",
      "GTGGAACAGATGGAACTTAATCTTTTCATAAGCCTACACTCTATCTCGCTCTATCTTTAC\r\n",
      "TTCTCTTTTTTCATTAAAAAGGTATATGTATTGATTTTTGACTTTGCTTTGGCATTTTTG\r\n",
      "TATTTTTATATGAATGAAATAATACAGATGTCTTGAAAAATAAAAAATATAAAATAAAAA\r\n",
      "AAGAAAAATAGGATTTCTTTAAAAATAATACAAAAAAACCTTCATAGGCCTTACAATCAT\r\n",
      "GTATTGAATAAAAGCATGTACAACGTGTAGGTAGTAACATGTTTATTCGGACACGATACC\r\n",
      "AAAAGTTAAAAAATAAACAGCATATTTAACTCAGTGTAATTCTATGTATAAAAAGAAATA\r\n",
      "AGAATAATACTATTTTTGCAATCTGTGTGTAATAGGTTCTGTGCTAGGGATAGAGTTCAA\r\n",
      "ACTATTCAACGACAAAATCGATTTTCCGCAAAAATCGGCATTGTGACGTCAAATAAAAAA\r\n",
      "GCCTAGTGACAATGGTTCAACCTCACCCTACTATGATCACGTCGGGAACTCCCAGGCGTA\r\n",
      "CTTTTACCTCGCAATGACCTCGGATGTGAATCCGGATTGTTGCCAAATATTGGATATTTG\r\n",
      "AATTCAAAACAATATCCGTTTTGCGGCTCACTTACACGACCGTAATACATCACAAGAAAA\r\n",
      "CATGAGGTTGCAAATAACTTACAATTATTTCCCTGAGTGAACTGCCAAGTCTATTTTTCA\r\n",
      "TGAACTGTATCAATGGCGAGAAAGTCGTCTTAGCCGAAGGACAGTCAAGCGAGTGGAAAC\r\n",
      "ATGAGTAAACATGTACTTCCGTGGAGAAATGTATCAAATCGATGCATATCCCTACACCAA\r\n",
      "TTCACATCCGAAGGTTTAATAACGGAACGTAGCGGAGTTAGCCAGGATACGCCGGGATTG\r\n",
      "ACTACGAGTAGCTTACAGATGCGACCAGTCTAAACCTCTCGCTCCACCAGTCATGGAGAA\r\n",
      "GCAGTCATGAGACTGCTCTAAGTTAACTTAGAGGCAGAACGCAAAAGCGGTCCGCAAAGC\r\n",
      "AGTCATGAGACTGCTCTAAGCAGACGCAAAGCTGTCCATGAGACCTGTTCTAAGTGGAAC\r\n",
      "TTGGGAGCCAGTCATAGAGCTGTTCTACGTTAACTTAGAGCGCAGACGCGCAGCGGGTCA\r\n",
      "TAAACAGTCACAAGACCTGTTCTAAGTTAACGTCGAGCGGTCATAATTAGAAACAGCTCT\r\n",
      "ATCAGGCTGTTTCTTTTCTAAGAGGCAGCTTCCGGTCAAGAATTAGAGCAAGCTCTGGTG\r\n",
      "TATATATATTACCGCTTTGGAATACTGCCAGTTCCATTTTTAAAATTTGCACGCGAGTGG\r\n",
      "TCAGTACATACCTGTTCTTTCACTCTTTGGTCCACAAATGGTATCGCTGCATTTTGGTGC\r\n",
      "AACAACAAGTTAATGTATTCCAACCAAAACTCCGGAAACGTTGAGGGGAAGATGATCATT\r\n",
      "ATTCCGAAAAACTTGATTAAAAAAGTAAGTTTGGTGCGAGTGGCATAACATGTAATCCTC\r\n",
      "GTTCAATATCCGCCCGTATATGCAACTGTTTTAATAGCAATTCAGTCTGTAATAAGACCT\r\n",
      "CCATATGCCATTTCAATTTCTGTTTTTTGCGGGTTTTTTTTTATTTAAGGAAATTAAACG\r\n",
      "GGACAACAAGATAATTAATAAATCAGCTATTCCTAAGCGAACTTAGAGCAGTCGTGGCAG\r\n",
      "TCGGTGGAACCTGTTCTAAAGTGACTTTAGAGCAGTCGTGGACCTGTCTAAGCGAACTTG\r\n",
      "GAGTAGTCGTGGACCTGTTCTAGTGAACATGGAGCAGTCACAGCAGCAGCTCTAGAGCAG\r\n",
      "TCAGCAGAGCCTGTTCTAAGTTAACTTGGAGCAGTCATGGAGCAGCTCTAGAGCGTCCAG\r\n",
      "CAAGAACTGCTCTAAGTTACCTTAGAGCCAGTCATTAGGAACTGCTTTACGACTGCTTTA\r\n",
      "AGGAGATGTTAGAACTGGTCCGCATCTGTAAGTTCAAAATATAAGGTAGCGAAAATAATA\r\n",
      "ATTTGCATTGGTTTGTCGGGATTTAAAACCCACCTATGCACTGAACGCTAGGGAAATGAA\r\n",
      "AGATAACGCTGTTTATGGTCACAACAGAACATAGAAAACTCGGGGAAATTTACTCAGCCT\r\n",
      "GGCTACATGACATAAAAAATGAATTACATATATCTGCTCAACATTTATGTCCCTTCAGTT\r\n",
      "TTGTTGAATAATAAAAAGGATAGTATTTTTCTTATCGTTTTACCGAAAGCTCGAAAGAAT\r\n",
      "TTTAAATAAAGTTTTAGCTCTTTTCTCGTCTTTCGCTTGTGAACAGACACTGGTCGTACT\r\n",
      "TTTTCTATAGCTATGCATATCGTAAATCGAATATAATGGCTCTTTAGTAATATTAATCAT\r\n",
      "AATATACATGATGATTTATAATCTATATTGTAAGAAGTAGACTTCAAACACTTCAAATTT\r\n",
      "TTTTTTTTTCGGTTATGCATAATGACAGTGGCATATGCGCGGTTTTCTGCGCAGAAGCGC\r\n",
      "GAAATTTTCGAATTGGGGTCTGTTTCGTCTAAACGGTAATCACAATCCAAAACATATACA\r\n",
      "AAAATCGAGTGGTTAGAGTCACACGATTCTCCGACAAAAAGCGAAGTAGGAGCAGGTGCC\r\n",
      "ATGGAGGGAGTAAGCATTCCTCTGATAATAAACAATTATATTATTTCATAATATAGTGCA\r\n",
      "AATGTTGTATATTTCTTGGATAGATTCATGAGTTGCAATTTGGAAATATATAAAGATGAA\r\n",
      "ATGAATGTTTAAAGAAATTTTCATTATTCAGGACGTCACCTACCCTTCTTTGTGCAGTCA\r\n",
      "TAACTACACATTACTGCTTACATCAATATAACTGTGATTTATGTTCGCTGTAAATAACGC\r\n",
      "AAAATTTTCATAATTCCGCAATGTTTTAGCTCATCTGACCGAAAGTTCAAGTGAGCTATT\r\n",
      "CTGATCGCCTTTTGTCCTCGTCCGTCTGGTCTTGTAACTTTCACATTTTCCATTTTTTCT\r\n",
      "CAAGAACTGCTTGGGACATAATTCAAACCAAACTAGGTACAGAATCATCCTTGGGTGTGG\r\n",
      "GGGGATTCAAGTTTGTTTCGACTAAGGGCTCAACGGCGGGTGTGACCGGCAGCAGAGGAA\r\n",
      "ATGCTTACTCTCCATGGCACCTGATCCTACCTTCGCTTTTGTCGGAGGTCCGTGTTGCCC\r\n",
      "CTACACTCGAATTTTGTAATATGGTTTTTTGGATATGATTACGTTTGACACAATGTATAA\r\n",
      "CTTCGCCTTTTTGTATAAAGGACCAGGTCCAATCAAAGGGGAGATTAATCACGAAAATGA\r\n",
      "AAAATAGGTGGTGTCATTCCAAAATCTTCTTAAAAAACCACTGGGCCGAAAAGCGGTGAA\r\n",
      "ATTTATAATGAAAGCTTCTGATTATATGAACAGTATGACCATTTAACCTTCCGGAAGCCA\r\n",
      "TGACAAACAAGTCCAGACTTTTTTGCTACCCCCTTTTTATCCAAAGATACAGAAAACAAA\r\n",
      "TTTCAGTTCATCTGGTAGGATTTTTTTTGCCAGTATCTTCCTAGTTCAAAAAGCTAAAGT\r\n",
      "TAACTGCGACTTGATAACAGTTTAAGAGATATAAGCTCTTAAGATAAAAAATTCCTGTCG\r\n",
      "GGAGAATGGGGGGATTTTTATCCTATCAAAATCCTAATCATGTATCTGATGGAGAAAAAA\r\n",
      "CGTATACGGAAAAAACTCCTTATGGTTTTCAATAGGATAATTAATGCCTACAGAAATGAA\r\n",
      "TTAAATATATGTGGACCTGATTTGTTTATACCCTTTGTTTAGACTGTCATTTCTACTAGA\r\n",
      "TTGGACGACGGGTAACCCCGTTTACCTTTGTTTTCGACTACAGGCCTCACGGCGGGGTGT\r\n",
      "GACCTTTTGGTCAGCAGAGGATGTTACTCTCTGCCATGGCACCTGATCCTGCCTCGCATT\r\n",
      "ATCGTCCGAAGGTCCAGTGTTGCCTTACACTCCGCAGTTATGTGTGATGTGTTTTTGGAC\r\n",
      "TATGAATTACGTTTTGATACTTTGGTTACTTCGCCATTTTAATTAAATGTCCCAGATAAA\r\n",
      "TTAGTCCTCCTTAAAACAATAATTTGATTGGATTTTAATCCTAATGTGTCTTTCTACTAT\r\n",
      "AAAATTGGGATATAAGTAATCCATTGGATTTTTATTTGAGACATTTAATTCTAATTCATT\r\n",
      "TTTATAGATTAATTATCCTATCGAAGAATCAATAGGAATTGTTTATGTCCTATAGGATTT\r\n",
      "TTCCTGCATAGGATCAAGATATGGAATTTTTTGATAGGCAAAAAAAATCACCCCATTCTC\r\n",
      "CGAAGATGTTGTTATATCCTTAGGAGGCTTATATCTCTTAATGTACAAAGTCGTATACTT\r\n",
      "TAAGCTATGTGAACTTAGAAGATACTGCCATAAAAAAAATCCTACCCAGATACATTCTGA\r\n",
      "ATTTTGTTTTCCATTTATCTTGCGATAGAAAAGGGTAGCAAAAAGTCCTGGCCTTTGTCT\r\n",
      "GTCCGAAGTAAATGTCGTAGCGTGTTAGTGGAGCATTCAAGTTTTTTTTCTTCAAATCTG\r\n",
      "ACCCGCGGCAGAAACTGATGGGGCCCCAATAGGGGATCAAAGTTTACATATGTTTATTTA\r\n",
      "GGGAAAAAATCTTTTAACTCTTCTTCTCAAGAACCACTTGGGCCAGAAAATGCTGGAAAT\r\n",
      "TGATGATGAATGCTTCTTGATATAGCAAGATTCAAGTTTGTTCAGATCATGACCCCCCGG\r\n",
      "GGGTACGTTGAGCCCCAATAGGGGAATCAAGGTTTTGCATAATTATATATAGGGAAAGTC\r\n",
      "TTTTCAAAATCTTCTTCTCATGAACCACTGGGCCAGAAATGCTTCTGGAGATACTGAATA\r\n",
      "TAAAAGTTTTTCAAAATCAAACCGGGTAAGTGGGGCCACAAGAAAGGGATTCAAATATTT\r\n",
      "TCATAGCAAATATATAGGGAAATTCTTTTAAAAATCTCATTTGAACCAGACGAGTGGATA\r\n",
      "TTTACTTGGAAAGCTTCCTGATATGGAGTAGAGATTTAAGTTTGTTAAGATAATGCCCCC\r\n",
      "TCCCCCTCCGAGGGTTGGGTGGGCCACAATATGGGATTAAAGTTGCTACTACTGCTCGTC\r\n",
      "TTAGTTGAATAGGCAGTGGCTCATTGTTGTATCTCAGGAAGCATTTCTGGCCCAGTGGTT\r\n",
      "CATGAGAAGA\r\n"
     ]
    }
   ],
   "source": [
    "!tail -100 20181127_oly_genome_snap02.all.renamed.putative_function.domain_added.gff"
   ]
  },
  {
   "cell_type": "code",
   "execution_count": 10,
   "metadata": {
    "ExecuteTime": {
     "end_time": "2019-11-21T22:20:01.943418Z",
     "start_time": "2019-11-21T22:19:52.871289Z"
    }
   },
   "outputs": [
    {
     "name": "stdout",
     "output_type": "stream",
     "text": [
      "159435\r\n"
     ]
    }
   ],
   "source": [
    "!fgrep -c \">\" 20181127_oly_genome_snap02.all.renamed.putative_function.domain_added.gff"
   ]
  },
  {
   "cell_type": "code",
   "execution_count": 11,
   "metadata": {
    "ExecuteTime": {
     "end_time": "2019-11-21T22:22:43.620584Z",
     "start_time": "2019-11-21T22:22:43.124789Z"
    }
   },
   "outputs": [
    {
     "name": "stdout",
     "output_type": "stream",
     "text": [
      "  % Total    % Received % Xferd  Average Speed   Time    Time     Time  Current\n",
      "                                 Dload  Upload   Total   Spent    Left  Speed\n",
      "100 7455k  100 7455k    0     0  22.1M      0 --:--:-- --:--:-- --:--:-- 22.1M\n"
     ]
    }
   ],
   "source": [
    "!curl -O https://raw.githubusercontent.com/sr320/paper-oly-mbdbs-gen/master/genome-features/Olurida_v081.gene.gff"
   ]
  },
  {
   "cell_type": "code",
   "execution_count": 14,
   "metadata": {
    "ExecuteTime": {
     "end_time": "2019-11-21T22:23:20.048128Z",
     "start_time": "2019-11-21T22:23:19.888142Z"
    }
   },
   "outputs": [
    {
     "name": "stdout",
     "output_type": "stream",
     "text": [
      "   24680 Olurida_v081.gene.gff\r\n",
      "   24680 Olurida_v081.mRNA.gff\r\n",
      "   49360 total\r\n"
     ]
    }
   ],
   "source": [
    "!wc -l  Olurida_v081*"
   ]
  },
  {
   "cell_type": "code",
   "execution_count": 16,
   "metadata": {
    "ExecuteTime": {
     "end_time": "2019-11-21T22:30:53.922223Z",
     "start_time": "2019-11-21T22:30:53.749254Z"
    }
   },
   "outputs": [
    {
     "name": "stdout",
     "output_type": "stream",
     "text": [
      "\r\n",
      "Tool:    bedtools getfasta (aka fastaFromBed)\r\n",
      "Version: v2.27.1\r\n",
      "Summary: Extract DNA sequences from a fasta file based on feature coordinates.\r\n",
      "\r\n",
      "Usage:   bedtools getfasta [OPTIONS] -fi <fasta> -bed <bed/gff/vcf>\r\n",
      "\r\n",
      "Options: \r\n",
      "\t-fi\tInput FASTA file\r\n",
      "\t-fo\tOutput file (opt., default is STDOUT\r\n",
      "\t-bed\tBED/GFF/VCF file of ranges to extract from -fi\r\n",
      "\t-name\tUse the name field for the FASTA header\r\n",
      "\t-name+\tUse the name field and coordinates for the FASTA header\r\n",
      "\t-split\tgiven BED12 fmt., extract and concatenate the sequences\r\n",
      "\t\tfrom the BED \"blocks\" (e.g., exons)\r\n",
      "\t-tab\tWrite output in TAB delimited format.\r\n",
      "\t\t- Default is FASTA format.\r\n",
      "\r\n",
      "\t-s\tForce strandedness. If the feature occupies the antisense,\r\n",
      "\t\tstrand, the sequence will be reverse complemented.\r\n",
      "\t\t- By default, strand information is ignored.\r\n",
      "\r\n",
      "\t-fullHeader\tUse full fasta header.\r\n",
      "\t\t- By default, only the word before the first space or tab \r\n",
      "\t\tis used.\r\n",
      "\r\n"
     ]
    }
   ],
   "source": [
    "!/Applications/bioinfo/bedtools2/bin/fastaFromBed"
   ]
  },
  {
   "cell_type": "code",
   "execution_count": 19,
   "metadata": {
    "ExecuteTime": {
     "end_time": "2019-11-21T22:35:07.203536Z",
     "start_time": "2019-11-21T22:35:05.707730Z"
    }
   },
   "outputs": [],
   "source": [
    "!/Applications/bioinfo/bedtools2/bin/fastaFromBed \\\n",
    "-fi /Users/sr320/Desktop/oly/Olurida_v081.fa \\\n",
    "-bed Olurida_v081.gene.gff \\\n",
    "> ../analyses/Olurida_v081.gene.fa"
   ]
  },
  {
   "cell_type": "code",
   "execution_count": 21,
   "metadata": {
    "ExecuteTime": {
     "end_time": "2019-11-21T22:35:45.719835Z",
     "start_time": "2019-11-21T22:35:45.412959Z"
    }
   },
   "outputs": [
    {
     "name": "stdout",
     "output_type": "stream",
     "text": [
      "24680\r\n"
     ]
    }
   ],
   "source": [
    "!fgrep -c \">\" ../analyses/Olurida_v081.gene.fa"
   ]
  },
  {
   "cell_type": "code",
   "execution_count": null,
   "metadata": {},
   "outputs": [],
   "source": []
  }
 ],
 "metadata": {
  "kernelspec": {
   "display_name": "Python 3",
   "language": "python",
   "name": "python3"
  },
  "language_info": {
   "codemirror_mode": {
    "name": "ipython",
    "version": 3
   },
   "file_extension": ".py",
   "mimetype": "text/x-python",
   "name": "python",
   "nbconvert_exporter": "python",
   "pygments_lexer": "ipython3",
   "version": "3.6.8"
  }
 },
 "nbformat": 4,
 "nbformat_minor": 2
}
