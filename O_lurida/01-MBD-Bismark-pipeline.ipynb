{
 "cells": [
  {
   "cell_type": "markdown",
   "metadata": {},
   "source": [
    "# SINGLE END BISMARK PIPELINE"
   ]
  },
  {
   "cell_type": "markdown",
   "metadata": {},
   "source": [
    "### Set working directory"
   ]
  },
  {
   "cell_type": "code",
   "execution_count": 3,
   "metadata": {
    "ExecuteTime": {
     "end_time": "2019-03-26T21:39:36.888912Z",
     "start_time": "2019-03-26T21:39:36.884043Z"
    }
   },
   "outputs": [],
   "source": [
    "wd= \"wd/19-03-26\""
   ]
  },
  {
   "cell_type": "code",
   "execution_count": 4,
   "metadata": {
    "ExecuteTime": {
     "end_time": "2019-03-26T21:39:37.583185Z",
     "start_time": "2019-03-26T21:39:37.455220Z"
    }
   },
   "outputs": [],
   "source": [
    "mkdir $wd"
   ]
  },
  {
   "cell_type": "code",
   "execution_count": 5,
   "metadata": {
    "ExecuteTime": {
     "end_time": "2019-03-26T21:39:45.170230Z",
     "start_time": "2019-03-26T21:39:45.159915Z"
    }
   },
   "outputs": [
    {
     "name": "stdout",
     "output_type": "stream",
     "text": [
      "/Users/sr320/Documents/GitHub/nb-2019/O_lurida/wd/19-03-26\n"
     ]
    }
   ],
   "source": [
    "cd $wd"
   ]
  },
  {
   "cell_type": "markdown",
   "metadata": {},
   "source": [
    "## Genome Prep"
   ]
  },
  {
   "cell_type": "code",
   "execution_count": 7,
   "metadata": {
    "ExecuteTime": {
     "end_time": "2019-03-26T21:47:04.966873Z",
     "start_time": "2019-03-26T21:47:04.828964Z"
    }
   },
   "outputs": [
    {
     "name": "stderr",
     "output_type": "stream",
     "text": [
      "Please specify a genome folder to be used for bisulfite conversion\n",
      "\n"
     ]
    }
   ],
   "source": [
    "%%bash\n",
    "/Applications/bioinfo/Bismark_v0.21.0/bismark_genome_preparation"
   ]
  },
  {
   "cell_type": "code",
   "execution_count": null,
   "metadata": {
    "ExecuteTime": {
     "start_time": "2019-03-26T21:52:11.537Z"
    }
   },
   "outputs": [],
   "source": [
    "%%bash\n",
    "/Applications/bioinfo/Bismark_v0.21.0/bismark_genome_preparation \\\n",
    "--verbose \\\n",
    "--path_to_aligner /Applications/bioinfo/bowtie2-2.3.4.1-macos-x86_64 \\\n",
    "/Users/sr320/Desktop/oly"
   ]
  },
  {
   "cell_type": "markdown",
   "metadata": {},
   "source": [
    "## Set sequence data and genome folder location "
   ]
  },
  {
   "cell_type": "code",
   "execution_count": 4,
   "metadata": {
    "ExecuteTime": {
     "end_time": "2018-04-13T00:34:59.799470Z",
     "start_time": "2018-04-13T00:34:31.725132Z"
    }
   },
   "outputs": [
    {
     "name": "stdout",
     "output_type": "stream",
     "text": [
      "FastQ format assumed (by default)\n",
      "Each Bowtie 2 instance is going to be run with 4 threads. Please monitor performance closely and tune down if needed!\n",
      "chr NC_035780.1 (65668440 bp)\n",
      "chr NC_035781.1 (61752955 bp)\n",
      "chr NC_035782.1 (77061148 bp)\n",
      "chr NC_035783.1 (59691872 bp)\n",
      "chr NC_035784.1 (98698416 bp)\n",
      "chr NC_035785.1 (51258098 bp)\n",
      "chr NC_035786.1 (57830854 bp)\n",
      "chr NC_035787.1 (75944018 bp)\n",
      "chr NC_035788.1 (104168038 bp)\n",
      "chr NC_035789.1 (32650045 bp)\n",
      "chr NC_007175.2 (17244 bp)\n",
      "\n",
      "Processed 10000 sequences in total\n",
      "\n",
      "Sequences with no alignments under any condition:\t1596\n",
      "Sequences did not map uniquely:\t2796\n",
      "Sequences which were discarded because genomic sequence could not be extracted:\t0\n",
      "\n",
      "Number of sequences with unique best (first) alignment came from the bowtie output:\n",
      "CT/CT:\t1782\t((converted) top strand)\n",
      "CT/GA:\t1831\t((converted) bottom strand)\n",
      "GA/CT:\t977\t(complementary to (converted) top strand)\n",
      "GA/GA:\t1018\t(complementary to (converted) bottom strand)\n",
      "\n"
     ]
    }
   ],
   "source": [
    "%%bash\n",
    "\n",
    "r1=\"/Users/sr320/Desktop/oly/zr1394_1_s456_trimmed.fq.gz\"\n",
    "\n",
    "\n",
    "/Applications/bioinfo/bismark_v0.21.0/bismark \\\n",
    "--path_to_bowtie /Applications/bioinfo/bowtie2-2.3.4.1-macos-x86_64 \\\n",
    "--genome /Users/sr320/Desktop/oly \\\n",
    "--score_min L,0,-0.9 \\\n",
    "-u 1000 \\\n",
    "-p 4 \\\n",
    "--non_directional \\\n",
    "$r1 \\\n",
    "2> bismark.err"
   ]
  },
  {
   "cell_type": "code",
   "execution_count": 5,
   "metadata": {
    "ExecuteTime": {
     "end_time": "2018-04-13T00:34:59.939045Z",
     "start_time": "2018-04-13T00:34:59.806454Z"
    }
   },
   "outputs": [
    {
     "name": "stdout",
     "output_type": "stream",
     "text": [
      "10_32_S32_L001_R2_001_bismark_bt2.bam\r\n",
      "10_32_S32_L001_R2_001_bismark_bt2_SE_report.txt\r\n",
      "bismark.err\r\n"
     ]
    }
   ],
   "source": [
    "ls "
   ]
  },
  {
   "cell_type": "code",
   "execution_count": 6,
   "metadata": {
    "ExecuteTime": {
     "end_time": "2018-04-13T00:35:00.067185Z",
     "start_time": "2018-04-13T00:34:59.942569Z"
    }
   },
   "outputs": [
    {
     "name": "stdout",
     "output_type": "stream",
     "text": [
      "Sequences analysed in total:\t10000\r\n",
      "Number of alignments with a unique best hit from the different alignments:\t5608\r\n",
      "Mapping efficiency:\t56.1%\r\n",
      "\r\n",
      "Final Cytosine Methylation Report\r\n",
      "=================================\r\n",
      "Total number of C's analysed:\t80775\r\n",
      "\r\n",
      "Total methylated C's in CpG context:\t7802\r\n",
      "Total methylated C's in CHG context:\t209\r\n",
      "Total methylated C's in CHH context:\t938\r\n",
      "Total methylated C's in Unknown context:\t104\r\n",
      "\r\n",
      "Total unmethylated C's in CpG context:\t3313\r\n",
      "Total unmethylated C's in CHG context:\t17255\r\n",
      "Total unmethylated C's in CHH context:\t51258\r\n",
      "Total unmethylated C's in Unknown context:\t564\r\n",
      "\r\n",
      "C methylated in CpG context:\t70.2%\r\n",
      "C methylated in CHG context:\t1.2%\r\n",
      "C methylated in CHH context:\t1.8%\r\n",
      "C methylated in Unknown context (CN or CHN):\t15.6%\r\n",
      "\r\n",
      "\r\n",
      "Bismark completed in 0d 0h 0m 28s\r\n",
      "\r\n",
      "====================\r\n",
      "Bismark run complete\r\n",
      "====================\r\n",
      "\r\n"
     ]
    }
   ],
   "source": [
    "!tail -30 bismark.err"
   ]
  },
  {
   "cell_type": "code",
   "execution_count": 7,
   "metadata": {
    "ExecuteTime": {
     "end_time": "2018-04-13T00:35:01.332743Z",
     "start_time": "2018-04-13T00:35:00.072917Z"
    }
   },
   "outputs": [
    {
     "name": "stdout",
     "output_type": "stream",
     "text": [
      "skipping header line:\t@HD\tVN:1.0\tSO:unsorted\n",
      "skipping header line:\t@SQ\tSN:NC_035780.1\tLN:65668440\n",
      "skipping header line:\t@SQ\tSN:NC_035781.1\tLN:61752955\n",
      "skipping header line:\t@SQ\tSN:NC_035782.1\tLN:77061148\n",
      "skipping header line:\t@SQ\tSN:NC_035783.1\tLN:59691872\n",
      "skipping header line:\t@SQ\tSN:NC_035784.1\tLN:98698416\n",
      "skipping header line:\t@SQ\tSN:NC_035785.1\tLN:51258098\n",
      "skipping header line:\t@SQ\tSN:NC_035786.1\tLN:57830854\n",
      "skipping header line:\t@SQ\tSN:NC_035787.1\tLN:75944018\n",
      "skipping header line:\t@SQ\tSN:NC_035788.1\tLN:104168038\n",
      "skipping header line:\t@SQ\tSN:NC_035789.1\tLN:32650045\n",
      "skipping header line:\t@SQ\tSN:NC_007175.2\tLN:17244\n",
      "skipping header line:\t@PG\tID:Bismark\tVN:v0.19.0\tCL:\"bismark --path_to_bowtie /Applications/bioinfo/bowtie2-2.3.4.1-macos-x86_64 --genome /Users/sr320/Dropbox/wd/18-03-15/genome --score_min L,0,-0.9 -u 10000 -p 4 --non_directional /Users/sr320/Dropbox/wd/18-03-15/10_32_S32_L001_R2_001.fastq.gz\"\n"
     ]
    }
   ],
   "source": [
    "%%bash\n",
    "\n",
    "/Applications/bioinfo/Bismark_v0.19.0/deduplicate_bismark \\\n",
    "--bam -s \\\n",
    "*.bam \\\n",
    "2> dedup.err\n",
    "\n",
    "\n"
   ]
  },
  {
   "cell_type": "code",
   "execution_count": 8,
   "metadata": {
    "ExecuteTime": {
     "end_time": "2018-04-13T00:35:01.467392Z",
     "start_time": "2018-04-13T00:35:01.335660Z"
    }
   },
   "outputs": [
    {
     "name": "stdout",
     "output_type": "stream",
     "text": [
      "Duplicated alignments were found at:\t1 different position(s)\r\n",
      "\r\n",
      "Total count of deduplicated leftover sequences: 5607 (99.98% of total)\r\n",
      "\r\n"
     ]
    }
   ],
   "source": [
    "!tail -4 dedup.err"
   ]
  },
  {
   "cell_type": "code",
   "execution_count": 9,
   "metadata": {
    "ExecuteTime": {
     "end_time": "2018-04-13T00:35:21.611856Z",
     "start_time": "2018-04-13T00:35:01.474000Z"
    }
   },
   "outputs": [
    {
     "name": "stdout",
     "output_type": "stream",
     "text": [
      "10_32_S32_L001_R2_001_bismark_bt2.deduplicated_splitting_report.txt.1\n",
      "10_32_S32_L001_R2_001_bismark_bt2.deduplicated_splitting_report.txt.2\n",
      "\n",
      "10_32_S32_L001_R2_001_bismark_bt2.deduplicated_splitting_report.txt.1.mbias\n",
      "10_32_S32_L001_R2_001_bismark_bt2.deduplicated_splitting_report.txt.2.mbias\n",
      "\n",
      "/Users/sr320/Dropbox/wd/18-04-12b/CpG_OT_10_32_S32_L001_R2_001_bismark_bt2.deduplicated.txt\t/Users/sr320/Dropbox/wd/18-04-12b/CpG_CTOT_10_32_S32_L001_R2_001_bismark_bt2.deduplicated.txt\t/Users/sr320/Dropbox/wd/18-04-12b/CpG_CTOB_10_32_S32_L001_R2_001_bismark_bt2.deduplicated.txt\t/Users/sr320/Dropbox/wd/18-04-12b/CpG_OB_10_32_S32_L001_R2_001_bismark_bt2.deduplicated.txt\n",
      "\n"
     ]
    }
   ],
   "source": [
    "%%bash\n",
    "/Applications/bioinfo/Bismark_v0.19.0/bismark_methylation_extractor \\\n",
    "--bedGraph --counts --scaffolds \\\n",
    "--multicore 2 \\\n",
    "*deduplicated.bam \\\n",
    "2> bme.err"
   ]
  },
  {
   "cell_type": "code",
   "execution_count": 10,
   "metadata": {
    "ExecuteTime": {
     "end_time": "2018-04-13T00:35:21.763409Z",
     "start_time": "2018-04-13T00:35:21.621514Z"
    },
    "collapsed": true
   },
   "outputs": [],
   "source": [
    "!gunzip *bedGraph.gz"
   ]
  },
  {
   "cell_type": "code",
   "execution_count": 11,
   "metadata": {
    "ExecuteTime": {
     "end_time": "2018-04-13T00:35:21.900265Z",
     "start_time": "2018-04-13T00:35:21.767168Z"
    }
   },
   "outputs": [
    {
     "name": "stdout",
     "output_type": "stream",
     "text": [
      "track type=bedGraph\r\n",
      "NC_035780.1\t258993\t258994\t0\r\n",
      "NC_035780.1\t259012\t259013\t100\r\n",
      "NC_035780.1\t269494\t269495\t100\r\n",
      "NC_035780.1\t269514\t269515\t100\r\n",
      "NC_035780.1\t269522\t269523\t100\r\n",
      "NC_035780.1\t269906\t269907\t100\r\n",
      "NC_035780.1\t292177\t292178\t100\r\n",
      "NC_035780.1\t292212\t292213\t100\r\n",
      "NC_035780.1\t292361\t292362\t100\r\n"
     ]
    }
   ],
   "source": [
    "!head *.deduplicated.bedGraph"
   ]
  },
  {
   "cell_type": "code",
   "execution_count": 12,
   "metadata": {
    "ExecuteTime": {
     "end_time": "2018-04-13T00:35:22.013681Z",
     "start_time": "2018-04-13T00:35:21.904749Z"
    }
   },
   "outputs": [
    {
     "name": "stderr",
     "output_type": "stream",
     "text": [
      "Found 1 alignment reports in current directory. Now trying to figure out whether there are corresponding optional reports\n",
      "\n",
      "Writing Bismark HTML report to >> 10_32_S32_L001_R2_001_bismark_bt2_SE_report.html <<\n",
      "\n",
      "==============================================================================================================\n",
      "Using the following alignment report:\t\t> 10_32_S32_L001_R2_001_bismark_bt2_SE_report.txt <\n",
      "Processing alignment report 10_32_S32_L001_R2_001_bismark_bt2_SE_report.txt ...\n",
      "Complete\n",
      "\n",
      "Using the following deduplication report:\t> 10_32_S32_L001_R2_001_bismark_bt2.deduplication_report.txt <\n",
      "Processing deduplication report 10_32_S32_L001_R2_001_bismark_bt2.deduplication_report.txt ...\n",
      "Complete\n",
      "\n",
      "Using the following splitting report:\t\t> 10_32_S32_L001_R2_001_bismark_bt2.deduplicated_splitting_report.txt <\n",
      "Processing splitting report 10_32_S32_L001_R2_001_bismark_bt2.deduplicated_splitting_report.txt ...\n",
      "Complete\n",
      "\n",
      "Using the following M-bias report:\t\t> 10_32_S32_L001_R2_001_bismark_bt2.deduplicated.M-bias.txt <\n",
      "Processing M-bias report 10_32_S32_L001_R2_001_bismark_bt2.deduplicated.M-bias.txt ...\n",
      "Complete\n",
      "\n",
      "No nucleotide coverage report file specified, skipping this step\n",
      "==============================================================================================================\n",
      "\n",
      "\n"
     ]
    }
   ],
   "source": [
    "%%bash\n",
    "/Applications/bioinfo/Bismark_v0.19.0/bismark2report"
   ]
  },
  {
   "cell_type": "code",
   "execution_count": 13,
   "metadata": {
    "ExecuteTime": {
     "end_time": "2018-04-13T00:35:22.341635Z",
     "start_time": "2018-04-13T00:35:22.017559Z"
    },
    "collapsed": true
   },
   "outputs": [],
   "source": [
    "!open *report.html"
   ]
  },
  {
   "cell_type": "code",
   "execution_count": 14,
   "metadata": {
    "ExecuteTime": {
     "end_time": "2018-04-13T00:35:22.498168Z",
     "start_time": "2018-04-13T00:35:22.350534Z"
    }
   },
   "outputs": [
    {
     "name": "stderr",
     "output_type": "stream",
     "text": [
      "Found Bismark/Bowtie2 single-end files\n",
      "No Bismark/Bowtie2 paired-end BAM files detected\n",
      "No Bismark/Bowtie single-end BAM files detected\n",
      "No Bismark/Bowtie paired-end BAM files detected\n",
      "\n",
      "Generating Bismark summary report from 1 Bismark BAM file(s)...\n",
      ">> Reading from Bismark report: 10_32_S32_L001_R2_001_bismark_bt2_SE_report.txt\n",
      "\n",
      "Wrote Bismark project summary to >> bismark_summary_report.html <<\n",
      "\n"
     ]
    }
   ],
   "source": [
    "%%bash\n",
    "/Applications/bioinfo/Bismark_v0.19.0/bismark2summary"
   ]
  },
  {
   "cell_type": "code",
   "execution_count": null,
   "metadata": {
    "collapsed": true
   },
   "outputs": [],
   "source": []
  }
 ],
 "metadata": {
  "kernelspec": {
   "display_name": "Python 3",
   "language": "python",
   "name": "python3"
  },
  "language_info": {
   "codemirror_mode": {
    "name": "ipython",
    "version": 3
   },
   "file_extension": ".py",
   "mimetype": "text/x-python",
   "name": "python",
   "nbconvert_exporter": "python",
   "pygments_lexer": "ipython3",
   "version": "3.6.8"
  }
 },
 "nbformat": 4,
 "nbformat_minor": 1
}
