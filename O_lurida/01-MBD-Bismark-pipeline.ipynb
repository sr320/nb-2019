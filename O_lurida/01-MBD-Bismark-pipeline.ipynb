{
 "cells": [
  {
   "cell_type": "markdown",
   "metadata": {
    "deletable": true,
    "editable": true
   },
   "source": [
    "# SINGLE END BISMARK PIPELINE"
   ]
  },
  {
   "cell_type": "markdown",
   "metadata": {
    "deletable": true,
    "editable": true
   },
   "source": [
    "### Set working directory"
   ]
  },
  {
   "cell_type": "code",
   "execution_count": 1,
   "metadata": {
    "ExecuteTime": {
     "end_time": "2019-03-31T13:14:40.241551Z",
     "start_time": "2019-03-31T13:14:40.230804Z"
    },
    "collapsed": true,
    "deletable": true,
    "editable": true
   },
   "outputs": [],
   "source": [
    "wd= \"wd/19-03-26\""
   ]
  },
  {
   "cell_type": "code",
   "execution_count": 4,
   "metadata": {
    "ExecuteTime": {
     "end_time": "2019-03-26T21:39:37.583185Z",
     "start_time": "2019-03-26T21:39:37.455220Z"
    },
    "collapsed": true,
    "deletable": true,
    "editable": true
   },
   "outputs": [],
   "source": [
    "mkdir $wd"
   ]
  },
  {
   "cell_type": "code",
   "execution_count": 2,
   "metadata": {
    "ExecuteTime": {
     "end_time": "2019-03-31T13:14:42.447054Z",
     "start_time": "2019-03-31T13:14:42.405720Z"
    },
    "collapsed": false,
    "deletable": true,
    "editable": true
   },
   "outputs": [
    {
     "name": "stdout",
     "output_type": "stream",
     "text": [
      "/Users/sr320/Documents/GitHub/nb-2019/O_lurida/wd/19-03-26\n"
     ]
    }
   ],
   "source": [
    "cd $wd"
   ]
  },
  {
   "cell_type": "code",
   "execution_count": 3,
   "metadata": {
    "ExecuteTime": {
     "end_time": "2019-03-31T13:14:49.238668Z",
     "start_time": "2019-03-31T13:14:49.100549Z"
    },
    "collapsed": false,
    "deletable": true,
    "editable": true
   },
   "outputs": [
    {
     "name": "stdout",
     "output_type": "stream",
     "text": [
      "bismark.err\r\n",
      "bismark.err09\r\n",
      "bismark_summary_report.html\r\n",
      "bismark_summary_report.txt\r\n",
      "zr1394_1_s456_trimmed_bismark_bt2.bam\r\n",
      "zr1394_1_s456_trimmed_bismark_bt2_SE_report.html\r\n",
      "zr1394_1_s456_trimmed_bismark_bt2_SE_report.txt\r\n"
     ]
    }
   ],
   "source": [
    "ls"
   ]
  },
  {
   "cell_type": "markdown",
   "metadata": {
    "deletable": true,
    "editable": true
   },
   "source": [
    "## Genome Prep"
   ]
  },
  {
   "cell_type": "code",
   "execution_count": 7,
   "metadata": {
    "ExecuteTime": {
     "end_time": "2019-03-26T21:47:04.966873Z",
     "start_time": "2019-03-26T21:47:04.828964Z"
    },
    "collapsed": false,
    "deletable": true,
    "editable": true
   },
   "outputs": [
    {
     "name": "stderr",
     "output_type": "stream",
     "text": [
      "Please specify a genome folder to be used for bisulfite conversion\n",
      "\n"
     ]
    }
   ],
   "source": [
    "%%bash\n",
    "/Applications/bioinfo/Bismark_v0.21.0/bismark_genome_preparation"
   ]
  },
  {
   "cell_type": "code",
   "execution_count": 15,
   "metadata": {
    "ExecuteTime": {
     "end_time": "2019-03-27T04:59:22.681963Z",
     "start_time": "2019-03-27T00:05:24.033217Z"
    },
    "collapsed": false,
    "deletable": true,
    "editable": true
   },
   "outputs": [
    {
     "name": "stderr",
     "output_type": "stream",
     "text": [
      "IOPub data rate exceeded.\n",
      "The notebook server will temporarily stop sending output\n",
      "to the client in order to avoid crashing it.\n",
      "To change this limit, set the config variable\n",
      "`--NotebookApp.iopub_data_rate_limit`.\n",
      "\n",
      "Current values:\n",
      "NotebookApp.iopub_data_rate_limit=1000000.0 (bytes/sec)\n",
      "NotebookApp.rate_limit_window=3.0 (secs)\n",
      "\n",
      "Writing bisulfite genomes out into a single MFA (multi FastA) file\n",
      "\n",
      "Bisulfite Genome Indexer version v0.21.0 (last modified: 05 Feb 2019)\n",
      "\n",
      "Step I - Prepare genome folders - completed\n",
      "\n",
      "\n",
      "\n",
      "Step II - Genome bisulfite conversions - completed\n",
      "\n",
      "\n",
      "Bismark Genome Preparation - Step III: Launching the Bowtie 2 indexer\n",
      "Preparing indexing of CT converted genome in /Users/sr320/Desktop/oly/Bisulfite_Genome/CT_conversion/\n",
      "Building a SMALL index\n",
      "Preparing indexing of GA converted genome in /Users/sr320/Desktop/oly/Bisulfite_Genome/GA_conversion/\n",
      "Building a SMALL index\n"
     ]
    }
   ],
   "source": [
    "%%bash\n",
    "/Applications/bioinfo/Bismark_v0.21.0/bismark_genome_preparation \\\n",
    "--verbose \\\n",
    "--path_to_aligner /Applications/bioinfo/bowtie2-2.3.4.1-macos-x86_64 \\\n",
    "/Users/sr320/Desktop/oly"
   ]
  },
  {
   "cell_type": "markdown",
   "metadata": {
    "deletable": true,
    "editable": true
   },
   "source": [
    "## Set sequence data and genome folder location "
   ]
  },
  {
   "cell_type": "code",
   "execution_count": 16,
   "metadata": {
    "ExecuteTime": {
     "end_time": "2019-03-27T11:34:51.819481Z",
     "start_time": "2019-03-27T11:33:32.191656Z"
    },
    "collapsed": false,
    "deletable": true,
    "editable": true
   },
   "outputs": [
    {
     "name": "stderr",
     "output_type": "stream",
     "text": [
      "IOPub data rate exceeded.\n",
      "The notebook server will temporarily stop sending output\n",
      "to the client in order to avoid crashing it.\n",
      "To change this limit, set the config variable\n",
      "`--NotebookApp.iopub_data_rate_limit`.\n",
      "\n",
      "Current values:\n",
      "NotebookApp.iopub_data_rate_limit=1000000.0 (bytes/sec)\n",
      "NotebookApp.rate_limit_window=3.0 (secs)\n",
      "\n"
     ]
    }
   ],
   "source": [
    "%%bash\n",
    "\n",
    "r1=\"/Users/sr320/Desktop/oly/zr1394_1_s456_trimmed.fq.gz\"\n",
    "\n",
    "\n",
    "/Applications/bioinfo/bismark_v0.21.0/bismark \\\n",
    "--path_to_bowtie /Applications/bioinfo/bowtie2-2.3.4.1-macos-x86_64 \\\n",
    "--genome /Users/sr320/Desktop/oly \\\n",
    "--score_min L,0,-0.9 \\\n",
    "-u 1000 \\\n",
    "-p 4 \\\n",
    "--non_directional \\\n",
    "$r1 \\\n",
    "2> bismark.err09"
   ]
  },
  {
   "cell_type": "code",
   "execution_count": 25,
   "metadata": {
    "ExecuteTime": {
     "end_time": "2019-03-27T11:48:16.093411Z",
     "start_time": "2019-03-27T11:48:15.944596Z"
    },
    "collapsed": false,
    "deletable": true,
    "editable": true
   },
   "outputs": [
    {
     "name": "stdout",
     "output_type": "stream",
     "text": [
      "bismark.err\r\n",
      "bismark.err09\r\n",
      "bismark_summary_report.html\r\n",
      "bismark_summary_report.txt\r\n",
      "zr1394_1_s456_trimmed_bismark_bt2.bam\r\n",
      "zr1394_1_s456_trimmed_bismark_bt2_SE_report.html\r\n",
      "zr1394_1_s456_trimmed_bismark_bt2_SE_report.txt\r\n"
     ]
    }
   ],
   "source": [
    "ls "
   ]
  },
  {
   "cell_type": "code",
   "execution_count": 18,
   "metadata": {
    "ExecuteTime": {
     "end_time": "2019-03-27T11:38:33.301310Z",
     "start_time": "2019-03-27T11:38:33.152974Z"
    },
    "collapsed": false,
    "deletable": true,
    "editable": true
   },
   "outputs": [
    {
     "name": "stdout",
     "output_type": "stream",
     "text": [
      "Sequences analysed in total:\t1000\r\n",
      "Number of alignments with a unique best hit from the different alignments:\t489\r\n",
      "Mapping efficiency:\t48.9%\r\n",
      "\r\n",
      "Final Cytosine Methylation Report\r\n",
      "=================================\r\n",
      "Total number of C's analysed:\t2962\r\n",
      "\r\n",
      "Total methylated C's in CpG context:\t335\r\n",
      "Total methylated C's in CHG context:\t33\r\n",
      "Total methylated C's in CHH context:\t374\r\n",
      "Total methylated C's in Unknown context:\t8\r\n",
      "\r\n",
      "Total unmethylated C's in CpG context:\t68\r\n",
      "Total unmethylated C's in CHG context:\t463\r\n",
      "Total unmethylated C's in CHH context:\t1689\r\n",
      "Total unmethylated C's in Unknown context:\t11\r\n",
      "\r\n",
      "C methylated in CpG context:\t83.1%\r\n",
      "C methylated in CHG context:\t6.7%\r\n",
      "C methylated in CHH context:\t18.1%\r\n",
      "C methylated in Unknown context (CN or CHN):\t42.1%\r\n",
      "\r\n",
      "\r\n",
      "Bismark completed in 0d 0h 1m 18s\r\n",
      "\r\n",
      "====================\r\n",
      "Bismark run complete\r\n",
      "====================\r\n",
      "\r\n"
     ]
    }
   ],
   "source": [
    "!tail -30 bismark.err09"
   ]
  },
  {
   "cell_type": "code",
   "execution_count": 20,
   "metadata": {
    "ExecuteTime": {
     "end_time": "2019-03-27T11:44:14.238461Z",
     "start_time": "2019-03-27T11:43:30.329011Z"
    },
    "collapsed": false,
    "deletable": true,
    "editable": true
   },
   "outputs": [
    {
     "name": "stderr",
     "output_type": "stream",
     "text": [
      "IOPub data rate exceeded.\n",
      "The notebook server will temporarily stop sending output\n",
      "to the client in order to avoid crashing it.\n",
      "To change this limit, set the config variable\n",
      "`--NotebookApp.iopub_data_rate_limit`.\n",
      "\n",
      "Current values:\n",
      "NotebookApp.iopub_data_rate_limit=1000000.0 (bytes/sec)\n",
      "NotebookApp.rate_limit_window=3.0 (secs)\n",
      "\n"
     ]
    }
   ],
   "source": [
    "%%bash\n",
    "\n",
    "r1=\"/Users/sr320/Desktop/oly/zr1394_1_s456_trimmed.fq.gz\"\n",
    "\n",
    "\n",
    "/Applications/bioinfo/bismark_v0.21.0/bismark \\\n",
    "--path_to_bowtie /Applications/bioinfo/bowtie2-2.3.4.1-macos-x86_64 \\\n",
    "--genome /Users/sr320/Desktop/oly \\\n",
    "-u 1000 \\\n",
    "-p 4 \\\n",
    "--non_directional \\\n",
    "$r1 \\\n",
    "2> bismark.err"
   ]
  },
  {
   "cell_type": "code",
   "execution_count": 21,
   "metadata": {
    "ExecuteTime": {
     "end_time": "2019-03-27T11:44:33.071962Z",
     "start_time": "2019-03-27T11:44:32.929550Z"
    },
    "collapsed": false,
    "deletable": true,
    "editable": true
   },
   "outputs": [
    {
     "name": "stdout",
     "output_type": "stream",
     "text": [
      "Sequences analysed in total:\t1000\r\n",
      "Number of alignments with a unique best hit from the different alignments:\t305\r\n",
      "Mapping efficiency:\t30.5%\r\n",
      "\r\n",
      "Final Cytosine Methylation Report\r\n",
      "=================================\r\n",
      "Total number of C's analysed:\t1898\r\n",
      "\r\n",
      "Total methylated C's in CpG context:\t263\r\n",
      "Total methylated C's in CHG context:\t12\r\n",
      "Total methylated C's in CHH context:\t91\r\n",
      "Total methylated C's in Unknown context:\t0\r\n",
      "\r\n",
      "Total unmethylated C's in CpG context:\t36\r\n",
      "Total unmethylated C's in CHG context:\t366\r\n",
      "Total unmethylated C's in CHH context:\t1130\r\n",
      "Total unmethylated C's in Unknown context:\t0\r\n",
      "\r\n",
      "C methylated in CpG context:\t88.0%\r\n",
      "C methylated in CHG context:\t3.2%\r\n",
      "C methylated in CHH context:\t7.5%\r\n",
      "Can't determine percentage of methylated Cs in Unknown context (CN or CHN) if value was 0\r\n",
      "\r\n",
      "\r\n",
      "Bismark completed in 0d 0h 0m 43s\r\n",
      "\r\n",
      "====================\r\n",
      "Bismark run complete\r\n",
      "====================\r\n",
      "\r\n"
     ]
    }
   ],
   "source": [
    "!tail -30 bismark.err"
   ]
  },
  {
   "cell_type": "code",
   "execution_count": 4,
   "metadata": {
    "ExecuteTime": {
     "end_time": "2019-03-31T13:15:26.424251Z",
     "start_time": "2019-03-31T13:15:24.235679Z"
    },
    "collapsed": false,
    "deletable": true,
    "editable": true
   },
   "outputs": [
    {
     "name": "stderr",
     "output_type": "stream",
     "text": [
      "IOPub data rate exceeded.\n",
      "The notebook server will temporarily stop sending output\n",
      "to the client in order to avoid crashing it.\n",
      "To change this limit, set the config variable\n",
      "`--NotebookApp.iopub_data_rate_limit`.\n",
      "\n",
      "Current values:\n",
      "NotebookApp.iopub_data_rate_limit=1000000.0 (bytes/sec)\n",
      "NotebookApp.rate_limit_window=3.0 (secs)\n",
      "\n"
     ]
    }
   ],
   "source": [
    "%%bash\n",
    "\n",
    "/Applications/bioinfo/Bismark_v0.19.0/deduplicate_bismark \\\n",
    "--bam -s \\\n",
    "*.bam \\\n",
    "2> dedup.err\n",
    "\n",
    "\n"
   ]
  },
  {
   "cell_type": "code",
   "execution_count": 5,
   "metadata": {
    "ExecuteTime": {
     "end_time": "2019-03-31T13:15:52.157751Z",
     "start_time": "2019-03-31T13:15:52.014065Z"
    },
    "collapsed": false,
    "deletable": true,
    "editable": true
   },
   "outputs": [
    {
     "name": "stdout",
     "output_type": "stream",
     "text": [
      "bismark.err\r\n",
      "bismark.err09\r\n",
      "bismark_summary_report.html\r\n",
      "bismark_summary_report.txt\r\n",
      "dedup.err\r\n",
      "zr1394_1_s456_trimmed_bismark_bt2.bam\r\n",
      "zr1394_1_s456_trimmed_bismark_bt2.deduplicated.bam\r\n",
      "zr1394_1_s456_trimmed_bismark_bt2.deduplication_report.txt\r\n",
      "zr1394_1_s456_trimmed_bismark_bt2_SE_report.html\r\n",
      "zr1394_1_s456_trimmed_bismark_bt2_SE_report.txt\r\n"
     ]
    }
   ],
   "source": [
    "ls"
   ]
  },
  {
   "cell_type": "code",
   "execution_count": 6,
   "metadata": {
    "ExecuteTime": {
     "end_time": "2019-03-31T13:15:57.329536Z",
     "start_time": "2019-03-31T13:15:57.194391Z"
    },
    "collapsed": false,
    "deletable": true,
    "editable": true
   },
   "outputs": [
    {
     "name": "stdout",
     "output_type": "stream",
     "text": [
      "Duplicated alignments were found at:\t0 different position(s)\r\n",
      "\r\n",
      "Total count of deduplicated leftover sequences: 305 (100.00% of total)\r\n",
      "\r\n"
     ]
    }
   ],
   "source": [
    "!tail -4 dedup.err"
   ]
  },
  {
   "cell_type": "code",
   "execution_count": 7,
   "metadata": {
    "ExecuteTime": {
     "end_time": "2019-03-31T13:16:48.176797Z",
     "start_time": "2019-03-31T13:16:27.347577Z"
    },
    "collapsed": false,
    "deletable": true,
    "editable": true
   },
   "outputs": [
    {
     "name": "stdout",
     "output_type": "stream",
     "text": [
      "zr1394_1_s456_trimmed_bismark_bt2.deduplicated_splitting_report.txt.1\n",
      "zr1394_1_s456_trimmed_bismark_bt2.deduplicated_splitting_report.txt.2\n",
      "\n",
      "zr1394_1_s456_trimmed_bismark_bt2.deduplicated_splitting_report.txt.1.mbias\n",
      "zr1394_1_s456_trimmed_bismark_bt2.deduplicated_splitting_report.txt.2.mbias\n",
      "\n",
      "/Users/sr320/Documents/GitHub/nb-2019/O_lurida/wd/19-03-26/CpG_OT_zr1394_1_s456_trimmed_bismark_bt2.deduplicated.txt\t/Users/sr320/Documents/GitHub/nb-2019/O_lurida/wd/19-03-26/CpG_CTOT_zr1394_1_s456_trimmed_bismark_bt2.deduplicated.txt\t/Users/sr320/Documents/GitHub/nb-2019/O_lurida/wd/19-03-26/CpG_CTOB_zr1394_1_s456_trimmed_bismark_bt2.deduplicated.txt\t/Users/sr320/Documents/GitHub/nb-2019/O_lurida/wd/19-03-26/CpG_OB_zr1394_1_s456_trimmed_bismark_bt2.deduplicated.txt\n",
      "\n"
     ]
    }
   ],
   "source": [
    "%%bash\n",
    "/Applications/bioinfo/Bismark_v0.19.0/bismark_methylation_extractor \\\n",
    "--bedGraph --counts --scaffolds \\\n",
    "--multicore 2 \\\n",
    "*deduplicated.bam \\\n",
    "2> bme.err"
   ]
  },
  {
   "cell_type": "code",
   "execution_count": 8,
   "metadata": {
    "ExecuteTime": {
     "end_time": "2019-03-31T13:17:16.552658Z",
     "start_time": "2019-03-31T13:17:16.417360Z"
    },
    "collapsed": true,
    "deletable": true,
    "editable": true
   },
   "outputs": [],
   "source": [
    "!gunzip *bedGraph.gz"
   ]
  },
  {
   "cell_type": "code",
   "execution_count": 9,
   "metadata": {
    "ExecuteTime": {
     "end_time": "2019-03-31T13:17:17.371846Z",
     "start_time": "2019-03-31T13:17:17.244235Z"
    },
    "collapsed": false,
    "deletable": true,
    "editable": true
   },
   "outputs": [
    {
     "name": "stdout",
     "output_type": "stream",
     "text": [
      "track type=bedGraph\r\n",
      "Contig19\t58404\t58405\t0\r\n",
      "Contig19\t58416\t58417\t0\r\n",
      "Contig58\t7437\t7438\t100\r\n",
      "Contig158\t27162\t27163\t100\r\n",
      "Contig349\t29639\t29640\t100\r\n",
      "Contig352\t49933\t49934\t100\r\n",
      "Contig384\t44717\t44718\t100\r\n",
      "Contig498\t19834\t19835\t100\r\n",
      "Contig643\t6217\t6218\t100\r\n"
     ]
    }
   ],
   "source": [
    "!head *.deduplicated.bedGraph"
   ]
  },
  {
   "cell_type": "code",
   "execution_count": 10,
   "metadata": {
    "ExecuteTime": {
     "end_time": "2019-03-31T13:17:22.847675Z",
     "start_time": "2019-03-31T13:17:22.644080Z"
    },
    "collapsed": false,
    "deletable": true,
    "editable": true
   },
   "outputs": [
    {
     "name": "stderr",
     "output_type": "stream",
     "text": [
      "Found 1 alignment reports in current directory. Now trying to figure out whether there are corresponding optional reports\n",
      "\n",
      "Writing Bismark HTML report to >> zr1394_1_s456_trimmed_bismark_bt2_SE_report.html <<\n",
      "\n",
      "==============================================================================================================\n",
      "Using the following alignment report:\t\t> zr1394_1_s456_trimmed_bismark_bt2_SE_report.txt <\n",
      "Processing alignment report zr1394_1_s456_trimmed_bismark_bt2_SE_report.txt ...\n",
      "Complete\n",
      "\n",
      "Using the following deduplication report:\t> zr1394_1_s456_trimmed_bismark_bt2.deduplication_report.txt <\n",
      "Processing deduplication report zr1394_1_s456_trimmed_bismark_bt2.deduplication_report.txt ...\n",
      "Complete\n",
      "\n",
      "Using the following splitting report:\t\t> zr1394_1_s456_trimmed_bismark_bt2.deduplicated_splitting_report.txt <\n",
      "Processing splitting report zr1394_1_s456_trimmed_bismark_bt2.deduplicated_splitting_report.txt ...\n",
      "Complete\n",
      "\n",
      "Using the following M-bias report:\t\t> zr1394_1_s456_trimmed_bismark_bt2.deduplicated.M-bias.txt <\n",
      "Processing M-bias report zr1394_1_s456_trimmed_bismark_bt2.deduplicated.M-bias.txt ...\n",
      "Complete\n",
      "\n",
      "No nucleotide coverage report file specified, skipping this step\n",
      "==============================================================================================================\n",
      "\n",
      "\n"
     ]
    }
   ],
   "source": [
    "%%bash\n",
    "/Applications/bioinfo/Bismark_v0.21.0/bismark2report"
   ]
  },
  {
   "cell_type": "code",
   "execution_count": 12,
   "metadata": {
    "ExecuteTime": {
     "end_time": "2019-03-31T13:17:29.545385Z",
     "start_time": "2019-03-31T13:17:29.291213Z"
    },
    "collapsed": true,
    "deletable": true,
    "editable": true
   },
   "outputs": [],
   "source": [
    "!open *report.html"
   ]
  },
  {
   "cell_type": "code",
   "execution_count": 11,
   "metadata": {
    "ExecuteTime": {
     "end_time": "2019-03-31T13:17:27.527509Z",
     "start_time": "2019-03-31T13:17:27.406026Z"
    },
    "collapsed": false,
    "deletable": true,
    "editable": true
   },
   "outputs": [
    {
     "name": "stderr",
     "output_type": "stream",
     "text": [
      "Found Bismark/Bowtie2 single-end files\n",
      "No Bismark/Bowtie2 paired-end BAM files detected\n",
      "No Bismark/HISAT2 single-end BAM files detected\n",
      "No Bismark/HISAT2 paired-end BAM files detected\n",
      "\n",
      "Generating Bismark summary report from 1 Bismark BAM file(s)...\n",
      ">> Reading from Bismark report: zr1394_1_s456_trimmed_bismark_bt2_SE_report.txt\n",
      "\n",
      "Wrote Bismark project summary to >> bismark_summary_report.html <<\n",
      "\n"
     ]
    }
   ],
   "source": [
    "%%bash\n",
    "/Applications/bioinfo/Bismark_v0.21.0/bismark2summary"
   ]
  },
  {
   "cell_type": "code",
   "execution_count": null,
   "metadata": {
    "collapsed": true,
    "deletable": true,
    "editable": true
   },
   "outputs": [],
   "source": []
  }
 ],
 "metadata": {
  "kernelspec": {
   "display_name": "Python 2",
   "language": "python",
   "name": "python2"
  },
  "language_info": {
   "codemirror_mode": {
    "name": "ipython",
    "version": 2
   },
   "file_extension": ".py",
   "mimetype": "text/x-python",
   "name": "python",
   "nbconvert_exporter": "python",
   "pygments_lexer": "ipython2",
   "version": "2.7.12"
  }
 },
 "nbformat": 4,
 "nbformat_minor": 1
}
