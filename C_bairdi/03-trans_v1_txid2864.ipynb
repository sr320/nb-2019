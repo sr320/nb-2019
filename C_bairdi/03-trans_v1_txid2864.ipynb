{
 "cells": [
  {
   "cell_type": "markdown",
   "metadata": {},
   "source": [
    "## txid2864 local blastn mRNA"
   ]
  },
  {
   "cell_type": "code",
   "execution_count": null,
   "metadata": {},
   "outputs": [],
   "source": [
    "!/Applications/bioinfo/ncbi-blast-2.7.1+/bin/blastn \\\n",
    "-query data/Crab_transcriptome_v1.fa \\\n",
    "-db   \\\n",
    "-evalue 1e-05 \\\n",
    "-outfmt 6 \\\n",
    "-out analyses/Cb_v1_blastn_crustacea.tab \\\n",
    "-max_target_seqs 1\n",
    "-num_threads 4"
   ]
  }
 ],
 "metadata": {
  "kernelspec": {
   "display_name": "Python 3",
   "language": "python",
   "name": "python3"
  },
  "language_info": {
   "codemirror_mode": {
    "name": "ipython",
    "version": 3
   },
   "file_extension": ".py",
   "mimetype": "text/x-python",
   "name": "python",
   "nbconvert_exporter": "python",
   "pygments_lexer": "ipython3",
   "version": "3.6.8"
  }
 },
 "nbformat": 4,
 "nbformat_minor": 2
}
