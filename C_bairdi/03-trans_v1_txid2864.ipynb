{
 "cells": [
  {
   "cell_type": "markdown",
   "metadata": {},
   "source": [
    "## txid2864 local blastn mRNA"
   ]
  },
  {
   "cell_type": "code",
   "execution_count": null,
   "metadata": {},
   "outputs": [],
   "source": [
    "!/Applications/bioinfo/ncbi-blast-2.7.1+/bin/blastn \\\n",
    "-query data/Crab_transcriptome_v1.fa \\\n",
    "-db   \\\n",
    "-evalue 1e-05 \\\n",
    "-outfmt 6 \\\n",
    "-out analyses/Cb_v1_blastn_crustacea.tab \\\n",
    "-max_target_seqs 1\n",
    "-num_threads 4"
   ]
  },
  {
   "cell_type": "code",
   "execution_count": null,
   "metadata": {},
   "outputs": [],
   "source": []
  },
  {
   "cell_type": "code",
   "execution_count": 1,
   "metadata": {
    "ExecuteTime": {
     "end_time": "2019-09-13T18:18:43.886990Z",
     "start_time": "2019-09-13T18:18:43.680352Z"
    }
   },
   "outputs": [
    {
     "name": "stdout",
     "output_type": "stream",
     "text": [
      "USAGE\r\n",
      "  makeblastdb [-h] [-help] [-in input_file] [-input_type type]\r\n",
      "    -dbtype molecule_type [-title database_title] [-parse_seqids]\r\n",
      "    [-hash_index] [-mask_data mask_data_files] [-mask_id mask_algo_ids]\r\n",
      "    [-mask_desc mask_algo_descriptions] [-gi_mask]\r\n",
      "    [-gi_mask_name gi_based_mask_names] [-out database_name]\r\n",
      "    [-max_file_sz number_of_bytes] [-logfile File_Name] [-taxid TaxID]\r\n",
      "    [-taxid_map TaxIDMapFile] [-version]\r\n",
      "\r\n",
      "DESCRIPTION\r\n",
      "   Application to create BLAST databases, version 2.7.1+\r\n",
      "\r\n",
      "Use '-help' to print detailed descriptions of command line arguments\r\n"
     ]
    }
   ],
   "source": [
    "!/Applications/bioinfo/ncbi-blast-2.7.1+/bin/makeblastdb -h"
   ]
  },
  {
   "cell_type": "code",
   "execution_count": 3,
   "metadata": {
    "ExecuteTime": {
     "end_time": "2019-09-13T18:19:53.834677Z",
     "start_time": "2019-09-13T18:19:51.495647Z"
    }
   },
   "outputs": [
    {
     "name": "stdout",
     "output_type": "stream",
     "text": [
      "\n",
      "\n",
      "Building a new DB, current time: 09/13/2019 11:19:51\n",
      "New DB name:   /Users/sr320/Documents/GitHub/nb-2019/C_bairdi/data/uniprot-taxonomy_2864\n",
      "New DB title:  data/uniprot-taxonomy_2864.fasta\n",
      "Sequence type: Protein\n",
      "Keep MBits: T\n",
      "Maximum file size: 1000000000B\n",
      "Adding sequences from FASTA; added 48816 sequences in 2.1717 seconds.\n"
     ]
    }
   ],
   "source": [
    "!/Applications/bioinfo/ncbi-blast-2.7.1+/bin/makeblastdb \\\n",
    "-in data/uniprot-taxonomy_2864.fasta \\\n",
    "-dbtype prot \\\n",
    "-out data/uniprot-taxonomy_2864"
   ]
  },
  {
   "cell_type": "code",
   "execution_count": 5,
   "metadata": {
    "ExecuteTime": {
     "end_time": "2019-09-14T18:19:05.613811Z",
     "start_time": "2019-09-13T18:20:36.881779Z"
    }
   },
   "outputs": [
    {
     "name": "stdout",
     "output_type": "stream",
     "text": [
      "^C\r\n"
     ]
    }
   ],
   "source": [
    "!/Applications/bioinfo/ncbi-blast-2.7.1+/bin/blastx \\\n",
    "-query data/Crab_transcriptome_v1.fa \\\n",
    "-db data/uniprot-taxonomy_2864  \\\n",
    "-evalue 1e-05 \\\n",
    "-outfmt 6 \\\n",
    "-out analyses/Cb_v1_blastn_uniprot2864.tab \\\n",
    "-max_target_seqs 1 \\\n",
    "-num_threads 4"
   ]
  },
  {
   "cell_type": "code",
   "execution_count": 6,
   "metadata": {
    "ExecuteTime": {
     "end_time": "2019-09-14T18:19:10.295849Z",
     "start_time": "2019-09-14T18:19:10.224581Z"
    }
   },
   "outputs": [
    {
     "ename": "SyntaxError",
     "evalue": "invalid syntax (<ipython-input-6-4d13cc25e2ce>, line 1)",
     "output_type": "error",
     "traceback": [
      "\u001b[0;36m  File \u001b[0;32m\"<ipython-input-6-4d13cc25e2ce>\"\u001b[0;36m, line \u001b[0;32m1\u001b[0m\n\u001b[0;31m    KILLED BLAST\u001b[0m\n\u001b[0m               ^\u001b[0m\n\u001b[0;31mSyntaxError\u001b[0m\u001b[0;31m:\u001b[0m invalid syntax\n"
     ]
    }
   ],
   "source": [
    "KILLED BLAST"
   ]
  },
  {
   "cell_type": "code",
   "execution_count": null,
   "metadata": {},
   "outputs": [],
   "source": []
  }
 ],
 "metadata": {
  "kernelspec": {
   "display_name": "Python 3",
   "language": "python",
   "name": "python3"
  },
  "language_info": {
   "codemirror_mode": {
    "name": "ipython",
    "version": 3
   },
   "file_extension": ".py",
   "mimetype": "text/x-python",
   "name": "python",
   "nbconvert_exporter": "python",
   "pygments_lexer": "ipython3",
   "version": "3.6.8"
  }
 },
 "nbformat": 4,
 "nbformat_minor": 2
}
