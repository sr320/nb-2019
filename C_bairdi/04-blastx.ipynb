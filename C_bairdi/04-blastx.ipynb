{
 "cells": [
  {
   "cell_type": "code",
   "execution_count": null,
   "metadata": {
    "collapsed": true
   },
   "outputs": [],
   "source": [
    "!/Applications/bioinfo/ncbi-blast-2.7.1+/bin/makeblastdb \\\n",
    "-in data/uniprot-taxonomy_2864.fasta \\\n",
    "-dbtype prot \\\n",
    "-out data/uniprot-taxonomy_2864"
   ]
  },
  {
   "cell_type": "code",
   "execution_count": null,
   "metadata": {
    "collapsed": true
   },
   "outputs": [],
   "source": [
    "/Users/sr320/git-repos/nb-2019/C_bairdi/data/uniprot-taxonomy_2864.psq"
   ]
  },
  {
   "cell_type": "code",
   "execution_count": null,
   "metadata": {
    "collapsed": false
   },
   "outputs": [],
   "source": [
    "!/Applications/bioinfo/ncbi-blast-2.5.0\\+/bin/blastx \\\n",
    "-query data/Crab_transcriptome_v1.fa \\\n",
    "-db data/uniprot-taxonomy_2864  \\\n",
    "-evalue 1e-10 \\\n",
    "-outfmt 6 \\\n",
    "-out analyses/Cb_v1_blastx_uniprot2864_imac.tab \\\n",
    "-max_target_seqs 1 \\\n",
    "-num_threads 8"
   ]
  },
  {
   "cell_type": "code",
   "execution_count": null,
   "metadata": {
    "collapsed": true
   },
   "outputs": [],
   "source": []
  }
 ],
 "metadata": {
  "kernelspec": {
   "display_name": "Python 2",
   "language": "python",
   "name": "python2"
  },
  "language_info": {
   "codemirror_mode": {
    "name": "ipython",
    "version": 2
   },
   "file_extension": ".py",
   "mimetype": "text/x-python",
   "name": "python",
   "nbconvert_exporter": "python",
   "pygments_lexer": "ipython2",
   "version": "2.7.12"
  }
 },
 "nbformat": 4,
 "nbformat_minor": 0
}
