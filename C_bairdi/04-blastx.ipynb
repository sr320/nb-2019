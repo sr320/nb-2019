{
 "cells": [
  {
   "cell_type": "code",
   "execution_count": 3,
   "metadata": {},
   "outputs": [],
   "source": [
    "!/Applications/bioinfo/ncbi-blast-2.5.0\\+/bin/blastx \\\n",
    "-query data/Crab_transcriptome_v1.fa \\\n",
    "-db data/uniprot-taxonomy_2864  \\\n",
    "-evalue 1e-10 \\\n",
    "-outfmt 6 \\\n",
    "-out analyses/Cb_v1_blastx_uniprot2864_imac.tab \\\n",
    "-max_target_seqs 1 \\\n",
    "-num_threads 8"
   ]
  },
  {
   "cell_type": "code",
   "execution_count": 4,
   "metadata": {},
   "outputs": [
    {
     "name": "stdout",
     "output_type": "stream",
     "text": [
      "TRINITY_DN21464_c0_g1_i1\ttr|A0A1Q9E613|A0A1Q9E613_SYMMI\t38.298\t611\t346\t10\t801\t2570\t567\t1167\t6.69e-116\t382\r\n",
      "TRINITY_DN21426_c0_g2_i1\ttr|A0A1Q9DMD0|A0A1Q9DMD0_SYMMI\t46.383\t470\t235\t3\t126\t1484\t34\t503\t2.34e-134\t406\r\n",
      "TRINITY_DN21474_c0_g1_i1\ttr|A0A1Q9E557|A0A1Q9E557_SYMMI\t27.500\t240\t165\t4\t938\t231\t75\t309\t2.73e-28\t114\r\n",
      "TRINITY_DN21474_c1_g1_i1\ttr|A0A1Q9CMH1|A0A1Q9CMH1_SYMMI\t26.442\t208\t139\t3\t797\t192\t1706\t1905\t5.86e-15\t79.3\r\n",
      "TRINITY_DN21493_c0_g2_i4\ttr|A0A1Q9BY78|A0A1Q9BY78_SYMMI\t37.963\t108\t63\t2\t276\t596\t610\t714\t1.97e-12\t66.6\r\n",
      "TRINITY_DN21493_c0_g2_i5\ttr|A0A1Q9BY78|A0A1Q9BY78_SYMMI\t40.206\t97\t54\t2\t113\t400\t621\t714\t9.52e-13\t65.1\r\n",
      "TRINITY_DN21493_c0_g2_i3\ttr|A0A1Q9BY78|A0A1Q9BY78_SYMMI\t42.268\t97\t52\t2\t279\t566\t621\t714\t1.04e-13\t70.1\r\n",
      "TRINITY_DN21403_c0_g1_i1\ttr|A0A1Q9DSI9|A0A1Q9DSI9_SYMMI\t42.149\t242\t127\t4\t1750\t1052\t93\t330\t3.82e-50\t180\r\n",
      "TRINITY_DN21403_c0_g1_i2\ttr|A0A1Q9DSI9|A0A1Q9DSI9_SYMMI\t42.149\t242\t127\t4\t1434\t736\t93\t330\t8.44e-51\t180\r\n",
      "TRINITY_DN21471_c0_g2_i1\ttr|A0A1Q9DWW8|A0A1Q9DWW8_SYMMI\t54.545\t110\t49\t1\t659\t333\t345\t454\t3.31e-30\t118\r\n"
     ]
    }
   ],
   "source": [
    "!head analyses/Cb_v1_blastx_uniprot2864_imac.tab"
   ]
  },
  {
   "cell_type": "code",
   "execution_count": 5,
   "metadata": {},
   "outputs": [
    {
     "name": "stdout",
     "output_type": "stream",
     "text": [
      "   34256 analyses/Cb_v1_blastx_uniprot2864_imac.tab\r\n"
     ]
    }
   ],
   "source": [
    "!wc -l analyses/Cb_v1_blastx_uniprot2864_imac.tab"
   ]
  },
  {
   "cell_type": "code",
   "execution_count": 6,
   "metadata": {
    "collapsed": true
   },
   "outputs": [],
   "source": [
    "!/Applications/bioinfo/ncbi-blast-2.5.0\\+/bin/blastx \\\n",
    "-query data/Crab_transcriptome_v1.fa \\\n",
    "-db /Users/sr320/data-genomic/blast/db/uniprot_sprot_2016_09  \\\n",
    "-evalue 1e-20 \\\n",
    "-outfmt 6 \\\n",
    "-out analyses/Cb_v1_blastx_sp_imac.tab \\\n",
    "-max_target_seqs 1 \\\n",
    "-max_hsps 1 \\\n",
    "-num_threads 8"
   ]
  },
  {
   "cell_type": "code",
   "execution_count": null,
   "metadata": {
    "collapsed": true
   },
   "outputs": [],
   "source": []
  }
 ],
 "metadata": {
  "kernelspec": {
   "display_name": "Python 3",
   "language": "python",
   "name": "python3"
  },
  "language_info": {
   "codemirror_mode": {
    "name": "ipython",
    "version": 3
   },
   "file_extension": ".py",
   "mimetype": "text/x-python",
   "name": "python",
   "nbconvert_exporter": "python",
   "pygments_lexer": "ipython3",
   "version": "3.6.8"
  }
 },
 "nbformat": 4,
 "nbformat_minor": 1
}
