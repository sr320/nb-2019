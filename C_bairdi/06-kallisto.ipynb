{
 "cells": [
  {
   "cell_type": "code",
   "execution_count": 1,
   "metadata": {
    "ExecuteTime": {
     "end_time": "2019-11-09T15:12:40.398927Z",
     "start_time": "2019-11-09T15:12:40.108535Z"
    }
   },
   "outputs": [
    {
     "name": "stdout",
     "output_type": "stream",
     "text": [
      "\r\n",
      "####################################################################################\r\n",
      "#\r\n",
      "# Usage:  /Applications/bioinfo/trinityrnaseq-v2.8.6/util/abundance_estimates_to_matrix.pl --est_method <method>  sample1.results sample2.results ...\r\n",
      "#\r\n",
      "#      or  /Applications/bioinfo/trinityrnaseq-v2.8.6/util/abundance_estimates_to_matrix.pl --est_method <method> --quant_files file.listing_target_files.txt\r\n",
      "#\r\n",
      "#      Note, if only a single input file is given, it's expected to contain the paths to all the target abundance estimation files.\r\n",
      "#\r\n",
      "# Required:\r\n",
      "#            \r\n",
      "#  --est_method <string>           RSEM|eXpress|kallisto|salmon  (needs to know what format to expect)\r\n",
      "#\r\n",
      "#  --gene_trans_map <string>           the gene-to-transcript mapping file. (if you don't want gene estimates, indicate 'none'.\r\n",
      "#\r\n",
      "#\r\n",
      "# Options:\r\n",
      "#\r\n",
      "#  --cross_sample_norm <string>         TMM|UpperQuartile|none   (default: TMM)\r\n",
      "#\r\n",
      "#  --name_sample_by_basedir             name sample column by dirname instead of filename\r\n",
      "#      --basedir_index <int>            default(-2)\r\n",
      "#\r\n",
      "#  --out_prefix <string>                default: value for --est_method\r\n",
      "#\r\n",
      "#  --quant_files <string>              file containing a list of all the target files.\r\n",
      "#\r\n",
      "######################################################################################\r\n",
      "\r\n",
      "\r\n"
     ]
    }
   ],
   "source": [
    "!perl /Applications/bioinfo/trinityrnaseq-v2.8.6/util/abundance_estimates_to_matrix.pl"
   ]
  },
  {
   "cell_type": "code",
   "execution_count": 2,
   "metadata": {
    "ExecuteTime": {
     "end_time": "2019-11-09T15:17:09.693489Z",
     "start_time": "2019-11-09T15:17:09.546131Z"
    }
   },
   "outputs": [
    {
     "name": "stdout",
     "output_type": "stream",
     "text": [
      "Crab_transcriptome_v1.fa\r\n",
      "Crab_transcriptome_v1.fa.zip\r\n",
      "uniprot-taxonomy_2864.fasta\r\n",
      "uniprot-taxonomy_2864.fasta.gz\r\n",
      "uniprot-taxonomy_2864.phr\r\n",
      "uniprot-taxonomy_2864.pin\r\n",
      "uniprot-taxonomy_2864.psq\r\n",
      "uniprot-yourlist_M201909166746803381A1F0E0DB47453E0216320DAFE49B2.tab\r\n"
     ]
    }
   ],
   "source": [
    "!ls data"
   ]
  },
  {
   "cell_type": "code",
   "execution_count": null,
   "metadata": {},
   "outputs": [],
   "source": [
    "!perl /Applications/bioinfo/trinityrnaseq-v2.8.6/util/abundance_estimates_to_matrix.pl \\\n",
    "    --gene_trans_map Trinity.fasta.gene_trans_map \\\n",
    "    --out_prefix kallisto \\\n",
    "    --name_sample_by_basedir \\\n",
    "     sampleA/abundance.tsv \\\n",
    "     sampleB/abundance.tsv "
   ]
  },
  {
   "cell_type": "code",
   "execution_count": null,
   "metadata": {
    "ExecuteTime": {
     "start_time": "2019-11-09T15:27:18.136Z"
    }
   },
   "outputs": [],
   "source": [
    "%%bash\n",
    "cd data/\n",
    "wget --quiet --recursive --no-parent --no-directories --accept \"*.gz\" \"http://owl.fish.washington.edu/nightingales/C_bairdi/\"\n",
    "ls"
   ]
  },
  {
   "cell_type": "code",
   "execution_count": null,
   "metadata": {},
   "outputs": [],
   "source": [
    "!/Applications/bioinfo/trinityrnaseq-v2.8.6/util/align_and_estimate_abundance.pl \\\n",
    "--transcripts data/Crab_transcriptome_v1.fa \\\n",
    "--prep_reference \\\n",
    "--seqType fq \\\n",
    "--single /Volumes/caviar/wd/2016-10-24/filtered_106A_Female_Mix_GATCAG_L007_R1.fastq.gz \\\n",
    "--output_dir analyses/ \\\n",
    "--est_method kallisto\n"
   ]
  }
 ],
 "metadata": {
  "kernelspec": {
   "display_name": "Python 3",
   "language": "python",
   "name": "python3"
  },
  "language_info": {
   "codemirror_mode": {
    "name": "ipython",
    "version": 3
   },
   "file_extension": ".py",
   "mimetype": "text/x-python",
   "name": "python",
   "nbconvert_exporter": "python",
   "pygments_lexer": "ipython3",
   "version": "3.6.8"
  }
 },
 "nbformat": 4,
 "nbformat_minor": 2
}
