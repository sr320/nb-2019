{
 "cells": [
  {
   "cell_type": "code",
   "execution_count": 1,
   "metadata": {
    "ExecuteTime": {
     "end_time": "2019-11-09T15:31:27.186607Z",
     "start_time": "2019-11-09T15:31:27.014581Z"
    }
   },
   "outputs": [
    {
     "name": "stdout",
     "output_type": "stream",
     "text": [
      "/Users/sr320/Documents/GitHub/project-crab/analyses/304428_L1/abundance.tsv\r\n",
      "/Users/sr320/Documents/GitHub/project-crab/analyses/304428_L2/abundance.tsv\r\n",
      "/Users/sr320/Documents/GitHub/project-crab/analyses/329774_L1/abundance.tsv\r\n",
      "/Users/sr320/Documents/GitHub/project-crab/analyses/329774_L2/abundance.tsv\r\n",
      "/Users/sr320/Documents/GitHub/project-crab/analyses/329775_L1/abundance.tsv\r\n",
      "/Users/sr320/Documents/GitHub/project-crab/analyses/329775_L2/abundance.tsv\r\n",
      "/Users/sr320/Documents/GitHub/project-crab/analyses/329776_L1/abundance.tsv\r\n",
      "/Users/sr320/Documents/GitHub/project-crab/analyses/329776_L2/abundance.tsv\r\n",
      "/Users/sr320/Documents/GitHub/project-crab/analyses/329777_L1/abundance.tsv\r\n",
      "/Users/sr320/Documents/GitHub/project-crab/analyses/329777_L2/abundance.tsv\r\n"
     ]
    }
   ],
   "source": [
    "!ls /Users/sr320/Documents/GitHub/project-crab/analyses/3*/*tsv"
   ]
  },
  {
   "cell_type": "code",
   "execution_count": 4,
   "metadata": {
    "ExecuteTime": {
     "end_time": "2019-11-09T15:32:11.047978Z",
     "start_time": "2019-11-09T15:32:10.883203Z"
    }
   },
   "outputs": [
    {
     "name": "stdout",
     "output_type": "stream",
     "text": [
      "==> /Users/sr320/Documents/GitHub/project-crab/analyses/304428_L1/abundance.tsv <==\r\n",
      "TRINITY_DN30587_c0_g1_i1\t443\t263.578\t4\t0.550991\r\n",
      "TRINITY_DN30507_c0_g1_i1\t1028\t846.309\t30\t1.28702\r\n",
      "TRINITY_DN30553_c0_g1_i1\t488\t307.447\t6\t0.708557\r\n",
      "TRINITY_DN30576_c0_g1_i1\t217\t70.8284\t3\t1.53783\r\n",
      "TRINITY_DN30570_c0_g1_i1\t1215\t1033.31\t17\t0.597328\r\n",
      "TRINITY_DN30509_c0_g1_i1\t234\t82.7511\t3\t1.31626\r\n",
      "TRINITY_DN30524_c0_g2_i1\t256\t98.7816\t2\t0.735103\r\n",
      "TRINITY_DN30524_c0_g1_i1\t220\t72.8004\t0\t0\r\n",
      "TRINITY_DN30527_c0_g1_i1\t1130\t948.309\t14\t0.53601\r\n",
      "TRINITY_DN30527_c0_g2_i1\t256\t98.7816\t3\t1.10265\r\n",
      "\r\n",
      "==> /Users/sr320/Documents/GitHub/project-crab/analyses/304428_L2/abundance.tsv <==\r\n",
      "TRINITY_DN30587_c0_g1_i1\t443\t260.697\t8\t1.14034\r\n",
      "TRINITY_DN30507_c0_g1_i1\t1028\t844.183\t23\t1.01244\r\n",
      "TRINITY_DN30553_c0_g1_i1\t488\t304.785\t6\t0.731537\r\n",
      "TRINITY_DN30576_c0_g1_i1\t217\t68.5691\t3\t1.62582\r\n",
      "TRINITY_DN30570_c0_g1_i1\t1215\t1031.18\t22\t0.792804\r\n",
      "TRINITY_DN30509_c0_g1_i1\t234\t79.8959\t5\t2.32554\r\n",
      "TRINITY_DN30524_c0_g2_i1\t256\t95.5067\t0\t0\r\n",
      "TRINITY_DN30524_c0_g1_i1\t220\t70.5075\t2\t1.05408\r\n",
      "TRINITY_DN30527_c0_g1_i1\t1130\t946.183\t11\t0.432013\r\n",
      "TRINITY_DN30527_c0_g2_i1\t256\t95.5067\t1\t0.389085\r\n",
      "\r\n",
      "==> /Users/sr320/Documents/GitHub/project-crab/analyses/329774_L1/abundance.tsv <==\r\n",
      "TRINITY_DN30587_c0_g1_i1\t443\t225.468\t30\t5.44946\r\n",
      "TRINITY_DN30507_c0_g1_i1\t1028\t806.975\t10\t0.507523\r\n",
      "TRINITY_DN30553_c0_g1_i1\t488\t268.724\t7\t1.06686\r\n",
      "TRINITY_DN30576_c0_g1_i1\t217\t52.5896\t6\t4.67269\r\n",
      "TRINITY_DN30570_c0_g1_i1\t1215\t993.975\t26\t1.07131\r\n",
      "TRINITY_DN30509_c0_g1_i1\t234\t60.5763\t1\t0.676104\r\n",
      "TRINITY_DN30524_c0_g2_i1\t256\t72.3243\t7\t3.96396\r\n",
      "TRINITY_DN30524_c0_g1_i1\t220\t53.8498\t5\t3.80279\r\n",
      "TRINITY_DN30527_c0_g1_i1\t1130\t908.975\t64\t2.88366\r\n",
      "TRINITY_DN30527_c0_g2_i1\t256\t72.3243\t5\t2.8314\r\n",
      "\r\n",
      "==> /Users/sr320/Documents/GitHub/project-crab/analyses/329774_L2/abundance.tsv <==\r\n",
      "TRINITY_DN30587_c0_g1_i1\t443\t224.371\t4\t4.45072\r\n",
      "TRINITY_DN30507_c0_g1_i1\t1028\t806.734\t0\t0\r\n",
      "TRINITY_DN30553_c0_g1_i1\t488\t268.005\t0\t0\r\n",
      "TRINITY_DN30576_c0_g1_i1\t217\t51.0211\t0\t0\r\n",
      "TRINITY_DN30570_c0_g1_i1\t1215\t993.734\t1\t0.251228\r\n",
      "TRINITY_DN30509_c0_g1_i1\t234\t58.5409\t0\t0\r\n",
      "TRINITY_DN30524_c0_g2_i1\t256\t70.1438\t2\t7.11834\r\n",
      "TRINITY_DN30524_c0_g1_i1\t220\t52.3069\t2\t9.54572\r\n",
      "TRINITY_DN30527_c0_g1_i1\t1130\t908.734\t12\t3.29673\r\n",
      "TRINITY_DN30527_c0_g2_i1\t256\t70.1438\t0\t0\r\n",
      "\r\n",
      "==> /Users/sr320/Documents/GitHub/project-crab/analyses/329775_L1/abundance.tsv <==\r\n",
      "TRINITY_DN30587_c0_g1_i1\t443\t259.68\t0\t0\r\n",
      "TRINITY_DN30507_c0_g1_i1\t1028\t844.218\t19\t1.1891\r\n",
      "TRINITY_DN30553_c0_g1_i1\t488\t304.451\t3\t0.520623\r\n",
      "TRINITY_DN30576_c0_g1_i1\t217\t60.989\t0\t0\r\n",
      "TRINITY_DN30570_c0_g1_i1\t1215\t1031.22\t11\t0.563588\r\n",
      "TRINITY_DN30509_c0_g1_i1\t234\t71.6018\t0\t0\r\n",
      "TRINITY_DN30524_c0_g2_i1\t256\t86.9484\t0\t0\r\n",
      "TRINITY_DN30524_c0_g1_i1\t220\t62.7632\t0\t0\r\n",
      "TRINITY_DN30527_c0_g1_i1\t1130\t946.218\t0\t0\r\n",
      "TRINITY_DN30527_c0_g2_i1\t256\t86.9484\t0\t0\r\n",
      "\r\n",
      "==> /Users/sr320/Documents/GitHub/project-crab/analyses/329775_L2/abundance.tsv <==\r\n",
      "TRINITY_DN30587_c0_g1_i1\t443\t257.794\t0\t0\r\n",
      "TRINITY_DN30507_c0_g1_i1\t1028\t842.415\t17\t1.16332\r\n",
      "TRINITY_DN30553_c0_g1_i1\t488\t302.544\t9\t1.71487\r\n",
      "TRINITY_DN30576_c0_g1_i1\t217\t59.5974\t0\t0\r\n",
      "TRINITY_DN30570_c0_g1_i1\t1215\t1029.41\t11\t0.615999\r\n",
      "TRINITY_DN30509_c0_g1_i1\t234\t69.7667\t0\t0\r\n",
      "TRINITY_DN30524_c0_g2_i1\t256\t84.9449\t0\t0\r\n",
      "TRINITY_DN30524_c0_g1_i1\t220\t61.1954\t0\t0\r\n",
      "TRINITY_DN30527_c0_g1_i1\t1130\t944.415\t0\t0\r\n",
      "TRINITY_DN30527_c0_g2_i1\t256\t84.9449\t0\t0\r\n",
      "\r\n",
      "==> /Users/sr320/Documents/GitHub/project-crab/analyses/329776_L1/abundance.tsv <==\r\n",
      "TRINITY_DN30587_c0_g1_i1\t443\t223.266\t5\t0.983598\r\n",
      "TRINITY_DN30507_c0_g1_i1\t1028\t799.522\t8\t0.43947\r\n",
      "TRINITY_DN30553_c0_g1_i1\t488\t265.087\t1\t0.165684\r\n",
      "TRINITY_DN30576_c0_g1_i1\t217\t55.9791\t3\t2.35378\r\n",
      "TRINITY_DN30570_c0_g1_i1\t1215\t986.522\t15\t0.667812\r\n",
      "TRINITY_DN30509_c0_g1_i1\t234\t64.2952\t3\t2.04933\r\n",
      "TRINITY_DN30524_c0_g2_i1\t256\t76.5257\t2\t1.14787\r\n",
      "TRINITY_DN30524_c0_g1_i1\t220\t57.3689\t4\t3.06234\r\n",
      "TRINITY_DN30527_c0_g1_i1\t1130\t901.522\t12\t0.584621\r\n",
      "TRINITY_DN30527_c0_g2_i1\t256\t76.5257\t2\t1.14787\r\n",
      "\r\n",
      "==> /Users/sr320/Documents/GitHub/project-crab/analyses/329776_L2/abundance.tsv <==\r\n",
      "TRINITY_DN30587_c0_g1_i1\t443\t224.207\t6\t1.29545\r\n",
      "TRINITY_DN30507_c0_g1_i1\t1028\t802.958\t7\t0.422011\r\n",
      "TRINITY_DN30553_c0_g1_i1\t488\t266.53\t5\t0.908118\r\n",
      "TRINITY_DN30576_c0_g1_i1\t217\t53.9895\t1\t0.896621\r\n",
      "TRINITY_DN30570_c0_g1_i1\t1215\t989.958\t3\t0.146698\r\n",
      "TRINITY_DN30509_c0_g1_i1\t234\t62.3622\t3\t2.32873\r\n",
      "TRINITY_DN30524_c0_g2_i1\t256\t74.7463\t2\t1.29527\r\n",
      "TRINITY_DN30524_c0_g1_i1\t220\t55.3818\t2\t1.74816\r\n",
      "TRINITY_DN30527_c0_g1_i1\t1130\t904.958\t14\t0.74889\r\n",
      "TRINITY_DN30527_c0_g2_i1\t256\t74.7463\t0\t0\r\n",
      "\r\n",
      "==> /Users/sr320/Documents/GitHub/project-crab/analyses/329777_L1/abundance.tsv <==\r\n",
      "TRINITY_DN30587_c0_g1_i1\t443\t222.581\t0\t0\r\n",
      "TRINITY_DN30507_c0_g1_i1\t1028\t801.067\t6\t0.332923\r\n",
      "TRINITY_DN30553_c0_g1_i1\t488\t264.842\t3\t0.503496\r\n",
      "TRINITY_DN30576_c0_g1_i1\t217\t53.7339\t2\t1.65441\r\n",
      "TRINITY_DN30570_c0_g1_i1\t1215\t988.067\t3\t0.134957\r\n",
      "TRINITY_DN30509_c0_g1_i1\t234\t61.8973\t0\t0\r\n",
      "TRINITY_DN30524_c0_g2_i1\t256\t73.6221\t0\t0\r\n",
      "TRINITY_DN30524_c0_g1_i1\t220\t55.1557\t0\t0\r\n",
      "TRINITY_DN30527_c0_g1_i1\t1130\t903.067\t0\t0\r\n",
      "TRINITY_DN30527_c0_g2_i1\t256\t73.6221\t0\t0\r\n",
      "\r\n",
      "==> /Users/sr320/Documents/GitHub/project-crab/analyses/329777_L2/abundance.tsv <==\r\n",
      "TRINITY_DN30587_c0_g1_i1\t443\t224.549\t0\t0\r\n",
      "TRINITY_DN30507_c0_g1_i1\t1028\t805.158\t3\t0.180152\r\n",
      "TRINITY_DN30553_c0_g1_i1\t488\t267.756\t3\t0.541729\r\n",
      "TRINITY_DN30576_c0_g1_i1\t217\t52.6006\t1\t0.919198\r\n",
      "TRINITY_DN30570_c0_g1_i1\t1215\t992.158\t1\t0.0487326\r\n",
      "TRINITY_DN30509_c0_g1_i1\t234\t60.725\t0\t0\r\n",
      "TRINITY_DN30524_c0_g2_i1\t256\t72.854\t0\t0\r\n",
      "TRINITY_DN30524_c0_g1_i1\t220\t53.9955\t0\t0\r\n",
      "TRINITY_DN30527_c0_g1_i1\t1130\t907.158\t0\t0\r\n",
      "TRINITY_DN30527_c0_g2_i1\t256\t72.854\t0\t0\r\n"
     ]
    }
   ],
   "source": [
    "!tail /Users/sr320/Documents/GitHub/project-crab/analyses/3*/*tsv"
   ]
  },
  {
   "cell_type": "code",
   "execution_count": null,
   "metadata": {},
   "outputs": [],
   "source": []
  }
 ],
 "metadata": {
  "kernelspec": {
   "display_name": "Python 3",
   "language": "python",
   "name": "python3"
  },
  "language_info": {
   "codemirror_mode": {
    "name": "ipython",
    "version": 3
   },
   "file_extension": ".py",
   "mimetype": "text/x-python",
   "name": "python",
   "nbconvert_exporter": "python",
   "pygments_lexer": "ipython3",
   "version": "3.6.8"
  }
 },
 "nbformat": 4,
 "nbformat_minor": 2
}
