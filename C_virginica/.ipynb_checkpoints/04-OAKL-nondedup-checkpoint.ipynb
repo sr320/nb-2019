{
 "cells": [
  {
   "cell_type": "code",
   "execution_count": 3,
   "metadata": {
    "collapsed": false
   },
   "outputs": [
    {
     "name": "stdout",
     "output_type": "stream",
     "text": [
      "/Volumes/Serine/wd/19-04-04\n"
     ]
    }
   ],
   "source": [
    "cd /Volumes/Serine/wd/19-04-04"
   ]
  },
  {
   "cell_type": "code",
   "execution_count": null,
   "metadata": {
    "collapsed": true
   },
   "outputs": [],
   "source": [
    "%%bash\n",
    "/Applications/bioinfo/Bismark_v0.19.0/bismark_methylation_extractor \\\n",
    "--bedGraph --counts --scaffolds \\\n",
    "--multicore 2 \\\n",
    "/Volumes/Serine/wd/18-04-11/*.bam \\\n",
    "2> bme.err"
   ]
  },
  {
   "cell_type": "code",
   "execution_count": null,
   "metadata": {
    "collapsed": true
   },
   "outputs": [],
   "source": []
  },
  {
   "cell_type": "code",
   "execution_count": null,
   "metadata": {
    "collapsed": false,
    "deletable": true,
    "editable": true
   },
   "outputs": [],
   "source": [
    "%%bash\n",
    "find /Volumes/Serine/wd/18-04-11/*.bam \\\n",
    "| xargs basename -s .bam \\\n",
    "| xargs -I{} \\\n",
    "/Applications/bioinfo/samtools-1.9/samtools sort \\\n",
    "--threads 2 \\\n",
    "-n /Volumes/Serine/wd/18-04-11/{}.bam \\\n",
    "-o {}.sorted.bam\n"
   ]
  },
  {
   "cell_type": "code",
   "execution_count": null,
   "metadata": {
    "collapsed": true
   },
   "outputs": [],
   "source": []
  }
 ],
 "metadata": {
  "kernelspec": {
   "display_name": "Python 2",
   "language": "python",
   "name": "python2"
  },
  "language_info": {
   "codemirror_mode": {
    "name": "ipython",
    "version": 2
   },
   "file_extension": ".py",
   "mimetype": "text/x-python",
   "name": "python",
   "nbconvert_exporter": "python",
   "pygments_lexer": "ipython2",
   "version": "2.7.12"
  }
 },
 "nbformat": 4,
 "nbformat_minor": 0
}
