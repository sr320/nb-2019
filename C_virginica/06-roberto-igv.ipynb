{
 "cells": [
  {
   "cell_type": "code",
   "execution_count": 1,
   "metadata": {
    "ExecuteTime": {
     "end_time": "2019-06-26T17:44:58.325347Z",
     "start_time": "2019-06-26T17:44:58.149598Z"
    }
   },
   "outputs": [
    {
     "name": "stdout",
     "output_type": "stream",
     "text": [
      "\u001f�\b\u00006*\t]\u0000\u0003|�K����]�>5�\u001a�A\u0004��F���8T%\u0001\u0002�#\b�h���m\u0019���f��\"�E:���������������������������?�������z/ǲ��_������s�\u000f�v�m����9~�-���j�K�w��\u0000����%8Ο���-%���'��'���}��o*p�������J\\���m���\u0012���x�\u001c",
      "g��c�/������u�ϫ��-�_���\u0004x��}���\u0018����o?�\u000eq��q���O7p�\u0015�?���\u0004�K\u0016��s��B�[W�}K�������bp�ʏ�/�{����{�7�꛿5�w�����'?�\u0016�g���>z�\u001e",
      "M1��)��\u0007����k�\u001a�㺯�z�l��)��{��~/\u001e",
      "`/ �7�{p��0\u0000����9�'�\u001c",
      "�\u0015�����w��Q<\t\u0017�+F�\u0014���\u0003����7�z�$�\u000f\u001e",
      "�\r\n",
      "����g�@�~v����w��}=�\u0015���\r",
      "_���3\r",
      "�\u0007\\��n�{X,����}�>;���\u000f_r�_~�-�O�䊫5~�=x�\u000f��\u0011�\u0019\u0017p���\u001f�����m%\u001e",
      "���\r",
      "��s,%�?��!�?�Qb���c�\u0014h\u0003J�������n�xZCČ\u0010b\u001fl\u0001�9�=&����1�\u000e��Ϙ/B�\u001f��\u001c",
      "K��9E�Fc�ƫ5\r",
      "��8�\t|�\u001e",
      "�E�\u001e",
      "kL��\u0002�\u0013\u0013�\u0014�b���w9��z��g\u001c",
      "\u001d",
      "���n��Gs\u001d",
      "�z��\"�rMj�>o{�w\u000f��y����ϡ����\b����Y�\u0012�|��=8Ϻ�7�\u0018�\u001f ,P\u0012qmB�\u0015E��3&w�\u0018�!b\\��~��\u000f��Ͼ�x^?׫���_�\u001am-7�}\r",
      "�y�3c}o��#��GN2���K�a\r",
      "\u001d",
      "\u0003,\"\tb\u001e",
      "�\u0019x�?�{v���%�е����:N̑\u0012�\u0017����\"���~�\u0000��\b\bį���\u0005�� f�{̜g�1Nc�+�ƹD?���\u0002���\"��\u0002x�S�\u0006{���{�^�W\r\n",
      "�~�?\u0010�\u001aI����3V�\u0012�j(�^�s\u0001���r��0X|�p����\u001f�\u001a��?�\u00129�%�I��\u001e",
      "�� $8�K�Xj���W�m�y\"�d`\u0010�=gA�X�\f",
      "�����/8�FH,��ܳ�G'�]\u0011��C�b��\u00143Ŕcؿ�^\u001b�;�TxR>!\u0003}��J��I���/3�Z�%��X/>\u0000��{�[���W7Vb��\u0010��+���r_T��\u0010�Y�<J��x�[����5~��\\��bik\u0012�=48��\u0015�\r",
      "�\u0018'�X\u0017��\u001ah�\u001c",
      " 4�U\u000f�@=�\u0012�隣�g�O���l�3n\u0011\u000fF��~!���\u001e",
      "��\u0000T��g�t��fp+#m�\u0005�\u0017�mm���\u0010�����/��N)I\u0002�}�<�m%\u001f?�\ty�� �g$���)5�\u0013:���'���gR#����p\u001b \u001e",
      "��G���z��Hb��\u00101�$�\u0001�\"7N\tj�$�h��gl���L\u001a\"F[�ܬ�ྱ?g\tm\u0002�B�J�D��\u0014O(�\u0012K��l���\f",
      "\u001f�U\r\n",
      "��c\f",
      "\u001b��m�\u001f\u001a�\u0000x\u000e\u0004��JP\u001b-��^喱\u0012n�4�;�wn�\r",
      "�V\u0007\b\u0005|\u0019\u0003w�ۃ/~��\u0011b)+\u0012�Y���ԛ\r",
      "r�*p�\r",
      "��<���P\u0000ƅ\u0004���\u0000��M���h\u001b�OX\u001b��L��Z��H!�NJ��X'�s�2&�3\u001e",
      "�PKc\u0007�����<�w��qM\u001d",
      "������>0��\u0018z�0&�LQ�\u0017���T���xo<��M �c\\����q�_\b���\u001a�!Z.�V�K\u0013��5@\u0019@>��fl�\u001c",
      "8\u0002�\u0015�����\u0005�0\u000b",
      "M1F�{�E\u0001X���=�<�{�\u0012H]x�`L�8g|q���4��o�[����R='\u0012�\u0019�H�瞴_m��A|�O*���:1`%֖Ab�\\�\u0018;V��8\u0006�v\u00183V�\u001f%j�^�!��͢�9��[����}�\u001bU�5]H���&/��\u0002�;$��o�Qi\u0000�ܪA��.�������\u001a��m\u0019\u001f|j$�\u0012k�.��\u000b",
      "\u0012k{�Zϫ�� \u001e",
      "�Ժ\r",
      "�|m\u0000q�O��i��O�\u0012ޔ�N��\u001b�\u0013���\\\u000b",
      "�D�\u0004W/ܵx��=�0NB�\u001946{\t�XW)�\u0015O\"-�\u0006�\u0014&�\u0005�\u0000s�\u0000\u0017\u001f�\u0018�ch/\u001f���1�\u0005�׿Ӵ��,)\u0006a\u0012\u0018�K�ϸ�\u0019�L�\u001f���{�k��%�W��\u00049�r\u000f�e�f�'��sk!���\u0001�\u001f��⽏yưqY\u0015t4~�����y����5��M\u0003��v�\r",
      "p�n%��\u0000�\\x�OەJ������`\u001d",
      "����7\u001d",
      "`,�D�\b\u0011�ZDԟ�\u000f��\u0003�e�-�1i�y��\u001d",
      "��8#���m�\t����e?阐�b-Y�h�� ���G��[���_g{���}��:;��>��C���\u00159¶z�-i;�����v���_�3Ab2]����[�\u0006���%��3���K����TD�4\u0006\u0002�6߳#�\u0012�\u001c",
      "\u0018�i2��\u0006�rݻ���?D,�!�z#�M}\u0002ع\t��N��@�1\u0005��{����}�:�8���\u000b",
      "�����dj-��\u0001Te\u0003�^㗆�n�\u0000-N����;H,Ä��h��n�Am�\f",
      "r�|���S�1'\t�\u001f$\u0000\r",
      "A �o\u0005ڭ\r",
      "\u0000eؠݾ\u0000iY\u0006��b��\u0007��N��9\u0000��J`����\u0012���\t\u00168},N�Wb��%ṙb\u0004��A��\u0004+��\u0016�~/�vA\u0016��\u001e",
      "#m\u001bZ\u0010��c\u001b2��\u0006�z�Țo�J\u0013�G�ʫ\u0000�\u0016��j\u000f���~�{��Lm��\u0014�����}T[��V����D��/>\u0007\u001d",
      "�MX�߅��Ҹ�Y����7��\r",
      "�/]@�\u001a\u0002x^�)q��1�,�\u0018\b�J˹.Ĺ��8�y\u0016�5Zb��\r",
      "��\u000b",
      "��)AY�\f",
      "�+\u0019pR:�F���&@�f\u001d",
      "���3�c��t\\Z�\r\n",
      "�Jfp��-���\u0014��\u0014(�J\u0002�\u001f\u0002��ހ�[d �ı�\u0017�\u0006\u001d",
      " T�e\\���=�\tp�\u0005�\u0018\r\n",
      " \b��_[�W{{��p�g߷\tPK\u0017��\t�\u001e",
      "��^�˯%\u0011\u0017&�6W\u0019`�\u0016�7ـ��*�?��5�m�Ҳ�m�\u0016S\u0011�L����\t0�\r\n",
      "p�0(��\u00017(\u0006ز\r\n",
      "�97(ϸ\u0000͞\t��\r\n",
      "�\u000b",
      ",�YQ�\r\n",
      "�@��\f",
      "�w�=jj�9A\u000b",
      "��z��\\�@�u$j��\u0011����W�\u0002v��.�7��6����r���Sǭ]l��T���2UĿu���\u001d",
      "�����\u0015V\u001c",
      "����\"Տ|E���#K��\u0001�\u0015�$\u0011\u0016\u0014�e�\t\u0011\u0013��ڢ�xπc\u0002ܛSIbYE-�l�/IU�\u0000\u0013�\u0000�\u0006Բ\r",
      "`�1��&@u�\u0000F\b\u0001.\u0005\u0006�u�u\\�okh\u001c",
      "]䩟�ʾ�\u001b&�\u001e",
      ")\u0003\u0004�\u0018p\u001a7�L\u0012��������\r",
      "�Y�D#Ρ�0�4t��%��Ӳ�Ya\r",
      "Ũ��1@b�^B�\u0001+�f�2�t.�)L�\u0013T�f�1�ܺ�T����\b{l}���c�\f",
      "��\u000b",
      "p\r",
      "8B���\u001f�M�����x��a�\u0011�]ڀ+�}\u000b",
      "X-\u0005�\u0000\u0015h�8�[�Zօ`�=KP\u0011�ߔP\u001d",
      "�������\u000b",
      "\u0016F�Hĳ|,\u000f\u001b�\u0011�aF�Y�\u0007w)�*��\t�1\\�9�\u0002x��~?�=�m�w\u001d",
      "G���t�6���~����\u0019j�\u0017�`���]���3�7�c\"��s��u�{��ܿ㼶y<]�|Ij\r",
      "���|�:�M[{�-o_�¦���%C)���=��\r\n"
     ]
    }
   ],
   "source": [
    "!head /Users/sr320/Desktop/roberto/0503_R1_001_trimmed_bismark_bt2_pe.deduplicated.bedGraph.gz"
   ]
  },
  {
   "cell_type": "code",
   "execution_count": 2,
   "metadata": {
    "ExecuteTime": {
     "end_time": "2019-06-26T17:45:12.508823Z",
     "start_time": "2019-06-26T17:45:10.797284Z"
    }
   },
   "outputs": [],
   "source": [
    "!gunzip /Users/sr320/Desktop/roberto/0503*"
   ]
  },
  {
   "cell_type": "code",
   "execution_count": 3,
   "metadata": {
    "ExecuteTime": {
     "end_time": "2019-06-26T17:45:22.368472Z",
     "start_time": "2019-06-26T17:45:22.224867Z"
    }
   },
   "outputs": [
    {
     "name": "stdout",
     "output_type": "stream",
     "text": [
      "track type=bedGraph\r\n",
      "C12722\t103\t104\t0\r\n"
     ]
    }
   ],
   "source": [
    "!head -2 /Users/sr320/Desktop/roberto/0503*"
   ]
  },
  {
   "cell_type": "code",
   "execution_count": 4,
   "metadata": {
    "ExecuteTime": {
     "end_time": "2019-06-26T17:45:53.909960Z",
     "start_time": "2019-06-26T17:45:52.103459Z"
    }
   },
   "outputs": [],
   "source": [
    "!gunzip /Users/sr320/Desktop/roberto/0501*"
   ]
  },
  {
   "cell_type": "code",
   "execution_count": 7,
   "metadata": {
    "ExecuteTime": {
     "end_time": "2019-06-26T17:46:38.016021Z",
     "start_time": "2019-06-26T17:46:37.077049Z"
    }
   },
   "outputs": [
    {
     "name": "stdout",
     "output_type": "stream",
     "text": [
      "gunzip: /Users/sr320/Desktop/roberto/0502_R1_001_trimmed_bismark_bt2_pe.deduplicated.bedGraph.gz: unexpected end of file\n",
      "gunzip: /Users/sr320/Desktop/roberto/0502_R1_001_trimmed_bismark_bt2_pe.deduplicated.bedGraph.gz: uncompress failed\n"
     ]
    }
   ],
   "source": [
    "!gunzip /Users/sr320/Desktop/roberto/0502*"
   ]
  },
  {
   "cell_type": "code",
   "execution_count": 8,
   "metadata": {
    "ExecuteTime": {
     "end_time": "2019-06-26T17:46:39.555925Z",
     "start_time": "2019-06-26T17:46:39.413374Z"
    }
   },
   "outputs": [
    {
     "name": "stdout",
     "output_type": "stream",
     "text": [
      "0501_R1_001_trimmed_bismark_bt2_pe.deduplicated.bedGraph\r\n",
      "0502_R1_001_trimmed_bismark_bt2_pe.deduplicated.bedGraph.gz\r\n",
      "0503_R1_001_trimmed_bismark_bt2_pe.deduplicated.bedGraph\r\n"
     ]
    }
   ],
   "source": [
    "ls -1 /Users/sr320/Desktop/roberto/"
   ]
  },
  {
   "cell_type": "code",
   "execution_count": 10,
   "metadata": {
    "ExecuteTime": {
     "end_time": "2019-06-26T17:47:10.380847Z",
     "start_time": "2019-06-26T17:47:10.243753Z"
    }
   },
   "outputs": [
    {
     "name": "stdout",
     "output_type": "stream",
     "text": [
      "==> /Users/sr320/Desktop/roberto/0501_R1_001_trimmed_bismark_bt2_pe.deduplicated.bedGraph <==\r\n",
      "track type=bedGraph\r\n",
      "C12722\t103\t104\t0\r\n",
      "C12722\t104\t105\t0\r\n",
      "C12722\t133\t134\t33.3333333333333\r\n",
      "C12722\t134\t135\t0\r\n",
      "C12722\t153\t154\t50\r\n",
      "C12722\t154\t155\t0\r\n",
      "C12734\t61\t62\t0\r\n",
      "C12734\t136\t137\t0\r\n",
      "C12738\t37\t38\t0\r\n",
      "\r\n",
      "==> /Users/sr320/Desktop/roberto/0502_R1_001_trimmed_bismark_bt2_pe.deduplicated.bedGraph.gz <==\r\n",
      "\u001f�\b\u0000��\u0007]\u0000\u0003|�K����]��\u001aE� \u0011��Q-54\u000eUI���\b�:��h{��-�|��<��b0>���ܾ�������������\u001f�����������������r,������֟W����\u0000>�+>|�-�?|�v�b�+nὍW|Ο��s�kq?���\u0007\u0003�[\u0004x��Ep���\u0017�zƺ\u0011l��\u000e���%����/�ǯ8�>�.\u0004|�\u0000���{\u0013���\u0001��`Op����+.o��ϲ�x_�m/��~\u000e���q���\u0000���~����n�����_u_l��\u0016�s�ϫ}�[|���g+�>(��5��������}3��\u0003�\u000b",
      "`��\u000f�}���\tpޟq��8��g�/q�����2���g��������\u0015����󳯐�㧽u�\u000f�\u001c",
      "�u����k^��'�c{\u0019?�\u0016�\u001d",
      "�x�����\u0017�\u001f\u001c",
      "���\u0014����Bx/+�����F�i�%8c�\u001c",
      "W���s�%�=}�p�}ܗ�\u0018\u0017�\u001a�Ӱ\u001e",
      "%\u001e",
      "\u001a�S��}J���A�w~���_1�??c\u000e\b�\u001d",
      "�擗�W<�\u0017��g<�!ރ�\u0003���y.�\u000f���S���m���w)Q\u0003c�~f�x��k�x�o×|�5Y\u0001`�\u0012X\u001c",
      "\u0004�\u001e",
      "�\u0002���������?u��,.�}���Q�'���g<j!���%�?cn\u000e�x�\u001c",
      "o��1\u0000B��\u000f����(�����X\b�o�n������q���1=��F��=\u0007��$x��힃�\u0014,���\u0010�'`��w?��P\u001bxj+����w'�\u001a���@���g2D<�!�{'p?\u0015k̩�ă�^x��\u0015\u0013 f\u001f�����a~�;�s����#ε\r",
      "�[�c\u001d",
      "⽈�5,��\u001f��\u0010���\u000f\u0011c�\u0016=�N�z�\\~����\\����\u0007����D\u0001,�\u0006WL\f",
      "\u001bAL\u0013�\u0004X�\r\n",
      "���ԂW �'���ʅW��^��A.pO>�m\u0001�F\u001b@����K\\\u0003�\u0016�އ!��O\"�Ԧ�t~�ΕN�=x�W��\bX��\u0019�\"\u001f@��~D�5�=��L��;t��k�8gy�1ÿ�o��w�q\u0002\u0007��}�f�n\u0006��15����K����.\u0010��\u0003q�\u0007\u0016�2K��)�.U�������X+���ώ�q�\r",
      "\u0007��������;'�\r",
      "�\u0017>G�����w��\u0015�����%�(�\u0019�Z�\f",
      "�\u0006�1\u0019_���'T,O\u000f�������w��!J�����\u000f�5���\u0001�ri\u0014�8׉bѩK\u0019bib����C���>\u0007\b}�~�\u0015���\u0012��&8��\u0019����m���e����\u001c",
      "�!R�7�y�<\t.ݶ\t��\u000e-�\u000e\u0019|�T\u0000ľ`���o�b-�|�\u0018\u000fX��\u0002�\r",
      "\r",
      "8Q\u0006����¥\u0007H�5�b=(!�ag�iV`��\b ������<\u0006�美�M|>1��SsX|��6\f",
      "�\u0012���\r",
      "��\u000b",
      "��\u001e",
      "���$\u001e",
      "?\u0017^�.ٺRS��+��]S\u0010�����+Nh�\u0016�\u001b)q�\u0019��j}3u�Ϻ\u000f�m�����\u0012��ئ�\u000eEh��\u0012y}!�QӐ��@W��B���s-��>4A\u000b",
      "l}�\u000e\u0011�o��:H�n�gsdo1��nK��!��r�{\\ҡ\u000f��Q\u0019\"?=�g��\u0012�\u0006Bb{�6���S�/��;\u0012��0�T\u0002\u0000+F\u0004W>'���I��/\u0011��\u0000�;��\\*�x6k\r",
      "\f",
      "�t4��\u001d",
      "n��#}\u0019��\u0016ߛ��AYm\f",
      "�\u0000\u001b�S}\u0001p�5�T>�r/��X���=\u0015!��u�@��#DO�%�\u000e\u0016\"�\u0016\t��a��2\u0001Pf��\u001e",
      "���b[��/�r\u0000�Fr#��ʎ��S\f",
      "�)�5�lC\u0005`(JP&�\u00046/�]�����.}\u001a\u0010��cpz\t�׌�p���\u0016����x_��*�v��\u001e",
      "��#c���kӓm��1\u001f�\u0010��!�v�\u0012���\\\f",
      "3���~�w7A&��\u000b",
      "P�4(�\u0001ǆ�\u001f���u�:~/\r",
      "��C�\u0003\u0019b�F$����\b�\f",
      "`\u0000[����\u0004x��<�\u0015-Ħ,��c�\b�x)��4�9�@\u000fCm�?g�5a�K�U�\u0000\u001f\b\u0003\\Z�]� \u0000�`\u0002|>\f",
      "��\b\u0017��b�����b\u0007�X�\u0010�x�~�$�Z&�v\u000e\u0012K!\r\n",
      "\u0011S��\u001a�!b�:�h\b��'�B�\f",
      "\u0011j�ĺ�!�\u0005�\u0000��\u0000u��9�\u00048�\u001b��#\u0001&>\u0003O|\u0005b�Z�\u001e",
      "\u001c",
      "�\u0006��\u0002e�\u0010h��y��*�\\)��-\r",
      "ʚ��b\u0012���s��z\u000f�*':\u0001jZ\u0001|k\bdT\u0007h\u0006\u0003\u0003\u000f_�-7��}\u001c",
      "�D���\u0012�_2'�\u0006]O�µ�`���\u0011\r\n",
      "sO�^��X>�X��}���x�\t��E��i^\u0012K{\r\n",
      "�m!\r",
      "0<\u0004��\u0019����V�����\u0017}\u0006\u0012�3��fp\u0001����}C���\u001b\u0004�\b\u0003x�\u000e0�5Dy/�r�\u0019(�\u0010S��X������{�,�6�\u0012�Eࣷ\u0002�N\r",
      "� ��t\u0002\u0019�*o�K|\u0001\u0018��N|��|n$.��sC���\u0013^(���I�\u0019i�g��Ě\u0018W�#�خ1�SQ6�#'��S9\u001f�5�1~pK�g�%'�\u0004��4�ђ�e��\u000e�K�Р����K�\u001e",
      ">?9B%�$-�s�\u0001�)\t����\u0016�\u0012#���E\u0010�z\\�%��ش�\u0016l��C`�ٻ@�{\u0013�\u0000hq�;$�Y\\\u0017�u�\u0006�.�\r",
      "(G�D�D\f",
      "���K(�i=x�������Z\u0019\u0019%�SA\"]A\u0006��\u0005�[�X>x�r��K.��9J-N����Hl e�1��-,�[���ܠ=\u0006�W7�\u001a�Y\u0015�\u0019�\u0000��\u0001G�\u0000�u�0*,�7��V�w��!��\u0012`Y_�^���y���5�9�[�G��U�>\u001e",
      "���g�'4��Dn�\u0005�,gq�\u0019$R#7�\u0006�\u0000���ٹ+��/��x@\r",
      "J�\u0015h��\u0000\u001f�0)�2-��T���\u0018@�MP+�A\u001bE\u0002��%85E\u0003`�\u000eп�Q3d�[A[>\u0013�Me��0�/��v�#��q����\u0013Z\u001b�g\u0018\u001c",
      ".]�\u0002\u001a\u0015\u0007�}���\u0012\b��K�c[)��o\u00121�X�:�����Z�?����?���\u0003\u0012��X�\u0004�x7o�y�[jqZ\u0011%��Ib��$r癀�<\u0000�u\t8J��\u00006�zn@\u0015�^�`F�X�i���C,���Й�\u000b",
      "^N�}�ר�VB�\")�f�5�q?k\t�\u000b",
      "�B;o�*/��a�m4\r\n",
      "��\u0004�G$���\u0015�\u001b7��\u001a\u001e",
      "\u0018|��]�Dn�\u0013�6���Q7��.\u0000�6A��z߄2�Z��9D�p!�IbE\u001aX��\u0006\u0012�@3���\u0001L�\t�\bb�~�@m�\r",
      "��K`u�6z��]2��=\u0001\u0014u\u0001jV\u0006��7��cPv�\u0004P�\r",
      "��\u000b",
      "P!4(G�@���L_v0�|��7��k\u0000��\u0001״\u0000���Ě�G\u0011(�:�2QX�&\r\n",
      "��2q6\u0016�\u0010�\u0016|\u0003�=��j�,�S���\u001aP�0(c�\r",
      "Nn/$N\u0007�Do��fI��\u0013���Kɵ�Л�L�e��Ǳ�\u0006\u0018�n\\\u0015!�\u0015\u0002�\r\n",
      "���\u000f�\u0007��l��^c9�\u001e",
      "+��\u0012��c��\u0013!V��Z�$�\u001d",
      "k{��E�ڲ��\u001ag�\u0010�����\u0010��[b[�\f",
      "8�\u001c",
      "ݗ�\u0000Z�@����1�\u001d",
      "g3�\u0019PK\u0015��b=�����}��'�m�>�\u0015J0�\u0004\u0003]��K,\u0003��R\\�\u0000k�������/��Z���\t��\r\n",
      "�х_�Q\u0018\u0002��-\u001f|���˼������П\u0004`�\u0017h{�M��b5\f",
      "�75�m�4��Ó�w��4Fz�m�\u0017�\\.�y�\u0000\u001a��s3nR\"�H9��/\u000b",
      "�����\u001b!���\"��s6��\u0001\"\u0013�9�E\u000b",
      "��\u0019�#\u0011�\u000b",
      "��^�����\u0019_g���ւH,֔\"q\u001a\u0005%���8\u001d",
      "�\u0012�vI�YV?�O�\u0001��\u0002�'(�\u0001\u001fX�2D�u�!�\u0000ʃ/%VP\u0003��GHL\u0002(\u000f\u0002�n\u0018`��)*\u0017{�-VDؿ\u0013T�ߺm=pπ*�@��c�\u000f�x4�v�e@��m(�{\u0007:c�4t�\u0010{ضQ^[\".�\u0001�J��\t_`F�|1\u0002���:_=��\u0005�Z�}�\u001d",
      "�~v��w9꿟:�m��\u0003\u0013���ϰk\u0002g�O��\u001c",
      "eyF\u0004\r\n",
      "�\r\n",
      "\r\n",
      "==> /Users/sr320/Desktop/roberto/0503_R1_001_trimmed_bismark_bt2_pe.deduplicated.bedGraph <==\r\n",
      "track type=bedGraph\r\n",
      "C12722\t103\t104\t0\r\n",
      "C12722\t133\t134\t0\r\n",
      "C12722\t153\t154\t0\r\n",
      "C12738\t37\t38\t0\r\n",
      "C12768\t102\t103\t0\r\n",
      "C12768\t118\t119\t0\r\n",
      "C12768\t144\t145\t0\r\n",
      "C12778\t51\t52\t0\r\n",
      "C12778\t113\t114\t0\r\n"
     ]
    }
   ],
   "source": [
    "!head  /Users/sr320/Desktop/roberto/*"
   ]
  },
  {
   "cell_type": "code",
   "execution_count": 11,
   "metadata": {
    "ExecuteTime": {
     "end_time": "2019-06-26T17:47:58.986893Z",
     "start_time": "2019-06-26T17:47:57.389944Z"
    }
   },
   "outputs": [
    {
     "name": "stdout",
     "output_type": "stream",
     "text": [
      "gunzip: /Users/sr320/Desktop/roberto/0502_R1_001_trimmed_bismark_bt2_pe.deduplicated.bedGraph.gz: unexpected end of file\n",
      "gunzip: /Users/sr320/Desktop/roberto/0502_R1_001_trimmed_bismark_bt2_pe.deduplicated.bedGraph.gz: uncompress failed\n",
      "gunzip: /Users/sr320/Desktop/roberto/0502_R1_001_trimmed_bismark_bt2_pe.deduplicated.bedGraph_2.gz: unexpected end of file\n",
      "gunzip: /Users/sr320/Desktop/roberto/0502_R1_001_trimmed_bismark_bt2_pe.deduplicated.bedGraph_2.gz: uncompress failed\n"
     ]
    }
   ],
   "source": [
    "!gunzip /Users/sr320/Desktop/roberto/0502*"
   ]
  },
  {
   "cell_type": "code",
   "execution_count": 12,
   "metadata": {
    "ExecuteTime": {
     "end_time": "2019-06-26T17:48:57.543328Z",
     "start_time": "2019-06-26T17:48:56.968400Z"
    }
   },
   "outputs": [
    {
     "name": "stdout",
     "output_type": "stream",
     "text": [
      "\r\n",
      "Program: igvtools. IGV Version 2.3.98 (141)07/25/2017 12:12 AM\r\n",
      "\r\n",
      "Usage: igvtools [command] [options] [input file/dir] [other arguments]\r\n",
      "\r\n",
      "Command: version print the version number\r\n",
      "\t sort    sort an alignment file by start position. \r\n",
      "\t index   index an alignment file\r\n",
      "\t toTDF    convert an input file (cn, gct, wig) to tiled data format (tdf)\r\n",
      "\t count   compute coverage density for an alignment file\r\n",
      "\t formatexp  center, scale, and log2 normalize an expression file\r\n",
      "\t gui      Start the gui\r\n",
      "\t help <command>     display this help message, or help on a specific command\r\n",
      "\t See http://www.broadinstitute.org/software/igv/igvtools_commandline for more detailed help\r\n",
      "\t\r\n",
      "Error: No arguments provided\r\n",
      "Done\r\n"
     ]
    }
   ],
   "source": [
    "!/Applications/bioinfo/IGVTools/igvtools"
   ]
  },
  {
   "cell_type": "code",
   "execution_count": 16,
   "metadata": {
    "ExecuteTime": {
     "end_time": "2019-06-26T17:49:59.408369Z",
     "start_time": "2019-06-26T17:49:58.832592Z"
    }
   },
   "outputs": [
    {
     "name": "stdout",
     "output_type": "stream",
     "text": [
      "Command \"toTDF\"\r\n",
      "---------------------------------------------------------------------------\r\n",
      "\r\n",
      "The \"toTDF\" command converts a sorted data input file to  a binary tiled\r\n",
      "data (.tdf) file. Input file formats supported  are .wig, .cn, .igv,\r\n",
      "and .gct, TCGA mage-tab files, and \"list\" files.\r\n",
      "\r\n",
      "List files are text files containing a list of files in one of the supported formats,\r\n",
      "one file per line. When using a list file the format of the contained files must be\r\n",
      "specified explicitly with the \"fileType\" parameter.  List files must end with the\r\n",
      "extension \".list\".  File paths can be absolute or relative to the directory containing\r\n",
      "the list file.\r\n",
      "\r\n",
      "Usage:\r\n",
      "\r\n",
      "  igvtools toTDF [options]  [inputFile] [outputFile] [genome]\r\n",
      "\r\n",
      "\r\n",
      "Required arguments:\r\n",
      "\r\n",
      "  inputFile    The input file (see supported formats above).\r\n",
      "\r\n",
      "  outputFile   Binary output file.  Must end in \".tdf\".\r\n",
      "\r\n",
      "  genome       A genome id or filename. See details below. Default is hg18.\r\n",
      "\r\n",
      "Options:\r\n",
      "\r\n",
      "  -z, --maxZoom num       Specifies the maximum zoom level to precompute. The default\r\n",
      "               value is 7 and is sufficient for most files. To reduce file\r\n",
      "               size at the expense of IGV performance this value can be\r\n",
      "               reduced.\r\n",
      "\r\n",
      "  -f, --windowFunctions  list     A comma delimited list specifying window functions to use\r\n",
      "               when reducing the data to precomputed tiles.   Allowed\r\n",
      "               values are  min, max,  mean, median, p2, p10, p90, and p98.\r\n",
      "               The \"p\" values represent percentile, so p2=2nd percentile,\r\n",
      "               etc.\r\n",
      "\r\n",
      "  -p, --probeFile file      Specifies a \"bed\" file to be used to map probe identifiers\r\n",
      "               to locations.  This option is useful when preprocessing gct\r\n",
      "               files.  The bed file should contain 4 columns:\r\n",
      "                  chr start end name\r\n",
      "               where name is the probe name in the gct file.\r\n",
      "\r\n",
      "  --fileType   Explicitly specify the file type.  This is a required parameter  for TCGA mage-tab and \".list\" files.\r\n",
      "               Possible values are mage-tab, .wig, .cn, .igv, and .gct.   Only mage-tab files downloaded from the\r\n",
      "               TCGA data center or related sights are supported at this time.\r\n",
      "\r\n",
      "\r\n",
      "  Conversion of \".gct\" and \"mage-tab\" files results in the creation of an \".igv\" file, which is sorted by genome\r\n",
      "  position using the \"sort\" command.  For this case the following optional parameters can be specified.\r\n",
      "\r\n",
      "  -t, --tmpDir tmpdir  Specify a temporary working directory.  For large input files\r\n",
      "               this directory will be used to store intermediate results of\r\n",
      "               the sort. The default is the users temp directory.\r\n",
      "\r\n",
      "  -m, --maxRecords number  The maximum number of records to keep in memory during the\r\n",
      "               sort.  The default value is 500000.  Increase this number\r\n",
      "               if you receive \"too many open files\" errors.   Decrease it\r\n",
      "               if you experience \"out of memory\" errors.\r\n",
      "\r\n",
      "\r\n",
      "\r\n",
      "Example:\r\n",
      "\r\n",
      "      igvtools toTDF -z 5  copyNumberFile.cn copyNumberFile.tdf hg18\r\n",
      "\r\n",
      "\r\n",
      "Notes:\r\n",
      "\r\n",
      "Data file formats, with the exception of .gct files, must be sorted by\r\n",
      "start position.  If necessary files can be sorted with the \"sort\" command\r\n",
      "described below.  Attempting to preprocess an unsorted file will result\r\n",
      "in an  error.\r\n",
      "\r\n",
      "---------------------------------------------------------------------------\r\n",
      "See http://www.broadinstitute.org/software/igv/igvtools_commandline, or igvtools_readme.txt, for more help\r\n",
      "\r\n",
      "Done\r\n"
     ]
    }
   ],
   "source": [
    "!/Applications/bioinfo/IGVTools/igvtools help toTDF \n",
    "#/Users/sr320/Desktop/roberto/0503_R1_001_trimmed_bismark_bt2_pe.deduplicated.bedGraph\n",
    "#> \n"
   ]
  },
  {
   "cell_type": "code",
   "execution_count": null,
   "metadata": {},
   "outputs": [],
   "source": []
  }
 ],
 "metadata": {
  "kernelspec": {
   "display_name": "Python 3",
   "language": "python",
   "name": "python3"
  },
  "language_info": {
   "codemirror_mode": {
    "name": "ipython",
    "version": 3
   },
   "file_extension": ".py",
   "mimetype": "text/x-python",
   "name": "python",
   "nbconvert_exporter": "python",
   "pygments_lexer": "ipython3",
   "version": "3.6.8"
  }
 },
 "nbformat": 4,
 "nbformat_minor": 2
}
