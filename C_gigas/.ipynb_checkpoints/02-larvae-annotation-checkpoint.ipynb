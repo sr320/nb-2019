{
 "cells": [
  {
   "cell_type": "code",
   "execution_count": 10,
   "metadata": {
    "ExecuteTime": {
     "end_time": "2019-04-05T14:19:30.299718Z",
     "start_time": "2019-04-05T14:19:30.172242Z"
    }
   },
   "outputs": [
    {
     "name": "stdout",
     "output_type": "stream",
     "text": [
      "CHOYP_043R.5.5|m.64252\tsp|Q06852|SLAP1_CLOTH\t52.381\t294\t80\t24\t575\t816\t1351\t1636\t2.02e-16\t88.2\r\n",
      "CHOYP_14332.1.2|m.5643\tsp|Q2F637|1433Z_BOMMO\t66.031\t262\t74\t2\t19\t280\t1\t247\t2.78e-119\t344\r\n",
      "CHOYP_14332.1.2|m.5644\tsp|P62325|BTG1_MOUSE\t47.205\t161\t80\t2\t1\t156\t11\t171\t2.22e-47\t155\r\n",
      "CHOYP_14332.2.2|m.61737\tsp|Q2F637|1433Z_BOMMO\t67.331\t251\t78\t1\t1\t251\t1\t247\t4.22e-119\t342\r\n",
      "CHOYP_1433E.1.2|m.3639\tsp|Q9CWP8|DPOD4_MOUSE\t38.235\t102\t61\t2\t30\t130\t7\t107\t9.73e-19\t78.6\r\n",
      "CHOYP_1433E.1.2|m.3638\tsp|P92177|1433E_DROME\t77.692\t260\t53\t1\t1\t255\t1\t260\t1.95e-149\t420\r\n",
      "CHOYP_1433E.2.2|m.63376\tsp|P92177|1433E_DROME\t77.692\t260\t53\t1\t1\t255\t1\t260\t1.95e-149\t420\r\n",
      "CHOYP_1433E.2.2|m.63378\tsp|Q6MG82|PRRT1_RAT\t44.444\t99\t53\t1\t41\t137\t196\t294\t1.84e-18\t82.8\r\n",
      "CHOYP_1433G.1.2|m.8906\tsp|Q1HR36|1433Z_AEDAE\t72.180\t133\t37\t0\t18\t150\t116\t248\t1.90e-67\t207\r\n",
      "CHOYP_1433G.2.2|m.63451\tsp|Q4R979|RBM4_MACFA\t43.571\t140\t75\t2\t10\t146\t69\t207\t1.84e-33\t127\r\n"
     ]
    }
   ],
   "source": [
    "!head analyses/Cgigaton_sprot.blastout"
   ]
  },
  {
   "cell_type": "code",
   "execution_count": 11,
   "metadata": {
    "ExecuteTime": {
     "end_time": "2019-04-05T14:24:03.681680Z",
     "start_time": "2019-04-05T14:24:03.536475Z"
    }
   },
   "outputs": [
    {
     "name": "stdout",
     "output_type": "stream",
     "text": [
      "CHOYP_043R.5.5|m.64252\tQ06852\tSLAP1_CLOTH\t2.02E-16\r\n",
      "CHOYP_14332.1.2|m.5643\tQ2F637\t1433Z_BOMMO\t2.78E-119\r\n",
      "CHOYP_14332.1.2|m.5644\tP62325\tBTG1_MOUSE\t2.22E-47\r\n",
      "CHOYP_14332.2.2|m.61737\tQ2F637\t1433Z_BOMMO\t4.22E-119\r\n",
      "CHOYP_1433E.1.2|m.3639\tQ9CWP8\tDPOD4_MOUSE\t9.73E-19\r\n",
      "CHOYP_1433E.1.2|m.3638\tP92177\t1433E_DROME\t1.95E-149\r\n",
      "CHOYP_1433E.2.2|m.63376\tP92177\t1433E_DROME\t1.95E-149\r\n",
      "CHOYP_1433E.2.2|m.63378\tQ6MG82\tPRRT1_RAT\t1.84E-18\r\n",
      "CHOYP_1433G.1.2|m.8906\tQ1HR36\t1433Z_AEDAE\t1.90E-67\r\n",
      "CHOYP_1433G.2.2|m.63451\tQ4R979\tRBM4_MACFA\t1.84E-33\r\n"
     ]
    }
   ],
   "source": [
    "!head analyses/Cgigaton_sprot.txt"
   ]
  },
  {
   "cell_type": "code",
   "execution_count": 2,
   "metadata": {
    "ExecuteTime": {
     "end_time": "2019-04-05T14:15:03.007502Z",
     "start_time": "2019-04-05T14:15:02.878670Z"
    }
   },
   "outputs": [
    {
     "name": "stdout",
     "output_type": "stream",
     "text": [
      "\"Protein\",\"Label\",\"log2FC\",\"SE\",\"Tvalue\",\"DF\",\"pvalue\",\"adj.pvalue\",\"issue\",\"MissingPercentage\",\"ImputationPercentage\"\r\n",
      "\"CHOYP_1433E.1.2|m.3638\",\"23C-29C\",0.20201735498334,0.350608753301223,0.576190277855893,8,0.58033085335551,0.87802607957783,NA,0.75,0.5\r\n",
      "\"CHOYP_1433G.2.2|m.63450\",\"23C-29C\",-0.0136646753521461,0.159946112327554,-0.0854329946085978,12,0.933326024391637,0.986693320597668,NA,0.75,0.75\r\n",
      "\"CHOYP_1433Z.1.1|m.17045\",\"23C-29C\",0.335394816499807,0.725462631616861,0.462318528732903,12,0.652123118167097,0.901451791414952,NA,0.717105263157895,0.717105263157895\r\n",
      "\"CHOYP_2AAA.1.1|m.13306\",\"23C-29C\",0.23501091241549,0.469517358933068,0.500537217515299,8,0.630174372853334,0.899925258448609,NA,0.75,0.5\r\n",
      "\"CHOYP_4EBP1.1.1|m.12045\",\"23C-29C\",-1.1862494965682,0.515231743292566,-2.30236104822952,1,0.26085641529694,0.793903773221917,NA,0.75,0\r\n",
      "\"CHOYP_A2M.2.3|m.54214\",\"23C-29C\",-0.509200080657486,0.0844954135907866,-6.02636355061299,1,0.10468523483693,0.779210870341361,NA,0.75,0\r\n",
      "\"CHOYP_A4.3.3|m.22262\",\"23C-29C\",-0.749915192464954,0.7189772941377,-1.04303042471509,4,0.355822019196463,0.798751792124778,NA,0.75,0.25\r\n",
      "\"CHOYP_AAAD.2.4|m.28999\",\"23C-29C\",0.665713958804094,0.829967428856466,0.802096486751678,1,0.569633586748527,0.877435107850004,NA,0.75,0\r\n",
      "\"CHOYP_AACS.1.1|m.66267\",\"23C-29C\",-0.605920152483842,0.479174729408632,-1.26450773652365,8,0.241641328407404,0.788087039158866,NA,0.645833333333333,0.395833333333333\r\n"
     ]
    }
   ],
   "source": [
    "!head data/20190403-2015Cgseed-protcomp.csv"
   ]
  },
  {
   "cell_type": "code",
   "execution_count": null,
   "metadata": {},
   "outputs": [],
   "source": []
  }
 ],
 "metadata": {
  "kernelspec": {
   "display_name": "Python 3",
   "language": "python",
   "name": "python3"
  },
  "language_info": {
   "codemirror_mode": {
    "name": "ipython",
    "version": 3
   },
   "file_extension": ".py",
   "mimetype": "text/x-python",
   "name": "python",
   "nbconvert_exporter": "python",
   "pygments_lexer": "ipython3",
   "version": "3.6.8"
  }
 },
 "nbformat": 4,
 "nbformat_minor": 2
}
