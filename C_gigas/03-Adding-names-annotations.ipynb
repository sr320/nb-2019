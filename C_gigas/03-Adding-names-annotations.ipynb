{
 "cells": [
  {
   "cell_type": "code",
   "execution_count": 1,
   "metadata": {
    "ExecuteTime": {
     "end_time": "2019-04-05T15:01:29.397993Z",
     "start_time": "2019-04-05T15:01:29.239999Z"
    }
   },
   "outputs": [
    {
     "name": "stdout",
     "output_type": "stream",
     "text": [
      "CHOYP_1433E.1.2|m.3638\t23C-29C\t0.20201735498334\tP92177\t1433E_DROME\t1.95E-149\r\n",
      "CHOYP_1433G.2.2|m.63450\t23C-29C\t-0.0136646753521461\tP68252\t1433G_BOVIN\t8.00E-99\r\n",
      "CHOYP_1433Z.1.1|m.17045\t23C-29C\t0.335394816499807\tQ2F637\t1433Z_BOMMO\t6.22E-107\r\n",
      "CHOYP_2AAA.1.1|m.13306\t23C-29C\t0.23501091241549\tP54612\t2AAA_PIG\t0\r\n",
      "CHOYP_4EBP1.1.1|m.12045\t23C-29C\t-1.1862494965682\tQ13541\t4EBP1_HUMAN\t9.58E-34\r\n",
      "CHOYP_A2M.2.3|m.54214\t23C-29C\t-0.509200080657486\tP20742\tPZP_HUMAN\t0\r\n",
      "CHOYP_A4.3.3|m.22262\t23C-29C\t-0.749915192464954\tQ8IWZ8\tSUGP1_HUMAN\t4.25E-107\r\n",
      "CHOYP_AAAD.2.4|m.28999\t23C-29C\t0.665713958804094\tQ0P5B7\tAAAD_BOVIN\t4.61E-70\r\n",
      "CHOYP_AACS.1.1|m.66267\t23C-29C\t-0.605920152483842\tQ28BL6\tAACS_XENTR\t0\r\n",
      "CHOYP_AADAT.1.1|m.12672\t23C-29C\t0.689727619844991\tQ8N5Z0\tAADAT_HUMAN\t1.34E-164\r\n"
     ]
    }
   ],
   "source": [
    "!head analyses/Cgseed-protcomp-annotation.tab"
   ]
  },
  {
   "cell_type": "code",
   "execution_count": 2,
   "metadata": {
    "ExecuteTime": {
     "end_time": "2019-04-06T23:59:32.697384Z",
     "start_time": "2019-04-06T23:59:32.432292Z"
    }
   },
   "outputs": [
    {
     "name": "stdout",
     "output_type": "stream",
     "text": [
      "CHOYP_043R.5.5|m.64252\tsp|Q06852|SLAP1_CLOTH Cell surface glycoprotein 1 OS=Clostridium thermocellum (strain ATCC 27405 / DSM 1237 / NBRC 103400 / NCIMB 10682 / NRRL B-4536 / VPI 7372) OX=203119 GN=olpB PE=3 SV=2\t2.02e-16\r\n",
      "CHOYP_14332.1.2|m.5643\tsp|Q2F637|1433Z_BOMMO 14-3-3 protein zeta OS=Bombyx mori OX=7091 GN=14-3-3zeta PE=2 SV=2\t2.78e-119\r\n",
      "CHOYP_14332.1.2|m.5644\tsp|P62325|BTG1_MOUSE Protein BTG1 OS=Mus musculus OX=10090 GN=Btg1 PE=1 SV=1\t2.22e-47\r\n",
      "CHOYP_14332.2.2|m.61737\tsp|Q2F637|1433Z_BOMMO 14-3-3 protein zeta OS=Bombyx mori OX=7091 GN=14-3-3zeta PE=2 SV=2\t4.22e-119\r\n",
      "CHOYP_1433E.1.2|m.3639\tsp|Q9CWP8|DPOD4_MOUSE DNA polymerase delta subunit 4 OS=Mus musculus OX=10090 GN=Pold4 PE=1 SV=1\t9.73e-19\r\n",
      "CHOYP_1433E.1.2|m.3638\tsp|P92177|1433E_DROME 14-3-3 protein epsilon OS=Drosophila melanogaster OX=7227 GN=14-3-3epsilon PE=1 SV=2\t1.95e-149\r\n",
      "CHOYP_1433E.2.2|m.63376\tsp|P92177|1433E_DROME 14-3-3 protein epsilon OS=Drosophila melanogaster OX=7227 GN=14-3-3epsilon PE=1 SV=2\t1.95e-149\r\n",
      "CHOYP_1433E.2.2|m.63378\tsp|Q6MG82|PRRT1_RAT Proline-rich transmembrane protein 1 OS=Rattus norvegicus OX=10116 GN=Prrt1 PE=1 SV=2\t1.84e-18\r\n",
      "CHOYP_1433G.1.2|m.8906\tsp|Q1HR36|1433Z_AEDAE 14-3-3 protein zeta OS=Aedes aegypti OX=7159 GN=14-3-3zeta PE=2 SV=1\t1.90e-67\r\n",
      "CHOYP_1433G.2.2|m.63451\tsp|Q4R979|RBM4_MACFA RNA-binding protein 4 OS=Macaca fascicularis OX=9541 GN=RBM4 PE=2 SV=1\t1.84e-33\r\n"
     ]
    }
   ],
   "source": [
    "!cat analyses/Cgigaton_sprot_name.blastout > analyses/Cgigaton_sprot_name.sorted\n",
    "!head analyses/Cgigaton_sprot_name.sorted"
   ]
  },
  {
   "cell_type": "code",
   "execution_count": 11,
   "metadata": {
    "ExecuteTime": {
     "end_time": "2019-04-07T00:05:03.060401Z",
     "start_time": "2019-04-07T00:05:02.823191Z"
    }
   },
   "outputs": [],
   "source": [
    "#joining files \n",
    "!join -t $'\\t' \\\n",
    "analyses/Cgseed-protcomp-annotation.tab \\\n",
    "analyses/Cgigaton_sprot_name.sorted \\\n",
    "| awk -F'\\t' -v OFS='\\t' '{print $1, $2, $3, $4, $5, $7, $8}' \\\n",
    "> analyses/Cgseed-protcomp-annotation-name.tab"
   ]
  },
  {
   "cell_type": "code",
   "execution_count": 12,
   "metadata": {
    "ExecuteTime": {
     "end_time": "2019-04-07T00:05:12.926302Z",
     "start_time": "2019-04-07T00:05:12.796438Z"
    }
   },
   "outputs": [
    {
     "name": "stdout",
     "output_type": "stream",
     "text": [
      "    2276 analyses/Cgseed-protcomp-annotation-name.tab\r\n"
     ]
    }
   ],
   "source": [
    "!wc -l analyses/Cgseed-protcomp-annotation-name.tab"
   ]
  },
  {
   "cell_type": "code",
   "execution_count": null,
   "metadata": {},
   "outputs": [],
   "source": []
  }
 ],
 "metadata": {
  "kernelspec": {
   "display_name": "Python 3",
   "language": "python",
   "name": "python3"
  },
  "language_info": {
   "codemirror_mode": {
    "name": "ipython",
    "version": 3
   },
   "file_extension": ".py",
   "mimetype": "text/x-python",
   "name": "python",
   "nbconvert_exporter": "python",
   "pygments_lexer": "ipython3",
   "version": "3.6.8"
  }
 },
 "nbformat": 4,
 "nbformat_minor": 2
}
