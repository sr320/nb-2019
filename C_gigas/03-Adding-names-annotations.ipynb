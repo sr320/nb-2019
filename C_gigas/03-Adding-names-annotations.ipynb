{
 "cells": [
  {
   "cell_type": "code",
   "execution_count": 1,
   "metadata": {
    "ExecuteTime": {
     "end_time": "2019-04-05T15:01:29.397993Z",
     "start_time": "2019-04-05T15:01:29.239999Z"
    }
   },
   "outputs": [
    {
     "name": "stdout",
     "output_type": "stream",
     "text": [
      "CHOYP_1433E.1.2|m.3638\t23C-29C\t0.20201735498334\tP92177\t1433E_DROME\t1.95E-149\r\n",
      "CHOYP_1433G.2.2|m.63450\t23C-29C\t-0.0136646753521461\tP68252\t1433G_BOVIN\t8.00E-99\r\n",
      "CHOYP_1433Z.1.1|m.17045\t23C-29C\t0.335394816499807\tQ2F637\t1433Z_BOMMO\t6.22E-107\r\n",
      "CHOYP_2AAA.1.1|m.13306\t23C-29C\t0.23501091241549\tP54612\t2AAA_PIG\t0\r\n",
      "CHOYP_4EBP1.1.1|m.12045\t23C-29C\t-1.1862494965682\tQ13541\t4EBP1_HUMAN\t9.58E-34\r\n",
      "CHOYP_A2M.2.3|m.54214\t23C-29C\t-0.509200080657486\tP20742\tPZP_HUMAN\t0\r\n",
      "CHOYP_A4.3.3|m.22262\t23C-29C\t-0.749915192464954\tQ8IWZ8\tSUGP1_HUMAN\t4.25E-107\r\n",
      "CHOYP_AAAD.2.4|m.28999\t23C-29C\t0.665713958804094\tQ0P5B7\tAAAD_BOVIN\t4.61E-70\r\n",
      "CHOYP_AACS.1.1|m.66267\t23C-29C\t-0.605920152483842\tQ28BL6\tAACS_XENTR\t0\r\n",
      "CHOYP_AADAT.1.1|m.12672\t23C-29C\t0.689727619844991\tQ8N5Z0\tAADAT_HUMAN\t1.34E-164\r\n"
     ]
    }
   ],
   "source": [
    "!head analyses/Cgseed-protcomp-annotation.tab"
   ]
  },
  {
   "cell_type": "code",
   "execution_count": 2,
   "metadata": {
    "ExecuteTime": {
     "end_time": "2019-04-06T23:59:32.697384Z",
     "start_time": "2019-04-06T23:59:32.432292Z"
    }
   },
   "outputs": [
    {
     "name": "stdout",
     "output_type": "stream",
     "text": [
      "CHOYP_043R.5.5|m.64252\tsp|Q06852|SLAP1_CLOTH Cell surface glycoprotein 1 OS=Clostridium thermocellum (strain ATCC 27405 / DSM 1237 / NBRC 103400 / NCIMB 10682 / NRRL B-4536 / VPI 7372) OX=203119 GN=olpB PE=3 SV=2\t2.02e-16\r\n",
      "CHOYP_14332.1.2|m.5643\tsp|Q2F637|1433Z_BOMMO 14-3-3 protein zeta OS=Bombyx mori OX=7091 GN=14-3-3zeta PE=2 SV=2\t2.78e-119\r\n",
      "CHOYP_14332.1.2|m.5644\tsp|P62325|BTG1_MOUSE Protein BTG1 OS=Mus musculus OX=10090 GN=Btg1 PE=1 SV=1\t2.22e-47\r\n",
      "CHOYP_14332.2.2|m.61737\tsp|Q2F637|1433Z_BOMMO 14-3-3 protein zeta OS=Bombyx mori OX=7091 GN=14-3-3zeta PE=2 SV=2\t4.22e-119\r\n",
      "CHOYP_1433E.1.2|m.3639\tsp|Q9CWP8|DPOD4_MOUSE DNA polymerase delta subunit 4 OS=Mus musculus OX=10090 GN=Pold4 PE=1 SV=1\t9.73e-19\r\n",
      "CHOYP_1433E.1.2|m.3638\tsp|P92177|1433E_DROME 14-3-3 protein epsilon OS=Drosophila melanogaster OX=7227 GN=14-3-3epsilon PE=1 SV=2\t1.95e-149\r\n",
      "CHOYP_1433E.2.2|m.63376\tsp|P92177|1433E_DROME 14-3-3 protein epsilon OS=Drosophila melanogaster OX=7227 GN=14-3-3epsilon PE=1 SV=2\t1.95e-149\r\n",
      "CHOYP_1433E.2.2|m.63378\tsp|Q6MG82|PRRT1_RAT Proline-rich transmembrane protein 1 OS=Rattus norvegicus OX=10116 GN=Prrt1 PE=1 SV=2\t1.84e-18\r\n",
      "CHOYP_1433G.1.2|m.8906\tsp|Q1HR36|1433Z_AEDAE 14-3-3 protein zeta OS=Aedes aegypti OX=7159 GN=14-3-3zeta PE=2 SV=1\t1.90e-67\r\n",
      "CHOYP_1433G.2.2|m.63451\tsp|Q4R979|RBM4_MACFA RNA-binding protein 4 OS=Macaca fascicularis OX=9541 GN=RBM4 PE=2 SV=1\t1.84e-33\r\n"
     ]
    }
   ],
   "source": [
    "!cat analyses/Cgigaton_sprot_name.blastout > analyses/Cgigaton_sprot_name.sorted\n",
    "!head analyses/Cgigaton_sprot_name.sorted"
   ]
  },
  {
   "cell_type": "code",
   "execution_count": 11,
   "metadata": {
    "ExecuteTime": {
     "end_time": "2019-04-07T00:05:03.060401Z",
     "start_time": "2019-04-07T00:05:02.823191Z"
    }
   },
   "outputs": [],
   "source": [
    "#joining files \n",
    "!join -t $'\\t' \\\n",
    "analyses/Cgseed-protcomp-annotation.tab \\\n",
    "analyses/Cgigaton_sprot_name.sorted \\\n",
    "| awk -F'\\t' -v OFS='\\t' '{print $1, $2, $3, $4, $5, $7, $8}' \\\n",
    "> analyses/Cgseed-protcomp-annotation-name.tab"
   ]
  },
  {
   "cell_type": "code",
   "execution_count": 12,
   "metadata": {
    "ExecuteTime": {
     "end_time": "2019-04-07T00:05:12.926302Z",
     "start_time": "2019-04-07T00:05:12.796438Z"
    }
   },
   "outputs": [
    {
     "name": "stdout",
     "output_type": "stream",
     "text": [
      "    2276 analyses/Cgseed-protcomp-annotation-name.tab\r\n"
     ]
    }
   ],
   "source": [
    "!wc -l analyses/Cgseed-protcomp-annotation-name.tab"
   ]
  },
  {
   "cell_type": "code",
   "execution_count": 13,
   "metadata": {
    "ExecuteTime": {
     "end_time": "2019-04-07T00:07:09.995323Z",
     "start_time": "2019-04-07T00:07:09.868569Z"
    }
   },
   "outputs": [
    {
     "name": "stdout",
     "output_type": "stream",
     "text": [
      "CHOYP_1433Z.1.1|m.17045\t23C-29C\t0.335394816499807\tQ2F637\t1433Z_BOMMO\tsp|Q2F637|1433Z_BOMMO 14-3-3 protein zeta OS=Bombyx mori OX=7091 GN=14-3-3zeta PE=2 SV=2\t6.22e-107\r\n",
      "CHOYP_2AAA.1.1|m.13306\t23C-29C\t0.23501091241549\tP54612\t2AAA_PIG\tsp|P54612|2AAA_PIG Serine/threonine-protein phosphatase 2A 65 kDa regulatory subunit A alpha isoform OS=Sus scrofa OX=9823 GN=PPP2R1A PE=2 SV=2\t0.0\r\n",
      "CHOYP_4EBP1.1.1|m.12045\t23C-29C\t-1.1862494965682\tQ13541\t4EBP1_HUMAN\tsp|Q13541|4EBP1_HUMAN Eukaryotic translation initiation factor 4E-binding protein 1 OS=Homo sapiens OX=9606 GN=EIF4EBP1 PE=1 SV=3\t9.58e-34\r\n",
      "CHOYP_A2M.2.3|m.54214\t23C-29C\t-0.509200080657486\tP20742\tPZP_HUMAN\tsp|P20742|PZP_HUMAN Pregnancy zone protein OS=Homo sapiens OX=9606 GN=PZP PE=1 SV=4\t0.0\r\n",
      "CHOYP_AAAD.2.4|m.28999\t23C-29C\t0.665713958804094\tQ0P5B7\tAAAD_BOVIN\tsp|Q0P5B7|AAAD_BOVIN Arylacetamide deacetylase OS=Bos taurus OX=9913 GN=AADAC PE=2 SV=1\t4.61e-70\r\n",
      "CHOYP_AACS.1.1|m.66267\t23C-29C\t-0.605920152483842\tQ28BL6\tAACS_XENTR\tsp|Q28BL6|AACS_XENTR Acetoacetyl-CoA synthetase OS=Xenopus tropicalis OX=8364 GN=aacs PE=2 SV=1\t0.0\r\n",
      "CHOYP_AADAT.1.1|m.12672\t23C-29C\t0.689727619844991\tQ8N5Z0\tAADAT_HUMAN\tsp|Q8N5Z0|AADAT_HUMAN Kynurenine/alpha-aminoadipate aminotransferase, mitochondrial OS=Homo sapiens OX=9606 GN=AADAT PE=1 SV=2\t1.34e-164\r\n",
      "CHOYP_AAEL_AAEL003539.1.1|m.16620\t23C-29C\t-0.544664401301691\tQ8BHJ5\tTBL1R_MOUSE\tsp|Q8BHJ5|TBL1R_MOUSE F-box-like/WD repeat-containing protein TBL1XR1 OS=Mus musculus OX=10090 GN=Tbl1xr1 PE=1 SV=1\t0.0\r\n",
      "CHOYP_AAEL_AAEL005197.1.1|m.59507\t23C-29C\t-0.812897008921269\tQ9HB90\tRRAGC_HUMAN\tsp|Q9HB90|RRAGC_HUMAN Ras-related GTP-binding protein C OS=Homo sapiens OX=9606 GN=RRAGC PE=1 SV=1\t2.41e-172\r\n",
      "CHOYP_AAEL_AAEL005639.1.1|m.10386\t23C-29C\t-4.82102460514497\tQ9BV94\tEDEM2_HUMAN\tsp|Q9BV94|EDEM2_HUMAN ER degradation-enhancing alpha-mannosidase-like protein 2 OS=Homo sapiens OX=9606 GN=EDEM2 PE=1 SV=2\t0.0\r\n"
     ]
    }
   ],
   "source": [
    "!head analyses/Cgseed-protcomp-annotation-name.tab"
   ]
  },
  {
   "cell_type": "code",
   "execution_count": 16,
   "metadata": {
    "ExecuteTime": {
     "end_time": "2019-04-07T00:09:03.516437Z",
     "start_time": "2019-04-07T00:09:03.349634Z"
    }
   },
   "outputs": [
    {
     "name": "stdout",
     "output_type": "stream",
     "text": [
      "CHOYP_CCDC146.1.1|m.11347\t23C-29C\t-6.80617243580348\tQ8IYE0\tCC146_HUMAN\tsp|Q8IYE0|CC146_HUMAN Coiled-coil domain-containing protein 146 OS=Homo sapiens OX=9606 GN=CCDC146 PE=1 SV=2\t0.0\r\n",
      "CHOYP_AAEL_AAEL005639.1.1|m.10386\t23C-29C\t-4.82102460514497\tQ9BV94\tEDEM2_HUMAN\tsp|Q9BV94|EDEM2_HUMAN ER degradation-enhancing alpha-mannosidase-like protein 2 OS=Homo sapiens OX=9606 GN=EDEM2 PE=1 SV=2\t0.0\r\n",
      "CHOYP_PCCB.2.2|m.62988\t23C-29C\t-4.43731576518277\tP05166\tPCCB_HUMAN\tsp|P05166|PCCB_HUMAN Propionyl-CoA carboxylase beta chain, mitochondrial OS=Homo sapiens OX=9606 GN=PCCB PE=1 SV=3\t0.0\r\n",
      "CHOYP_BRAFLDRAFT_120058.1.1|m.9895\t23C-29C\t-4.35886178063794\tQ8WWB3\tDYDC1_HUMAN\tsp|Q8WWB3|DYDC1_HUMAN DPY30 domain-containing protein 1 OS=Homo sapiens OX=9606 GN=DYDC1 PE=1 SV=1\t8.57e-20\r\n",
      "CHOYP_LRRF2.2.2|m.40846\t23C-29C\t-4.00727332463592\tQ2T9W6\tLRRF2_BOVIN\tsp|Q2T9W6|LRRF2_BOVIN Leucine-rich repeat flightless-interacting protein 2 OS=Bos taurus OX=9913 GN=LRRFIP2 PE=2 SV=1\t3.63e-81\r\n",
      "CHOYP_BRAFLDRAFT_126379.1.3|m.5102\t23C-29C\t-3.73314389144942\tA2VDD2\tTC1DB_XENLA\tsp|A2VDD2|TC1DB_XENLA Tctex1 domain-containing protein 1-B (Fragment) OS=Xenopus laevis OX=8355 GN=tctex1d1-b PE=2 SV=1\t1.09e-17\r\n",
      "CHOYP_BRAFLDRAFT_265162.1.3|m.58969\t23C-29C\t-3.46636807954102\tQ5EAR5\tTRPT1_DANRE\tsp|Q5EAR5|TRPT1_DANRE tRNA 2'-phosphotransferase 1 OS=Danio rerio OX=7955 GN=trpt1 PE=2 SV=2\t3.11e-62\r\n",
      "CHOYP_LOC100377780.8.11|m.53259\t23C-29C\t-3.34507255680141\tQ53G44\tIF44L_HUMAN\tsp|Q53G44|IF44L_HUMAN Interferon-induced protein 44-like OS=Homo sapiens OX=9606 GN=IFI44L PE=2 SV=3\t9.13e-41\r\n",
      "CHOYP_LOC100890099.1.1|m.11505\t23C-29C\t-3.22952859428152\tP53486\tACTB3_TAKRU\tsp|P53486|ACTB3_TAKRU Actin, cytoplasmic 3 OS=Takifugu rubripes OX=31033 GN=actbc PE=2 SV=1\t2.99e-166\r\n",
      "CHOYP_LOC100748625.1.1|m.24479\t23C-29C\t-3.2195789591241\tQ9JIH2\tNUP50_MOUSE\tsp|Q9JIH2|NUP50_MOUSE Nuclear pore complex protein Nup50 OS=Mus musculus OX=10090 GN=Nup50 PE=1 SV=3\t1.35e-37\r\n",
      "sort: Broken pipe\r\n"
     ]
    }
   ],
   "source": [
    "cat analyses/Cgseed-protcomp-annotation-name.tab | sort -g -k 3 | head"
   ]
  },
  {
   "cell_type": "code",
   "execution_count": 17,
   "metadata": {
    "ExecuteTime": {
     "end_time": "2019-04-07T00:09:19.790213Z",
     "start_time": "2019-04-07T00:09:19.609601Z"
    }
   },
   "outputs": [
    {
     "name": "stdout",
     "output_type": "stream",
     "text": [
      "CHOYP_DS.1.1|m.62106\t23C-29C\t2.64058170896369\tQ24292\tDS_DROME\tsp|Q24292|DS_DROME Protein dachsous OS=Drosophila melanogaster OX=7227 GN=ds PE=1 SV=3\t0.0\r\n",
      "CHOYP_LOC100378619.2.2|m.36047\t23C-29C\t2.71093822275322\tQ8N9Z9\tLMTD1_HUMAN\tsp|Q8N9Z9|LMTD1_HUMAN Lamin tail domain-containing protein 1 OS=Homo sapiens OX=9606 GN=LMNTD1 PE=2 SV=2\t6.50e-40\r\n",
      "CHOYP_FAIM1.1.1|m.36651\t23C-29C\t2.74126935359315\tQ0IIF6\tFAIM1_BOVIN\tsp|Q0IIF6|FAIM1_BOVIN Fas apoptotic inhibitory molecule 1 OS=Bos taurus OX=9913 GN=FAIM PE=2 SV=1\t8.46e-81\r\n",
      "CHOYP_CLK2.1.1|m.3082\t23C-29C\t2.79615673039275\tQ91ZA3\tPCCA_MOUSE\tsp|Q91ZA3|PCCA_MOUSE Propionyl-CoA carboxylase alpha chain, mitochondrial OS=Mus musculus OX=10090 GN=Pcca PE=1 SV=2\t9.50e-156\r\n",
      "CHOYP_NCBP2.1.1|m.60410\t23C-29C\t2.91829504313985\tB4KCD5\tNCBP2_DROMO\tsp|B4KCD5|NCBP2_DROMO Nuclear cap-binding protein subunit 2 OS=Drosophila mojavensis OX=7230 GN=Cbp20 PE=3 SV=1\t7.65e-86\r\n",
      "CHOYP_LOC100208382.1.1|m.12145\t23C-29C\t3.06964604803267\tP02595\tCALM_PATSP\tsp|P02595|CALM_PATSP Calmodulin OS=Patinopecten sp. OX=6574 PE=1 SV=2\t2.01e-22\r\n",
      "CHOYP_GLOD5.1.1|m.25831\t23C-29C\t3.10869924458214\tQ502D1\tGLOD5_DANRE\tsp|Q502D1|GLOD5_DANRE Glyoxalase domain-containing protein 5 OS=Danio rerio OX=7955 GN=glod5 PE=2 SV=1\t2.00e-61\r\n",
      "CHOYP_CBR1.1.1|m.62756\t23C-29C\t3.45577173163149\tQ8K354\tCBR3_MOUSE\tsp|Q8K354|CBR3_MOUSE Carbonyl reductase [NADPH] 3 OS=Mus musculus OX=10090 GN=Cbr3 PE=1 SV=1\t3.73e-67\r\n",
      "CHOYP_contig_027593|m.31285\t23C-29C\t3.49679312869811\tO42350\tCO1A2_LITCT\tsp|O42350|CO1A2_LITCT Collagen alpha-2(I) chain OS=Lithobates catesbeiana OX=8400 GN=COL1A2 PE=2 SV=1\t1.45e-146\r\n",
      "CHOYP_HS90A.2.3|m.21992\t23C-29C\t3.57946238636119\tQ90474\tH90A1_DANRE\tsp|Q90474|H90A1_DANRE Heat shock protein HSP 90-alpha 1 OS=Danio rerio OX=7955 GN=hsp90a.1 PE=1 SV=3\t0.0\r\n"
     ]
    }
   ],
   "source": [
    "cat analyses/Cgseed-protcomp-annotation-name.tab | sort -g -k 3 | tail"
   ]
  },
  {
   "cell_type": "code",
   "execution_count": 18,
   "metadata": {
    "ExecuteTime": {
     "end_time": "2019-04-07T00:09:58.544836Z",
     "start_time": "2019-04-07T00:09:58.379399Z"
    }
   },
   "outputs": [],
   "source": [
    "cat analyses/Cgseed-protcomp-annotation-name.tab | sort -g -k 3 > analyses/Cgseed-protcomp-annotation-name.sorted"
   ]
  },
  {
   "cell_type": "code",
   "execution_count": null,
   "metadata": {},
   "outputs": [],
   "source": []
  }
 ],
 "metadata": {
  "kernelspec": {
   "display_name": "Python 3",
   "language": "python",
   "name": "python3"
  },
  "language_info": {
   "codemirror_mode": {
    "name": "ipython",
    "version": 3
   },
   "file_extension": ".py",
   "mimetype": "text/x-python",
   "name": "python",
   "nbconvert_exporter": "python",
   "pygments_lexer": "ipython3",
   "version": "3.6.8"
  }
 },
 "nbformat": 4,
 "nbformat_minor": 2
}
