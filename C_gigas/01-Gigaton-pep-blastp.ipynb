{
 "cells": [
  {
   "cell_type": "markdown",
   "metadata": {
    "deletable": true,
    "editable": true
   },
   "source": [
    "## Annotating Gigaton Proteins"
   ]
  },
  {
   "cell_type": "code",
   "execution_count": 1,
   "metadata": {
    "collapsed": false
   },
   "outputs": [
    {
     "name": "stdout",
     "output_type": "stream",
     "text": [
      "--2019-04-04 07:28:30--  ftp://ftp.uniprot.org/pub/databases/uniprot/current_release/knowledgebase/complete/uniprot_sprot.fasta.gz\n",
      "           => ‘data/uniprot_sprot.fasta.gz’\n",
      "Resolving ftp.uniprot.org (ftp.uniprot.org)... 141.161.180.197\n",
      "Connecting to ftp.uniprot.org (ftp.uniprot.org)|141.161.180.197|:21... connected.\n",
      "Logging in as anonymous ... Logged in!\n",
      "==> SYST ... done.    ==> PWD ... done.\n",
      "==> TYPE I ... done.  ==> CWD (1) /pub/databases/uniprot/current_release/knowledgebase/complete ... done.\n",
      "==> SIZE uniprot_sprot.fasta.gz ... 88408361\n",
      "==> PASV ... done.    ==> RETR uniprot_sprot.fasta.gz ... done.\n",
      "Length: 88408361 (84M) (unauthoritative)\n",
      "\n",
      "uniprot_sprot.fasta 100%[===================>]  84.31M  2.86MB/s    in 26s     \n",
      "\n",
      "2019-04-04 07:28:57 (3.28 MB/s) - ‘data/uniprot_sprot.fasta.gz’ saved [88408361]\n",
      "\n"
     ]
    }
   ],
   "source": [
    "!wget ftp://ftp.uniprot.org/pub/databases/uniprot/current_release/knowledgebase/complete/uniprot_sprot.fasta.gz \\\n",
    "-O data/uniprot_sprot.fasta.gz"
   ]
  },
  {
   "cell_type": "code",
   "execution_count": 3,
   "metadata": {
    "collapsed": true
   },
   "outputs": [],
   "source": [
    "!gunzip data/uniprot_sprot.fasta.gz"
   ]
  },
  {
   "cell_type": "code",
   "execution_count": 4,
   "metadata": {
    "collapsed": false
   },
   "outputs": [
    {
     "name": "stdout",
     "output_type": "stream",
     "text": [
      "\n",
      "\n",
      "Building a new DB, current time: 04/04/2019 07:30:29\n",
      "New DB name:   /Users/sr320/git-repos/nb-2019/C_gigas/data/uniprot_sprot\n",
      "New DB title:  data/uniprot_sprot.fasta\n",
      "Sequence type: Protein\n",
      "Keep MBits: T\n",
      "Maximum file size: 1000000000B\n",
      "Adding sequences from FASTA; added 559228 sequences in 33.7017 seconds.\n"
     ]
    }
   ],
   "source": [
    "!/Applications/bioinfo/ncbi-blast-2.5.0\\+/bin/makeblastdb \\\n",
    "-in data/uniprot_sprot.fasta \\\n",
    "-dbtype prot \\\n",
    "-out data/uniprot_sprot"
   ]
  },
  {
   "cell_type": "code",
   "execution_count": 5,
   "metadata": {
    "collapsed": true,
    "deletable": true,
    "editable": true
   },
   "outputs": [],
   "source": [
    "!/Applications/bioinfo/ncbi-blast-2.5.0\\+/bin/blastp \\\n",
    "-query data/Cg_Giga_cont_prtc_AA.fasta \\\n",
    "-db data/uniprot_sprot \\\n",
    "-max_target_seqs 1 \\\n",
    "-max_hsps 1 \\\n",
    "-evalue 1E-10 \\\n",
    "-outfmt 6 \\\n",
    "-num_threads 8 \\\n",
    "-out analyses/Cgigaton_sprot.blastout"
   ]
  },
  {
   "cell_type": "code",
   "execution_count": 7,
   "metadata": {
    "collapsed": false
   },
   "outputs": [
    {
     "name": "stdout",
     "output_type": "stream",
     "text": [
      "   23163 analyses/Cgigaton_sprot.blastout\r\n"
     ]
    }
   ],
   "source": [
    "!wc -l analyses/Cgigaton_sprot.blastout\n"
   ]
  },
  {
   "cell_type": "code",
   "execution_count": null,
   "metadata": {
    "collapsed": true
   },
   "outputs": [],
   "source": []
  }
 ],
 "metadata": {
  "kernelspec": {
   "display_name": "Python 2",
   "language": "python",
   "name": "python2"
  },
  "language_info": {
   "codemirror_mode": {
    "name": "ipython",
    "version": 2
   },
   "file_extension": ".py",
   "mimetype": "text/x-python",
   "name": "python",
   "nbconvert_exporter": "python",
   "pygments_lexer": "ipython2",
   "version": "2.7.12"
  }
 },
 "nbformat": 4,
 "nbformat_minor": 2
}
