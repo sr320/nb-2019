{
 "cells": [
  {
   "cell_type": "code",
   "execution_count": 11,
   "metadata": {
    "ExecuteTime": {
     "end_time": "2019-04-17T13:31:25.416229Z",
     "start_time": "2019-04-17T13:31:25.154958Z"
    }
   },
   "outputs": [],
   "source": [
    "!cat data/Cg-temp-develop-series.txt | sort  | \\\n",
    "sed 's/.m/|m/g' > data/Cg-temp-develop-series.sorted"
   ]
  },
  {
   "cell_type": "code",
   "execution_count": 12,
   "metadata": {
    "ExecuteTime": {
     "end_time": "2019-04-17T13:31:25.860435Z",
     "start_time": "2019-04-17T13:31:25.726558Z"
    }
   },
   "outputs": [
    {
     "name": "stdout",
     "output_type": "stream",
     "text": [
      "ALBU_BOVIN\r\n",
      "CAS1_BOVIN\r\n",
      "CHOYP_14332.1.2|m.5643\r\n",
      "CHOYP_14332.2.2|m.61737\r\n",
      "CHOYP_1433E.1.2|m.3638\r\n",
      "CHOYP_1433G.2.2|m.63450\r\n",
      "CHOYP_1433G.2.2|m.63451\r\n",
      "CHOYP_1433Z.1.1|m.17045\r\n",
      "CHOYP_2A5D.2.3|m.32240\r\n",
      "CHOYP_2A5D.3.3|m.37716\r\n"
     ]
    }
   ],
   "source": [
    "!head data/Cg-temp-develop-series.sorted"
   ]
  },
  {
   "cell_type": "code",
   "execution_count": 6,
   "metadata": {
    "ExecuteTime": {
     "end_time": "2019-04-17T13:28:19.716996Z",
     "start_time": "2019-04-17T13:28:19.583521Z"
    }
   },
   "outputs": [
    {
     "name": "stdout",
     "output_type": "stream",
     "text": [
      "CHOYP_043R.5.5|m.64252\tQ06852\tSLAP1_CLOTH\t2.02E-16\r\n",
      "CHOYP_14332.1.2|m.5643\tQ2F637\t1433Z_BOMMO\t2.78E-119\r\n",
      "CHOYP_14332.1.2|m.5644\tP62325\tBTG1_MOUSE\t2.22E-47\r\n",
      "CHOYP_14332.2.2|m.61737\tQ2F637\t1433Z_BOMMO\t4.22E-119\r\n",
      "CHOYP_1433E.1.2|m.3638\tP92177\t1433E_DROME\t1.95E-149\r\n",
      "CHOYP_1433E.1.2|m.3639\tQ9CWP8\tDPOD4_MOUSE\t9.73E-19\r\n",
      "CHOYP_1433E.2.2|m.63376\tP92177\t1433E_DROME\t1.95E-149\r\n",
      "CHOYP_1433E.2.2|m.63378\tQ6MG82\tPRRT1_RAT\t1.84E-18\r\n",
      "CHOYP_1433G.1.2|m.8906\tQ1HR36\t1433Z_AEDAE\t1.90E-67\r\n",
      "CHOYP_1433G.2.2|m.63450\tP68252\t1433G_BOVIN\t8.00E-99\r\n"
     ]
    }
   ],
   "source": [
    "!head analyses/Cgigaton_sprot.sorted"
   ]
  },
  {
   "cell_type": "code",
   "execution_count": 15,
   "metadata": {
    "ExecuteTime": {
     "end_time": "2019-04-17T13:33:43.364173Z",
     "start_time": "2019-04-17T13:33:43.002040Z"
    }
   },
   "outputs": [
    {
     "name": "stdout",
     "output_type": "stream",
     "text": [
      "CHOYP_14332.1.2|m.5643\tQ2F637\t1433Z_BOMMO\t2.78E-119\r\n",
      "CHOYP_14332.2.2|m.61737\tQ2F637\t1433Z_BOMMO\t4.22E-119\r\n",
      "CHOYP_1433E.1.2|m.3638\tP92177\t1433E_DROME\t1.95E-149\r\n",
      "CHOYP_1433G.2.2|m.63450\tP68252\t1433G_BOVIN\t8.00E-99\r\n",
      "CHOYP_1433G.2.2|m.63451\tQ4R979\tRBM4_MACFA\t1.84E-33\r\n",
      "CHOYP_1433Z.1.1|m.17045\tQ2F637\t1433Z_BOMMO\t6.22E-107\r\n",
      "CHOYP_2A5D.2.3|m.32240\tQ14738\t2A5D_HUMAN\t0\r\n",
      "CHOYP_2A5D.3.3|m.37716\tQ14738\t2A5D_HUMAN\t0\r\n",
      "CHOYP_2AAA.1.1|m.13306\tP54612\t2AAA_PIG\t0\r\n",
      "CHOYP_2AAA.1.1|m.13307\tP54612\t2AAA_PIG\t0\r\n"
     ]
    }
   ],
   "source": [
    "#joining files \n",
    "!join -t $'\\t' \\\n",
    "data/Cg-temp-develop-series.sorted \\\n",
    "analyses/Cgigaton_sprot.sorted \\\n",
    "> analyses/Cgseed-dev-series-annotation.tab\n",
    "!head analyses/Cgseed-dev-series-annotation.tab"
   ]
  },
  {
   "cell_type": "code",
   "execution_count": 17,
   "metadata": {
    "ExecuteTime": {
     "end_time": "2019-04-17T13:39:03.673372Z",
     "start_time": "2019-04-17T13:39:03.104181Z"
    }
   },
   "outputs": [
    {
     "name": "stdout",
     "output_type": "stream",
     "text": [
      "  % Total    % Received % Xferd  Average Speed   Time    Time     Time  Current\n",
      "                                 Dload  Upload   Total   Spent    Left  Speed\n",
      "100 64416    0 64416    0     0   148k      0 --:--:-- --:--:-- --:--:--  147k\n"
     ]
    }
   ],
   "source": [
    "!curl -O https://david.ncifcrf.gov/data/download/chart_64C19E3064CC1555507890838.txt"
   ]
  },
  {
   "cell_type": "code",
   "execution_count": null,
   "metadata": {},
   "outputs": [],
   "source": []
  }
 ],
 "metadata": {
  "kernelspec": {
   "display_name": "Python 3",
   "language": "python",
   "name": "python3"
  },
  "language_info": {
   "codemirror_mode": {
    "name": "ipython",
    "version": 3
   },
   "file_extension": ".py",
   "mimetype": "text/x-python",
   "name": "python",
   "nbconvert_exporter": "python",
   "pygments_lexer": "ipython3",
   "version": "3.6.8"
  }
 },
 "nbformat": 4,
 "nbformat_minor": 2
}
