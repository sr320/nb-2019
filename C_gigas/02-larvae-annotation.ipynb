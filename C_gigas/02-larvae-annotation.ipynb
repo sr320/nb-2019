{
 "cells": [
  {
   "cell_type": "code",
   "execution_count": 10,
   "metadata": {
    "ExecuteTime": {
     "end_time": "2019-04-05T14:19:30.299718Z",
     "start_time": "2019-04-05T14:19:30.172242Z"
    }
   },
   "outputs": [
    {
     "name": "stdout",
     "output_type": "stream",
     "text": [
      "CHOYP_043R.5.5|m.64252\tsp|Q06852|SLAP1_CLOTH\t52.381\t294\t80\t24\t575\t816\t1351\t1636\t2.02e-16\t88.2\r\n",
      "CHOYP_14332.1.2|m.5643\tsp|Q2F637|1433Z_BOMMO\t66.031\t262\t74\t2\t19\t280\t1\t247\t2.78e-119\t344\r\n",
      "CHOYP_14332.1.2|m.5644\tsp|P62325|BTG1_MOUSE\t47.205\t161\t80\t2\t1\t156\t11\t171\t2.22e-47\t155\r\n",
      "CHOYP_14332.2.2|m.61737\tsp|Q2F637|1433Z_BOMMO\t67.331\t251\t78\t1\t1\t251\t1\t247\t4.22e-119\t342\r\n",
      "CHOYP_1433E.1.2|m.3639\tsp|Q9CWP8|DPOD4_MOUSE\t38.235\t102\t61\t2\t30\t130\t7\t107\t9.73e-19\t78.6\r\n",
      "CHOYP_1433E.1.2|m.3638\tsp|P92177|1433E_DROME\t77.692\t260\t53\t1\t1\t255\t1\t260\t1.95e-149\t420\r\n",
      "CHOYP_1433E.2.2|m.63376\tsp|P92177|1433E_DROME\t77.692\t260\t53\t1\t1\t255\t1\t260\t1.95e-149\t420\r\n",
      "CHOYP_1433E.2.2|m.63378\tsp|Q6MG82|PRRT1_RAT\t44.444\t99\t53\t1\t41\t137\t196\t294\t1.84e-18\t82.8\r\n",
      "CHOYP_1433G.1.2|m.8906\tsp|Q1HR36|1433Z_AEDAE\t72.180\t133\t37\t0\t18\t150\t116\t248\t1.90e-67\t207\r\n",
      "CHOYP_1433G.2.2|m.63451\tsp|Q4R979|RBM4_MACFA\t43.571\t140\t75\t2\t10\t146\t69\t207\t1.84e-33\t127\r\n"
     ]
    }
   ],
   "source": [
    "!head analyses/Cgigaton_sprot.blastout"
   ]
  },
  {
   "cell_type": "code",
   "execution_count": 30,
   "metadata": {
    "ExecuteTime": {
     "end_time": "2019-04-05T14:33:48.024801Z",
     "start_time": "2019-04-05T14:33:47.502032Z"
    }
   },
   "outputs": [
    {
     "name": "stdout",
     "output_type": "stream",
     "text": [
      "CHOYP_043R.5.5|m.64252\tQ06852\tSLAP1_CLOTH\t2.02E-16\r\n",
      "CHOYP_14332.1.2|m.5643\tQ2F637\t1433Z_BOMMO\t2.78E-119\r\n",
      "CHOYP_14332.1.2|m.5644\tP62325\tBTG1_MOUSE\t2.22E-47\r\n",
      "CHOYP_14332.2.2|m.61737\tQ2F637\t1433Z_BOMMO\t4.22E-119\r\n",
      "CHOYP_1433E.1.2|m.3638\tP92177\t1433E_DROME\t1.95E-149\r\n",
      "CHOYP_1433E.1.2|m.3639\tQ9CWP8\tDPOD4_MOUSE\t9.73E-19\r\n",
      "CHOYP_1433E.2.2|m.63376\tP92177\t1433E_DROME\t1.95E-149\r\n",
      "CHOYP_1433E.2.2|m.63378\tQ6MG82\tPRRT1_RAT\t1.84E-18\r\n",
      "CHOYP_1433G.1.2|m.8906\tQ1HR36\t1433Z_AEDAE\t1.90E-67\r\n",
      "CHOYP_1433G.2.2|m.63450\tP68252\t1433G_BOVIN\t8.00E-99\r\n"
     ]
    }
   ],
   "source": [
    "!cat analyses/Cgigaton_sprot.txt \\\n",
    "| sort > analyses/Cgigaton_sprot.sorted\n",
    "!head analyses/Cgigaton_sprot.sorted"
   ]
  },
  {
   "cell_type": "code",
   "execution_count": 2,
   "metadata": {
    "ExecuteTime": {
     "end_time": "2019-04-05T14:15:03.007502Z",
     "start_time": "2019-04-05T14:15:02.878670Z"
    }
   },
   "outputs": [
    {
     "name": "stdout",
     "output_type": "stream",
     "text": [
      "\"Protein\",\"Label\",\"log2FC\",\"SE\",\"Tvalue\",\"DF\",\"pvalue\",\"adj.pvalue\",\"issue\",\"MissingPercentage\",\"ImputationPercentage\"\r\n",
      "\"CHOYP_1433E.1.2|m.3638\",\"23C-29C\",0.20201735498334,0.350608753301223,0.576190277855893,8,0.58033085335551,0.87802607957783,NA,0.75,0.5\r\n",
      "\"CHOYP_1433G.2.2|m.63450\",\"23C-29C\",-0.0136646753521461,0.159946112327554,-0.0854329946085978,12,0.933326024391637,0.986693320597668,NA,0.75,0.75\r\n",
      "\"CHOYP_1433Z.1.1|m.17045\",\"23C-29C\",0.335394816499807,0.725462631616861,0.462318528732903,12,0.652123118167097,0.901451791414952,NA,0.717105263157895,0.717105263157895\r\n",
      "\"CHOYP_2AAA.1.1|m.13306\",\"23C-29C\",0.23501091241549,0.469517358933068,0.500537217515299,8,0.630174372853334,0.899925258448609,NA,0.75,0.5\r\n",
      "\"CHOYP_4EBP1.1.1|m.12045\",\"23C-29C\",-1.1862494965682,0.515231743292566,-2.30236104822952,1,0.26085641529694,0.793903773221917,NA,0.75,0\r\n",
      "\"CHOYP_A2M.2.3|m.54214\",\"23C-29C\",-0.509200080657486,0.0844954135907866,-6.02636355061299,1,0.10468523483693,0.779210870341361,NA,0.75,0\r\n",
      "\"CHOYP_A4.3.3|m.22262\",\"23C-29C\",-0.749915192464954,0.7189772941377,-1.04303042471509,4,0.355822019196463,0.798751792124778,NA,0.75,0.25\r\n",
      "\"CHOYP_AAAD.2.4|m.28999\",\"23C-29C\",0.665713958804094,0.829967428856466,0.802096486751678,1,0.569633586748527,0.877435107850004,NA,0.75,0\r\n",
      "\"CHOYP_AACS.1.1|m.66267\",\"23C-29C\",-0.605920152483842,0.479174729408632,-1.26450773652365,8,0.241641328407404,0.788087039158866,NA,0.645833333333333,0.395833333333333\r\n"
     ]
    }
   ],
   "source": [
    "!head data/20190403-2015Cgseed-protcomp.csv"
   ]
  },
  {
   "cell_type": "code",
   "execution_count": 27,
   "metadata": {
    "ExecuteTime": {
     "end_time": "2019-04-05T14:32:53.306500Z",
     "start_time": "2019-04-05T14:32:53.082128Z"
    }
   },
   "outputs": [],
   "source": [
    "!cat data/20190403-2015Cgseed-protcomp.csv | tr ',' \"\\t\" \\\n",
    "| sed 's/\"//g' \\\n",
    "| tail -n +2 \\\n",
    "| sort \\\n",
    "> analyses/20190403-2015Cgseed-protcomp.tab"
   ]
  },
  {
   "cell_type": "code",
   "execution_count": 26,
   "metadata": {
    "ExecuteTime": {
     "end_time": "2019-04-05T14:32:45.679571Z",
     "start_time": "2019-04-05T14:32:45.553585Z"
    }
   },
   "outputs": [
    {
     "name": "stdout",
     "output_type": "stream",
     "text": [
      "CHOYP_1433E.1.2|m.3638\t23C-29C\t0.20201735498334\t0.350608753301223\t0.576190277855893\t8\t0.58033085335551\t0.87802607957783\tNA\t0.75\t0.5\r\n",
      "CHOYP_1433G.2.2|m.63450\t23C-29C\t-0.0136646753521461\t0.159946112327554\t-0.0854329946085978\t12\t0.933326024391637\t0.986693320597668\tNA\t0.75\t0.75\r\n",
      "CHOYP_1433Z.1.1|m.17045\t23C-29C\t0.335394816499807\t0.725462631616861\t0.462318528732903\t12\t0.652123118167097\t0.901451791414952\tNA\t0.717105263157895\t0.717105263157895\r\n",
      "CHOYP_2AAA.1.1|m.13306\t23C-29C\t0.23501091241549\t0.469517358933068\t0.500537217515299\t8\t0.630174372853334\t0.899925258448609\tNA\t0.75\t0.5\r\n",
      "CHOYP_4EBP1.1.1|m.12045\t23C-29C\t-1.1862494965682\t0.515231743292566\t-2.30236104822952\t1\t0.26085641529694\t0.793903773221917\tNA\t0.75\t0\r\n",
      "CHOYP_A2M.2.3|m.54214\t23C-29C\t-0.509200080657486\t0.0844954135907866\t-6.02636355061299\t1\t0.10468523483693\t0.779210870341361\tNA\t0.75\t0\r\n",
      "CHOYP_A4.3.3|m.22262\t23C-29C\t-0.749915192464954\t0.7189772941377\t-1.04303042471509\t4\t0.355822019196463\t0.798751792124778\tNA\t0.75\t0.25\r\n",
      "CHOYP_AAAD.2.4|m.28999\t23C-29C\t0.665713958804094\t0.829967428856466\t0.802096486751678\t1\t0.569633586748527\t0.877435107850004\tNA\t0.75\t0\r\n",
      "CHOYP_AACS.1.1|m.66267\t23C-29C\t-0.605920152483842\t0.479174729408632\t-1.26450773652365\t8\t0.241641328407404\t0.788087039158866\tNA\t0.645833333333333\t0.395833333333333\r\n",
      "CHOYP_AADAT.1.1|m.12672\t23C-29C\t0.689727619844991\t0.123300267653179\t5.59388582825359\t1\t0.112616763512851\t0.781129361328546\tNA\t0.75\t0\r\n"
     ]
    }
   ],
   "source": [
    "!head analyses/20190403-2015Cgseed-protcomp.tab"
   ]
  },
  {
   "cell_type": "code",
   "execution_count": 36,
   "metadata": {
    "ExecuteTime": {
     "end_time": "2019-04-05T14:39:22.167513Z",
     "start_time": "2019-04-05T14:39:22.011128Z"
    }
   },
   "outputs": [
    {
     "name": "stdout",
     "output_type": "stream",
     "text": [
      "CHOYP_1433E.1.2|m.3638\t23C-29C\t0.20201735498334\tP92177\t1433E_DROME\t1.95E-149\r\n",
      "CHOYP_1433G.2.2|m.63450\t23C-29C\t-0.0136646753521461\tP68252\t1433G_BOVIN\t8.00E-99\r\n",
      "CHOYP_1433Z.1.1|m.17045\t23C-29C\t0.335394816499807\tQ2F637\t1433Z_BOMMO\t6.22E-107\r\n",
      "CHOYP_2AAA.1.1|m.13306\t23C-29C\t0.23501091241549\tP54612\t2AAA_PIG\t0\r\n",
      "CHOYP_4EBP1.1.1|m.12045\t23C-29C\t-1.1862494965682\tQ13541\t4EBP1_HUMAN\t9.58E-34\r\n",
      "CHOYP_A2M.2.3|m.54214\t23C-29C\t-0.509200080657486\tP20742\tPZP_HUMAN\t0\r\n",
      "CHOYP_A4.3.3|m.22262\t23C-29C\t-0.749915192464954\tQ8IWZ8\tSUGP1_HUMAN\t4.25E-107\r\n",
      "CHOYP_AAAD.2.4|m.28999\t23C-29C\t0.665713958804094\tQ0P5B7\tAAAD_BOVIN\t4.61E-70\r\n",
      "CHOYP_AACS.1.1|m.66267\t23C-29C\t-0.605920152483842\tQ28BL6\tAACS_XENTR\t0\r\n",
      "CHOYP_AADAT.1.1|m.12672\t23C-29C\t0.689727619844991\tQ8N5Z0\tAADAT_HUMAN\t1.34E-164\r\n",
      "awk: write error on /dev/stdout\r\n",
      " input record number 394, file \r\n",
      " source line number 1\r\n",
      "join: stdout: Broken pipe\r\n"
     ]
    }
   ],
   "source": [
    "#joining files \n",
    "!join -t $'\\t' \\\n",
    "analyses/20190403-2015Cgseed-protcomp.tab \\\n",
    "analyses/Cgigaton_sprot.sorted \\\n",
    "| awk -F'\\t' -v OFS='\\t' '{print $1, $2, $3, $12, $13, $14}' \\\n",
    "#> Blastquery-GOslim.tab"
   ]
  },
  {
   "cell_type": "code",
   "execution_count": null,
   "metadata": {},
   "outputs": [],
   "source": []
  }
 ],
 "metadata": {
  "kernelspec": {
   "display_name": "Python 3",
   "language": "python",
   "name": "python3"
  },
  "language_info": {
   "codemirror_mode": {
    "name": "ipython",
    "version": 3
   },
   "file_extension": ".py",
   "mimetype": "text/x-python",
   "name": "python",
   "nbconvert_exporter": "python",
   "pygments_lexer": "ipython3",
   "version": "3.6.8"
  }
 },
 "nbformat": 4,
 "nbformat_minor": 2
}
