{
 "cells": [
  {
   "cell_type": "code",
   "execution_count": 12,
   "metadata": {
    "ExecuteTime": {
     "end_time": "2019-08-21T16:34:08.261854Z",
     "start_time": "2019-08-21T16:34:07.588309Z"
    }
   },
   "outputs": [
    {
     "name": "stdout",
     "output_type": "stream",
     "text": [
      "--2019-08-21 09:34:07--  https://gannet.fish.washington.edu/Atumefaciens/20190228_pgen_maker_v070_annotation/blastp_annotation/blastp.outfmt6\n",
      "Resolving gannet.fish.washington.edu (gannet.fish.washington.edu)... 128.95.149.52\n",
      "Connecting to gannet.fish.washington.edu (gannet.fish.washington.edu)|128.95.149.52|:443... connected.\n",
      "HTTP request sent, awaiting response... 200 OK\n",
      "Length: 1973169 (1.9M)\n",
      "Saving to: ‘blastp.outfmt6’\n",
      "\n",
      "blastp.outfmt6      100%[===================>]   1.88M  4.29MB/s    in 0.4s    \n",
      "\n",
      "2019-08-21 09:34:08 (4.29 MB/s) - ‘blastp.outfmt6’ saved [1973169/1973169]\n",
      "\n"
     ]
    }
   ],
   "source": [
    "!wget https://gannet.fish.washington.edu/Atumefaciens/20190228_pgen_maker_v070_annotation/blastp_annotation/blastp.outfmt6"
   ]
  },
  {
   "cell_type": "code",
   "execution_count": 13,
   "metadata": {
    "ExecuteTime": {
     "end_time": "2019-08-21T16:34:08.974485Z",
     "start_time": "2019-08-21T16:34:08.843832Z"
    }
   },
   "outputs": [
    {
     "name": "stdout",
     "output_type": "stream",
     "text": [
      "01-Exploring-Genome-v070.ipynb      15-Big-Mystery-Scaffold.ipynb\r\n",
      "02-Exploring-early-070-maker.ipynb  16-v74-GO-Annotations.ipynb\r\n",
      "03-Simple-gene-track.ipynb          17-Coverage-IGV-v74.ipynb\r\n",
      "04-Genes-from-preMaker.ipynb        18-Downloading-BAMs.ipynb\r\n",
      "05-Joining-HP-gene-IDs.ipynb        19-v74-protein-info.ipynb\r\n",
      "06.ipynb                            50-methylkit.Rmd\r\n",
      "\u001b[34m065_bismark\u001b[m\u001b[m/                        \u001b[34manalyses\u001b[m\u001b[m/\r\n",
      "07-Gene-names-preMaker.ipynb        blastp.outfmt6\r\n",
      "10-Gene-Methylation.ipynb           \u001b[34mdata\u001b[m\u001b[m/\r\n",
      "11-genome-recip-blast.ipynb         \u001b[34migv\u001b[m\u001b[m/\r\n",
      "12-Exploring-HiC.ipynb              \u001b[34mimg\u001b[m\u001b[m/\r\n",
      "13-18scaffold-assembly.ipynb        \u001b[34mnotes\u001b[m\u001b[m/\r\n",
      "14-Bismark-v074.ipynb               \u001b[34mwd\u001b[m\u001b[m/\r\n"
     ]
    }
   ],
   "source": [
    "ls"
   ]
  },
  {
   "cell_type": "code",
   "execution_count": 14,
   "metadata": {
    "ExecuteTime": {
     "end_time": "2019-08-21T16:34:11.419085Z",
     "start_time": "2019-08-21T16:34:11.289166Z"
    }
   },
   "outputs": [],
   "source": [
    "!mv blastp.outfmt6 analyses/blastp_v074.outfmt6"
   ]
  },
  {
   "cell_type": "code",
   "execution_count": 15,
   "metadata": {
    "ExecuteTime": {
     "end_time": "2019-08-21T16:34:12.482911Z",
     "start_time": "2019-08-21T16:34:12.356263Z"
    }
   },
   "outputs": [
    {
     "name": "stdout",
     "output_type": "stream",
     "text": [
      "PGEN_00029322-RA\tsp|C1DFA8|ALLA_AZOVD\t36.364\t77\t47\t1\t115\t189\t70\t146\t1.75e-10\t60.8\r\n",
      "PGEN_00017666-RA\tsp|Q96MM6|HS12B_HUMAN\t32.416\t327\t132\t11\t2\t243\t46\t368\t1.06e-36\t139\r\n",
      "PGEN_00012223-RA\tsp|Q9GV41|PGFS_TRYBB\t43.529\t255\t139\t2\t7\t256\t2\t256\t1.67e-72\t226\r\n",
      "PGEN_00012222-RA\tsp|O14088|YER5_SCHPO\t41.304\t138\t79\t2\t39\t175\t102\t238\t8.39e-33\t120\r\n",
      "PGEN_00017404-RA\tsp|B1VDL1|SYDND_CORU7\t54.839\t62\t28\t0\t7\t68\t234\t295\t1.50e-17\t79.0\r\n",
      "PGEN_00033803-RA\tsp|Q9NYQ7|CELR3_HUMAN\t32.985\t479\t294\t13\t10\t473\t567\t1033\t2.41e-60\t217\r\n",
      "PGEN_00033803-RA\tsp|Q9NYQ7|CELR3_HUMAN\t31.687\t486\t308\t13\t1\t473\t664\t1138\t4.18e-57\t208\r\n",
      "PGEN_00033803-RA\tsp|Q9NYQ7|CELR3_HUMAN\t29.508\t488\t315\t14\t2\t466\t339\t820\t1.39e-41\t162\r\n",
      "PGEN_00033803-RA\tsp|Q9NYQ7|CELR3_HUMAN\t29.873\t395\t250\t9\t101\t473\t333\t722\t2.04e-39\t155\r\n",
      "PGEN_00033803-RA\tsp|Q9NYQ7|CELR3_HUMAN\t28.512\t484\t311\t15\t1\t466\t769\t1235\t3.68e-39\t155\r\n"
     ]
    }
   ],
   "source": [
    "!head analyses/blastp_v074.outfmt6"
   ]
  },
  {
   "cell_type": "code",
   "execution_count": 16,
   "metadata": {
    "ExecuteTime": {
     "end_time": "2019-08-21T16:34:15.657148Z",
     "start_time": "2019-08-21T16:34:15.310986Z"
    }
   },
   "outputs": [],
   "source": [
    "!tr '|' '\\t' < analyses/blastp_v074.outfmt6 \\\n",
    "> analyses/hp_blastp_v074.outfmt6"
   ]
  },
  {
   "cell_type": "code",
   "execution_count": 17,
   "metadata": {
    "ExecuteTime": {
     "end_time": "2019-08-21T16:34:16.049379Z",
     "start_time": "2019-08-21T16:34:15.773603Z"
    }
   },
   "outputs": [],
   "source": [
    "!awk -v OFS='\\t' '{print $3}' < analyses/hp_blastp_v074.outfmt6 \\\n",
    "> analyses/hp_blastp_v074.col3"
   ]
  },
  {
   "cell_type": "code",
   "execution_count": 18,
   "metadata": {
    "ExecuteTime": {
     "end_time": "2019-08-21T16:34:16.364777Z",
     "start_time": "2019-08-21T16:34:16.240609Z"
    }
   },
   "outputs": [
    {
     "name": "stdout",
     "output_type": "stream",
     "text": [
      "C1DFA8\r\n",
      "Q96MM6\r\n",
      "Q9GV41\r\n",
      "O14088\r\n",
      "B1VDL1\r\n",
      "Q9NYQ7\r\n",
      "Q9NYQ7\r\n",
      "Q9NYQ7\r\n",
      "Q9NYQ7\r\n",
      "Q9NYQ7\r\n"
     ]
    }
   ],
   "source": [
    "!head analyses/hp_blastp_v074.col3"
   ]
  },
  {
   "cell_type": "code",
   "execution_count": 20,
   "metadata": {
    "ExecuteTime": {
     "end_time": "2019-08-21T16:35:41.223003Z",
     "start_time": "2019-08-21T16:35:40.868330Z"
    }
   },
   "outputs": [],
   "source": [
    "!cat analyses/hp_blastp_v074.col3 | sort | uniq | pbcopy"
   ]
  },
  {
   "cell_type": "code",
   "execution_count": null,
   "metadata": {},
   "outputs": [],
   "source": []
  }
 ],
 "metadata": {
  "kernelspec": {
   "display_name": "Python 3",
   "language": "python",
   "name": "python3"
  },
  "language_info": {
   "codemirror_mode": {
    "name": "ipython",
    "version": 3
   },
   "file_extension": ".py",
   "mimetype": "text/x-python",
   "name": "python",
   "nbconvert_exporter": "python",
   "pygments_lexer": "ipython3",
   "version": "3.6.8"
  }
 },
 "nbformat": 4,
 "nbformat_minor": 2
}
