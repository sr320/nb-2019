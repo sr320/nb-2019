{
 "cells": [
  {
   "cell_type": "code",
   "execution_count": 12,
   "metadata": {
    "ExecuteTime": {
     "end_time": "2019-08-21T16:34:08.261854Z",
     "start_time": "2019-08-21T16:34:07.588309Z"
    }
   },
   "outputs": [
    {
     "name": "stdout",
     "output_type": "stream",
     "text": [
      "--2019-08-21 09:34:07--  https://gannet.fish.washington.edu/Atumefaciens/20190228_pgen_maker_v070_annotation/blastp_annotation/blastp.outfmt6\n",
      "Resolving gannet.fish.washington.edu (gannet.fish.washington.edu)... 128.95.149.52\n",
      "Connecting to gannet.fish.washington.edu (gannet.fish.washington.edu)|128.95.149.52|:443... connected.\n",
      "HTTP request sent, awaiting response... 200 OK\n",
      "Length: 1973169 (1.9M)\n",
      "Saving to: ‘blastp.outfmt6’\n",
      "\n",
      "blastp.outfmt6      100%[===================>]   1.88M  4.29MB/s    in 0.4s    \n",
      "\n",
      "2019-08-21 09:34:08 (4.29 MB/s) - ‘blastp.outfmt6’ saved [1973169/1973169]\n",
      "\n"
     ]
    }
   ],
   "source": [
    "!wget https://gannet.fish.washington.edu/Atumefaciens/20190228_pgen_maker_v070_annotation/blastp_annotation/blastp.outfmt6"
   ]
  },
  {
   "cell_type": "code",
   "execution_count": 13,
   "metadata": {
    "ExecuteTime": {
     "end_time": "2019-08-21T16:34:08.974485Z",
     "start_time": "2019-08-21T16:34:08.843832Z"
    }
   },
   "outputs": [
    {
     "name": "stdout",
     "output_type": "stream",
     "text": [
      "01-Exploring-Genome-v070.ipynb      15-Big-Mystery-Scaffold.ipynb\r\n",
      "02-Exploring-early-070-maker.ipynb  16-v74-GO-Annotations.ipynb\r\n",
      "03-Simple-gene-track.ipynb          17-Coverage-IGV-v74.ipynb\r\n",
      "04-Genes-from-preMaker.ipynb        18-Downloading-BAMs.ipynb\r\n",
      "05-Joining-HP-gene-IDs.ipynb        19-v74-protein-info.ipynb\r\n",
      "06.ipynb                            50-methylkit.Rmd\r\n",
      "\u001b[34m065_bismark\u001b[m\u001b[m/                        \u001b[34manalyses\u001b[m\u001b[m/\r\n",
      "07-Gene-names-preMaker.ipynb        blastp.outfmt6\r\n",
      "10-Gene-Methylation.ipynb           \u001b[34mdata\u001b[m\u001b[m/\r\n",
      "11-genome-recip-blast.ipynb         \u001b[34migv\u001b[m\u001b[m/\r\n",
      "12-Exploring-HiC.ipynb              \u001b[34mimg\u001b[m\u001b[m/\r\n",
      "13-18scaffold-assembly.ipynb        \u001b[34mnotes\u001b[m\u001b[m/\r\n",
      "14-Bismark-v074.ipynb               \u001b[34mwd\u001b[m\u001b[m/\r\n"
     ]
    }
   ],
   "source": [
    "ls"
   ]
  },
  {
   "cell_type": "code",
   "execution_count": 14,
   "metadata": {
    "ExecuteTime": {
     "end_time": "2019-08-21T16:34:11.419085Z",
     "start_time": "2019-08-21T16:34:11.289166Z"
    }
   },
   "outputs": [],
   "source": [
    "!mv blastp.outfmt6 analyses/blastp_v074.outfmt6"
   ]
  },
  {
   "cell_type": "code",
   "execution_count": 15,
   "metadata": {
    "ExecuteTime": {
     "end_time": "2019-08-21T16:34:12.482911Z",
     "start_time": "2019-08-21T16:34:12.356263Z"
    }
   },
   "outputs": [
    {
     "name": "stdout",
     "output_type": "stream",
     "text": [
      "PGEN_00029322-RA\tsp|C1DFA8|ALLA_AZOVD\t36.364\t77\t47\t1\t115\t189\t70\t146\t1.75e-10\t60.8\r\n",
      "PGEN_00017666-RA\tsp|Q96MM6|HS12B_HUMAN\t32.416\t327\t132\t11\t2\t243\t46\t368\t1.06e-36\t139\r\n",
      "PGEN_00012223-RA\tsp|Q9GV41|PGFS_TRYBB\t43.529\t255\t139\t2\t7\t256\t2\t256\t1.67e-72\t226\r\n",
      "PGEN_00012222-RA\tsp|O14088|YER5_SCHPO\t41.304\t138\t79\t2\t39\t175\t102\t238\t8.39e-33\t120\r\n",
      "PGEN_00017404-RA\tsp|B1VDL1|SYDND_CORU7\t54.839\t62\t28\t0\t7\t68\t234\t295\t1.50e-17\t79.0\r\n",
      "PGEN_00033803-RA\tsp|Q9NYQ7|CELR3_HUMAN\t32.985\t479\t294\t13\t10\t473\t567\t1033\t2.41e-60\t217\r\n",
      "PGEN_00033803-RA\tsp|Q9NYQ7|CELR3_HUMAN\t31.687\t486\t308\t13\t1\t473\t664\t1138\t4.18e-57\t208\r\n",
      "PGEN_00033803-RA\tsp|Q9NYQ7|CELR3_HUMAN\t29.508\t488\t315\t14\t2\t466\t339\t820\t1.39e-41\t162\r\n",
      "PGEN_00033803-RA\tsp|Q9NYQ7|CELR3_HUMAN\t29.873\t395\t250\t9\t101\t473\t333\t722\t2.04e-39\t155\r\n",
      "PGEN_00033803-RA\tsp|Q9NYQ7|CELR3_HUMAN\t28.512\t484\t311\t15\t1\t466\t769\t1235\t3.68e-39\t155\r\n"
     ]
    }
   ],
   "source": [
    "!head analyses/blastp_v074.outfmt6"
   ]
  },
  {
   "cell_type": "code",
   "execution_count": 16,
   "metadata": {
    "ExecuteTime": {
     "end_time": "2019-08-21T16:34:15.657148Z",
     "start_time": "2019-08-21T16:34:15.310986Z"
    }
   },
   "outputs": [],
   "source": [
    "!tr '|' '\\t' < analyses/blastp_v074.outfmt6 \\\n",
    "> analyses/hp_blastp_v074.outfmt6"
   ]
  },
  {
   "cell_type": "code",
   "execution_count": 17,
   "metadata": {
    "ExecuteTime": {
     "end_time": "2019-08-21T16:34:16.049379Z",
     "start_time": "2019-08-21T16:34:15.773603Z"
    }
   },
   "outputs": [],
   "source": [
    "!awk -v OFS='\\t' '{print $3}' < analyses/hp_blastp_v074.outfmt6 \\\n",
    "> analyses/hp_blastp_v074.col3"
   ]
  },
  {
   "cell_type": "code",
   "execution_count": 18,
   "metadata": {
    "ExecuteTime": {
     "end_time": "2019-08-21T16:34:16.364777Z",
     "start_time": "2019-08-21T16:34:16.240609Z"
    }
   },
   "outputs": [
    {
     "name": "stdout",
     "output_type": "stream",
     "text": [
      "C1DFA8\r\n",
      "Q96MM6\r\n",
      "Q9GV41\r\n",
      "O14088\r\n",
      "B1VDL1\r\n",
      "Q9NYQ7\r\n",
      "Q9NYQ7\r\n",
      "Q9NYQ7\r\n",
      "Q9NYQ7\r\n",
      "Q9NYQ7\r\n"
     ]
    }
   ],
   "source": [
    "!head analyses/hp_blastp_v074.col3"
   ]
  },
  {
   "cell_type": "code",
   "execution_count": 20,
   "metadata": {
    "ExecuteTime": {
     "end_time": "2019-08-21T16:35:41.223003Z",
     "start_time": "2019-08-21T16:35:40.868330Z"
    }
   },
   "outputs": [],
   "source": [
    "!cat analyses/hp_blastp_v074.col3 | sort | uniq | pbcopy"
   ]
  },
  {
   "cell_type": "code",
   "execution_count": 21,
   "metadata": {
    "ExecuteTime": {
     "end_time": "2019-08-21T16:37:59.908183Z",
     "start_time": "2019-08-21T16:37:59.753631Z"
    }
   },
   "outputs": [
    {
     "name": "stdout",
     "output_type": "stream",
     "text": [
      "Entry\tEntry name\tStatus\tProtein names\tGene names\tOrganism\tLength\tGene ontology (biological process)\tGene ontology (cellular component)\tGene ontology (GO)\tGene ontology (molecular function)\tGene ontology IDs\r\n",
      "A0A089FSA4\tPRLS_FUNXX\treviewed\tHybrid PKS-NRPS synthetase prlS (EC 2.3.1.-) (EC 6.3.2.-) (Pyrrolocin biosynthesis protein S)\tprlS\tFungal sp. (strain NRRL 50135)\t4037\t\t\tligase activity [GO:0016874]; methyltransferase activity [GO:0008168]; oxidoreductase activity [GO:0016491]; phosphopantetheine binding [GO:0031177]\tligase activity [GO:0016874]; methyltransferase activity [GO:0008168]; oxidoreductase activity [GO:0016491]; phosphopantetheine binding [GO:0031177]\tGO:0008168; GO:0016491; GO:0016874; GO:0031177\r\n",
      "A0A0B5A8P8\tINS2_CONIM\treviewed\tCon-Ins Im2 (Insulin 2) [Cleaved into: Con-Ins I2 B chain; Con-Ins I2 A chain]\t\tConus imperialis (Imperial cone)\t140\tglucose metabolic process [GO:0006006]\textracellular region [GO:0005576]\textracellular region [GO:0005576]; hormone activity [GO:0005179]; toxin activity [GO:0090729]; glucose metabolic process [GO:0006006]\thormone activity [GO:0005179]; toxin activity [GO:0090729]\tGO:0005179; GO:0005576; GO:0006006; GO:0090729\r\n",
      "A0A0D3MJQ5\tARSM_CLOSP\treviewed\tArsenite methyltransferase (EC 2.1.1.137)\tarsM\tClostridium sp.\t270\tresponse to arsenic-containing substance [GO:0046685]\t\tarsenite methyltransferase activity [GO:0030791]; response to arsenic-containing substance [GO:0046685]\tarsenite methyltransferase activity [GO:0030791]\tGO:0030791; GO:0046685\r\n",
      "A0A0J9YWL9\tTX13C_HUMAN\treviewed\tPutative testis-expressed protein 13C\tTEX13C\tHomo sapiens (Human)\t993\t\t\tmetal ion binding [GO:0046872]\tmetal ion binding [GO:0046872]\tGO:0046872\r\n",
      "A0A0P0XM10\tPAO6_ORYSJ\treviewed\tPolyamine oxidase 6 (OsPAO6) (EC 1.5.3.-) (Polyamine oxidase B)\tPAO6 PAOB Os09g0368200 LOC_Os09g20260 OJ1759_F09.3 P0564H06.9\tOryza sativa subsp. japonica (Rice)\t496\tspermine catabolic process [GO:0046208]\tapoplast [GO:0048046]\tapoplast [GO:0048046]; oxidoreductase activity [GO:0016491]; spermine catabolic process [GO:0046208]\toxidoreductase activity [GO:0016491]\tGO:0016491; GO:0046208; GO:0048046\r\n",
      "A0A0R4I9Y1\tR213B_DANRE\treviewed\tE3 ubiquitin-protein ligase rnf213-beta (EC 2.3.2.27) (EC 3.6.4.-) (Mysterin-B) (Mysterin-beta) (RING finger protein 213-B) (RING finger protein 213-beta) (RING-type E3 ubiquitin transferase rnf213-beta)\trnf213b\tDanio rerio (Zebrafish) (Brachydanio rerio)\t5061\tubiquitin-dependent protein catabolic process [GO:0006511]\tcytosol [GO:0005829]\tcytosol [GO:0005829]; ATPase activity [GO:0016887]; metal ion binding [GO:0046872]; ubiquitin-protein transferase activity [GO:0004842]; ubiquitin-dependent protein catabolic process [GO:0006511]\tATPase activity [GO:0016887]; metal ion binding [GO:0046872]; ubiquitin-protein transferase activity [GO:0004842]\tGO:0004842; GO:0005829; GO:0006511; GO:0016887; GO:0046872\r\n",
      "A0A0R4IBK5\tR213A_DANRE\treviewed\tE3 ubiquitin-protein ligase rnf213-alpha (EC 2.3.2.27) (EC 3.6.4.-) (Mysterin-A) (Mysterin-alpha) (RING finger protein 213-A) (RING finger protein 213-alpha) (RING-type E3 ubiquitin transferase rnf213-alpha)\trnf213a\tDanio rerio (Zebrafish) (Brachydanio rerio)\t5209\tblood circulation [GO:0008015]; sprouting angiogenesis [GO:0002040]; ubiquitin-dependent protein catabolic process [GO:0006511]\tcytosol [GO:0005829]\tcytosol [GO:0005829]; ATPase activity [GO:0016887]; metal ion binding [GO:0046872]; ubiquitin-protein transferase activity [GO:0004842]; blood circulation [GO:0008015]; sprouting angiogenesis [GO:0002040]; ubiquitin-dependent protein catabolic process [GO:0006511]\tATPase activity [GO:0016887]; metal ion binding [GO:0046872]; ubiquitin-protein transferase activity [GO:0004842]\tGO:0002040; GO:0004842; GO:0005829; GO:0006511; GO:0008015; GO:0016887; GO:0046872\r\n",
      "A0A0R4IES7\tK1109_DANRE\treviewed\tTransmembrane protein KIAA1109 homolog\tsi:ch211-233a24.2\tDanio rerio (Zebrafish) (Brachydanio rerio)\t4923\tsynaptic vesicle endocytosis [GO:0048488]\tintegral component of membrane [GO:0016021]; presynapse [GO:0098793]\tintegral component of membrane [GO:0016021]; presynapse [GO:0098793]; synaptic vesicle endocytosis [GO:0048488]\t\tGO:0016021; GO:0048488; GO:0098793\r\n",
      "A0A0R4IVV0\tMTP_DANRE\treviewed\tMicrosomal triglyceride transfer protein large subunit\tmttp mtp\tDanio rerio (Zebrafish) (Brachydanio rerio)\t884\tcholesterol homeostasis [GO:0042632]; digestion [GO:0007586]; lipid metabolic process [GO:0006629]; lipid transport [GO:0006869]; lipoprotein biosynthetic process [GO:0042158]; lipoprotein metabolic process [GO:0042157]; long-chain fatty acid transport [GO:0015909]; medium-chain fatty acid transport [GO:0001579]; sprouting angiogenesis [GO:0002040]\tGolgi apparatus [GO:0005794]; basolateral plasma membrane [GO:0016323]; endoplasmic reticulum [GO:0005783]\tbasolateral plasma membrane [GO:0016323]; endoplasmic reticulum [GO:0005783]; Golgi apparatus [GO:0005794]; lipid binding [GO:0008289]; lipid transporter activity [GO:0005319]; phospholipid transporter activity [GO:0005548]; cholesterol homeostasis [GO:0042632]; digestion [GO:0007586]; lipid metabolic process [GO:0006629]; lipid transport [GO:0006869]; lipoprotein biosynthetic process [GO:0042158]; lipoprotein metabolic process [GO:0042157]; long-chain fatty acid transport [GO:0015909]; medium-chain fatty acid transport [GO:0001579]; sprouting angiogenesis [GO:0002040]\tlipid binding [GO:0008289]; lipid transporter activity [GO:0005319]; phospholipid transporter activity [GO:0005548]\tGO:0001579; GO:0002040; GO:0005319; GO:0005548; GO:0005783; GO:0005794; GO:0006629; GO:0006869; GO:0007586; GO:0008289; GO:0015909; GO:0016323; GO:0042157; GO:0042158; GO:0042632\r\n"
     ]
    }
   ],
   "source": [
    "!head analyses/uniprot-yourlist_M201908218471C63D39733769F8E060B506551E123954914.tab"
   ]
  },
  {
   "cell_type": "code",
   "execution_count": null,
   "metadata": {},
   "outputs": [],
   "source": [
    "!cat analyses/uniprot-yourlist_M201908176746803381A1F0E0DB47453E0216320D908FE8J.tab | sort > analyses/uniprot-yourlist_M2019.sorted"
   ]
  },
  {
   "cell_type": "code",
   "execution_count": 22,
   "metadata": {
    "ExecuteTime": {
     "end_time": "2019-08-21T16:57:54.347767Z",
     "start_time": "2019-08-21T16:57:53.566125Z"
    }
   },
   "outputs": [],
   "source": [
    "!cat analyses/uniprot-yourlist_M201908218471C63D39733769F8E060B506551E123954914.tab \\\n",
    "| sort > analyses/uniprot-E123954914.sorted\n",
    "\n"
   ]
  },
  {
   "cell_type": "code",
   "execution_count": 26,
   "metadata": {
    "ExecuteTime": {
     "end_time": "2019-08-21T16:59:17.167608Z",
     "start_time": "2019-08-21T16:59:17.034980Z"
    }
   },
   "outputs": [
    {
     "name": "stdout",
     "output_type": "stream",
     "text": [
      "A0A089FSA4\tPRLS_FUNXX\treviewed\tHybrid PKS-NRPS synthetase prlS (EC 2.3.1.-) (EC 6.3.2.-) (Pyrrolocin biosynthesis protein S)\tprlS\tFungal sp. (strain NRRL 50135)\t4037\t\t\tligase activity [GO:0016874]; methyltransferase activity [GO:0008168]; oxidoreductase activity [GO:0016491]; phosphopantetheine binding [GO:0031177]\tligase activity [GO:0016874]; methyltransferase activity [GO:0008168]; oxidoreductase activity [GO:0016491]; phosphopantetheine binding [GO:0031177]\tGO:0008168; GO:0016491; GO:0016874; GO:0031177\r\n"
     ]
    }
   ],
   "source": [
    "!head -1 analyses/uniprot-E123954914.sorted"
   ]
  },
  {
   "cell_type": "code",
   "execution_count": 28,
   "metadata": {
    "ExecuteTime": {
     "end_time": "2019-08-21T17:00:32.105452Z",
     "start_time": "2019-08-21T17:00:31.488389Z"
    }
   },
   "outputs": [],
   "source": [
    "!sort -k 3 analyses/hp_blastp_v074.outfmt6 > analyses/hp_blastp_v074.sorted"
   ]
  },
  {
   "cell_type": "code",
   "execution_count": 29,
   "metadata": {
    "ExecuteTime": {
     "end_time": "2019-08-21T17:00:38.812103Z",
     "start_time": "2019-08-21T17:00:38.676585Z"
    }
   },
   "outputs": [
    {
     "name": "stdout",
     "output_type": "stream",
     "text": [
      "PGEN_00048983-RA\tsp\tA0A089FSA4\tPRLS_FUNXX\t58.209\t67\t26\t2\t1\t66\t129\t194\t6.80e-16\t72.8\r\n",
      "PGEN_00002403-RA\tsp\tA0A0B5A8P8\tINS2_CONIM\t29.771\t131\t66\t5\t22\t144\t27\t139\t4.36e-09\t56.2\r\n",
      "PGEN_00002404-RA\tsp\tA0A0B5A8P8\tINS2_CONIM\t35.965\t114\t65\t2\t20\t125\t26\t139\t1.14e-14\t71.2\r\n",
      "PGEN_00002922-RA\tsp\tA0A0D3MJQ5\tARSM_CLOSP\t28.144\t167\t110\t5\t171\t335\t77\t235\t1.31e-09\t61.6\r\n",
      "PGEN_00051924-RA\tsp\tA0A0J9YWL9\tTX13C_HUMAN\t22.397\t317\t207\t8\t27\t334\t328\t614\t4.21e-07\t55.5\r\n",
      "PGEN_00051926-RA\tsp\tA0A0J9YWL9\tTX13C_HUMAN\t22.397\t317\t207\t8\t27\t334\t328\t614\t4.21e-07\t55.5\r\n",
      "PGEN_00051924-RA\tsp\tA0A0J9YWL9\tTX13C_HUMAN\t23.188\t276\t200\t4\t32\t301\t354\t623\t6.82e-09\t60.8\r\n",
      "PGEN_00051926-RA\tsp\tA0A0J9YWL9\tTX13C_HUMAN\t23.188\t276\t200\t4\t32\t301\t354\t623\t6.82e-09\t60.8\r\n",
      "PGEN_00051924-RA\tsp\tA0A0J9YWL9\tTX13C_HUMAN\t23.203\t306\t227\t3\t5\t307\t369\t669\t5.23e-12\t70.5\r\n",
      "PGEN_00051926-RA\tsp\tA0A0J9YWL9\tTX13C_HUMAN\t23.203\t306\t227\t3\t5\t307\t369\t669\t5.23e-12\t70.5\r\n"
     ]
    }
   ],
   "source": [
    "!head analyses/hp_blastp_v074.sorted"
   ]
  },
  {
   "cell_type": "code",
   "execution_count": 31,
   "metadata": {
    "ExecuteTime": {
     "end_time": "2019-08-21T17:00:55.910487Z",
     "start_time": "2019-08-21T17:00:55.759186Z"
    }
   },
   "outputs": [
    {
     "name": "stdout",
     "output_type": "stream",
     "text": [
      "A0A089FSA4\tPGEN_00048983-RA\tsp\tPRLS_FUNXX\t58.209\t67\t26\t2\t1\t66\t129\t194\t6.80e-16\t72.8\tPRLS_FUNXX\treviewed\tHybrid PKS-NRPS synthetase prlS (EC 2.3.1.-) (EC 6.3.2.-) (Pyrrolocin biosynthesis protein S)\tprlS\tFungal sp. (strain NRRL 50135)\t4037\t\t\tligase activity [GO:0016874]; methyltransferase activity [GO:0008168]; oxidoreductase activity [GO:0016491]; phosphopantetheine binding [GO:0031177]\tligase activity [GO:0016874]; methyltransferase activity [GO:0008168]; oxidoreductase activity [GO:0016491]; phosphopantetheine binding [GO:0031177]\tGO:0008168; GO:0016491; GO:0016874; GO:0031177\r\n",
      "A0A0B5A8P8\tPGEN_00002403-RA\tsp\tINS2_CONIM\t29.771\t131\t66\t5\t22\t144\t27\t139\t4.36e-09\t56.2\tINS2_CONIM\treviewed\tCon-Ins Im2 (Insulin 2) [Cleaved into: Con-Ins I2 B chain; Con-Ins I2 A chain]\t\tConus imperialis (Imperial cone)\t140\tglucose metabolic process [GO:0006006]\textracellular region [GO:0005576]\textracellular region [GO:0005576]; hormone activity [GO:0005179]; toxin activity [GO:0090729]; glucose metabolic process [GO:0006006]\thormone activity [GO:0005179]; toxin activity [GO:0090729]\tGO:0005179; GO:0005576; GO:0006006; GO:0090729\r\n",
      "A0A0B5A8P8\tPGEN_00002404-RA\tsp\tINS2_CONIM\t35.965\t114\t65\t2\t20\t125\t26\t139\t1.14e-14\t71.2\tINS2_CONIM\treviewed\tCon-Ins Im2 (Insulin 2) [Cleaved into: Con-Ins I2 B chain; Con-Ins I2 A chain]\t\tConus imperialis (Imperial cone)\t140\tglucose metabolic process [GO:0006006]\textracellular region [GO:0005576]\textracellular region [GO:0005576]; hormone activity [GO:0005179]; toxin activity [GO:0090729]; glucose metabolic process [GO:0006006]\thormone activity [GO:0005179]; toxin activity [GO:0090729]\tGO:0005179; GO:0005576; GO:0006006; GO:0090729\r\n",
      "A0A0D3MJQ5\tPGEN_00002922-RA\tsp\tARSM_CLOSP\t28.144\t167\t110\t5\t171\t335\t77\t235\t1.31e-09\t61.6\tARSM_CLOSP\treviewed\tArsenite methyltransferase (EC 2.1.1.137)\tarsM\tClostridium sp.\t270\tresponse to arsenic-containing substance [GO:0046685]\t\tarsenite methyltransferase activity [GO:0030791]; response to arsenic-containing substance [GO:0046685]\tarsenite methyltransferase activity [GO:0030791]\tGO:0030791; GO:0046685\r\n",
      "A0A0J9YWL9\tPGEN_00051924-RA\tsp\tTX13C_HUMAN\t22.397\t317\t207\t8\t27\t334\t328\t614\t4.21e-07\t55.5\tTX13C_HUMAN\treviewed\tPutative testis-expressed protein 13C\tTEX13C\tHomo sapiens (Human)\t993\t\t\tmetal ion binding [GO:0046872]\tmetal ion binding [GO:0046872]\tGO:0046872\r\n",
      "A0A0J9YWL9\tPGEN_00051926-RA\tsp\tTX13C_HUMAN\t22.397\t317\t207\t8\t27\t334\t328\t614\t4.21e-07\t55.5\tTX13C_HUMAN\treviewed\tPutative testis-expressed protein 13C\tTEX13C\tHomo sapiens (Human)\t993\t\t\tmetal ion binding [GO:0046872]\tmetal ion binding [GO:0046872]\tGO:0046872\r\n",
      "A0A0J9YWL9\tPGEN_00051924-RA\tsp\tTX13C_HUMAN\t23.188\t276\t200\t4\t32\t301\t354\t623\t6.82e-09\t60.8\tTX13C_HUMAN\treviewed\tPutative testis-expressed protein 13C\tTEX13C\tHomo sapiens (Human)\t993\t\t\tmetal ion binding [GO:0046872]\tmetal ion binding [GO:0046872]\tGO:0046872\r\n",
      "A0A0J9YWL9\tPGEN_00051926-RA\tsp\tTX13C_HUMAN\t23.188\t276\t200\t4\t32\t301\t354\t623\t6.82e-09\t60.8\tTX13C_HUMAN\treviewed\tPutative testis-expressed protein 13C\tTEX13C\tHomo sapiens (Human)\t993\t\t\tmetal ion binding [GO:0046872]\tmetal ion binding [GO:0046872]\tGO:0046872\r\n",
      "A0A0J9YWL9\tPGEN_00051924-RA\tsp\tTX13C_HUMAN\t23.203\t306\t227\t3\t5\t307\t369\t669\t5.23e-12\t70.5\tTX13C_HUMAN\treviewed\tPutative testis-expressed protein 13C\tTEX13C\tHomo sapiens (Human)\t993\t\t\tmetal ion binding [GO:0046872]\tmetal ion binding [GO:0046872]\tGO:0046872\r\n",
      "A0A0J9YWL9\tPGEN_00051926-RA\tsp\tTX13C_HUMAN\t23.203\t306\t227\t3\t5\t307\t369\t669\t5.23e-12\t70.5\tTX13C_HUMAN\treviewed\tPutative testis-expressed protein 13C\tTEX13C\tHomo sapiens (Human)\t993\t\t\tmetal ion binding [GO:0046872]\tmetal ion binding [GO:0046872]\tGO:0046872\r\n",
      "join: stdout: Broken pipe\r\n"
     ]
    }
   ],
   "source": [
    "!join -1 3 -2 1 -t $'\\t' \\\n",
    "analyses/hp_blastp_v074.sorted \\\n",
    "analyses/uniprot-E123954914.sorted | head"
   ]
  },
  {
   "cell_type": "code",
   "execution_count": 32,
   "metadata": {
    "ExecuteTime": {
     "end_time": "2019-08-21T17:01:22.684513Z",
     "start_time": "2019-08-21T17:01:22.088616Z"
    }
   },
   "outputs": [],
   "source": [
    "!join -1 3 -2 1 -t $'\\t' \\\n",
    "analyses/hp_blastp_v074.sorted \\\n",
    "analyses/uniprot-E123954914.sorted\\\n",
    "> analyses/0821_GO-annot.tab"
   ]
  },
  {
   "cell_type": "code",
   "execution_count": 33,
   "metadata": {
    "ExecuteTime": {
     "end_time": "2019-08-21T17:01:31.651415Z",
     "start_time": "2019-08-21T17:01:31.513171Z"
    }
   },
   "outputs": [
    {
     "name": "stdout",
     "output_type": "stream",
     "text": [
      "A0A089FSA4\tPGEN_00048983-RA\tsp\tPRLS_FUNXX\t58.209\t67\t26\t2\t1\t66\t129\t194\t6.80e-16\t72.8\tPRLS_FUNXX\treviewed\tHybrid PKS-NRPS synthetase prlS (EC 2.3.1.-) (EC 6.3.2.-) (Pyrrolocin biosynthesis protein S)\tprlS\tFungal sp. (strain NRRL 50135)\t4037\t\t\tligase activity [GO:0016874]; methyltransferase activity [GO:0008168]; oxidoreductase activity [GO:0016491]; phosphopantetheine binding [GO:0031177]\tligase activity [GO:0016874]; methyltransferase activity [GO:0008168]; oxidoreductase activity [GO:0016491]; phosphopantetheine binding [GO:0031177]\tGO:0008168; GO:0016491; GO:0016874; GO:0031177\r\n",
      "A0A0B5A8P8\tPGEN_00002403-RA\tsp\tINS2_CONIM\t29.771\t131\t66\t5\t22\t144\t27\t139\t4.36e-09\t56.2\tINS2_CONIM\treviewed\tCon-Ins Im2 (Insulin 2) [Cleaved into: Con-Ins I2 B chain; Con-Ins I2 A chain]\t\tConus imperialis (Imperial cone)\t140\tglucose metabolic process [GO:0006006]\textracellular region [GO:0005576]\textracellular region [GO:0005576]; hormone activity [GO:0005179]; toxin activity [GO:0090729]; glucose metabolic process [GO:0006006]\thormone activity [GO:0005179]; toxin activity [GO:0090729]\tGO:0005179; GO:0005576; GO:0006006; GO:0090729\r\n",
      "A0A0B5A8P8\tPGEN_00002404-RA\tsp\tINS2_CONIM\t35.965\t114\t65\t2\t20\t125\t26\t139\t1.14e-14\t71.2\tINS2_CONIM\treviewed\tCon-Ins Im2 (Insulin 2) [Cleaved into: Con-Ins I2 B chain; Con-Ins I2 A chain]\t\tConus imperialis (Imperial cone)\t140\tglucose metabolic process [GO:0006006]\textracellular region [GO:0005576]\textracellular region [GO:0005576]; hormone activity [GO:0005179]; toxin activity [GO:0090729]; glucose metabolic process [GO:0006006]\thormone activity [GO:0005179]; toxin activity [GO:0090729]\tGO:0005179; GO:0005576; GO:0006006; GO:0090729\r\n",
      "A0A0D3MJQ5\tPGEN_00002922-RA\tsp\tARSM_CLOSP\t28.144\t167\t110\t5\t171\t335\t77\t235\t1.31e-09\t61.6\tARSM_CLOSP\treviewed\tArsenite methyltransferase (EC 2.1.1.137)\tarsM\tClostridium sp.\t270\tresponse to arsenic-containing substance [GO:0046685]\t\tarsenite methyltransferase activity [GO:0030791]; response to arsenic-containing substance [GO:0046685]\tarsenite methyltransferase activity [GO:0030791]\tGO:0030791; GO:0046685\r\n",
      "A0A0J9YWL9\tPGEN_00051924-RA\tsp\tTX13C_HUMAN\t22.397\t317\t207\t8\t27\t334\t328\t614\t4.21e-07\t55.5\tTX13C_HUMAN\treviewed\tPutative testis-expressed protein 13C\tTEX13C\tHomo sapiens (Human)\t993\t\t\tmetal ion binding [GO:0046872]\tmetal ion binding [GO:0046872]\tGO:0046872\r\n",
      "A0A0J9YWL9\tPGEN_00051926-RA\tsp\tTX13C_HUMAN\t22.397\t317\t207\t8\t27\t334\t328\t614\t4.21e-07\t55.5\tTX13C_HUMAN\treviewed\tPutative testis-expressed protein 13C\tTEX13C\tHomo sapiens (Human)\t993\t\t\tmetal ion binding [GO:0046872]\tmetal ion binding [GO:0046872]\tGO:0046872\r\n",
      "A0A0J9YWL9\tPGEN_00051924-RA\tsp\tTX13C_HUMAN\t23.188\t276\t200\t4\t32\t301\t354\t623\t6.82e-09\t60.8\tTX13C_HUMAN\treviewed\tPutative testis-expressed protein 13C\tTEX13C\tHomo sapiens (Human)\t993\t\t\tmetal ion binding [GO:0046872]\tmetal ion binding [GO:0046872]\tGO:0046872\r\n",
      "A0A0J9YWL9\tPGEN_00051926-RA\tsp\tTX13C_HUMAN\t23.188\t276\t200\t4\t32\t301\t354\t623\t6.82e-09\t60.8\tTX13C_HUMAN\treviewed\tPutative testis-expressed protein 13C\tTEX13C\tHomo sapiens (Human)\t993\t\t\tmetal ion binding [GO:0046872]\tmetal ion binding [GO:0046872]\tGO:0046872\r\n",
      "A0A0J9YWL9\tPGEN_00051924-RA\tsp\tTX13C_HUMAN\t23.203\t306\t227\t3\t5\t307\t369\t669\t5.23e-12\t70.5\tTX13C_HUMAN\treviewed\tPutative testis-expressed protein 13C\tTEX13C\tHomo sapiens (Human)\t993\t\t\tmetal ion binding [GO:0046872]\tmetal ion binding [GO:0046872]\tGO:0046872\r\n",
      "A0A0J9YWL9\tPGEN_00051926-RA\tsp\tTX13C_HUMAN\t23.203\t306\t227\t3\t5\t307\t369\t669\t5.23e-12\t70.5\tTX13C_HUMAN\treviewed\tPutative testis-expressed protein 13C\tTEX13C\tHomo sapiens (Human)\t993\t\t\tmetal ion binding [GO:0046872]\tmetal ion binding [GO:0046872]\tGO:0046872\r\n"
     ]
    }
   ],
   "source": [
    "!head analyses/0821_GO-annot.tab"
   ]
  },
  {
   "cell_type": "code",
   "execution_count": null,
   "metadata": {},
   "outputs": [],
   "source": []
  }
 ],
 "metadata": {
  "kernelspec": {
   "display_name": "Python 3",
   "language": "python",
   "name": "python3"
  },
  "language_info": {
   "codemirror_mode": {
    "name": "ipython",
    "version": 3
   },
   "file_extension": ".py",
   "mimetype": "text/x-python",
   "name": "python",
   "nbconvert_exporter": "python",
   "pygments_lexer": "ipython3",
   "version": "3.6.8"
  }
 },
 "nbformat": 4,
 "nbformat_minor": 2
}
