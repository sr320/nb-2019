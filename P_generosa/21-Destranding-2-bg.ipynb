{
 "cells": [
  {
   "cell_type": "code",
   "execution_count": null,
   "metadata": {},
   "outputs": [],
   "source": [
    "!perl ../scripts/destranding-bismark-cov.pl \\\n",
    "/Users/sr320/Documents/GitHub/nb-2019/P_generosa/analyses/EPI-44_S41_L005_R1_001_val_1_bismark_bt2_pe.deduplicated.bismark.cov \\\n",
    "> analyses/EPI-44.destrand"
   ]
  },
  {
   "cell_type": "code",
   "execution_count": 5,
   "metadata": {
    "ExecuteTime": {
     "end_time": "2019-08-25T19:05:50.550226Z",
     "start_time": "2019-08-25T18:18:57.884987Z"
    }
   },
   "outputs": [],
   "source": [
    "%%bash\n",
    "for f in analyses/*.bismark.cov\n",
    "do\n",
    "    perl ../scripts/destranding-bismark-cov.pl \\\n",
    "${f} | awk '{print $1, $2, $3, $4, $5+$6}' | awk '{if ($5 >= 5) { print $1, $2-1, $3-1, $4}}' \\\n",
    "> ${f}.destrand.5x.bedgraph\n",
    "done"
   ]
  },
  {
   "cell_type": "code",
   "execution_count": 6,
   "metadata": {
    "ExecuteTime": {
     "end_time": "2019-08-26T00:05:51.111701Z",
     "start_time": "2019-08-25T23:28:41.899577Z"
    }
   },
   "outputs": [],
   "source": [
    "%%bash\n",
    "for f in analyses/*.bismark.cov\n",
    "do\n",
    "    perl ../scripts/destranding-bismark-cov.pl \\\n",
    "${f} | awk '{print $1, $2, $3, $4, $5+$6}' | awk '{if ($5 >= 10) { print $1, $2-1, $3-1, $4}}' \\\n",
    "> ${f}.destrand.10x.bedgraph\n",
    "done"
   ]
  },
  {
   "cell_type": "code",
   "execution_count": null,
   "metadata": {},
   "outputs": [],
   "source": []
  }
 ],
 "metadata": {
  "kernelspec": {
   "display_name": "Python 3",
   "language": "python",
   "name": "python3"
  },
  "language_info": {
   "codemirror_mode": {
    "name": "ipython",
    "version": 3
   },
   "file_extension": ".py",
   "mimetype": "text/x-python",
   "name": "python",
   "nbconvert_exporter": "python",
   "pygments_lexer": "ipython3",
   "version": "3.6.8"
  }
 },
 "nbformat": 4,
 "nbformat_minor": 2
}
