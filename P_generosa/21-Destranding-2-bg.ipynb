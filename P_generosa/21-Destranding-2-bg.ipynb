{
 "cells": [
  {
   "cell_type": "code",
   "execution_count": null,
   "metadata": {},
   "outputs": [],
   "source": [
    "!perl ../scripts/destranding-bismark-cov.pl \\\n",
    "/Users/sr320/Documents/GitHub/nb-2019/P_generosa/analyses/EPI-44_S41_L005_R1_001_val_1_bismark_bt2_pe.deduplicated.bismark.cov \\\n",
    "> analyses/EPI-44.destrand"
   ]
  },
  {
   "cell_type": "code",
   "execution_count": 5,
   "metadata": {
    "ExecuteTime": {
     "end_time": "2019-08-25T19:05:50.550226Z",
     "start_time": "2019-08-25T18:18:57.884987Z"
    }
   },
   "outputs": [],
   "source": [
    "%%bash\n",
    "for f in analyses/*.bismark.cov\n",
    "do\n",
    "    perl ../scripts/destranding-bismark-cov.pl \\\n",
    "${f} | awk '{print $1, $2, $3, $4, $5+$6}' | awk '{if ($5 >= 5) { print $1, $2-1, $3-1, $4}}' \\\n",
    "> ${f}.destrand.5x.bedgraph\n",
    "done"
   ]
  },
  {
   "cell_type": "code",
   "execution_count": 6,
   "metadata": {
    "ExecuteTime": {
     "end_time": "2019-08-26T00:05:51.111701Z",
     "start_time": "2019-08-25T23:28:41.899577Z"
    }
   },
   "outputs": [],
   "source": [
    "%%bash\n",
    "for f in analyses/*.bismark.cov\n",
    "do\n",
    "    perl ../scripts/destranding-bismark-cov.pl \\\n",
    "${f} | awk '{print $1, $2, $3, $4, $5+$6}' | awk '{if ($5 >= 10) { print $1, $2-1, $3-1, $4}}' \\\n",
    "> ${f}.destrand.10x.bedgraph\n",
    "done"
   ]
  },
  {
   "cell_type": "markdown",
   "metadata": {},
   "source": [
    "### EPI-145 seems to be missing"
   ]
  },
  {
   "cell_type": "code",
   "execution_count": null,
   "metadata": {},
   "outputs": [],
   "source": [
    "!perl ../scripts/destranding-bismark-cov.pl \\\n",
    "/Users/sr320/Documents/GitHub/nb-2019/P_generosa/analyses/EPI-44_S41_L005_R1_001_val_1_bismark_bt2_pe.deduplicated.bismark.cov \\\n",
    "> analyses/EPI-44.destrand"
   ]
  },
  {
   "cell_type": "code",
   "execution_count": 1,
   "metadata": {
    "ExecuteTime": {
     "end_time": "2019-09-13T19:47:43.718506Z",
     "start_time": "2019-09-13T19:47:41.628718Z"
    }
   },
   "outputs": [
    {
     "name": "stdout",
     "output_type": "stream",
     "text": [
      "  % Total    % Received % Xferd  Average Speed   Time    Time     Time  Current\n",
      "                                 Dload  Upload   Total   Spent    Left  Speed\n",
      "100 60.2M  100 60.7M    0     0  28.8M      0  0:00:02  0:00:01  0:00:01 28.8M2M    0     0  34.7M      0  0:00:01  0:00:01 --:--:-- 34.7M\n"
     ]
    }
   ],
   "source": [
    "!curl -O https://gannet.fish.washington.edu/seashell/bu-mox/scrubbed/0809-005/EPI-145_S38_L005_R1_001_val_1_bismark_bt2_pe.deduplicated.bismark.cov.gz"
   ]
  },
  {
   "cell_type": "code",
   "execution_count": 2,
   "metadata": {
    "ExecuteTime": {
     "end_time": "2019-09-13T19:48:48.333727Z",
     "start_time": "2019-09-13T19:48:48.203219Z"
    }
   },
   "outputs": [
    {
     "name": "stdout",
     "output_type": "stream",
     "text": [
      "PGA_scaffold1__77_contigs__length_89643857\t119\t119\t0\t0\t1\r\n",
      "PGA_scaffold1__77_contigs__length_89643857\t239\t239\t0\t0\t1\r\n",
      "PGA_scaffold1__77_contigs__length_89643857\t395\t395\t0\t0\t1\r\n",
      "PGA_scaffold1__77_contigs__length_89643857\t396\t396\t0\t0\t1\r\n",
      "PGA_scaffold1__77_contigs__length_89643857\t565\t565\t0\t0\t3\r\n",
      "PGA_scaffold1__77_contigs__length_89643857\t577\t577\t0\t0\t3\r\n",
      "PGA_scaffold1__77_contigs__length_89643857\t583\t583\t0\t0\t3\r\n",
      "PGA_scaffold1__77_contigs__length_89643857\t618\t618\t0\t0\t2\r\n",
      "PGA_scaffold1__77_contigs__length_89643857\t1064\t1064\t0\t0\t1\r\n",
      "PGA_scaffold1__77_contigs__length_89643857\t1070\t1070\t0\t0\t1\r\n"
     ]
    }
   ],
   "source": [
    "!head /Users/sr320/Documents/GitHub/nb-2019/P_generosa/analyses/EPI-145_S38_L005_R1_001_val_1_bismark_bt2_pe.deduplicated.bismark.cov"
   ]
  },
  {
   "cell_type": "code",
   "execution_count": 4,
   "metadata": {
    "ExecuteTime": {
     "end_time": "2019-09-13T19:53:52.418675Z",
     "start_time": "2019-09-13T19:51:27.333986Z"
    }
   },
   "outputs": [],
   "source": [
    "!perl ../scripts/destranding-bismark-cov.pl \\\n",
    "/Users/sr320/Documents/GitHub/nb-2019/P_generosa/analyses/EPI-145_S38_L005_R1_001_val_1_bismark_bt2_pe.deduplicated.bismark.cov \\\n",
    "| awk '{print $1, $2, $3, $4, $5+$6}' | awk '{if ($5 >= 10) { print $1, $2-1, $3-1, $4}}' \\\n",
    "> analyses/EPI-145_S38_L005_R1_001_val_1_bismark_bt2_pe.deduplicated.bismark.cov.destrand.10x.bedgraph\n",
    "\n",
    "\n",
    "\n"
   ]
  },
  {
   "cell_type": "code",
   "execution_count": 5,
   "metadata": {
    "ExecuteTime": {
     "end_time": "2019-09-13T19:56:06.041756Z",
     "start_time": "2019-09-13T19:53:52.423434Z"
    }
   },
   "outputs": [],
   "source": [
    "!perl ../scripts/destranding-bismark-cov.pl \\\n",
    "/Users/sr320/Documents/GitHub/nb-2019/P_generosa/analyses/EPI-145_S38_L005_R1_001_val_1_bismark_bt2_pe.deduplicated.bismark.cov \\\n",
    "| awk '{print $1, $2, $3, $4, $5+$6}' | awk '{if ($5 >= 5) { print $1, $2-1, $3-1, $4}}' \\\n",
    "> analyses/EPI-145_S38_L005_R1_001_val_1_bismark_bt2_pe.deduplicated.bismark.cov.destrand.5x.bedgraph\n",
    "\n"
   ]
  },
  {
   "cell_type": "code",
   "execution_count": null,
   "metadata": {},
   "outputs": [],
   "source": []
  }
 ],
 "metadata": {
  "kernelspec": {
   "display_name": "Python 3",
   "language": "python",
   "name": "python3"
  },
  "language_info": {
   "codemirror_mode": {
    "name": "ipython",
    "version": 3
   },
   "file_extension": ".py",
   "mimetype": "text/x-python",
   "name": "python",
   "nbconvert_exporter": "python",
   "pygments_lexer": "ipython3",
   "version": "3.6.8"
  }
 },
 "nbformat": 4,
 "nbformat_minor": 2
}
