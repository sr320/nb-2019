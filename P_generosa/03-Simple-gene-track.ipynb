{
 "cells": [
  {
   "cell_type": "code",
   "execution_count": 1,
   "metadata": {
    "collapsed": false
   },
   "outputs": [
    {
     "name": "stdout",
     "output_type": "stream",
     "text": [
      "TRINITY_DN88414_c0_g1_i1\tPGA_scaffold18__69_contigs__length_27737463\t99.174\t121\t1\t0\t1\t121\t18666349\t18666469\t9.21e-54\t214\r\n",
      "TRINITY_DN88485_c0_g1_i1\tPGA_scaffold17__51_contigs__length_34923512\t100.000\t478\t0\t0\t1\t478\t29408179\t29408656\t0.0\t863\r\n",
      "TRINITY_DN88461_c0_g1_i1\tPGA_scaffold16__33_contigs__length_31980953\t100.000\t275\t0\t0\t1\t275\t8381713\t8381987\t8.40e-139\t497\r\n",
      "TRINITY_DN88421_c0_g1_i1\tPGA_scaffold313628__2_contigs__length_7549490\t99.446\t361\t2\t0\t1\t361\t5240736\t5240376\t0.0\t643\r\n",
      "TRINITY_DN88421_c0_g1_i1\tPGA_scaffold313628__2_contigs__length_7549490\t97.019\t369\t3\t1\t1\t361\t2278051\t2278419\t1.18e-175\t619\r\n",
      "TRINITY_DN88458_c0_g1_i1\tPGA_scaffold71603__1_contigs__length_20365\t88.793\t232\t23\t2\t1\t229\t12612\t12843\t4.19e-78\t295\r\n",
      "TRINITY_DN88473_c0_g1_i1\tPGA_scaffold2__36_contigs__length_69596280\t99.231\t130\t1\t0\t124\t253\t48210240\t48210111\t1.49e-58\t230\r\n",
      "TRINITY_DN88473_c0_g1_i1\tPGA_scaffold2__36_contigs__length_69596280\t100.000\t124\t0\t0\t1\t124\t48211257\t48211134\t6.34e-57\t224\r\n",
      "TRINITY_DN88442_c0_g1_i1\tPGA_scaffold17__51_contigs__length_34923512\t95.548\t584\t10\t3\t1\t574\t15757031\t15756454\t0.0\t937\r\n",
      "TRINITY_DN88442_c0_g1_i1\tPGA_scaffold17__51_contigs__length_34923512\t81.148\t122\t18\t2\t435\t556\t15756707\t15756591\t6.84e-23\t113\r\n"
     ]
    }
   ],
   "source": [
    "!head /Volumes/Serine/wd/19-02-16/geo-tran4-v071.tab"
   ]
  },
  {
   "cell_type": "code",
   "execution_count": null,
   "metadata": {
    "collapsed": true
   },
   "outputs": [],
   "source": [
    "!perl /Users/sr320/git-repos/nb-2019/scripts/2_Blast2Gff.pl \\\n",
    "-i /Volumes/Serine/wd/19-02-16/geo-tran4-v071.tab \\\n",
    "-s \"something\" \\\n",
    "-o /Volumes/Serine/wd/19-02-16/geo-tran4-v071.gff \\\n",
    "-p \"gene-blast\" -d \"Pgenerosa_v071\""
   ]
  },
  {
   "cell_type": "code",
   "execution_count": null,
   "metadata": {
    "collapsed": true
   },
   "outputs": [],
   "source": [
    "!head /Volumes/Serine/wd/19-02-16/geo-tran4-v071.gff"
   ]
  },
  {
   "cell_type": "code",
   "execution_count": null,
   "metadata": {
    "collapsed": true
   },
   "outputs": [],
   "source": []
  }
 ],
 "metadata": {
  "kernelspec": {
   "display_name": "Python 2",
   "language": "python",
   "name": "python2"
  },
  "language_info": {
   "codemirror_mode": {
    "name": "ipython",
    "version": 2
   },
   "file_extension": ".py",
   "mimetype": "text/x-python",
   "name": "python",
   "nbconvert_exporter": "python",
   "pygments_lexer": "ipython2",
   "version": "2.7.12"
  }
 },
 "nbformat": 4,
 "nbformat_minor": 0
}
