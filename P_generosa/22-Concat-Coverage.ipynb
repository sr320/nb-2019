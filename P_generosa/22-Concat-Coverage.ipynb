{
 "cells": [
  {
   "cell_type": "markdown",
   "metadata": {},
   "source": [
    "# Taking all juvenile data and getting coverage files"
   ]
  },
  {
   "cell_type": "code",
   "execution_count": 2,
   "metadata": {
    "ExecuteTime": {
     "end_time": "2019-08-27T13:04:38.840796Z",
     "start_time": "2019-08-27T13:04:38.701153Z"
    }
   },
   "outputs": [
    {
     "name": "stdout",
     "output_type": "stream",
     "text": [
      "PGA_scaffold1__77_contigs__length_89643857\t4\t4\t50\t1\t1\r\n",
      "PGA_scaffold1__77_contigs__length_89643857\t18\t18\t11.1111111111111\t1\t8\r\n",
      "PGA_scaffold1__77_contigs__length_89643857\t54\t54\t3.125\t1\t31\r\n",
      "PGA_scaffold1__77_contigs__length_89643857\t72\t72\t2.77777777777778\t1\t35\r\n",
      "PGA_scaffold1__77_contigs__length_89643857\t96\t96\t2.27272727272727\t1\t43\r\n",
      "PGA_scaffold1__77_contigs__length_89643857\t97\t97\t0\t0\t5\r\n",
      "PGA_scaffold1__77_contigs__length_89643857\t119\t119\t0\t0\t42\r\n",
      "PGA_scaffold1__77_contigs__length_89643857\t120\t120\t0\t0\t6\r\n",
      "PGA_scaffold1__77_contigs__length_89643857\t193\t193\t0\t0\t37\r\n",
      "PGA_scaffold1__77_contigs__length_89643857\t194\t194\t0\t0\t6\r\n"
     ]
    }
   ],
   "source": [
    "!head /Users/sr320/Desktop/Pg_val_1_bismark_bt2_pe.deduplicated.bismark.cov"
   ]
  },
  {
   "cell_type": "code",
   "execution_count": 3,
   "metadata": {
    "ExecuteTime": {
     "end_time": "2019-08-27T13:04:56.528449Z",
     "start_time": "2019-08-27T13:04:53.319712Z"
    }
   },
   "outputs": [
    {
     "name": "stdout",
     "output_type": "stream",
     "text": [
      " 28082000 /Users/sr320/Desktop/Pg_val_1_bismark_bt2_pe.deduplicated.bismark.cov\r\n"
     ]
    }
   ],
   "source": [
    "!wc -l /Users/sr320/Desktop/Pg_val_1_bismark_bt2_pe.deduplicated.bismark.cov"
   ]
  },
  {
   "cell_type": "code",
   "execution_count": 4,
   "metadata": {
    "ExecuteTime": {
     "end_time": "2019-08-27T13:09:39.104410Z",
     "start_time": "2019-08-27T13:07:28.303156Z"
    }
   },
   "outputs": [],
   "source": [
    "!perl ../scripts/destranding-bismark-cov.pl \\\n",
    "/Users/sr320/Desktop/Pg_val_1_bismark_bt2_pe.deduplicated.bismark.cov \\\n",
    "| awk '{print $1, $2, $3, $4, $5+$6}' | awk '{if ($5 >= 10) { print $1, $2-1, $3-1, $4}}' \\\n",
    "> analyses/Pg_val_destrand.10x.bedgraph"
   ]
  },
  {
   "cell_type": "code",
   "execution_count": 5,
   "metadata": {
    "ExecuteTime": {
     "end_time": "2019-08-27T13:10:21.009741Z",
     "start_time": "2019-08-27T13:10:20.865033Z"
    }
   },
   "outputs": [
    {
     "name": "stdout",
     "output_type": "stream",
     "text": [
      "PGA_scaffold1__77_contigs__length_89643857 53 54 3.125\r\n",
      "PGA_scaffold1__77_contigs__length_89643857 71 72 2.77777777777778\r\n",
      "PGA_scaffold1__77_contigs__length_89643857 95 96 2.0408\r\n",
      "PGA_scaffold1__77_contigs__length_89643857 118 119 0.0000\r\n",
      "PGA_scaffold1__77_contigs__length_89643857 192 193 0.0000\r\n",
      "PGA_scaffold1__77_contigs__length_89643857 201 202 0.0000\r\n",
      "PGA_scaffold1__77_contigs__length_89643857 208 209 0.0000\r\n",
      "PGA_scaffold1__77_contigs__length_89643857 212 213 0.0000\r\n",
      "PGA_scaffold1__77_contigs__length_89643857 220 221 0.0000\r\n",
      "PGA_scaffold1__77_contigs__length_89643857 237 238 1.3158\r\n"
     ]
    }
   ],
   "source": [
    "!head analyses/Pg_val_destrand.10x.bedgraph"
   ]
  },
  {
   "cell_type": "code",
   "execution_count": 6,
   "metadata": {
    "ExecuteTime": {
     "end_time": "2019-08-27T13:37:44.502866Z",
     "start_time": "2019-08-27T13:37:43.496709Z"
    }
   },
   "outputs": [
    {
     "name": "stdout",
     "output_type": "stream",
     "text": [
      " 12086789 analyses/Pg_val_destrand.10x.bedgraph\r\n"
     ]
    }
   ],
   "source": [
    "!wc -l analyses/Pg_val_destrand.10x.bedgraph"
   ]
  },
  {
   "cell_type": "code",
   "execution_count": null,
   "metadata": {
    "ExecuteTime": {
     "start_time": "2019-08-27T13:38:16.912Z"
    }
   },
   "outputs": [],
   "source": [
    "!wc -l /Volumes/web/halfshell/genomic-databank/Pgenerosa_v074.CpG.gff"
   ]
  },
  {
   "cell_type": "code",
   "execution_count": null,
   "metadata": {},
   "outputs": [],
   "source": []
  }
 ],
 "metadata": {
  "kernelspec": {
   "display_name": "Python 3",
   "language": "python",
   "name": "python3"
  },
  "language_info": {
   "codemirror_mode": {
    "name": "ipython",
    "version": 3
   },
   "file_extension": ".py",
   "mimetype": "text/x-python",
   "name": "python",
   "nbconvert_exporter": "python",
   "pygments_lexer": "ipython3",
   "version": "3.6.8"
  }
 },
 "nbformat": 4,
 "nbformat_minor": 2
}
