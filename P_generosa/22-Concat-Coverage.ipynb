{
 "cells": [
  {
   "cell_type": "markdown",
   "metadata": {},
   "source": [
    "# Taking all juvenile data and getting coverage files"
   ]
  },
  {
   "cell_type": "code",
   "execution_count": 2,
   "metadata": {
    "ExecuteTime": {
     "end_time": "2019-08-27T13:04:38.840796Z",
     "start_time": "2019-08-27T13:04:38.701153Z"
    }
   },
   "outputs": [
    {
     "name": "stdout",
     "output_type": "stream",
     "text": [
      "PGA_scaffold1__77_contigs__length_89643857\t4\t4\t50\t1\t1\r\n",
      "PGA_scaffold1__77_contigs__length_89643857\t18\t18\t11.1111111111111\t1\t8\r\n",
      "PGA_scaffold1__77_contigs__length_89643857\t54\t54\t3.125\t1\t31\r\n",
      "PGA_scaffold1__77_contigs__length_89643857\t72\t72\t2.77777777777778\t1\t35\r\n",
      "PGA_scaffold1__77_contigs__length_89643857\t96\t96\t2.27272727272727\t1\t43\r\n",
      "PGA_scaffold1__77_contigs__length_89643857\t97\t97\t0\t0\t5\r\n",
      "PGA_scaffold1__77_contigs__length_89643857\t119\t119\t0\t0\t42\r\n",
      "PGA_scaffold1__77_contigs__length_89643857\t120\t120\t0\t0\t6\r\n",
      "PGA_scaffold1__77_contigs__length_89643857\t193\t193\t0\t0\t37\r\n",
      "PGA_scaffold1__77_contigs__length_89643857\t194\t194\t0\t0\t6\r\n"
     ]
    }
   ],
   "source": [
    "!head /Users/sr320/Desktop/Pg_val_1_bismark_bt2_pe.deduplicated.bismark.cov"
   ]
  },
  {
   "cell_type": "code",
   "execution_count": 3,
   "metadata": {
    "ExecuteTime": {
     "end_time": "2019-08-27T13:04:56.528449Z",
     "start_time": "2019-08-27T13:04:53.319712Z"
    }
   },
   "outputs": [
    {
     "name": "stdout",
     "output_type": "stream",
     "text": [
      " 28082000 /Users/sr320/Desktop/Pg_val_1_bismark_bt2_pe.deduplicated.bismark.cov\r\n"
     ]
    }
   ],
   "source": [
    "!wc -l /Users/sr320/Desktop/Pg_val_1_bismark_bt2_pe.deduplicated.bismark.cov"
   ]
  },
  {
   "cell_type": "code",
   "execution_count": 4,
   "metadata": {
    "ExecuteTime": {
     "end_time": "2019-08-27T13:09:39.104410Z",
     "start_time": "2019-08-27T13:07:28.303156Z"
    }
   },
   "outputs": [],
   "source": [
    "!perl ../scripts/destranding-bismark-cov.pl \\\n",
    "/Users/sr320/Desktop/Pg_val_1_bismark_bt2_pe.deduplicated.bismark.cov \\\n",
    "| awk '{print $1, $2, $3, $4, $5+$6}' | awk '{if ($5 >= 10) { print $1, $2-1, $3-1, $4}}' \\\n",
    "> analyses/Pg_val_destrand.10x.bedgraph"
   ]
  },
  {
   "cell_type": "code",
   "execution_count": 5,
   "metadata": {
    "ExecuteTime": {
     "end_time": "2019-08-27T13:10:21.009741Z",
     "start_time": "2019-08-27T13:10:20.865033Z"
    }
   },
   "outputs": [
    {
     "name": "stdout",
     "output_type": "stream",
     "text": [
      "PGA_scaffold1__77_contigs__length_89643857 53 54 3.125\r\n",
      "PGA_scaffold1__77_contigs__length_89643857 71 72 2.77777777777778\r\n",
      "PGA_scaffold1__77_contigs__length_89643857 95 96 2.0408\r\n",
      "PGA_scaffold1__77_contigs__length_89643857 118 119 0.0000\r\n",
      "PGA_scaffold1__77_contigs__length_89643857 192 193 0.0000\r\n",
      "PGA_scaffold1__77_contigs__length_89643857 201 202 0.0000\r\n",
      "PGA_scaffold1__77_contigs__length_89643857 208 209 0.0000\r\n",
      "PGA_scaffold1__77_contigs__length_89643857 212 213 0.0000\r\n",
      "PGA_scaffold1__77_contigs__length_89643857 220 221 0.0000\r\n",
      "PGA_scaffold1__77_contigs__length_89643857 237 238 1.3158\r\n"
     ]
    }
   ],
   "source": [
    "!head analyses/Pg_val_destrand.10x.bedgraph"
   ]
  },
  {
   "cell_type": "code",
   "execution_count": 6,
   "metadata": {
    "ExecuteTime": {
     "end_time": "2019-08-27T13:37:44.502866Z",
     "start_time": "2019-08-27T13:37:43.496709Z"
    }
   },
   "outputs": [
    {
     "name": "stdout",
     "output_type": "stream",
     "text": [
      " 12086789 analyses/Pg_val_destrand.10x.bedgraph\r\n"
     ]
    }
   ],
   "source": [
    "!wc -l analyses/Pg_val_destrand.10x.bedgraph"
   ]
  },
  {
   "cell_type": "code",
   "execution_count": 7,
   "metadata": {
    "ExecuteTime": {
     "end_time": "2019-08-27T14:02:03.325950Z",
     "start_time": "2019-08-27T13:38:16.917316Z"
    }
   },
   "outputs": [
    {
     "name": "stdout",
     "output_type": "stream",
     "text": [
      " 15712294 /Volumes/web/halfshell/genomic-databank/Pgenerosa_v074.CpG.gff\r\n"
     ]
    }
   ],
   "source": [
    "!wc -l /Volumes/web/halfshell/genomic-databank/Pgenerosa_v074.CpG.gff"
   ]
  },
  {
   "cell_type": "code",
   "execution_count": 8,
   "metadata": {
    "ExecuteTime": {
     "end_time": "2019-08-27T14:17:17.604851Z",
     "start_time": "2019-08-27T14:17:17.535030Z"
    }
   },
   "outputs": [
    {
     "data": {
      "text/plain": [
       "3625505"
      ]
     },
     "execution_count": 8,
     "metadata": {},
     "output_type": "execute_result"
    }
   ],
   "source": [
    "15712294-12086789"
   ]
  },
  {
   "cell_type": "code",
   "execution_count": 9,
   "metadata": {
    "ExecuteTime": {
     "end_time": "2019-08-27T14:17:30.292083Z",
     "start_time": "2019-08-27T14:17:30.282167Z"
    }
   },
   "outputs": [
    {
     "data": {
      "text/plain": [
       "27799083"
      ]
     },
     "execution_count": 9,
     "metadata": {},
     "output_type": "execute_result"
    }
   ],
   "source": [
    "15712294+12086789"
   ]
  },
  {
   "cell_type": "code",
   "execution_count": 10,
   "metadata": {
    "ExecuteTime": {
     "end_time": "2019-08-27T14:17:48.749536Z",
     "start_time": "2019-08-27T14:17:48.740423Z"
    }
   },
   "outputs": [
    {
     "data": {
      "text/plain": [
       "0.4347909245783395"
      ]
     },
     "execution_count": 10,
     "metadata": {},
     "output_type": "execute_result"
    }
   ],
   "source": [
    "12086789/27799083"
   ]
  },
  {
   "cell_type": "code",
   "execution_count": 2,
   "metadata": {
    "ExecuteTime": {
     "end_time": "2019-09-04T15:36:43.007120Z",
     "start_time": "2019-09-04T15:34:38.397457Z"
    }
   },
   "outputs": [],
   "source": [
    "!perl ../scripts/destranding-bismark-cov.pl \\\n",
    "/Users/sr320/Desktop/Pg_val_1_bismark_bt2_pe.deduplicated.bismark.cov \\\n",
    "| awk '{print $1, $2, $3, $4, $5+$6}' | awk '{if ($5 >= 5) { print $1, $2-1, $3-1, $4}}' \\\n",
    "> analyses/Pg_val_destrand.5x.bedgraph"
   ]
  },
  {
   "cell_type": "code",
   "execution_count": 3,
   "metadata": {
    "ExecuteTime": {
     "end_time": "2019-09-04T15:36:44.105139Z",
     "start_time": "2019-09-04T15:36:43.011421Z"
    }
   },
   "outputs": [
    {
     "name": "stdout",
     "output_type": "stream",
     "text": [
      " 13618340 analyses/Pg_val_destrand.5x.bedgraph\r\n"
     ]
    }
   ],
   "source": [
    "!wc -l analyses/Pg_val_destrand.5x.bedgraph"
   ]
  },
  {
   "cell_type": "code",
   "execution_count": 4,
   "metadata": {
    "ExecuteTime": {
     "end_time": "2019-09-04T15:44:37.841242Z",
     "start_time": "2019-09-04T15:44:37.822505Z"
    }
   },
   "outputs": [
    {
     "data": {
      "text/plain": [
       "0.8667314906403865"
      ]
     },
     "execution_count": 4,
     "metadata": {},
     "output_type": "execute_result"
    }
   ],
   "source": [
    "13618340/15712294\n"
   ]
  },
  {
   "cell_type": "code",
   "execution_count": 5,
   "metadata": {
    "ExecuteTime": {
     "end_time": "2019-09-04T15:45:01.201553Z",
     "start_time": "2019-09-04T15:45:01.193682Z"
    }
   },
   "outputs": [
    {
     "data": {
      "text/plain": [
       "0.7692567998027532"
      ]
     },
     "execution_count": 5,
     "metadata": {},
     "output_type": "execute_result"
    }
   ],
   "source": [
    "12086789/15712294"
   ]
  },
  {
   "cell_type": "code",
   "execution_count": null,
   "metadata": {},
   "outputs": [],
   "source": []
  }
 ],
 "metadata": {
  "kernelspec": {
   "display_name": "Python 3",
   "language": "python",
   "name": "python3"
  },
  "language_info": {
   "codemirror_mode": {
    "name": "ipython",
    "version": 3
   },
   "file_extension": ".py",
   "mimetype": "text/x-python",
   "name": "python",
   "nbconvert_exporter": "python",
   "pygments_lexer": "ipython3",
   "version": "3.6.8"
  }
 },
 "nbformat": 4,
 "nbformat_minor": 2
}
