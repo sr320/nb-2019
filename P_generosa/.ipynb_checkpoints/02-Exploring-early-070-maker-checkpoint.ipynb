{
 "cells": [
  {
   "cell_type": "code",
   "execution_count": 3,
   "metadata": {
    "collapsed": false
   },
   "outputs": [
    {
     "name": "stdout",
     "output_type": "stream",
     "text": [
      "##gff-version 3\r\n",
      "PGA_scaffold111520__1_contigs__length_1373\t.\tcontig\t1\t1373\t.\t.\t.\tID=PGA_scaffold111520__1_contigs__length_1373;Name=PGA_scaffold111520__1_contigs__length_1373\r\n",
      "###\r\n",
      "PGA_scaffold111520__1_contigs__length_1373\trepeatmasker\tmatch\t60\t173\t686\t+\t.\tID=PGA_scaffold111520__1_contigs__length_1373:hit:328291:1.3.0.0;Name=species:rnd-5_family-1667|genus:Unknown;Target=species:rnd-5_family-1667|genus:Unknown 407 521 +\r\n",
      "PGA_scaffold111520__1_contigs__length_1373\trepeatmasker\tmatch_part\t60\t173\t686\t+\t.\tID=PGA_scaffold111520__1_contigs__length_1373:hsp:532676:1.3.0.0;Parent=PGA_scaffold111520__1_contigs__length_1373:hit:328291:1.3.0.0;Target=species:rnd-5_family-1667|genus:Unknown 407 521 +\r\n",
      "PGA_scaffold111520__1_contigs__length_1373\trepeatmasker\tmatch\t347\t396\t240\t+\t.\tID=PGA_scaffold111520__1_contigs__length_1373:hit:328292:1.3.0.0;Name=species:BivaMD-SINE1_CrVi|genus:SINE%2FtRNA;Target=species:BivaMD-SINE1_CrVi|genus:SINE%2FtRNA 15 64 +\r\n",
      "PGA_scaffold111520__1_contigs__length_1373\trepeatmasker\tmatch_part\t347\t396\t240\t+\t.\tID=PGA_scaffold111520__1_contigs__length_1373:hsp:532677:1.3.0.0;Parent=PGA_scaffold111520__1_contigs__length_1373:hit:328292:1.3.0.0;Target=species:BivaMD-SINE1_CrVi|genus:SINE%252FtRNA 15 64 +\r\n",
      "PGA_scaffold111520__1_contigs__length_1373\trepeatmasker\tmatch\t573\t633\t242\t+\t.\tID=PGA_scaffold111520__1_contigs__length_1373:hit:328293:1.3.0.0;Name=species:rnd-1_family-113|genus:DNA%2FCMC-EnSpm;Target=species:rnd-1_family-113|genus:DNA%2FCMC-EnSpm 425 484 +\r\n",
      "PGA_scaffold111520__1_contigs__length_1373\trepeatmasker\tmatch_part\t573\t633\t242\t+\t.\tID=PGA_scaffold111520__1_contigs__length_1373:hsp:532678:1.3.0.0;Parent=PGA_scaffold111520__1_contigs__length_1373:hit:328293:1.3.0.0;Target=species:rnd-1_family-113|genus:DNA%252FCMC-EnSpm 425 484 +\r\n",
      "PGA_scaffold111520__1_contigs__length_1373\trepeatmasker\tmatch\t684\t765\t344\t+\t.\tID=PGA_scaffold111520__1_contigs__length_1373:hit:328294:1.3.0.0;Name=species:BivaCORE-SINE1_RuDe|genus:SINE%2FtRNA-Core;Target=species:BivaCORE-SINE1_RuDe|genus:SINE%2FtRNA-Core 123 203 +\r\n"
     ]
    }
   ],
   "source": [
    "!head /Volumes/Serine/wd/19-02-16/Pgenerosa_v070.all.gff"
   ]
  },
  {
   "cell_type": "code",
   "execution_count": 5,
   "metadata": {
    "collapsed": false
   },
   "outputs": [
    {
     "name": "stdout",
     "output_type": "stream",
     "text": [
      "3\r\n",
      ".\r\n",
      "\r\n",
      "repeatmasker\r\n",
      "repeatmasker\r\n",
      "repeatmasker\r\n",
      "repeatmasker\r\n",
      "repeatmasker\r\n",
      "repeatmasker\r\n",
      "repeatmasker\r\n"
     ]
    }
   ],
   "source": [
    "!head /Volumes/Serine/wd/19-02-16/Pgenerosa_v070.all.gff | awk '{print $2}' "
   ]
  },
  {
   "cell_type": "code",
   "execution_count": null,
   "metadata": {
    "collapsed": false,
    "deletable": true,
    "editable": true
   },
   "outputs": [],
   "source": [
    "!cat /Volumes/Serine/wd/19-02-16/Pgenerosa_v070.all.gff | awk '{print $2}' | sort | uniq"
   ]
  },
  {
   "cell_type": "code",
   "execution_count": null,
   "metadata": {
    "collapsed": true
   },
   "outputs": [],
   "source": []
  }
 ],
 "metadata": {
  "kernelspec": {
   "display_name": "Python 2",
   "language": "python",
   "name": "python2"
  },
  "language_info": {
   "codemirror_mode": {
    "name": "ipython",
    "version": 2
   },
   "file_extension": ".py",
   "mimetype": "text/x-python",
   "name": "python",
   "nbconvert_exporter": "python",
   "pygments_lexer": "ipython2",
   "version": "2.7.12"
  }
 },
 "nbformat": 4,
 "nbformat_minor": 0
}
