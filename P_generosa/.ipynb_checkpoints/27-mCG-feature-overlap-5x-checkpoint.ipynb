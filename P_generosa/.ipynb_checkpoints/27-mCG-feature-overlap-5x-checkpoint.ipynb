{
 "cells": [
  {
   "cell_type": "code",
   "execution_count": 1,
   "metadata": {
    "ExecuteTime": {
     "end_time": "2019-09-04T21:59:38.512371Z",
     "start_time": "2019-09-04T21:59:38.345688Z"
    }
   },
   "outputs": [
    {
     "name": "stdout",
     "output_type": "stream",
     "text": [
      "analyses/Pg_val_destrand.5x.50p.bed    analyses/Pg_val_destrand.5x.zero.bed\r\n",
      "analyses/Pg_val_destrand.5x.sparse.bed\r\n"
     ]
    }
   ],
   "source": [
    "!ls analyses/Pg_val_*.bed"
   ]
  },
  {
   "cell_type": "code",
   "execution_count": 6,
   "metadata": {
    "ExecuteTime": {
     "end_time": "2019-09-04T22:01:59.300111Z",
     "start_time": "2019-09-04T22:01:59.160447Z"
    }
   },
   "outputs": [
    {
     "name": "stdout",
     "output_type": "stream",
     "text": [
      "Panopea-generosa-vv0.74.a3.exon.gff3   Panopea-generosa-vv0.74.a3.rm.gff3\r\n",
      "Panopea-generosa-vv0.74.a3.gene.gff3   Panopea-generosa-vv0.74.a3.rm.gff3.idx\r\n",
      "Panopea-generosa-vv0.74.a3.intron.bed  Pgenerosa_v074.CpG.gff\r\n"
     ]
    }
   ],
   "source": [
    "!ls tracks/"
   ]
  },
  {
   "cell_type": "code",
   "execution_count": 5,
   "metadata": {
    "ExecuteTime": {
     "end_time": "2019-09-04T22:01:12.281012Z",
     "start_time": "2019-09-04T22:01:04.481791Z"
    }
   },
   "outputs": [
    {
     "name": "stdout",
     "output_type": "stream",
     "text": [
      " 2473520\r\n"
     ]
    }
   ],
   "source": [
    "!/Applications/bioinfo/bedtools2/bin/intersectBed \\\n",
    "-u \\\n",
    "-a analyses/Pg_val_destrand.5x.50p.bed \\\n",
    "-b tracks/Panopea-generosa-vv0.74.a3.gene.gff3 \\\n",
    "| wc -l\n"
   ]
  },
  {
   "cell_type": "code",
   "execution_count": 9,
   "metadata": {
    "ExecuteTime": {
     "end_time": "2019-09-04T22:07:14.390014Z",
     "start_time": "2019-09-04T22:06:37.497312Z"
    }
   },
   "outputs": [
    {
     "name": "stdout",
     "output_type": "stream",
     "text": [
      " 2473520 50p_intersect_gene_u.txt\n",
      " 2599958 sparse_intersect_gene_u.txt\n",
      " 3683543 zero_intersect_gene_u.txt\n"
     ]
    }
   ],
   "source": [
    "for i in (\"50p\",\"sparse\",\"zero\"):\n",
    "    !/Applications/bioinfo/bedtools2/bin/intersectBed \\\n",
    "    -u \\\n",
    "    -a analyses/Pg_val_destrand.5x.{i}.bed \\\n",
    "    -b tracks/Panopea-generosa-vv0.74.a3.gene.gff3 \\\n",
    "    > analyses/{i}_intersect_gene_u.txt\n",
    "    !wc -l analyses/{i}_intersect_gene_u.txt"
   ]
  },
  {
   "cell_type": "code",
   "execution_count": 10,
   "metadata": {
    "ExecuteTime": {
     "end_time": "2019-09-04T22:10:18.522468Z",
     "start_time": "2019-09-04T22:09:31.242382Z"
    }
   },
   "outputs": [
    {
     "name": "stdout",
     "output_type": "stream",
     "text": [
      " 10031970\r\n"
     ]
    }
   ],
   "source": [
    "!/Applications/bioinfo/bedtools2/bin/intersectBed \\\n",
    "    -u \\\n",
    "    -a tracks/Pgenerosa_v074.CpG.gff \\\n",
    "    -b tracks/Panopea-generosa-vv0.74.a3.gene.gff3 \\\n",
    "    | wc -l "
   ]
  },
  {
   "cell_type": "code",
   "execution_count": 11,
   "metadata": {
    "ExecuteTime": {
     "end_time": "2019-09-04T22:12:43.755758Z",
     "start_time": "2019-09-04T22:12:21.565278Z"
    }
   },
   "outputs": [
    {
     "name": "stdout",
     "output_type": "stream",
     "text": [
      "  401496 analyses/50p_intersect_exon_u.txt\n",
      "  479514 analyses/sparse_intersect_exon_u.txt\n",
      "  489064 analyses/zero_intersect_exon_u.txt\n"
     ]
    }
   ],
   "source": [
    "for i in (\"50p\",\"sparse\",\"zero\"):\n",
    "    !/Applications/bioinfo/bedtools2/bin/intersectBed \\\n",
    "    -u \\\n",
    "    -a analyses/Pg_val_destrand.5x.{i}.bed \\\n",
    "    -b tracks/Panopea-generosa-vv0.74.a3.exon.gff3 \\\n",
    "    > analyses/{i}_intersect_exon_u.txt\n",
    "    !wc -l analyses/{i}_intersect_exon_u.txt"
   ]
  },
  {
   "cell_type": "code",
   "execution_count": 12,
   "metadata": {
    "ExecuteTime": {
     "end_time": "2019-09-04T22:13:17.447358Z",
     "start_time": "2019-09-04T22:12:43.759455Z"
    }
   },
   "outputs": [
    {
     "name": "stdout",
     "output_type": "stream",
     "text": [
      " 1477128\r\n"
     ]
    }
   ],
   "source": [
    "!/Applications/bioinfo/bedtools2/bin/intersectBed \\\n",
    "    -u \\\n",
    "    -a tracks/Pgenerosa_v074.CpG.gff \\\n",
    "    -b tracks/Panopea-generosa-vv0.74.a3.exon.gff3 \\\n",
    "    | wc -l "
   ]
  },
  {
   "cell_type": "code",
   "execution_count": 16,
   "metadata": {
    "ExecuteTime": {
     "end_time": "2019-09-04T22:23:07.623069Z",
     "start_time": "2019-09-04T22:22:35.077174Z"
    }
   },
   "outputs": [
    {
     "name": "stdout",
     "output_type": "stream",
     "text": [
      " 2071998 analyses/50p_intersect_intron_u.txt\n",
      " 2120417 analyses/sparse_intersect_intron_u.txt\n",
      " 3194393 analyses/zero_intersect_intron_u.txt\n"
     ]
    }
   ],
   "source": [
    "for i in (\"50p\",\"sparse\",\"zero\"):\n",
    "    !/Applications/bioinfo/bedtools2/bin/intersectBed \\\n",
    "    -u \\\n",
    "    -a analyses/Pg_val_destrand.5x.{i}.bed \\\n",
    "    -b tracks/Panopea-generosa-vv0.74.a3.intron.bed \\\n",
    "    > analyses/{i}_intersect_intron_u.txt\n",
    "    !wc -l analyses/{i}_intersect_intron_u.txt"
   ]
  },
  {
   "cell_type": "code",
   "execution_count": 17,
   "metadata": {
    "ExecuteTime": {
     "end_time": "2019-09-04T22:23:53.802329Z",
     "start_time": "2019-09-04T22:23:07.627214Z"
    }
   },
   "outputs": [
    {
     "name": "stdout",
     "output_type": "stream",
     "text": [
      " 8557839\r\n"
     ]
    }
   ],
   "source": [
    "!/Applications/bioinfo/bedtools2/bin/intersectBed \\\n",
    "    -u \\\n",
    "    -a tracks/Pgenerosa_v074.CpG.gff \\\n",
    "    -b tracks/Panopea-generosa-vv0.74.a3.intron.bed \\\n",
    "    | wc -l "
   ]
  },
  {
   "cell_type": "code",
   "execution_count": 19,
   "metadata": {
    "ExecuteTime": {
     "end_time": "2019-09-04T22:25:56.277418Z",
     "start_time": "2019-09-04T22:25:08.981486Z"
    }
   },
   "outputs": [
    {
     "name": "stdout",
     "output_type": "stream",
     "text": [
      "  304677 analyses/50p_intersect_rm_u.txt\n",
      "  492867 analyses/sparse_intersect_rm_u.txt\n",
      "  324875 analyses/zero_intersect_rm_u.txt\n"
     ]
    }
   ],
   "source": [
    "for i in (\"50p\",\"sparse\",\"zero\"):\n",
    "    !/Applications/bioinfo/bedtools2/bin/intersectBed \\\n",
    "    -u \\\n",
    "    -a analyses/Pg_val_destrand.5x.{i}.bed \\\n",
    "    -b tracks/Panopea-generosa-vv0.74.a3.rm.gff3 \\\n",
    "    > analyses/{i}_intersect_rm_u.txt\n",
    "    !wc -l analyses/{i}_intersect_rm_u.txt"
   ]
  },
  {
   "cell_type": "code",
   "execution_count": 20,
   "metadata": {
    "ExecuteTime": {
     "end_time": "2019-09-04T22:26:52.751091Z",
     "start_time": "2019-09-04T22:25:56.284208Z"
    }
   },
   "outputs": [
    {
     "name": "stdout",
     "output_type": "stream",
     "text": [
      " 1233039\r\n"
     ]
    }
   ],
   "source": [
    "!/Applications/bioinfo/bedtools2/bin/intersectBed \\\n",
    "    -u \\\n",
    "    -a tracks/Pgenerosa_v074.CpG.gff \\\n",
    "    -b tracks/Panopea-generosa-vv0.74.a3.rm.gff3 \\\n",
    "    | wc -l "
   ]
  },
  {
   "cell_type": "code",
   "execution_count": null,
   "metadata": {},
   "outputs": [],
   "source": []
  }
 ],
 "metadata": {
  "kernelspec": {
   "display_name": "Python 3",
   "language": "python",
   "name": "python3"
  },
  "language_info": {
   "codemirror_mode": {
    "name": "ipython",
    "version": 3
   },
   "file_extension": ".py",
   "mimetype": "text/x-python",
   "name": "python",
   "nbconvert_exporter": "python",
   "pygments_lexer": "ipython3",
   "version": "3.6.8"
  }
 },
 "nbformat": 4,
 "nbformat_minor": 2
}
