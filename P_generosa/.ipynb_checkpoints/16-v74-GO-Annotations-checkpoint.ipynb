{
 "cells": [
  {
   "cell_type": "code",
   "execution_count": 6,
   "metadata": {
    "ExecuteTime": {
     "end_time": "2019-08-17T14:13:30.288878Z",
     "start_time": "2019-08-17T14:13:29.162066Z"
    }
   },
   "outputs": [
    {
     "name": "stdout",
     "output_type": "stream",
     "text": [
      "--2019-08-17 10:13:29--  https://gannet.fish.washington.edu/Atumefaciens/20190701_pgen_maker_v074_annotation/blastp_annotation/blastp.outfmt6\n",
      "Resolving gannet.fish.washington.edu (gannet.fish.washington.edu)... 128.95.149.52\n",
      "Connecting to gannet.fish.washington.edu (gannet.fish.washington.edu)|128.95.149.52|:443... connected.\n",
      "HTTP request sent, awaiting response... 200 OK\n",
      "Length: 143646 (140K)\n",
      "Saving to: ‘blastp.outfmt6’\n",
      "\n",
      "blastp.outfmt6      100%[===================>] 140.28K   260KB/s    in 0.5s    \n",
      "\n",
      "2019-08-17 10:13:30 (260 KB/s) - ‘blastp.outfmt6’ saved [143646/143646]\n",
      "\n"
     ]
    }
   ],
   "source": [
    "!wget https://gannet.fish.washington.edu/Atumefaciens/20190701_pgen_maker_v074_annotation/blastp_annotation/blastp.outfmt6\n",
    "    "
   ]
  },
  {
   "cell_type": "code",
   "execution_count": 8,
   "metadata": {
    "ExecuteTime": {
     "end_time": "2019-08-17T14:13:47.603750Z",
     "start_time": "2019-08-17T14:13:47.476688Z"
    }
   },
   "outputs": [],
   "source": [
    "!mv blastp.outfmt6 data/"
   ]
  },
  {
   "cell_type": "code",
   "execution_count": 9,
   "metadata": {
    "ExecuteTime": {
     "end_time": "2019-08-17T14:13:53.933658Z",
     "start_time": "2019-08-17T14:13:53.803765Z"
    }
   },
   "outputs": [
    {
     "name": "stdout",
     "output_type": "stream",
     "text": [
      "\u001b[34mGeoduck_Meth-master\u001b[m\u001b[m\r\n",
      "Pgenerosa_v070.a.makergene.blastx.uniprot.tab\r\n",
      "Pgenerosa_v070.a.makergene.gff\r\n",
      "Pgenerosa_v070.fa\r\n",
      "Pgenerosa_v071.fasta\r\n",
      "Pgenerosa_v071.fasta.fai\r\n",
      "Pgenerosa_v073.fasta\r\n",
      "blastp.outfmt6\r\n",
      "geo-tran4-v071.gff\r\n",
      "geo-tran4-v071.sorted.gff\r\n",
      "geo-tran4-v071.sorted.gff.idx\r\n",
      "pgen_bsseq_all_R1_bismark_bt2.deduplicated.bedGraph\r\n",
      "pgen_bsseq_all_R1_bismark_bt2.deduplicated.bedGraph.tdf\r\n"
     ]
    }
   ],
   "source": [
    "!ls data/"
   ]
  },
  {
   "cell_type": "code",
   "execution_count": 10,
   "metadata": {
    "ExecuteTime": {
     "end_time": "2019-08-17T14:14:32.864789Z",
     "start_time": "2019-08-17T14:14:32.730847Z"
    }
   },
   "outputs": [
    {
     "name": "stdout",
     "output_type": "stream",
     "text": [
      "PGEN_00000881-RA\tsp|B7QDG3|NNRE_IXOSC\t47.059\t119\t34\t4\t3\t94\t45\t161\t2.36e-26\t100\r\n",
      "PGEN_00000882-RA\tsp|F7FIH8|NNRE_MONDO\t70.000\t50\t15\t0\t15\t64\t235\t284\t1.78e-19\t82.4\r\n",
      "PGEN_00000887-RA\tsp|O75339|CILP1_HUMAN\t43.137\t51\t27\t2\t1\t50\t152\t201\t3.28e-07\t49.7\r\n",
      "PGEN_00000888-RA\tsp|Q7YRK5|COX7C_TARSY\t48.333\t60\t29\t1\t8\t67\t6\t63\t1.89e-11\t56.2\r\n",
      "PGEN_00000890-RA\tsp|Q60520|SIN3A_MOUSE\t43.646\t1086\t375\t22\t50\t970\t253\t1266\t0.0\t819\r\n",
      "PGEN_00000890-RA\tsp|Q60520|SIN3A_MOUSE\t47.134\t157\t57\t9\t2\t138\t16\t166\t1.13e-21\t105\r\n",
      "PGEN_00000893-RA\tsp|Q15796|SMAD2_HUMAN\t65.744\t289\t56\t3\t4\t249\t175\t463\t1.41e-129\t377\r\n",
      "PGEN_00000897-RA\tsp|Q8TF20|ZN721_HUMAN\t57.317\t82\t31\t1\t2\t83\t285\t362\t1.38e-21\t94.7\r\n",
      "PGEN_00000897-RA\tsp|Q8TF20|ZN721_HUMAN\t68.254\t63\t20\t0\t2\t64\t509\t571\t1.84e-21\t94.4\r\n",
      "PGEN_00000897-RA\tsp|Q8TF20|ZN721_HUMAN\t57.500\t80\t30\t1\t2\t81\t817\t892\t3.68e-21\t93.6\r\n"
     ]
    }
   ],
   "source": [
    "!head data/blastp.outfmt6"
   ]
  },
  {
   "cell_type": "code",
   "execution_count": null,
   "metadata": {},
   "outputs": [],
   "source": []
  }
 ],
 "metadata": {
  "kernelspec": {
   "display_name": "Python 3",
   "language": "python",
   "name": "python3"
  },
  "language_info": {
   "codemirror_mode": {
    "name": "ipython",
    "version": 3
   },
   "file_extension": ".py",
   "mimetype": "text/x-python",
   "name": "python",
   "nbconvert_exporter": "python",
   "pygments_lexer": "ipython3",
   "version": "3.6.8"
  }
 },
 "nbformat": 4,
 "nbformat_minor": 2
}
