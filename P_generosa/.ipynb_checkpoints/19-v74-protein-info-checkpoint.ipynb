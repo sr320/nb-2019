{
 "cells": [
  {
   "cell_type": "code",
   "execution_count": 4,
   "metadata": {
    "ExecuteTime": {
     "end_time": "2019-08-21T16:26:49.050663Z",
     "start_time": "2019-08-21T16:26:48.825740Z"
    }
   },
   "outputs": [
    {
     "name": "stdout",
     "output_type": "stream",
     "text": [
      "--2019-08-21 09:26:48--  https://gannet.fish.washington.edu/Atumefaciens/20190701_pgen_maker_v074_annotation/blastp_annotation/blastp.outfmt6\n",
      "Resolving gannet.fish.washington.edu (gannet.fish.washington.edu)... 128.95.149.52\n",
      "Connecting to gannet.fish.washington.edu (gannet.fish.washington.edu)|128.95.149.52|:443... connected.\n",
      "HTTP request sent, awaiting response... 200 OK\n",
      "Length: 143646 (140K)\n",
      "Saving to: ‘blastp.outfmt6’\n",
      "\n",
      "blastp.outfmt6      100%[===================>] 140.28K  --.-KB/s    in 0.03s   \n",
      "\n",
      "2019-08-21 09:26:48 (5.05 MB/s) - ‘blastp.outfmt6’ saved [143646/143646]\n",
      "\n"
     ]
    }
   ],
   "source": [
    "!wget https://gannet.fish.washington.edu/Atumefaciens/20190701_pgen_maker_v074_annotation/blastp_annotation/blastp.outfmt6"
   ]
  },
  {
   "cell_type": "code",
   "execution_count": 5,
   "metadata": {
    "ExecuteTime": {
     "end_time": "2019-08-21T16:26:54.920398Z",
     "start_time": "2019-08-21T16:26:54.785748Z"
    }
   },
   "outputs": [
    {
     "name": "stdout",
     "output_type": "stream",
     "text": [
      "01-Exploring-Genome-v070.ipynb      15-Big-Mystery-Scaffold.ipynb\r\n",
      "02-Exploring-early-070-maker.ipynb  16-v74-GO-Annotations.ipynb\r\n",
      "03-Simple-gene-track.ipynb          17-Coverage-IGV-v74.ipynb\r\n",
      "04-Genes-from-preMaker.ipynb        18-Downloading-BAMs.ipynb\r\n",
      "05-Joining-HP-gene-IDs.ipynb        19-v74-protein-info.ipynb\r\n",
      "06.ipynb                            50-methylkit.Rmd\r\n",
      "\u001b[34m065_bismark\u001b[m\u001b[m/                        \u001b[34manalyses\u001b[m\u001b[m/\r\n",
      "07-Gene-names-preMaker.ipynb        blastp.outfmt6\r\n",
      "10-Gene-Methylation.ipynb           \u001b[34mdata\u001b[m\u001b[m/\r\n",
      "11-genome-recip-blast.ipynb         \u001b[34migv\u001b[m\u001b[m/\r\n",
      "12-Exploring-HiC.ipynb              \u001b[34mimg\u001b[m\u001b[m/\r\n",
      "13-18scaffold-assembly.ipynb        \u001b[34mnotes\u001b[m\u001b[m/\r\n",
      "14-Bismark-v074.ipynb               \u001b[34mwd\u001b[m\u001b[m/\r\n"
     ]
    }
   ],
   "source": [
    "ls"
   ]
  },
  {
   "cell_type": "code",
   "execution_count": 6,
   "metadata": {
    "ExecuteTime": {
     "end_time": "2019-08-21T16:27:44.553709Z",
     "start_time": "2019-08-21T16:27:44.420416Z"
    }
   },
   "outputs": [],
   "source": [
    "!mv blastp.outfmt6 analyses/blastp_v074.outfmt6"
   ]
  },
  {
   "cell_type": "code",
   "execution_count": 7,
   "metadata": {
    "ExecuteTime": {
     "end_time": "2019-08-21T16:27:57.967358Z",
     "start_time": "2019-08-21T16:27:57.827824Z"
    }
   },
   "outputs": [
    {
     "name": "stdout",
     "output_type": "stream",
     "text": [
      "PGEN_00000881-RA\tsp|B7QDG3|NNRE_IXOSC\t47.059\t119\t34\t4\t3\t94\t45\t161\t2.36e-26\t100\r\n",
      "PGEN_00000882-RA\tsp|F7FIH8|NNRE_MONDO\t70.000\t50\t15\t0\t15\t64\t235\t284\t1.78e-19\t82.4\r\n",
      "PGEN_00000887-RA\tsp|O75339|CILP1_HUMAN\t43.137\t51\t27\t2\t1\t50\t152\t201\t3.28e-07\t49.7\r\n",
      "PGEN_00000888-RA\tsp|Q7YRK5|COX7C_TARSY\t48.333\t60\t29\t1\t8\t67\t6\t63\t1.89e-11\t56.2\r\n",
      "PGEN_00000890-RA\tsp|Q60520|SIN3A_MOUSE\t43.646\t1086\t375\t22\t50\t970\t253\t1266\t0.0\t819\r\n",
      "PGEN_00000890-RA\tsp|Q60520|SIN3A_MOUSE\t47.134\t157\t57\t9\t2\t138\t16\t166\t1.13e-21\t105\r\n",
      "PGEN_00000893-RA\tsp|Q15796|SMAD2_HUMAN\t65.744\t289\t56\t3\t4\t249\t175\t463\t1.41e-129\t377\r\n",
      "PGEN_00000897-RA\tsp|Q8TF20|ZN721_HUMAN\t57.317\t82\t31\t1\t2\t83\t285\t362\t1.38e-21\t94.7\r\n",
      "PGEN_00000897-RA\tsp|Q8TF20|ZN721_HUMAN\t68.254\t63\t20\t0\t2\t64\t509\t571\t1.84e-21\t94.4\r\n",
      "PGEN_00000897-RA\tsp|Q8TF20|ZN721_HUMAN\t57.500\t80\t30\t1\t2\t81\t817\t892\t3.68e-21\t93.6\r\n"
     ]
    }
   ],
   "source": [
    "!head analyses/blastp_v074.outfmt6"
   ]
  },
  {
   "cell_type": "code",
   "execution_count": 8,
   "metadata": {
    "ExecuteTime": {
     "end_time": "2019-08-21T16:28:49.067024Z",
     "start_time": "2019-08-21T16:28:48.905650Z"
    }
   },
   "outputs": [],
   "source": [
    "!tr '|' '\\t' < analyses/blastp_v074.outfmt6 \\\n",
    "> analyses/hp_blastp_v074.outfmt6"
   ]
  },
  {
   "cell_type": "code",
   "execution_count": 9,
   "metadata": {
    "ExecuteTime": {
     "end_time": "2019-08-21T16:29:20.727367Z",
     "start_time": "2019-08-21T16:29:20.576989Z"
    }
   },
   "outputs": [],
   "source": [
    "!awk -v OFS='\\t' '{print $3}' < analyses/hp_blastp_v074.outfmt6 \\\n",
    "> analyses/hp_blastp_v074.col3"
   ]
  },
  {
   "cell_type": "code",
   "execution_count": 10,
   "metadata": {
    "ExecuteTime": {
     "end_time": "2019-08-21T16:29:42.644786Z",
     "start_time": "2019-08-21T16:29:42.511331Z"
    }
   },
   "outputs": [
    {
     "name": "stdout",
     "output_type": "stream",
     "text": [
      "B7QDG3\r\n",
      "F7FIH8\r\n",
      "O75339\r\n",
      "Q7YRK5\r\n",
      "Q60520\r\n",
      "Q60520\r\n",
      "Q15796\r\n",
      "Q8TF20\r\n",
      "Q8TF20\r\n",
      "Q8TF20\r\n"
     ]
    }
   ],
   "source": [
    "!head analyses/hp_blastp_v074.col3"
   ]
  },
  {
   "cell_type": "code",
   "execution_count": 11,
   "metadata": {
    "ExecuteTime": {
     "end_time": "2019-08-21T16:30:16.659929Z",
     "start_time": "2019-08-21T16:30:16.471412Z"
    }
   },
   "outputs": [],
   "source": [
    "!cat analyses/hp_blastp_v074.col3 | pbcopy"
   ]
  },
  {
   "cell_type": "code",
   "execution_count": null,
   "metadata": {},
   "outputs": [],
   "source": []
  }
 ],
 "metadata": {
  "kernelspec": {
   "display_name": "Python 3",
   "language": "python",
   "name": "python3"
  },
  "language_info": {
   "codemirror_mode": {
    "name": "ipython",
    "version": 3
   },
   "file_extension": ".py",
   "mimetype": "text/x-python",
   "name": "python",
   "nbconvert_exporter": "python",
   "pygments_lexer": "ipython3",
   "version": "3.6.8"
  }
 },
 "nbformat": 4,
 "nbformat_minor": 2
}
