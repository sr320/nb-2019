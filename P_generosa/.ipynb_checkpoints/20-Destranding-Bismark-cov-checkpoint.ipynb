{
 "cells": [
  {
   "cell_type": "code",
   "execution_count": 1,
   "metadata": {
    "ExecuteTime": {
     "end_time": "2019-08-22T21:41:30.035626Z",
     "start_time": "2019-08-22T21:41:29.798487Z"
    }
   },
   "outputs": [
    {
     "name": "stdout",
     "output_type": "stream",
     "text": [
      "Use of uninitialized value $input in open at ../scripts/destranding-bismark-cov.pl line 8.\r\n",
      "readline() on closed filehandle $in at ../scripts/destranding-bismark-cov.pl line 13.\r\n"
     ]
    }
   ],
   "source": [
    "!perl ../scripts/destranding-bismark-cov.pl"
   ]
  },
  {
   "cell_type": "code",
   "execution_count": 3,
   "metadata": {
    "ExecuteTime": {
     "end_time": "2019-08-22T21:43:45.867206Z",
     "start_time": "2019-08-22T21:42:52.001081Z"
    }
   },
   "outputs": [],
   "source": [
    "z"
   ]
  },
  {
   "cell_type": "code",
   "execution_count": 4,
   "metadata": {
    "ExecuteTime": {
     "end_time": "2019-08-22T21:43:46.000943Z",
     "start_time": "2019-08-22T21:43:45.870934Z"
    }
   },
   "outputs": [
    {
     "name": "stdout",
     "output_type": "stream",
     "text": [
      "PGA_scaffold1__77_contigs__length_89643857\t54\t55\t0\t0\t1\r\n",
      "PGA_scaffold1__77_contigs__length_89643857\t72\t73\t0\t0\t1\r\n",
      "PGA_scaffold1__77_contigs__length_89643857\t96\t97\t0\t0\t1\r\n",
      "PGA_scaffold1__77_contigs__length_89643857\t119\t120\t0\t0\t1\r\n",
      "PGA_scaffold1__77_contigs__length_89643857\t202\t203\t0\t0\t1\r\n",
      "PGA_scaffold1__77_contigs__length_89643857\t209\t210\t0\t0\t1\r\n",
      "PGA_scaffold1__77_contigs__length_89643857\t221\t222\t0\t0\t1\r\n",
      "PGA_scaffold1__77_contigs__length_89643857\t238\t239\t0\t0\t1\r\n",
      "PGA_scaffold1__77_contigs__length_89643857\t1547\t1548\t0\t0\t1\r\n",
      "PGA_scaffold1__77_contigs__length_89643857\t1555\t1556\t0\t0\t1\r\n"
     ]
    }
   ],
   "source": [
    "!head analyses/EPI-44.destrand"
   ]
  },
  {
   "cell_type": "code",
   "execution_count": 5,
   "metadata": {
    "ExecuteTime": {
     "end_time": "2019-08-22T21:43:46.138843Z",
     "start_time": "2019-08-22T21:43:46.007749Z"
    }
   },
   "outputs": [
    {
     "name": "stdout",
     "output_type": "stream",
     "text": [
      "PGA_scaffold1__77_contigs__length_89643857\t54\t54\t0\t0\t1\r\n",
      "PGA_scaffold1__77_contigs__length_89643857\t72\t72\t0\t0\t1\r\n",
      "PGA_scaffold1__77_contigs__length_89643857\t96\t96\t0\t0\t1\r\n",
      "PGA_scaffold1__77_contigs__length_89643857\t119\t119\t0\t0\t1\r\n",
      "PGA_scaffold1__77_contigs__length_89643857\t202\t202\t0\t0\t1\r\n",
      "PGA_scaffold1__77_contigs__length_89643857\t209\t209\t0\t0\t1\r\n",
      "PGA_scaffold1__77_contigs__length_89643857\t221\t221\t0\t0\t1\r\n",
      "PGA_scaffold1__77_contigs__length_89643857\t238\t238\t0\t0\t1\r\n",
      "PGA_scaffold1__77_contigs__length_89643857\t1547\t1547\t0\t0\t1\r\n",
      "PGA_scaffold1__77_contigs__length_89643857\t1555\t1555\t0\t0\t1\r\n"
     ]
    }
   ],
   "source": [
    "!head /Users/sr320/Documents/GitHub/nb-2019/P_generosa/analyses/EPI-44_S41_L005_R1_001_val_1_bismark_bt2_pe.deduplicated.bismark.cov"
   ]
  },
  {
   "cell_type": "code",
   "execution_count": 6,
   "metadata": {
    "ExecuteTime": {
     "end_time": "2019-08-22T21:44:32.543626Z",
     "start_time": "2019-08-22T21:44:31.714896Z"
    }
   },
   "outputs": [
    {
     "name": "stdout",
     "output_type": "stream",
     "text": [
      " 5133854 analyses/EPI-44.destrand\r\n"
     ]
    }
   ],
   "source": [
    "!wc -l analyses/EPI-44.destrand"
   ]
  },
  {
   "cell_type": "code",
   "execution_count": 7,
   "metadata": {
    "ExecuteTime": {
     "end_time": "2019-08-22T21:44:44.816998Z",
     "start_time": "2019-08-22T21:44:43.901036Z"
    }
   },
   "outputs": [
    {
     "name": "stdout",
     "output_type": "stream",
     "text": [
      " 5880545 /Users/sr320/Documents/GitHub/nb-2019/P_generosa/analyses/EPI-44_S41_L005_R1_001_val_1_bismark_bt2_pe.deduplicated.bismark.cov\r\n"
     ]
    }
   ],
   "source": [
    "!wc -l /Users/sr320/Documents/GitHub/nb-2019/P_generosa/analyses/EPI-44_S41_L005_R1_001_val_1_bismark_bt2_pe.deduplicated.bismark.cov"
   ]
  },
  {
   "cell_type": "code",
   "execution_count": null,
   "metadata": {
    "ExecuteTime": {
     "start_time": "2019-08-22T21:57:46.440Z"
    }
   },
   "outputs": [],
   "source": [
    "!tail -20 analyses/EPI-44.destrand \n",
    "!echo \"br\"\n",
    "!tail -20 analyses/EPI-44_S41_L005_R1_001_val_1_bismark_bt2_pe.deduplicated.bismark.cov"
   ]
  },
  {
   "cell_type": "code",
   "execution_count": 13,
   "metadata": {
    "ExecuteTime": {
     "end_time": "2019-08-22T21:50:26.555218Z",
     "start_time": "2019-08-22T21:48:51.317914Z"
    }
   },
   "outputs": [],
   "source": [
    "%%bash\n",
    "awk '{print $1, $3-1, $3, $4, $5+$6}' analyses/EPI-44.destrand  | awk '{if ($5 >= 10) { print $1, $3-1, $3, $4}}' \\\n",
    "> analyses/EPI-44.destrand.bedgraph\n"
   ]
  },
  {
   "cell_type": "markdown",
   "metadata": {},
   "source": [
    "![igv](http://gannet.fish.washington.edu/seashell/snaps/IGV_-_Session_httpsraw.githubusercontent.comsr320nb-2019masterP_generosaigv0819_1300_igv_session.xml_2019-08-22_14-56-53.png)"
   ]
  },
  {
   "cell_type": "code",
   "execution_count": 23,
   "metadata": {
    "ExecuteTime": {
     "end_time": "2019-08-22T22:07:16.576937Z",
     "start_time": "2019-08-22T22:07:01.658799Z"
    }
   },
   "outputs": [
    {
     "name": "stdout",
     "output_type": "stream",
     "text": [
      "PGA_scaffold14__91_contigs__length_45393038\t18405026\t18405027\t80.7018\t46\t11\n",
      "PGA_scaffold14__91_contigs__length_45393038\t18405059\t18405060\t68.9655\t40\t18\n",
      "PGA_scaffold14__91_contigs__length_45393038\t18405061\t18405062\t16.1290\t10\t52\n",
      "PGA_scaffold14__91_contigs__length_45393038\t18405091\t18405092\t65.7143\t23\t12\n",
      "PGA_scaffold14__91_contigs__length_45393038\t18405095\t18405096\t2.9412\t1\t33\n",
      "PGA_scaffold14__91_contigs__length_45393038\t18405124\t18405125\t84\t21\t4\n",
      "PGA_scaffold14__91_contigs__length_45393038\t18405128\t18405129\t6.6667\t2\t28\n",
      "PGA_scaffold14__91_contigs__length_45393038\t18405213\t18405214\t50\t1\t1\n",
      "PGA_scaffold14__91_contigs__length_45393038\t18405256\t18405257\t64.7887\t138\t75\n",
      "PGA_scaffold14__91_contigs__length_45393038\t18405289\t18405290\t68.9139\t184\t83\n",
      "PGA_scaffold14__91_contigs__length_45393038\t18405326\t18405327\t3.3426\t12\t347\n",
      "PGA_scaffold14__91_contigs__length_45393038\t18405355\t18405356\t54.3027\t183\t154\n",
      "PGA_scaffold14__91_contigs__length_45393038\t18405378\t18405379\t0\t0\t1\n",
      "PGA_scaffold14__91_contigs__length_45393038\t18405520\t18405521\t47.0588\t32\t36\n"
     ]
    }
   ],
   "source": [
    "!fgrep \"PGA_scaffold14__91_contigs__length_45393038\t18405\" analyses/EPI-44.destrand"
   ]
  },
  {
   "cell_type": "code",
   "execution_count": 24,
   "metadata": {
    "ExecuteTime": {
     "end_time": "2019-08-22T22:07:37.623810Z",
     "start_time": "2019-08-22T22:07:16.580539Z"
    }
   },
   "outputs": [
    {
     "name": "stdout",
     "output_type": "stream",
     "text": [
      "PGA_scaffold14__91_contigs__length_45393038\t18405026\t18405026\t86.046511627907\t37\t6\r\n",
      "PGA_scaffold14__91_contigs__length_45393038\t18405027\t18405027\t64.2857142857143\t9\t5\r\n",
      "PGA_scaffold14__91_contigs__length_45393038\t18405059\t18405059\t65.2173913043478\t30\t16\r\n",
      "PGA_scaffold14__91_contigs__length_45393038\t18405060\t18405060\t83.3333333333333\t10\t2\r\n",
      "PGA_scaffold14__91_contigs__length_45393038\t18405061\t18405061\t18.3673469387755\t9\t40\r\n",
      "PGA_scaffold14__91_contigs__length_45393038\t18405062\t18405062\t7.69230769230769\t1\t12\r\n",
      "PGA_scaffold14__91_contigs__length_45393038\t18405091\t18405091\t64.7058823529412\t22\t12\r\n",
      "PGA_scaffold14__91_contigs__length_45393038\t18405092\t18405092\t100\t1\t0\r\n",
      "PGA_scaffold14__91_contigs__length_45393038\t18405095\t18405095\t3.03030303030303\t1\t32\r\n",
      "PGA_scaffold14__91_contigs__length_45393038\t18405096\t18405096\t0\t0\t1\r\n",
      "PGA_scaffold14__91_contigs__length_45393038\t18405124\t18405124\t84\t21\t4\r\n",
      "PGA_scaffold14__91_contigs__length_45393038\t18405128\t18405128\t0\t0\t27\r\n",
      "PGA_scaffold14__91_contigs__length_45393038\t18405129\t18405129\t66.6666666666667\t2\t1\r\n",
      "PGA_scaffold14__91_contigs__length_45393038\t18405213\t18405213\t50\t1\t1\r\n",
      "PGA_scaffold14__91_contigs__length_45393038\t18405256\t18405256\t66.6666666666667\t120\t60\r\n",
      "PGA_scaffold14__91_contigs__length_45393038\t18405257\t18405257\t54.5454545454545\t18\t15\r\n",
      "PGA_scaffold14__91_contigs__length_45393038\t18405289\t18405289\t69.7959183673469\t171\t74\r\n",
      "PGA_scaffold14__91_contigs__length_45393038\t18405290\t18405290\t59.0909090909091\t13\t9\r\n",
      "PGA_scaffold14__91_contigs__length_45393038\t18405326\t18405326\t2.54777070063694\t8\t306\r\n",
      "PGA_scaffold14__91_contigs__length_45393038\t18405327\t18405327\t8.88888888888889\t4\t41\r\n",
      "PGA_scaffold14__91_contigs__length_45393038\t18405355\t18405355\t53.9325842696629\t144\t123\r\n",
      "PGA_scaffold14__91_contigs__length_45393038\t18405356\t18405356\t55.7142857142857\t39\t31\r\n",
      "PGA_scaffold14__91_contigs__length_45393038\t18405378\t18405378\t0\t0\t1\r\n",
      "PGA_scaffold14__91_contigs__length_45393038\t18405520\t18405520\t44.0677966101695\t26\t33\r\n",
      "PGA_scaffold14__91_contigs__length_45393038\t18405521\t18405521\t66.6666666666667\t6\t3\r\n"
     ]
    }
   ],
   "source": [
    "!fgrep \"PGA_scaffold14__91_contigs__length_45393038\t18405\" analyses/EPI-44_S41_L005_R1_001_val_1_bismark_bt2_pe.deduplicated.bismark.cov"
   ]
  },
  {
   "cell_type": "markdown",
   "metadata": {},
   "source": [
    "## Appears to be doing what it is suppose to do ..\n",
    "\n",
    "taking \n",
    "```\n",
    "PGA_scaffold14__91_contigs__length_45393038\t18405059\t18405059\t65.2173913043478\t30\t16\n",
    "PGA_scaffold14__91_contigs__length_45393038\t18405060\t18405060\t83.3333333333333\t10\t2\n",
    "``` \n",
    "\n",
    "and converting to \n",
    "\n",
    "```\n",
    "PGA_scaffold14__91_contigs__length_45393038\t18405059\t18405060\t68.9655\t40\t18\n",
    "```\n"
   ]
  },
  {
   "cell_type": "markdown",
   "metadata": {
    "ExecuteTime": {
     "end_time": "2019-08-22T22:10:43.373842Z",
     "start_time": "2019-08-22T22:10:43.341062Z"
    }
   },
   "source": [
    "also \n",
    "\n",
    "```\n",
    "PGA_scaffold14__91_contigs__length_45393038\t18405061\t18405061\t18.3673469387755\t9\t40\n",
    "PGA_scaffold14__91_contigs__length_45393038\t18405062\t18405062\t7.69230769230769\t1\t12\n",
    "```\n",
    "\n",
    "into \n",
    "\n",
    "```\n",
    "PGA_scaffold14__91_contigs__length_45393038\t18405061\t18405062\t16.1290\t10\t52\n",
    "```\n",
    "\n"
   ]
  },
  {
   "cell_type": "code",
   "execution_count": 28,
   "metadata": {
    "ExecuteTime": {
     "end_time": "2019-08-22T22:11:28.925812Z",
     "start_time": "2019-08-22T22:11:28.830441Z"
    }
   },
   "outputs": [
    {
     "data": {
      "text/plain": [
       "0.16129032258064516"
      ]
     },
     "execution_count": 28,
     "metadata": {},
     "output_type": "execute_result"
    }
   ],
   "source": [
    "10/62\n"
   ]
  },
  {
   "cell_type": "code",
   "execution_count": 33,
   "metadata": {
    "ExecuteTime": {
     "end_time": "2019-08-22T22:31:36.264611Z",
     "start_time": "2019-08-22T22:30:26.457232Z"
    }
   },
   "outputs": [],
   "source": [
    "# Lets tweak bedgraph conversion post perl\n",
    "\n",
    "\n",
    "!awk '{print $1, $2, $3, $4, $5+$6}' analyses/EPI-44.destrand  | awk '{if ($5 >= 10) { print $1, $2-1, $3-1, $4}}' \\\n",
    "> analyses/EPI-44.5.destrand.bedgraph"
   ]
  },
  {
   "cell_type": "code",
   "execution_count": null,
   "metadata": {},
   "outputs": [],
   "source": []
  }
 ],
 "metadata": {
  "kernelspec": {
   "display_name": "Python 3",
   "language": "python",
   "name": "python3"
  },
  "language_info": {
   "codemirror_mode": {
    "name": "ipython",
    "version": 3
   },
   "file_extension": ".py",
   "mimetype": "text/x-python",
   "name": "python",
   "nbconvert_exporter": "python",
   "pygments_lexer": "ipython3",
   "version": "3.6.8"
  }
 },
 "nbformat": 4,
 "nbformat_minor": 2
}
