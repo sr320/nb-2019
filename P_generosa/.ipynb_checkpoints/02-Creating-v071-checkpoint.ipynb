{
 "cells": [
  {
   "cell_type": "code",
   "execution_count": null,
   "metadata": {},
   "outputs": [],
   "source": [
    "!awk '!/^>/ { next } { getline seq } length(seq) >= 10000 { print $0 \"\\n\" seq }' \\\n",
    "/Volumes/Serine/wd/18-01-25b/jelly.out.fasta \\\n",
    "> /Volumes/Serine/wd/18-03-07/Ol-pbjelly10k.fa"
   ]
  },
  {
   "cell_type": "code",
   "execution_count": null,
   "metadata": {},
   "outputs": [],
   "source": []
  }
 ],
 "metadata": {
  "kernelspec": {
   "display_name": "Python 3",
   "language": "python",
   "name": "python3"
  },
  "language_info": {
   "codemirror_mode": {
    "name": "ipython",
    "version": 3
   },
   "file_extension": ".py",
   "mimetype": "text/x-python",
   "name": "python",
   "nbconvert_exporter": "python",
   "pygments_lexer": "ipython3",
   "version": "3.6.3"
  }
 },
 "nbformat": 4,
 "nbformat_minor": 2
}
