{
 "cells": [
  {
   "cell_type": "code",
   "execution_count": 1,
   "metadata": {
    "collapsed": true
   },
   "outputs": [],
   "source": [
    "!mkdir /Volumes/Serine/wd/19-03-29"
   ]
  },
  {
   "cell_type": "code",
   "execution_count": 2,
   "metadata": {
    "collapsed": true
   },
   "outputs": [],
   "source": [
    "!cd /Volumes/Serine/wd/19-03-29"
   ]
  },
  {
   "cell_type": "code",
   "execution_count": 3,
   "metadata": {
    "collapsed": false
   },
   "outputs": [
    {
     "name": "stdout",
     "output_type": "stream",
     "text": [
      "  % Total    % Received % Xferd  Average Speed   Time    Time     Time  Current\n",
      "                                 Dload  Upload   Total   Spent    Left  Speed\n",
      "100 1350M  100 1350M    0     0  6489k      0  0:03:33  0:03:33 --:--:-- 40.9M70k      0  1:25:12  0:00:09  1:25:03     0  0     0   557k      0  0:41:18  0:00:41  0:40:37     0   0  0:08:37  0:01:02  0:07:35     02288k      0  0:10:04  0:01:18  0:08:46     06k      0  0:03:57  0:02:59  0:00:58   583   0  0:04:08  0:03:13  0:00:55     0  0     0  5545k      0  0:04:09  0:03:14  0:00:55     0:00:34  663k  0  0:04:02  0:03:28  0:00:34   9000     0  6063k      0  0:03:48  0:03:31  0:00:17 20.4M\n"
     ]
    }
   ],
   "source": [
    "!curl -O http://owl.fish.washington.edu/halfshell/genomic-databank/Pgenerosa_v071.fasta"
   ]
  },
  {
   "cell_type": "code",
   "execution_count": 6,
   "metadata": {
    "collapsed": false
   },
   "outputs": [
    {
     "name": "stdout",
     "output_type": "stream",
     "text": [
      "\n",
      "\n",
      "Building a new DB, current time: 03/29/2019 12:04:34\n",
      "New DB name:   /Users/sr320/git-repos/nb-2019/P_generosa/Pgenerosa_v071\n",
      "New DB title:  Pgenerosa_v071.fasta\n",
      "Sequence type: Nucleotide\n",
      "Keep MBits: T\n",
      "Maximum file size: 1000000000B\n",
      "Adding sequences from FASTA; added 14014 sequences in 19.07 seconds.\n"
     ]
    }
   ],
   "source": [
    "!/Applications/bioinfo/ncbi-blast-2.5.0\\+/bin/makeblastdb \\\n",
    "-in Pgenerosa_v071.fasta \\\n",
    "-dbtype nucl \\\n",
    "-out Pgenerosa_v071"
   ]
  },
  {
   "cell_type": "code",
   "execution_count": 8,
   "metadata": {
    "collapsed": false
   },
   "outputs": [],
   "source": [
    "!/Applications/bioinfo/ncbi-blast-2.5.0\\+/bin/blastn \\\n",
    "-query Pgenerosa_v071.fasta \\\n",
    "-db Pgenerosa_v071 \\\n",
    "-evalue 1e-40 \\\n",
    "-outfmt 6 \\\n",
    "-out Pgv071_v071.tab \\\n",
    "-max_target_seqs 10 \\\n",
    "-num_threads 6\n"
   ]
  },
  {
   "cell_type": "markdown",
   "metadata": {},
   "source": []
  },
  {
   "cell_type": "code",
   "execution_count": 10,
   "metadata": {
    "collapsed": false
   },
   "outputs": [
    {
     "name": "stdout",
     "output_type": "stream",
     "text": [
      "/Volumes/Serine/wd/19-03-29\n"
     ]
    }
   ],
   "source": [
    "cd /Volumes/Serine/wd/19-03-29"
   ]
  },
  {
   "cell_type": "code",
   "execution_count": 11,
   "metadata": {
    "collapsed": false
   },
   "outputs": [
    {
     "name": "stdout",
     "output_type": "stream",
     "text": [
      "Pgenerosa_v071.fasta  Pgenerosa_v071.nin    Pgv071_v071.tab\r\n",
      "Pgenerosa_v071.nhr    Pgenerosa_v071.nsq\r\n"
     ]
    }
   ],
   "source": [
    "ls"
   ]
  },
  {
   "cell_type": "code",
   "execution_count": 12,
   "metadata": {
    "collapsed": true
   },
   "outputs": [],
   "source": [
    "!/Applications/bioinfo/ncbi-blast-2.5.0\\+/bin/blastn \\\n",
    "-query Pgenerosa_v071.fasta \\\n",
    "-db Pgenerosa_v071 \\\n",
    "-evalue 1e-40 \\\n",
    "-outfmt 6 \\\n",
    "-out Pgv071_v071_n02.tab \\\n",
    "-max_target_seqs 10 \\\n",
    "-max_hsps 1 \\\n",
    "-num_threads 6\n"
   ]
  },
  {
   "cell_type": "code",
   "execution_count": null,
   "metadata": {
    "collapsed": true
   },
   "outputs": [],
   "source": []
  }
 ],
 "metadata": {
  "kernelspec": {
   "display_name": "Python 2",
   "language": "python",
   "name": "python2"
  },
  "language_info": {
   "codemirror_mode": {
    "name": "ipython",
    "version": 2
   },
   "file_extension": ".py",
   "mimetype": "text/x-python",
   "name": "python",
   "nbconvert_exporter": "python",
   "pygments_lexer": "ipython2",
   "version": "2.7.12"
  }
 },
 "nbformat": 4,
 "nbformat_minor": 0
}
