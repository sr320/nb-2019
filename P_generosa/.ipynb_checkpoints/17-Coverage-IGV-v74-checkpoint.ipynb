{
 "cells": [
  {
   "cell_type": "code",
   "execution_count": 4,
   "metadata": {
    "ExecuteTime": {
     "end_time": "2019-08-17T14:57:11.783487Z",
     "start_time": "2019-08-17T14:50:37.140788Z"
    }
   },
   "outputs": [],
   "source": [
    "!wget -r \\\n",
    "–q \\\n",
    "-o analyses/tmp_002_cov.txt \\\n",
    "--no-directories --no-parent \\\n",
    "-P analyses/ \\\n",
    "-A deduplicated.bismark.cov.gz https://gannet.fish.washington.edu/seashell/bu-mox/scrubbed/0807/\n"
   ]
  },
  {
   "cell_type": "code",
   "execution_count": 8,
   "metadata": {
    "ExecuteTime": {
     "end_time": "2019-08-17T15:01:01.957108Z",
     "start_time": "2019-08-17T15:01:00.493882Z"
    }
   },
   "outputs": [],
   "source": [
    "!gunzip analyses/*pe.deduplicated.bismark.cov.gz "
   ]
  },
  {
   "cell_type": "code",
   "execution_count": 11,
   "metadata": {
    "ExecuteTime": {
     "end_time": "2019-08-17T15:02:11.757541Z",
     "start_time": "2019-08-17T15:02:11.623441Z"
    }
   },
   "outputs": [
    {
     "name": "stdout",
     "output_type": "stream",
     "text": [
      "analyses/EPI-151_S2_L002_R1_001_val_1_bismark_bt2_pe.deduplicated.bismark.cov\r\n",
      "analyses/EPI-152_S3_L002_R1_001_val_1_bismark_bt2_pe.deduplicated.bismark.cov\r\n",
      "analyses/EPI-153_S4_L002_R1_001_val_1_bismark_bt2_pe.deduplicated.bismark.cov\r\n",
      "analyses/EPI-154_S5_L002_R1_001_val_1_bismark_bt2_pe.deduplicated.bismark.cov\r\n",
      "analyses/EPI-159_S6_L002_R1_001_val_1_bismark_bt2_pe.deduplicated.bismark.cov\r\n",
      "analyses/EPI-160_S7_L002_R1_001_val_1_bismark_bt2_pe.deduplicated.bismark.cov\r\n",
      "analyses/EPI-161_S8_L002_R1_001_val_1_bismark_bt2_pe.deduplicated.bismark.cov\r\n",
      "analyses/EPI-162_S9_L002_R1_001_val_1_bismark_bt2_pe.deduplicated.bismark.cov\r\n",
      "analyses/EPI-167_S10_L002_R1_001_val_1_bismark_bt2_pe.deduplicated.bismark.cov\r\n",
      "analyses/EPI-168_S11_L002_R1_001_val_1_bismark_bt2_pe.deduplicated.bismark.cov\r\n",
      "analyses/EPI-169_S12_L002_R1_001_val_1_bismark_bt2_pe.deduplicated.bismark.cov\r\n",
      "analyses/EPI-170_S13_L002_R1_001_val_1_bismark_bt2_pe.deduplicated.bismark.cov\r\n"
     ]
    }
   ],
   "source": [
    "!ls analyses/*ed.bismark.cov"
   ]
  },
  {
   "cell_type": "code",
   "execution_count": 9,
   "metadata": {
    "ExecuteTime": {
     "end_time": "2019-08-17T15:01:31.458442Z",
     "start_time": "2019-08-17T15:01:31.324189Z"
    }
   },
   "outputs": [
    {
     "name": "stdout",
     "output_type": "stream",
     "text": [
      "PGA_scaffold1__77_contigs__length_89643857\t54\t54\t0\t0\t1\r\n",
      "PGA_scaffold1__77_contigs__length_89643857\t72\t72\t0\t0\t1\r\n",
      "PGA_scaffold1__77_contigs__length_89643857\t96\t96\t0\t0\t2\r\n",
      "PGA_scaffold1__77_contigs__length_89643857\t97\t97\t0\t0\t1\r\n",
      "PGA_scaffold1__77_contigs__length_89643857\t119\t119\t0\t0\t2\r\n",
      "PGA_scaffold1__77_contigs__length_89643857\t120\t120\t0\t0\t1\r\n",
      "PGA_scaffold1__77_contigs__length_89643857\t193\t193\t0\t0\t1\r\n",
      "PGA_scaffold1__77_contigs__length_89643857\t194\t194\t0\t0\t1\r\n",
      "PGA_scaffold1__77_contigs__length_89643857\t202\t202\t0\t0\t1\r\n",
      "PGA_scaffold1__77_contigs__length_89643857\t203\t203\t0\t0\t1\r\n"
     ]
    }
   ],
   "source": [
    "!head analyses/EPI-151*"
   ]
  },
  {
   "cell_type": "code",
   "execution_count": null,
   "metadata": {},
   "outputs": [],
   "source": []
  }
 ],
 "metadata": {
  "kernelspec": {
   "display_name": "Python 3",
   "language": "python",
   "name": "python3"
  },
  "language_info": {
   "codemirror_mode": {
    "name": "ipython",
    "version": 3
   },
   "file_extension": ".py",
   "mimetype": "text/x-python",
   "name": "python",
   "nbconvert_exporter": "python",
   "pygments_lexer": "ipython3",
   "version": "3.6.8"
  }
 },
 "nbformat": 4,
 "nbformat_minor": 2
}
