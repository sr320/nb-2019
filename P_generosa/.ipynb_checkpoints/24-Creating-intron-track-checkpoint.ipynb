{
 "cells": [
  {
   "cell_type": "markdown",
   "metadata": {},
   "source": [
    "## Creating Genome File"
   ]
  },
  {
   "cell_type": "code",
   "execution_count": 2,
   "metadata": {
    "ExecuteTime": {
     "end_time": "2019-09-04T18:08:56.841351Z",
     "start_time": "2019-09-04T18:08:56.698519Z"
    }
   },
   "outputs": [],
   "source": [
    "!mv /Users/sr320/Desktop/geo/Pgenerosa_v074.fa data/Pgenerosa_v074.fa"
   ]
  },
  {
   "cell_type": "code",
   "execution_count": 3,
   "metadata": {
    "ExecuteTime": {
     "end_time": "2019-09-04T18:09:09.954147Z",
     "start_time": "2019-09-04T18:09:09.825991Z"
    }
   },
   "outputs": [
    {
     "name": "stdout",
     "output_type": "stream",
     "text": [
      ">PGA_scaffold1__77_contigs__length_89643857\r\n",
      "ATGCGCAGAAGTTGTTCCGGAAAATGGTACTGTAGTGACATGTGAATATGACCCGTATTT\r\n",
      "AGAGAAAGTAGCGAGAATGTACTTTGATTCAACTCCGCATGGCAGGAAGATTCACATTCG\r\n",
      "TATAGGTATTGTTTTTAAATTAATTATAATAATGTGTATTGTTGAAACTAAAAAAACAAG\r\n",
      "CAAGCAGGGTGTCGGATAAAACGTAGGACGCTCGACATTGCGATACCAGAATTTGCTCGA\r\n",
      "TGTTATTGAGCTAATTATCAAAAATAAATACCATCCACTGTGTTGTTCCTGGGTGCCACA\r\n",
      "TGGATGAAGGCAAGAATGTAGCCACTGTAGTTCATACAATTCCCAGAAGTAGTGTCTTGT\r\n",
      "GTGTTTAAACATGAATATCTGAATTAGTTGAAAACGGGTATATATATAAATTTGGTTGAG\r\n",
      "CTGTAAAACTAATGAATGTGTGTGGTTTATTTAAGAATTAATTATTACTTTTTTATCAGA\r\n",
      "AGTAGTTTTTGAAAAAAATACTGTTTTTGAAAGTTACACTTATTCAAATAAGTAGCAACA\r\n"
     ]
    }
   ],
   "source": [
    "!head data/Pgenerosa_v074.fa"
   ]
  },
  {
   "cell_type": "code",
   "execution_count": 12,
   "metadata": {
    "ExecuteTime": {
     "end_time": "2019-09-04T18:22:21.141005Z",
     "start_time": "2019-09-04T18:22:20.986217Z"
    }
   },
   "outputs": [
    {
     "name": "stdout",
     "output_type": "stream",
     "text": [
      "PGA_scaffold1__77_contigs__length_89643857\t89643857\r\n",
      "PGA_scaffold2__36_contigs__length_69596280\t69596280\r\n",
      "PGA_scaffold3__111_contigs__length_57743597\t57743597\r\n",
      "PGA_scaffold4__129_contigs__length_65288255\t5288255\r\n",
      "PGA_scaffold5__109_contigs__length_67248332\t67248332\r\n",
      "PGA_scaffold6__104_contigs__length_61759565\t61759565\r\n",
      "PGA_scaffold7__69_contigs__length_43120122\t43120122\r\n",
      "PGA_scaffold8__63_contigs__length_61151155\t61151155\r\n",
      "PGA_scaffold9__45_contigs__length_38581958\t38581958\r\n",
      "PGA_scaffold10__49_contigs__length_53961475\t53961475\r\n"
     ]
    }
   ],
   "source": [
    "!head analyses/Pg_genome.tab"
   ]
  },
  {
   "cell_type": "code",
   "execution_count": null,
   "metadata": {},
   "outputs": [],
   "source": []
  }
 ],
 "metadata": {
  "kernelspec": {
   "display_name": "Python 3",
   "language": "python",
   "name": "python3"
  },
  "language_info": {
   "codemirror_mode": {
    "name": "ipython",
    "version": 3
   },
   "file_extension": ".py",
   "mimetype": "text/x-python",
   "name": "python",
   "nbconvert_exporter": "python",
   "pygments_lexer": "ipython3",
   "version": "3.6.8"
  }
 },
 "nbformat": 4,
 "nbformat_minor": 2
}
