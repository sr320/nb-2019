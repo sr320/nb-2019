{
 "cells": [
  {
   "cell_type": "code",
   "execution_count": 2,
   "metadata": {
    "ExecuteTime": {
     "end_time": "2019-08-21T15:08:19.401235Z",
     "start_time": "2019-08-21T14:58:31.460481Z"
    }
   },
   "outputs": [],
   "source": [
    "!wget -r \\\n",
    "-o /Volumes/block/geoduck/082119_bam/tmp_002_cov.txt \\\n",
    "--no-directories --no-parent \\\n",
    "-P /Volumes/block/geoduck/082119_bam/ \\\n",
    "-A deduplicated.sorted.bam https://gannet.fish.washington.edu/seashell/bu-mox/scrubbed/0807/\n"
   ]
  },
  {
   "cell_type": "code",
   "execution_count": 3,
   "metadata": {
    "ExecuteTime": {
     "end_time": "2019-08-21T15:16:32.335020Z",
     "start_time": "2019-08-21T15:08:19.415960Z"
    }
   },
   "outputs": [],
   "source": [
    "!wget -r \\\n",
    "-o /Volumes/block/geoduck/082119_bam/tmp_003_cov.txt \\\n",
    "--no-directories --no-parent \\\n",
    "-P /Volumes/block/geoduck/082119_bam/ \\\n",
    "-A deduplicated.sorted.bam https://gannet.fish.washington.edu/seashell/bu-mox/scrubbed/0807-003/"
   ]
  },
  {
   "cell_type": "code",
   "execution_count": null,
   "metadata": {},
   "outputs": [],
   "source": [
    "wget -r \\\n",
    "-o /Volumes/block/geoduck/082119_bam/tmp_004_cov.txt \\\n",
    "--no-directories --no-parent \\\n",
    "-P /Volumes/block/geoduck/082119_bam/ \\\n",
    "-A deduplicated.sorted.bam https://gannet.fish.washington.edu/seashell/bu-mox/scrubbed/0807-004/"
   ]
  },
  {
   "cell_type": "code",
   "execution_count": null,
   "metadata": {},
   "outputs": [],
   "source": [
    "wget -r \\\n",
    "-o /Volumes/block/geoduck/082119_bam/tmp_005_cov.txt \\\n",
    "--no-directories --no-parent \\\n",
    "-P /Volumes/block/geoduck/082119_bam/ \\\n",
    "-A deduplicated.sorted.bam https://gannet.fish.washington.edu/seashell/bu-mox/scrubbed/0809-005/"
   ]
  }
 ],
 "metadata": {
  "kernelspec": {
   "display_name": "Python 3",
   "language": "python",
   "name": "python3"
  },
  "language_info": {
   "codemirror_mode": {
    "name": "ipython",
    "version": 3
   },
   "file_extension": ".py",
   "mimetype": "text/x-python",
   "name": "python",
   "nbconvert_exporter": "python",
   "pygments_lexer": "ipython3",
   "version": "3.6.8"
  }
 },
 "nbformat": 4,
 "nbformat_minor": 2
}
