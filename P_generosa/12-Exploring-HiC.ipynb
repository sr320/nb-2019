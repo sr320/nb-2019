{
 "cells": [
  {
   "cell_type": "markdown",
   "metadata": {},
   "source": [
    "## Looking at Files provided by PG."
   ]
  },
  {
   "cell_type": "markdown",
   "metadata": {},
   "source": [
    "![pic](http://gannet.fish.washington.edu/seashell/snaps/geoduck_manual_-_Google_Drive_2019-06-25_09-39-52.png)"
   ]
  },
  {
   "cell_type": "code",
   "execution_count": null,
   "metadata": {},
   "outputs": [
    {
     "name": "stdout",
     "output_type": "stream",
     "text": [
      "MD5 (/Users/sr320/Desktop/geo/geoduck_hic_make.assembly) = 5576d744f1b6a8dad3ad4c1ff0b78ffc\n",
      "MD5 (/Users/sr320/Desktop/geo/geoduck_hic_make.hic) = ac26ca0dc09e4067557ec3d7e5aa918d\n",
      "MD5 (/Users/sr320/Desktop/geo/geoduck_hic_make.review29.assembly) = ec4ee85bd93290411ec48b04f47d20d3\n",
      "MD5 (/Users/sr320/Desktop/geo/geoduck_manual_scaffolds.agp) = c1565ae429824e9a43afb9c9fbfd0730\n"
     ]
    }
   ],
   "source": [
    "!md5 /Users/sr320/Desktop/geo/*"
   ]
  },
  {
   "cell_type": "code",
   "execution_count": null,
   "metadata": {},
   "outputs": [],
   "source": []
  }
 ],
 "metadata": {
  "kernelspec": {
   "display_name": "Python 3",
   "language": "python",
   "name": "python3"
  },
  "language_info": {
   "codemirror_mode": {
    "name": "ipython",
    "version": 3
   },
   "file_extension": ".py",
   "mimetype": "text/x-python",
   "name": "python",
   "nbconvert_exporter": "python",
   "pygments_lexer": "ipython3",
   "version": "3.6.8"
  }
 },
 "nbformat": 4,
 "nbformat_minor": 2
}
