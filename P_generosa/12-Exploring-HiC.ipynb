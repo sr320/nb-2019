{
 "cells": [
  {
   "cell_type": "markdown",
   "metadata": {},
   "source": [
    "## Looking at Files provided by PG."
   ]
  },
  {
   "cell_type": "markdown",
   "metadata": {},
   "source": [
    "![pic](http://gannet.fish.washington.edu/seashell/snaps/geoduck_manual_-_Google_Drive_2019-06-25_09-39-52.png)"
   ]
  },
  {
   "cell_type": "code",
   "execution_count": 1,
   "metadata": {},
   "outputs": [
    {
     "name": "stdout",
     "output_type": "stream",
     "text": [
      "MD5 (/Users/sr320/Desktop/geo/geoduck_hic_make.assembly) = 5576d744f1b6a8dad3ad4c1ff0b78ffc\n",
      "MD5 (/Users/sr320/Desktop/geo/geoduck_hic_make.hic) = ac26ca0dc09e4067557ec3d7e5aa918d\n",
      "MD5 (/Users/sr320/Desktop/geo/geoduck_hic_make.review29.assembly) = ec4ee85bd93290411ec48b04f47d20d3\n",
      "MD5 (/Users/sr320/Desktop/geo/geoduck_manual_scaffolds.agp) = c1565ae429824e9a43afb9c9fbfd0730\n",
      "MD5 (/Users/sr320/Desktop/geo/geoduck_manual_scaffolds.fasta) = de0958fec4b9f8845babf3717ce7168c\n"
     ]
    }
   ],
   "source": [
    "!md5 /Users/sr320/Desktop/geo/*"
   ]
  },
  {
   "cell_type": "code",
   "execution_count": 5,
   "metadata": {},
   "outputs": [
    {
     "name": "stdout",
     "output_type": "stream",
     "text": [
      "MD5 (/Users/sr320/Documents/GitHub/nb-2019/P_generosa/data/Pgenerosa_v070.fa) = de0958fec4b9f8845babf3717ce7168c\n"
     ]
    }
   ],
   "source": [
    "!md5 /Users/sr320/Documents/GitHub/nb-2019/P_generosa/data/Pgenerosa_v070.fa"
   ]
  },
  {
   "cell_type": "code",
   "execution_count": 6,
   "metadata": {},
   "outputs": [
    {
     "name": "stdout",
     "output_type": "stream",
     "text": [
      "==> /Users/sr320/Desktop/geo/geoduck_hic_make.assembly <==\n",
      ">502907 1 69831\n",
      ">460 2 1695236\n",
      ">361 3 5060579\n",
      ">1495 4 410256\n",
      ">1508 5 4299751\n",
      ">647 6 1301051\n",
      ">1091 7 1004012\n",
      ">515088 8 242021\n",
      ">514491 9 88112\n",
      ">519021 10 241465\n",
      "\n",
      "==> /Users/sr320/Desktop/geo/geoduck_hic_make.hic <==\n",
      "HIC\u0000\u0000\u0000��2\u0004\u0000\u0000\u0000\u0000/dev/fd/63\u0000\u0000\u0000\u0000\u0000\u0002\u0000\u0000\u0000All\u0000��\u0010\u0000assembly\u0000Fj�A\n",
      "\u0017;|�5�:��W���\u0014ծT\u0014�HLHCh��!&I��I�N�I�\u001c",
      "Isʩ}��\u001c",
      "G�\u001c",
      "�#���=��3�Z�s~����س�Z����|/�e=�RU�U��c5���[i��h5U]~��b��JM�F��\u001a�������Hue��;ZC��wׇ�Oݩ!�;�&�\u001a��];���ſu��;3l��\u0003�|Kw��rG�\u001f]KՖ\u000f���\u0013/�o[O��\u0013[l��V�P-eu�]�|.�|κQ>���4[������3jt\u001d",
      "�9�\u0006��A�\\^P>�fɿ,��苟�ԭ�\\Ҫƿ��\u0012�<I2�?���u�Z^\u0014���\u0019��\u0004\t�|�\u0006��}�1�V�C~GYA�\u001bCwF.Ru|w���8߽�ϵ��f�\"�\u000e�D�W~:n{��,��\t>��֟S\u0013��J}�r���˧-�ݗ\u0007����Z�|z�]��m�T��H���q��W��.�w�,��l[Z\u001d",
      "�\u001b�gx)�H5�w~q�w�:�;M\u001d",
      "�NL���a�\u0005�ؠ�S\u0007��w�p�q�\u001f�\u001b�A���F�����%��J�{W���-��\u0012�^�\u0015G��\u0011�\u001a�m7c��|�,�}\u001f�>ӑo�&�����w�Hc�?�k4M5�\u001aS��\u001a��Ͻ�\u001c",
      "�l�5\u001ap\n",
      "�\\�㐾R�pH_�\u001d",
      "'WR���*����f�9h�r��\\�E�g�D.�PAy�l�\\��\u0014W��?\"\\��.�|��Vi�����5rU�YG?��/��Tż�hsՂg���\u000fʵ���p>(מ̳�\f",
      "cf�X<q\u0006,\u0014�ķr�\n",
      "�%�Jtr<�8\"��\u001c",
      "D���\u0011K?�tdt��9�P��h;'�\u0013�ᘚ}��z,\u0001�[��)ȉC�q��\u0015�\u0003П\u0007�ne&y��=k7�A����S�\u0019\u0014zw\u0014�\u0013X��<���1z\u000b",
      "�?I$s�t\f",
      "%)�g�m\u0012֓sC�\u0019�sb�����I�\u0016�>\u0017���D�A���ʝ���J�O\u0005�\u0011e�˓$�\u0012e��$����u�ŧ6i<�:�S�\"��P��� QF?�J��<�\u0012|�\u000f��\u0005|�\u001f|�\u00039y0�Y�\t\u001c",
      "�'���'��˓��')ʖ'I|\"O\u0012{�'yϹX\u0007�F��*��K���\u0018�T��I֖�\u0019ϕ�\u001a\u001057�<�y�q���',/�Q<�����^�3\u0010���S�;^�q�S5*������iU5���y��e\f",
      "\u0004x\u001e",
      "��<Ob�<��Mƀ�\u0000��\f",
      "ϳW{Fe�\n",
      "ޗ'I6��j���v?���J�5�����ʳ�v�gs�ʳ%{0�W0�?�g���g�u�<ۛ�+7����4�\u0017\n",
      "�gZW;�]��k\u001c",
      "�a��Z,O��P�0�<al\u0005O\u0018bD\u001d",
      "�\u0011�nr�\u0016�H�(B�&⟅h��>�.��t�OYP����B��^��Cs?\u0011��?;@�hn�����$ϣ�1��:�<��+\u001d",
      "9��$�\t��q���k?�\u001a������ՠ��M�xƐ�EEy�`\u0007FQG~\"l��\u0003|�3|ʕ���xUh�n�+�/�\u001e",
      "<s�~�N���#�KCC��^�CY�����,Vc�.6k+qJs\"��@7��Xk�݆���ڢ�k�ʘ-w�nw��r�O���l��@P�x����}ّ;��\u001d",
      "�vz06ҹnO�޹t�%*���A\u001d",
      "�$u�1r��>=uџ\u00122�\u001c",
      "���\u001a�\"ǫϩ_�oI\u0014[\u000f����\f",
      "r�Ì�W��\u000b",
      "��<����E�\u000fDO�o\u001d",
      "!a!1�qb�!��)ϙ����BB\u0017\u0007\u0012\u001c",
      "yڭ<�\u001bNwj0y��6Ok駵�\n",
      "]�bWeD{�ޠq�gv��ȭ�]��\u0002ϜC��\u00039I�V��\u0017\u0005�\u0018\u0012�e\u001f���\u0002\u0019\tZ����\u0019��'W}\u0018\t�y�$�\u0019�qb�Dۋ*���+\u0019\u000fyb\u0005u7��u�p��\u0007�4�\n",
      "Ɂ2\u001e",
      "�q��{\u0018�\u0013+�Tƃ+VP۰BS\u0007/�\u0015T3m\u0005��)�KY[����-T��V\u0011OG\u0011O3���E\u0003�i\u0006�8\u0002\u00051��\u0005���&�9�\u0015���m��\u0005A��\u001e",
      "2��T�ð�$�Ў,f.��,/\u0013+�\n",
      "�c��`�X!�\u0015J`�=X�EXpO��ZXx\u0004+�\u0006\u000b",
      "Oa�cX�Q�p��VH^\"V�\u000f�VP��#��5iD�O�-�b\u000b",
      "�-��\n",
      "\u0017���Kl����Q\u0014_�g�%\u0016�2�W��+P�\u000b",
      "�*�\u0007c~\u0017\u0016\u0019�E>�\"\u001b��\"���\n",
      "\n",
      "==> /Users/sr320/Desktop/geo/geoduck_hic_make.review29.assembly <==\n",
      ">502907 1 69831\n",
      ">460 2 1695236\n",
      ">361 3 5060579\n",
      ">1495 4 410256\n",
      ">1508 5 4299751\n",
      ">647 6 1301051\n",
      ">1091 7 1004012\n",
      ">515088 8 242021\n",
      ">514491 9 88112\n",
      ">519021 10 241465\n",
      "\n",
      "==> /Users/sr320/Desktop/geo/geoduck_manual_scaffolds.agp <==\n",
      "##agp-version 2.0\n",
      "# This file was generated by converting juicebox assembly format\n",
      "PGA_scaffold_1\t1\t69831\t1\t1\tW\t502907\t1\t69831\t+\n",
      "PGA_scaffold_1\t69832\t69931\t2\t69832\tU\t100\tpaired-ends\n",
      "PGA_scaffold_1\t69932\t311952\t3\t69932\tW\t515088\t1\t242021\t-\n",
      "PGA_scaffold_1\t311953\t312052\t4\t311953\tU\t100\tpaired-ends\n",
      "PGA_scaffold_1\t312053\t400164\t5\t312053\tW\t514491\t1\t88112\t-\n",
      "PGA_scaffold_1\t400165\t400264\t6\t400165\tU\t100\tpaired-ends\n",
      "PGA_scaffold_1\t400265\t641729\t7\t400265\tW\t519021\t1\t241465\t-\n",
      "PGA_scaffold_1\t641730\t641829\t8\t641730\tU\t100\tpaired-ends\n",
      "\n",
      "==> /Users/sr320/Desktop/geo/geoduck_manual_scaffolds.fasta <==\n",
      ">PGA_scaffold1__77_contigs__length_89643857\n",
      "ATGCGCAGAAGTTGTTCCGGAAAATGGTACTGTAGTGACATGTGAATATGACCCGTATTTAGAGAAAGTAGCGAGAATGT\n",
      "ACTTTGATTCAACTCCGCATGGCAGGAAGATTCACATTCGTATAGGTATTGTTTTTAAATTAATTATAATAATGTGTATT\n",
      "GTTGAAACTAAAAAAACAAGCAAGCAGGGTGTCGGATAAAACGTAGGACGCTCGACATTGCGATACCAGAATTTGCTCGA\n",
      "TGTTATTGAGCTAATTATCAAAAATAAATACCATCCACTGTGTTGTTCCTGGGTGCCACATGGATGAAGGCAAGAATGTA\n",
      "GCCACTGTAGTTCATACAATTCCCAGAAGTAGTGTCTTGTGTGTTTAAACATGAATATCTGAATTAGTTGAAAACGGGTA\n",
      "TATATATAAATTTGGTTGAGCTGTAAAACTAATGAATGTGTGTGGTTTATTTAAGAATTAATTATTACTTTTTTATCAGA\n",
      "AGTAGTTTTTGAAAAAAATACTGTTTTTGAAAGTTACACTTATTCAAATAAGTAGCAACAGAAATTCAATATTGAATTTT\n",
      "ATGTCGGTGTGTGCCTCGTGATCGTTGCACAATGCAGTAATTCACCTGCACATAGATCGTGCAAGCCTGTGCAGAGCAGA\n",
      "ATCCCGGCTCAATTTTCGCACAGGTATTAAGCAACGATCACGGGGAACAGTTCCTCTCAATAACTTGGTAGCTAGCTGCG\n",
      "�%�Jtr<�8\"��\u001c",
      "D���\u0011K?�tdt��9�P��h;'�\u0013�ᘚ}��z,\u0001�[��)ȉC�q��\u0015�\u0003П\u0007�ne&y��=k7�A����S�\u0019\u0014zw\u0014�\u0013X��<���1z\u000b",
      "�?I$s�t\f",
      "%)�g�m\u0012֓sC�\u0019�sb�����I�\u0016�>\u0017���D�A���ʝ���J�O\u0005�\u0011e�˓$�\u0012e��$����u�ŧ6i<�:�S�\"��P��� QF?�J��<�\u0012|�\u000f��\u0005|�\u001f|�\u00039y0�Y�\t\u001c",
      "�'���'��˓��')ʖ'I|\"O\u0012{�'yϹX\u0007�F��*��K���\u0018�T��I֖�\u0019ϕ�\u001a\u001057�<�y�q���',/�Q<�����^�3\u0010���S�;^�q�S5*������iU5���y��e\f",
      "\u0004x\u001e",
      "��<Ob�<��Mƀ�\u0000��\f",
      "ϳW{Fe�\n",
      "ޗ'I6��j���v?���J�5�����ʳ�v�gs�ʳ%{0�W0�?�g���g�u�<ۛ�+7����4�\u0017\n",
      "�gZW;�]��k\u001c",
      "�a��Z,O��P�0�<al\u0005O\u0018bD\u001d",
      "�\u0011�nr�\u0016�H�(B�&⟅h��>�.��t�OYP����B��^��Cs?\u0011��?;@�hn�����$ϣ�1��:�<��+\u001d",
      "9��$�\t��q���k?�\u001a������ՠ��M�xƐ�EEy�`\u0007FQG~\"l��\u0003|�3|ʕ���xUh�n�+�/�\u001e",
      "<s�~�N���#�KCC��^�CY�����,Vc�.6k+qJs\"��@7��Xk�݆���ڢ�k�ʘ-w�nw��r�O���l��@P�x����}ّ;��\u001d",
      "�vz06ҹnO�޹t�%*���A\u001d",
      "�$u�1r��>=uџ\u00122�\u001c",
      "���\u001a�\"ǫϩ_�oI\u0014[\u000f����\f",
      "r�Ì�W��\u000b",
      "��<����E�\u000fDO�o\u001d",
      "!a!1�qb�!��)ϙ����BB\u0017\u0007\u0012\u001c",
      "yڭ<�\u001bNwj0y��6Ok駵�\n",
      "]�bWeD{�ޠq�gv��ȭ�]��\u0002ϜC��\u00039I�V��\u0017\u0005�\u0018\u0012�e\u001f���\u0002\u0019\tZ����\u0019��'W}\u0018\t�y�$�\u0019�qb�Dۋ*���+\u0019\u000fyb\u0005u7��u�p��\u0007�4�\n",
      "Ɂ2\u001e",
      "�q��{\u0018�\u0013+�Tƃ+VP۰BS\u0007/�\u0015T3m\u0005��)�KY[����-T��V\u0011OG\u0011O3���E\u0003�i\u0006�8\u0002\u00051��\u0005���&�9�\u0015���m��\u0005A��\u001e",
      "2��T�ð�$�Ў,f.��,/\u0013+�\n",
      "�c��`�X!�\u0015J`�=X�EXpO��ZXx\u0004+�\u0006\u000b",
      "Oa�cX�Q�p��VH^\"V�\u000f�VP��#��5iD�O�-�b\u000b",
      "�-��\n",
      "\u0017���Kl����Q\u0014_�g�%\u0016�2�W��+P�\u000b",
      "�*�\u0007c~\u0017\u0016\u0019�E>�\"\u001b��\"���\n",
      "\n",
      "==> /Users/sr320/Desktop/geo/geoduck_hic_make.review29.assembly <==\n",
      ">502907 1 69831\n",
      ">460 2 1695236\n",
      ">361 3 5060579\n",
      ">1495 4 410256\n",
      ">1508 5 4299751\n",
      ">647 6 1301051\n",
      ">1091 7 1004012\n",
      ">515088 8 242021\n",
      ">514491 9 88112\n",
      ">519021 10 241465\n",
      "\n",
      "==> /Users/sr320/Desktop/geo/geoduck_manual_scaffolds.agp <==\n",
      "##agp-version 2.0\n",
      "# This file was generated by converting juicebox assembly format\n",
      "PGA_scaffold_1\t1\t69831\t1\t1\tW\t502907\t1\t69831\t+\n",
      "PGA_scaffold_1\t69832\t69931\t2\t69832\tU\t100\tpaired-ends\n",
      "PGA_scaffold_1\t69932\t311952\t3\t69932\tW\t515088\t1\t242021\t-\n",
      "PGA_scaffold_1\t311953\t312052\t4\t311953\tU\t100\tpaired-ends\n",
      "PGA_scaffold_1\t312053\t400164\t5\t312053\tW\t514491\t1\t88112\t-\n",
      "PGA_scaffold_1\t400165\t400264\t6\t400165\tU\t100\tpaired-ends\n",
      "PGA_scaffold_1\t400265\t641729\t7\t400265\tW\t519021\t1\t241465\t-\n",
      "PGA_scaffold_1\t641730\t641829\t8\t641730\tU\t100\tpaired-ends\n",
      "\n",
      "==> /Users/sr320/Desktop/geo/geoduck_manual_scaffolds.fasta <==\n",
      ">PGA_scaffold1__77_contigs__length_89643857\n",
      "ATGCGCAGAAGTTGTTCCGGAAAATGGTACTGTAGTGACATGTGAATATGACCCGTATTTAGAGAAAGTAGCGAGAATGT\n",
      "ACTTTGATTCAACTCCGCATGGCAGGAAGATTCACATTCGTATAGGTATTGTTTTTAAATTAATTATAATAATGTGTATT\n",
      "GTTGAAACTAAAAAAACAAGCAAGCAGGGTGTCGGATAAAACGTAGGACGCTCGACATTGCGATACCAGAATTTGCTCGA\n",
      "TGTTATTGAGCTAATTATCAAAAATAAATACCATCCACTGTGTTGTTCCTGGGTGCCACATGGATGAAGGCAAGAATGTA\n",
      "GCCACTGTAGTTCATACAATTCCCAGAAGTAGTGTCTTGTGTGTTTAAACATGAATATCTGAATTAGTTGAAAACGGGTA\n",
      "TATATATAAATTTGGTTGAGCTGTAAAACTAATGAATGTGTGTGGTTTATTTAAGAATTAATTATTACTTTTTTATCAGA\n",
      "AGTAGTTTTTGAAAAAAATACTGTTTTTGAAAGTTACACTTATTCAAATAAGTAGCAACAGAAATTCAATATTGAATTTT\n",
      "ATGTCGGTGTGTGCCTCGTGATCGTTGCACAATGCAGTAATTCACCTGCACATAGATCGTGCAAGCCTGTGCAGAGCAGA\n",
      "ATCCCGGCTCAATTTTCGCACAGGTATTAAGCAACGATCACGGGGAACAGTTCCTCTCAATAACTTGGTAGCTAGCTGCG\n"
     ]
    }
   ],
   "source": [
    "!head /Users/sr320/Desktop/geo/*"
   ]
  },
  {
   "cell_type": "markdown",
   "metadata": {},
   "source": [
    "## also this"
   ]
  },
  {
   "cell_type": "markdown",
   "metadata": {},
   "source": [
    "![pic](http://gannet.fish.washington.edu/seashell/snaps/Results_-_Google_Drive_2019-06-25_09-54-30.png)"
   ]
  },
  {
   "cell_type": "code",
   "execution_count": null,
   "metadata": {},
   "outputs": [],
   "source": []
  }
 ],
 "metadata": {
  "kernelspec": {
   "display_name": "Python 3",
   "language": "python",
   "name": "python3"
  },
  "language_info": {
   "codemirror_mode": {
    "name": "ipython",
    "version": 3
   },
   "file_extension": ".py",
   "mimetype": "text/x-python",
   "name": "python",
   "nbconvert_exporter": "python",
   "pygments_lexer": "ipython3",
   "version": "3.6.8"
  }
 },
 "nbformat": 4,
 "nbformat_minor": 2
}
