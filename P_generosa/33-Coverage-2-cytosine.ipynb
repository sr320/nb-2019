{
 "cells": [
  {
   "cell_type": "code",
   "execution_count": 2,
   "metadata": {
    "ExecuteTime": {
     "end_time": "2019-11-04T19:57:07.647606Z",
     "start_time": "2019-11-04T19:57:07.626737Z"
    }
   },
   "outputs": [
    {
     "name": "stdout",
     "output_type": "stream",
     "text": [
      "/Users/sr320/Documents/GitHub/nb-2019/P_generosa/data\n"
     ]
    }
   ],
   "source": [
    "cd data"
   ]
  },
  {
   "cell_type": "code",
   "execution_count": 7,
   "metadata": {
    "ExecuteTime": {
     "end_time": "2019-11-04T19:57:56.163378Z",
     "start_time": "2019-11-04T19:57:56.144680Z"
    }
   },
   "outputs": [
    {
     "data": {
      "text/plain": [
       "'/Users/sr320/Documents/GitHub/nb-2019/P_generosa/data'"
      ]
     },
     "execution_count": 7,
     "metadata": {},
     "output_type": "execute_result"
    }
   ],
   "source": [
    "pwd"
   ]
  },
  {
   "cell_type": "code",
   "execution_count": 8,
   "metadata": {
    "ExecuteTime": {
     "end_time": "2019-11-04T19:58:01.977457Z",
     "start_time": "2019-11-04T19:58:01.969149Z"
    }
   },
   "outputs": [
    {
     "name": "stdout",
     "output_type": "stream",
     "text": [
      "/Users/sr320/Documents/GitHub/nb-2019/P_generosa/analyses\n"
     ]
    }
   ],
   "source": [
    "cd ../analyses/"
   ]
  },
  {
   "cell_type": "code",
   "execution_count": 10,
   "metadata": {
    "ExecuteTime": {
     "end_time": "2019-11-04T19:58:12.221963Z",
     "start_time": "2019-11-04T19:58:12.076382Z"
    }
   },
   "outputs": [
    {
     "name": "stdout",
     "output_type": "stream",
     "text": [
      "EPI-103_S27_L005_R1_001_val_1_bismark_bt2_pe.deduplicated.bismark.cov\r\n",
      "EPI-104_S28_L005_R1_001_val_1_bismark_bt2_pe.deduplicated.bismark.cov\r\n",
      "EPI-111_S29_L005_R1_001_val_1_bismark_bt2_pe.deduplicated.bismark.cov\r\n",
      "EPI-113_S30_L005_R1_001_val_1_bismark_bt2_pe.deduplicated.bismark.cov\r\n",
      "EPI-119_S31_L005_R1_001_val_1_bismark_bt2_pe.deduplicated.bismark.cov\r\n",
      "EPI-120_S32_L005_R1_001_val_1_bismark_bt2_pe.deduplicated.bismark.cov\r\n",
      "EPI-127_S33_L005_R1_001_val_1_bismark_bt2_pe.deduplicated.bismark.cov\r\n",
      "EPI-128_S34_L005_R1_001_val_1_bismark_bt2_pe.deduplicated.bismark.cov\r\n",
      "EPI-135_S35_L005_R1_001_val_1_bismark_bt2_pe.deduplicated.bismark.cov\r\n",
      "EPI-136_S36_L005_R1_001_val_1_bismark_bt2_pe.deduplicated.bismark.cov\r\n",
      "EPI-143_S37_L005_R1_001_val_1_bismark_bt2_pe.deduplicated.bismark.cov\r\n",
      "EPI-145_S38_L005_R1_001_val_1_bismark_bt2_pe.deduplicated.bismark.cov\r\n",
      "EPI-151_S2_L002_R1_001_val_1_bismark_bt2_pe.deduplicated.bismark.cov\r\n",
      "EPI-152_S3_L002_R1_001_val_1_bismark_bt2_pe.deduplicated.bismark.cov\r\n",
      "EPI-153_S4_L002_R1_001_val_1_bismark_bt2_pe.deduplicated.bismark.cov\r\n",
      "EPI-154_S5_L002_R1_001_val_1_bismark_bt2_pe.deduplicated.bismark.cov\r\n",
      "EPI-159_S6_L002_R1_001_val_1_bismark_bt2_pe.deduplicated.bismark.cov\r\n",
      "EPI-160_S7_L002_R1_001_val_1_bismark_bt2_pe.deduplicated.bismark.cov\r\n",
      "EPI-161_S8_L002_R1_001_val_1_bismark_bt2_pe.deduplicated.bismark.cov\r\n",
      "EPI-162_S9_L002_R1_001_val_1_bismark_bt2_pe.deduplicated.bismark.cov\r\n",
      "EPI-167_S10_L002_R1_001_val_1_bismark_bt2_pe.deduplicated.bismark.cov\r\n",
      "EPI-168_S11_L002_R1_001_val_1_bismark_bt2_pe.deduplicated.bismark.cov\r\n",
      "EPI-169_S12_L002_R1_001_val_1_bismark_bt2_pe.deduplicated.bismark.cov\r\n",
      "EPI-170_S13_L002_R1_001_val_1_bismark_bt2_pe.deduplicated.bismark.cov\r\n",
      "EPI-175_S14_L003_R1_001_val_1_bismark_bt2_pe.deduplicated.bismark.cov\r\n",
      "EPI-176_S15_L003_R1_001_val_1_bismark_bt2_pe.deduplicated.bismark.cov\r\n",
      "EPI-181_S16_L003_R1_001_val_1_bismark_bt2_pe.deduplicated.bismark.cov\r\n",
      "EPI-182_S17_L003_R1_001_val_1_bismark_bt2_pe.deduplicated.bismark.cov\r\n",
      "EPI-184_S18_L003_R1_001_val_1_bismark_bt2_pe.deduplicated.bismark.cov\r\n",
      "EPI-185_S19_L003_R1_001_val_1_bismark_bt2_pe.deduplicated.bismark.cov\r\n",
      "EPI-187_S20_L003_R1_001_val_1_bismark_bt2_pe.deduplicated.bismark.cov\r\n",
      "EPI-188_S21_L003_R1_001_val_1_bismark_bt2_pe.deduplicated.bismark.cov\r\n",
      "EPI-193_S22_L003_R1_001_val_1_bismark_bt2_pe.deduplicated.bismark.cov\r\n",
      "EPI-194_S23_L003_R1_001_val_1_bismark_bt2_pe.deduplicated.bismark.cov\r\n",
      "EPI-199_S24_L003_R1_001_val_1_bismark_bt2_pe.deduplicated.bismark.cov\r\n",
      "EPI-200_S25_L003_R1_001_val_1_bismark_bt2_pe.deduplicated.bismark.cov\r\n",
      "EPI-205_S26_L004_R1_001_val_1_bismark_bt2_pe.deduplicated.bismark.cov\r\n",
      "EPI-206_S27_L004_R1_001_val_1_bismark_bt2_pe.deduplicated.bismark.cov\r\n",
      "EPI-208_S28_L004_R1_001_val_1_bismark_bt2_pe.deduplicated.bismark.cov\r\n",
      "EPI-209_S29_L004_R1_001_val_1_bismark_bt2_pe.deduplicated.bismark.cov\r\n",
      "EPI-214_S30_L004_R1_001_val_1_bismark_bt2_pe.deduplicated.bismark.cov\r\n",
      "EPI-215_S31_L004_R1_001_val_1_bismark_bt2_pe.deduplicated.bismark.cov\r\n",
      "EPI-220_S32_L004_R1_001_val_1_bismark_bt2_pe.deduplicated.bismark.cov\r\n",
      "EPI-221_S33_L004_R1_001_val_1_bismark_bt2_pe.deduplicated.bismark.cov\r\n",
      "EPI-226_S34_L004_R1_001_val_1_bismark_bt2_pe.deduplicated.bismark.cov\r\n",
      "EPI-227_S35_L004_R1_001_val_1_bismark_bt2_pe.deduplicated.bismark.cov\r\n",
      "EPI-229_S36_L004_R1_001_val_1_bismark_bt2_pe.deduplicated.bismark.cov\r\n",
      "EPI-230_S37_L004_R1_001_val_1_bismark_bt2_pe.deduplicated.bismark.cov\r\n",
      "EPI-41_S38_L005_R1_001_val_1_bismark_bt2_pe.deduplicated.bismark.cov\r\n",
      "EPI-42_S39_L005_R1_001_val_1_bismark_bt2_pe.deduplicated.bismark.cov\r\n",
      "EPI-43_S40_L005_R1_001_val_1_bismark_bt2_pe.deduplicated.bismark.cov\r\n",
      "EPI-44_S41_L005_R1_001_val_1_bismark_bt2_pe.deduplicated.bismark.cov\r\n"
     ]
    }
   ],
   "source": [
    "ls *cov"
   ]
  },
  {
   "cell_type": "code",
   "execution_count": 11,
   "metadata": {
    "ExecuteTime": {
     "end_time": "2019-11-04T19:59:37.025432Z",
     "start_time": "2019-11-04T19:59:34.794412Z"
    }
   },
   "outputs": [
    {
     "name": "stdout",
     "output_type": "stream",
     "text": [
      "You need to provide a Bismark coverage file (with counts methylated/unmethylated cytosines) to create an individual C methylation output. Please respecify!\n",
      "\n",
      "  SYNOPSIS:\n",
      "\n",
      "  This script generates a cytosine methylation report for a genome of interest and a sorted methylation input file produced\n",
      "  by the script bismark2bedGraph or the bismark_methylation_extractor when '--bedGraph' was specified. The input files\n",
      "  (.cov or .cov.gz) are expected to use 1-based genomic coordinates. By default, the output uses 1-based chromosomal coordinates\n",
      "  and reports CpG positions only (for both strands individually and not merged in any way). Output coordinates may be changed\n",
      "  to 0-based coordinates using the option '--zero_based'.\n",
      "\n",
      "  The input file needs to have been generated with the script bismark2bedGraph (the file is called *.cov, or .cov.gz) or\n",
      "  otherwise be sorted by position and exactly in the following format:\n",
      "\n",
      "  <chromosome>  <start position>  <end position>  <methylation percentage>  <count methylated>  <count unmethylated>\n",
      "\n",
      "  The coordinates of the input file are expected to be 1-based throughout (do not use files ending in .zero.cov!).\n",
      "\n",
      "\n",
      "  USAGE: coverage2cytosine [options] --genome_folder <path> -o <output> [input]\n",
      "\n",
      "\n",
      "-o/--output <filename>   Name of the output file, mandatory.\n",
      "\n",
      "--dir                    Output directory. Output is written to the current directory if not specified explicitly.\n",
      "\n",
      "--genome_folder <path>   Enter the genome folder you wish to use to extract sequences from (relative or full path). Accepted\n",
      "                         formats are FastA files ending with '.fa' or '.fasta'. Specifying a genome folder path is mandatory.\n",
      "\n",
      "-CX/--CX_context         The output file contains information on every single cytosine in the genome irrespective of\n",
      "                         its context. This applies to both forward and reverse strands. Please be aware that this will\n",
      "                         generate output files with > 1.1 billion lines for a mammalian genome such as human or mouse.\n",
      "                         Default: OFF (i.e. Default = CpG context only).\n",
      "\n",
      "--merge_CpG              Using this option will post-process the genome-wide report to write out an additional coverage\n",
      "                         file (see above for the coverage file format) which has the top and bottom strand methylation\n",
      "                         evidence pooled into a single CpG dinucleotide entity. This may be the desirable input format\n",
      "                         for some downstream processing tools such as the R-package bsseq (by K.D. Hansen). An example would be:\n",
      "\n",
      "\t\t\t   genome-wide CpG report (old)\n",
      "\t\t\t   gi|9626372|ref|NC_001422.1|     157     +       313     156     CG\n",
      "\t\t\t   gi|9626372|ref|NC_001422.1|     158     -       335     156     CG\n",
      "\t\t\t   merged CpG evidence coverage file (new)\n",
      "\t\t\t   gi|9626372|ref|NC_001422.1|     157     158     67.500000       648     312\n",
      "\n",
      "\t\t\t This option is currently experimental, and only works if CpG context only and a single genome-wide report\n",
      "                         were specified (i.e. it doesn't work with the options --CX or --split_by_chromosome).\n",
      "                         If --zero_based was specified as well the output coverage file is in zero-based half-open format like\n",
      "                         bedGraph files.\n",
      "\n",
      "--discordance <int>      When in '--merge_CpG' mode, apply a filter for the maximum allowed discordance between top and bottom\n",
      "                         strand methylation values expressed as the absolute difference in percent methylation. Discordant CpGs\n",
      "                         are written to a file called 'discordant_CpG_evidence.cov' (not merged). As example consider:\n",
      " \n",
      "                         top:     gi|170079663|ref|NC_010473.1|   573     +       5       6       CG      CGC\n",
      "                         bottom:  gi|170079663|ref|NC_010473.1|   574     -       13      4       CG      CGG\n",
      "                         with '--discordance 20'\n",
      "\n",
      "                         The methylation % difference here is 31%, so the read would go into the discordant.cov file. CpG positions\n",
      "                         for which either the top or bottom strand was not measured at all will not be assessed for discordance, and\n",
      "                         hence appear in the regular 'merged_CpG_evidence.cov' file.\n",
      "\n",
      "\n",
      "--gc/--gc_context        In addition to normal processing this option will reprocess the genome to find methylation in \n",
      "                         GpC context. This might be useful for specialist applications where GpC methylases had been\n",
      "                         deployed. The output format is exactly the same as for the normal cytosine report, and only\n",
      "                         positions covered by at least one read are reported (output file ends in .GpC_report.txt). In addition\n",
      "                         this will write out a Bismark coverage file (ending in GpC.cov).\n",
      "\n",
      "--nome-seq               Sample is NOMe-Seq (nucleosome occupancy and methylome sequencing) where accessible DNA gets methylated\n",
      "                         in a GpC context (sets option '--gc' as well). The option '--nome-seq':\n",
      "\n",
      "                            (i) filters the genome-wide CpG-report to only output cytosines in ACG and TCG context\n",
      "                           (ii) filters the GC context output to only report cytosines in GCA, GCC and GCT context\n",
      "\n",
      "                         Both of these measures aim to reduce unwanted biases, i.e. the influence of GCG and CCG on endogenous\n",
      "                         CpG methylation, and the inlfluence of CpG methylation on (the NOMe-Seq specific) GC context methylation.\n",
      "                         PLEASE NOTE that NOMe-Seq data requires a .cov.gz file as input which has been generated in\n",
      "                         non-CG mode (--CX), else the GpC output file will be empty... Default: OFF. \n",
      "\n",
      "--ff                     In addition to the standard output selecting --ff will also extract a four and five (tetra/penta)\n",
      "                         nucleotide context for the cytosines in question. Too short sequences (e.g. at the edges of the\n",
      "                         chromosome) will be left blank; sequences containing Ns are ignored.ll\n",
      "\n",
      "--zero_based             Uses 0-based coordinates instead of 1-based coordinates throughout. Default: OFF.\n",
      "\n",
      "--split_by_chromosome    Writes the output into individual files for each chromosome instead of a single output file. Files\n",
      "                         will be named to include the input filename and the chromosome number.\n",
      "\n",
      "--gzip                   Output file will be GZIP compressed (ending in .gz). Only works for standard CpG- and CX-output.\n",
      " \n",
      "--help                   Displays this help message and exits\n",
      "\n",
      "\n",
      "\n",
      "OUTPUT FORMAT:\n",
      "\n",
      "The genome-wide cytosine methylation output file is tab-delimited in the following format (1-based coords):\n",
      "===========================================================================================================\n",
      "\n",
      "<chromosome>  <position>  <strand>  <count methylated>  <count non-methylated>  <C-context>  <trinucleotide context>\n",
      "\n",
      "\n",
      "                              Script last modified: 26 April 2018\n",
      "\n"
     ]
    }
   ],
   "source": [
    "!/Applications/bioinfo/bismark_v0.21.0/coverage2cytosine"
   ]
  },
  {
   "cell_type": "code",
   "execution_count": 13,
   "metadata": {
    "ExecuteTime": {
     "end_time": "2019-11-04T20:17:14.043131Z",
     "start_time": "2019-11-04T20:04:13.204383Z"
    }
   },
   "outputs": [
    {
     "name": "stdout",
     "output_type": "stream",
     "text": [
      "Summary of parameters for genome-wide cytosine report:\n",
      "==============================================================================\n",
      "Coverage infile:\t\t\t\tEPI-103_S27_L005_R1_001_val_1_bismark_bt2_pe.deduplicated.bismark.cov\n",
      "Output directory:\t\t\t\t><\n",
      "Parent directory:\t\t\t\t>/Users/sr320/Documents/GitHub/nb-2019/P_generosa/analyses/<\n",
      "Genome directory:\t\t\t\t>/Users/sr320/Desktop/v074/<\n",
      "CX context:\t\t\t\t\tno (CpG context only, default)\n",
      "Genome coordinates used:\t\t\t1-based (default)\n",
      "GZIP compression:\t\t\t\tno\n",
      "Split by chromosome:\t\t\t\tno\n",
      "\n",
      "\n",
      "Now reading in and storing sequence information of the genome specified in: /Users/sr320/Desktop/v074/\n",
      "\n",
      "chr PGA_scaffold1__77_contigs__length_89643857 (89643857 bp)\n",
      "chr PGA_scaffold2__36_contigs__length_69596280 (69596280 bp)\n",
      "chr PGA_scaffold3__111_contigs__length_57743597 (57743597 bp)\n",
      "chr PGA_scaffold4__129_contigs__length_65288255 (65288255 bp)\n",
      "chr PGA_scaffold5__109_contigs__length_67248332 (67248332 bp)\n",
      "chr PGA_scaffold6__104_contigs__length_61759565 (61759565 bp)\n",
      "chr PGA_scaffold7__69_contigs__length_43120122 (43120122 bp)\n",
      "chr PGA_scaffold8__63_contigs__length_61151155 (61151155 bp)\n",
      "chr PGA_scaffold9__45_contigs__length_38581958 (38581958 bp)\n",
      "chr PGA_scaffold10__49_contigs__length_53961475 (53961475 bp)\n",
      "chr PGA_scaffold11__79_contigs__length_51449921 (51449921 bp)\n",
      "chr PGA_scaffold12__71_contigs__length_50438331 (50438331 bp)\n",
      "chr PGA_scaffold13__52_contigs__length_44396874 (44396874 bp)\n",
      "chr PGA_scaffold14__91_contigs__length_45393038 (45393038 bp)\n",
      "chr PGA_scaffold15__101_contigs__length_47938513 (47938513 bp)\n",
      "chr PGA_scaffold16__33_contigs__length_31980953 (31980953 bp)\n",
      "chr PGA_scaffold17__51_contigs__length_34923512 (34923512 bp)\n",
      "chr PGA_scaffold18__69_contigs__length_27737463 (27737463 bp)\n",
      "\n",
      "Stored sequence information of 18 chromosomes/scaffolds in total\n",
      "\n",
      "==============================================================================\n",
      "Methylation information will now be written into a genome-wide cytosine report\n",
      "==============================================================================\n",
      "\n",
      ">>> Writing genome-wide cytosine report to: _testout.tab.CpG_report.txt <<<\n",
      "\n",
      "Storing all covered cytosine positions for chromosome: PGA_scaffold1__77_contigs__length_89643857\n",
      "Writing cytosine report for chromosome PGA_scaffold1__77_contigs__length_89643857 (stored 1084861 different covered positions)\n",
      "Writing cytosine report for chromosome PGA_scaffold2__36_contigs__length_69596280 (stored 838867 different covered positions)\n",
      "Writing cytosine report for chromosome PGA_scaffold3__111_contigs__length_57743597 (stored 675348 different covered positions)\n",
      "Writing cytosine report for chromosome PGA_scaffold4__129_contigs__length_65288255 (stored 771355 different covered positions)\n",
      "Writing cytosine report for chromosome PGA_scaffold5__109_contigs__length_67248332 (stored 694256 different covered positions)\n",
      "Writing cytosine report for chromosome PGA_scaffold6__104_contigs__length_61759565 (stored 676942 different covered positions)\n",
      "Writing cytosine report for chromosome PGA_scaffold7__69_contigs__length_43120122 (stored 495336 different covered positions)\n",
      "Writing cytosine report for chromosome PGA_scaffold8__63_contigs__length_61151155 (stored 695303 different covered positions)\n",
      "Writing cytosine report for chromosome PGA_scaffold9__45_contigs__length_38581958 (stored 438486 different covered positions)\n",
      "Writing cytosine report for chromosome PGA_scaffold10__49_contigs__length_53961475 (stored 575576 different covered positions)\n",
      "Writing cytosine report for chromosome PGA_scaffold11__79_contigs__length_51449921 (stored 570579 different covered positions)\n",
      "Writing cytosine report for chromosome PGA_scaffold12__71_contigs__length_50438331 (stored 606443 different covered positions)\n",
      "Writing cytosine report for chromosome PGA_scaffold13__52_contigs__length_44396874 (stored 489725 different covered positions)\n",
      "Writing cytosine report for chromosome PGA_scaffold14__91_contigs__length_45393038 (stored 626011 different covered positions)\n",
      "Writing cytosine report for chromosome PGA_scaffold15__101_contigs__length_47938513 (stored 499547 different covered positions)\n",
      "Writing cytosine report for chromosome PGA_scaffold16__33_contigs__length_31980953 (stored 395422 different covered positions)\n",
      "Writing cytosine report for chromosome PGA_scaffold17__51_contigs__length_34923512 (stored 420528 different covered positions)\n",
      "Writing cytosine report for last chromosome PGA_scaffold18__69_contigs__length_27737463 (stored 304048 different covered positions)\n",
      "Finished writing out cytosine report for covered chromosomes (processed 18 chromosomes/scaffolds in total)\n",
      "\n",
      "Now processing chromosomes that were not covered by any methylation calls in the coverage file...\n",
      "All chromosomes in the genome were covered by at least some reads. coverage2cytosine processing complete.\n",
      "\n"
     ]
    }
   ],
   "source": [
    "!/Applications/bioinfo/bismark_v0.21.0/coverage2cytosine \\\n",
    "--genome_folder /Users/sr320/Desktop/v074 \\\n",
    "-o _testout.tab \\\n",
    "EPI-103_S27_L005_R1_001_val_1_bismark_bt2_pe.deduplicated.bismark.cov "
   ]
  },
  {
   "cell_type": "code",
   "execution_count": 14,
   "metadata": {
    "ExecuteTime": {
     "end_time": "2019-11-04T20:24:17.822786Z",
     "start_time": "2019-11-04T20:24:17.614939Z"
    }
   },
   "outputs": [
    {
     "name": "stdout",
     "output_type": "stream",
     "text": [
      "_test.1.bed                 _test.gene.1.bed\r\n",
      "_test.1.intron              _testout.tab.CpG_report.txt\r\n",
      "_test.1.tab                 _testv2.bedGraph\r\n",
      "_test.bedgraph              testv3.bedGraph\r\n",
      "\r\n",
      "test:\r\n"
     ]
    }
   ],
   "source": [
    "!ls *test*"
   ]
  },
  {
   "cell_type": "code",
   "execution_count": 15,
   "metadata": {
    "ExecuteTime": {
     "end_time": "2019-11-04T20:24:32.040372Z",
     "start_time": "2019-11-04T20:24:31.906675Z"
    }
   },
   "outputs": [
    {
     "name": "stdout",
     "output_type": "stream",
     "text": [
      "PGA_scaffold1__77_contigs__length_89643857\t4\t+\t0\t0\tCG\tCGC\r\n",
      "PGA_scaffold1__77_contigs__length_89643857\t5\t-\t0\t0\tCG\tCGC\r\n",
      "PGA_scaffold1__77_contigs__length_89643857\t18\t+\t0\t0\tCG\tCGG\r\n",
      "PGA_scaffold1__77_contigs__length_89643857\t19\t-\t0\t0\tCG\tCGG\r\n",
      "PGA_scaffold1__77_contigs__length_89643857\t54\t+\t0\t1\tCG\tCGT\r\n",
      "PGA_scaffold1__77_contigs__length_89643857\t55\t-\t0\t0\tCG\tCGG\r\n",
      "PGA_scaffold1__77_contigs__length_89643857\t72\t+\t0\t2\tCG\tCGA\r\n",
      "PGA_scaffold1__77_contigs__length_89643857\t73\t-\t0\t0\tCG\tCGC\r\n",
      "PGA_scaffold1__77_contigs__length_89643857\t96\t+\t0\t2\tCG\tCGC\r\n",
      "PGA_scaffold1__77_contigs__length_89643857\t97\t-\t0\t0\tCG\tCGG\r\n"
     ]
    }
   ],
   "source": [
    "!head _testout.tab.CpG_report.txt"
   ]
  },
  {
   "cell_type": "code",
   "execution_count": null,
   "metadata": {},
   "outputs": [],
   "source": []
  }
 ],
 "metadata": {
  "kernelspec": {
   "display_name": "Python 3",
   "language": "python",
   "name": "python3"
  },
  "language_info": {
   "codemirror_mode": {
    "name": "ipython",
    "version": 3
   },
   "file_extension": ".py",
   "mimetype": "text/x-python",
   "name": "python",
   "nbconvert_exporter": "python",
   "pygments_lexer": "ipython3",
   "version": "3.6.8"
  }
 },
 "nbformat": 4,
 "nbformat_minor": 2
}
