{
 "cells": [
  {
   "cell_type": "code",
   "execution_count": 1,
   "metadata": {
    "ExecuteTime": {
     "end_time": "2019-09-06T21:40:10.495284Z",
     "start_time": "2019-09-06T21:40:08.660118Z"
    }
   },
   "outputs": [],
   "source": [
    "import csv\n",
    "\n",
    "import matplotlib.pyplot as plt\n",
    "import numpy as np\n",
    "import pandas as pd\n",
    "import seaborn as sns\n"
   ]
  },
  {
   "cell_type": "code",
   "execution_count": null,
   "metadata": {},
   "outputs": [],
   "source": [
    "def define_genomic_feature(descriptor):\n",
    "    \"\"\"\n",
    "    From descriptor, parse and return whether position is 'intergenic',\n",
    "    'exon' or 'intron'.\n",
    "    \"\"\"\n",
    "    if 'Exon_' in descriptor:\n",
    "        return 'exon'\n",
    "    elif 'Intron_' in descriptor:\n",
    "        return 'intron'\n",
    "    else:\n",
    "        return 'intergenic'"
   ]
  },
  {
   "cell_type": "code",
   "execution_count": null,
   "metadata": {},
   "outputs": [],
   "source": [
    "data = pd.read_table('../../merged_final_covs/all.filt.annot.merged.cov', header=None,\n",
    "                     usecols=[3, 6, 10],\n",
    "                     names=['meth_pct', 'gene', 'ei'])"
   ]
  },
  {
   "cell_type": "code",
   "execution_count": null,
   "metadata": {},
   "outputs": [],
   "source": [
    "\n",
    "\"\"\"\n",
    "> plot_meth_levels.genomic_context.py <\n",
    "Uses seaborn to plot a histogram of the methylation to contrast methylation\n",
    "across treatments.\n",
    "\"\"\"\n",
    "import csv\n",
    "\n",
    "import matplotlib.pyplot as plt\n",
    "import numpy as np\n",
    "import pandas as pd\n",
    "import seaborn as sns\n",
    "\n",
    "def define_genomic_feature(descriptor):\n",
    "    \"\"\"\n",
    "    From descriptor, parse and return whether position is 'intergenic',\n",
    "    'exon' or 'intron'.\n",
    "    \"\"\"\n",
    "    if 'Exon_' in descriptor:\n",
    "        return 'exon'\n",
    "    elif 'Intron_' in descriptor:\n",
    "        return 'intron'\n",
    "    else:\n",
    "        return 'intergenic'\n",
    "\n",
    "data = pd.read_table('../../merged_final_covs/all.filt.annot.merged.cov', header=None,\n",
    "                     usecols=[3, 6, 10],\n",
    "                     names=['meth_pct', 'gene', 'ei'])\n",
    "\n",
    "data['temp'] = data['gene'] + data['ei']\n",
    "data['temp'] = data['temp'].fillna(value='intergenic')\n",
    "data['genomic_feature'] = data['temp'].apply(define_genomic_feature)\n",
    "\n",
    "data = data.drop('temp', axis=1)\n",
    "data = data.drop('gene', axis=1)\n",
    "data = data.drop('ei', axis=1)\n",
    "\n",
    "# seaborn\n",
    "sns.set(style='ticks')\n",
    "\n",
    "fig, ax = plt.subplots(figsize=(5, 2.5))\n",
    "np_bins = np.linspace(0, 100, 51)\n",
    "color = {'exon': '#2166ac', 'intron': '#67a9cf', 'intergenic': '#f4a582'}\n",
    "for f in ['exon', 'intron', 'intergenic']:\n",
    "    sns.distplot(data[data['genomic_feature'] == f]['meth_pct'],\n",
    "                 bins=np_bins,\n",
    "                 hist_kws={'alpha': 0.3, 'edgecolor': '#999999'},\n",
    "                 kde_kws={'bw': 1},\n",
    "                 color=color[f],\n",
    "                 label=f.title())\n",
    "\n",
    "plt.legend()\n",
    "plt.xlim(0, 100)\n",
    "plt.ylim(0, 0.07)\n",
    "sns.despine(offset=10, trim=True)\n",
    "ax.set_xlabel('Methylation level (%)')\n",
    "ax.set_ylabel('Relative frequency')\n",
    "\n",
    "plt.legend(loc='upper center', ncol=3, frameon=True)\n",
    "\n",
    "# save figure\n",
    "fig = plt.gcf()\n",
    "\n",
    "# without bbox_inches, the saved figure has truncated axes.\n",
    "output_filename = 'meth_levels.genomic_context.pdf'\n",
    "fig.savefig(output_filename, bbox_inches='tight')"
   ]
  }
 ],
 "metadata": {
  "kernelspec": {
   "display_name": "Python 3",
   "language": "python",
   "name": "python3"
  },
  "language_info": {
   "codemirror_mode": {
    "name": "ipython",
    "version": 3
   },
   "file_extension": ".py",
   "mimetype": "text/x-python",
   "name": "python",
   "nbconvert_exporter": "python",
   "pygments_lexer": "ipython3",
   "version": "3.6.8"
  }
 },
 "nbformat": 4,
 "nbformat_minor": 2
}
