{
 "cells": [
  {
   "cell_type": "code",
   "execution_count": 6,
   "metadata": {
    "ExecuteTime": {
     "end_time": "2019-08-17T14:13:30.288878Z",
     "start_time": "2019-08-17T14:13:29.162066Z"
    }
   },
   "outputs": [
    {
     "name": "stdout",
     "output_type": "stream",
     "text": [
      "--2019-08-17 10:13:29--  https://gannet.fish.washington.edu/Atumefaciens/20190701_pgen_maker_v074_annotation/blastp_annotation/blastp.outfmt6\n",
      "Resolving gannet.fish.washington.edu (gannet.fish.washington.edu)... 128.95.149.52\n",
      "Connecting to gannet.fish.washington.edu (gannet.fish.washington.edu)|128.95.149.52|:443... connected.\n",
      "HTTP request sent, awaiting response... 200 OK\n",
      "Length: 143646 (140K)\n",
      "Saving to: ‘blastp.outfmt6’\n",
      "\n",
      "blastp.outfmt6      100%[===================>] 140.28K   260KB/s    in 0.5s    \n",
      "\n",
      "2019-08-17 10:13:30 (260 KB/s) - ‘blastp.outfmt6’ saved [143646/143646]\n",
      "\n"
     ]
    }
   ],
   "source": [
    "!wget https://gannet.fish.washington.edu/Atumefaciens/20190701_pgen_maker_v074_annotation/blastp_annotation/blastp.outfmt6\n",
    "    "
   ]
  },
  {
   "cell_type": "code",
   "execution_count": 8,
   "metadata": {
    "ExecuteTime": {
     "end_time": "2019-08-17T14:13:47.603750Z",
     "start_time": "2019-08-17T14:13:47.476688Z"
    }
   },
   "outputs": [],
   "source": [
    "!mv blastp.outfmt6 data/"
   ]
  },
  {
   "cell_type": "code",
   "execution_count": 9,
   "metadata": {
    "ExecuteTime": {
     "end_time": "2019-08-17T14:13:53.933658Z",
     "start_time": "2019-08-17T14:13:53.803765Z"
    }
   },
   "outputs": [
    {
     "name": "stdout",
     "output_type": "stream",
     "text": [
      "\u001b[34mGeoduck_Meth-master\u001b[m\u001b[m\r\n",
      "Pgenerosa_v070.a.makergene.blastx.uniprot.tab\r\n",
      "Pgenerosa_v070.a.makergene.gff\r\n",
      "Pgenerosa_v070.fa\r\n",
      "Pgenerosa_v071.fasta\r\n",
      "Pgenerosa_v071.fasta.fai\r\n",
      "Pgenerosa_v073.fasta\r\n",
      "blastp.outfmt6\r\n",
      "geo-tran4-v071.gff\r\n",
      "geo-tran4-v071.sorted.gff\r\n",
      "geo-tran4-v071.sorted.gff.idx\r\n",
      "pgen_bsseq_all_R1_bismark_bt2.deduplicated.bedGraph\r\n",
      "pgen_bsseq_all_R1_bismark_bt2.deduplicated.bedGraph.tdf\r\n"
     ]
    }
   ],
   "source": [
    "!ls data/"
   ]
  },
  {
   "cell_type": "code",
   "execution_count": 10,
   "metadata": {
    "ExecuteTime": {
     "end_time": "2019-08-17T14:14:32.864789Z",
     "start_time": "2019-08-17T14:14:32.730847Z"
    }
   },
   "outputs": [
    {
     "name": "stdout",
     "output_type": "stream",
     "text": [
      "PGEN_00000881-RA\tsp|B7QDG3|NNRE_IXOSC\t47.059\t119\t34\t4\t3\t94\t45\t161\t2.36e-26\t100\r\n",
      "PGEN_00000882-RA\tsp|F7FIH8|NNRE_MONDO\t70.000\t50\t15\t0\t15\t64\t235\t284\t1.78e-19\t82.4\r\n",
      "PGEN_00000887-RA\tsp|O75339|CILP1_HUMAN\t43.137\t51\t27\t2\t1\t50\t152\t201\t3.28e-07\t49.7\r\n",
      "PGEN_00000888-RA\tsp|Q7YRK5|COX7C_TARSY\t48.333\t60\t29\t1\t8\t67\t6\t63\t1.89e-11\t56.2\r\n",
      "PGEN_00000890-RA\tsp|Q60520|SIN3A_MOUSE\t43.646\t1086\t375\t22\t50\t970\t253\t1266\t0.0\t819\r\n",
      "PGEN_00000890-RA\tsp|Q60520|SIN3A_MOUSE\t47.134\t157\t57\t9\t2\t138\t16\t166\t1.13e-21\t105\r\n",
      "PGEN_00000893-RA\tsp|Q15796|SMAD2_HUMAN\t65.744\t289\t56\t3\t4\t249\t175\t463\t1.41e-129\t377\r\n",
      "PGEN_00000897-RA\tsp|Q8TF20|ZN721_HUMAN\t57.317\t82\t31\t1\t2\t83\t285\t362\t1.38e-21\t94.7\r\n",
      "PGEN_00000897-RA\tsp|Q8TF20|ZN721_HUMAN\t68.254\t63\t20\t0\t2\t64\t509\t571\t1.84e-21\t94.4\r\n",
      "PGEN_00000897-RA\tsp|Q8TF20|ZN721_HUMAN\t57.500\t80\t30\t1\t2\t81\t817\t892\t3.68e-21\t93.6\r\n"
     ]
    }
   ],
   "source": [
    "!head data/blastp.outfmt6"
   ]
  },
  {
   "cell_type": "code",
   "execution_count": 20,
   "metadata": {
    "ExecuteTime": {
     "end_time": "2019-08-17T14:27:30.908146Z",
     "start_time": "2019-08-17T14:27:30.773870Z"
    }
   },
   "outputs": [
    {
     "name": "stdout",
     "output_type": "stream",
     "text": [
      "    1685 data/blastp.outfmt6\r\n"
     ]
    }
   ],
   "source": [
    "!wc -l data/blastp.outfmt6"
   ]
  },
  {
   "cell_type": "code",
   "execution_count": 14,
   "metadata": {
    "ExecuteTime": {
     "end_time": "2019-08-17T14:24:51.830081Z",
     "start_time": "2019-08-17T14:24:51.663993Z"
    }
   },
   "outputs": [],
   "source": [
    "!tr '|' '\\t' < data/blastp.outfmt6 \\\n",
    "> analyses/hp_blastp.outfmt6"
   ]
  },
  {
   "cell_type": "code",
   "execution_count": 15,
   "metadata": {
    "ExecuteTime": {
     "end_time": "2019-08-17T14:24:52.365925Z",
     "start_time": "2019-08-17T14:24:52.230942Z"
    }
   },
   "outputs": [
    {
     "name": "stdout",
     "output_type": "stream",
     "text": [
      "PGEN_00000881-RA\tsp\tB7QDG3\tNNRE_IXOSC\t47.059\t119\t34\t4\t3\t94\t45\t161\t2.36e-26\t100\r\n",
      "PGEN_00000882-RA\tsp\tF7FIH8\tNNRE_MONDO\t70.000\t50\t15\t0\t15\t64\t235\t284\t1.78e-19\t82.4\r\n",
      "PGEN_00000887-RA\tsp\tO75339\tCILP1_HUMAN\t43.137\t51\t27\t2\t1\t50\t152\t201\t3.28e-07\t49.7\r\n",
      "PGEN_00000888-RA\tsp\tQ7YRK5\tCOX7C_TARSY\t48.333\t60\t29\t1\t8\t67\t6\t63\t1.89e-11\t56.2\r\n",
      "PGEN_00000890-RA\tsp\tQ60520\tSIN3A_MOUSE\t43.646\t1086\t375\t22\t50\t970\t253\t1266\t0.0\t819\r\n",
      "PGEN_00000890-RA\tsp\tQ60520\tSIN3A_MOUSE\t47.134\t157\t57\t9\t2\t138\t16\t166\t1.13e-21\t105\r\n",
      "PGEN_00000893-RA\tsp\tQ15796\tSMAD2_HUMAN\t65.744\t289\t56\t3\t4\t249\t175\t463\t1.41e-129\t377\r\n",
      "PGEN_00000897-RA\tsp\tQ8TF20\tZN721_HUMAN\t57.317\t82\t31\t1\t2\t83\t285\t362\t1.38e-21\t94.7\r\n",
      "PGEN_00000897-RA\tsp\tQ8TF20\tZN721_HUMAN\t68.254\t63\t20\t0\t2\t64\t509\t571\t1.84e-21\t94.4\r\n",
      "PGEN_00000897-RA\tsp\tQ8TF20\tZN721_HUMAN\t57.500\t80\t30\t1\t2\t81\t817\t892\t3.68e-21\t93.6\r\n"
     ]
    }
   ],
   "source": [
    "!head analyses/hp_blastp.outfmt6\n"
   ]
  },
  {
   "cell_type": "code",
   "execution_count": 16,
   "metadata": {
    "ExecuteTime": {
     "end_time": "2019-08-17T14:25:02.002870Z",
     "start_time": "2019-08-17T14:25:01.854635Z"
    }
   },
   "outputs": [],
   "source": [
    "!awk -v OFS='\\t' '{print $3}' < analyses/hp_blastp.outfmt6 \\\n",
    "> analyses/hp_blastp.col3"
   ]
  },
  {
   "cell_type": "code",
   "execution_count": 22,
   "metadata": {
    "ExecuteTime": {
     "end_time": "2019-08-17T14:27:54.040777Z",
     "start_time": "2019-08-17T14:27:53.905576Z"
    }
   },
   "outputs": [
    {
     "name": "stdout",
     "output_type": "stream",
     "text": [
      "    1685 analyses/hp_blastp.col3\r\n"
     ]
    }
   ],
   "source": [
    "!wc -l analyses/hp_blastp.col3"
   ]
  },
  {
   "cell_type": "code",
   "execution_count": 17,
   "metadata": {
    "ExecuteTime": {
     "end_time": "2019-08-17T14:25:13.901526Z",
     "start_time": "2019-08-17T14:25:13.763409Z"
    }
   },
   "outputs": [
    {
     "name": "stdout",
     "output_type": "stream",
     "text": [
      "B7QDG3\r\n",
      "F7FIH8\r\n",
      "O75339\r\n",
      "Q7YRK5\r\n",
      "Q60520\r\n",
      "Q60520\r\n",
      "Q15796\r\n",
      "Q8TF20\r\n",
      "Q8TF20\r\n",
      "Q8TF20\r\n"
     ]
    }
   ],
   "source": [
    "!head analyses/hp_blastp.col3"
   ]
  },
  {
   "cell_type": "code",
   "execution_count": 19,
   "metadata": {
    "ExecuteTime": {
     "end_time": "2019-08-17T14:25:47.668616Z",
     "start_time": "2019-08-17T14:25:47.476318Z"
    }
   },
   "outputs": [],
   "source": [
    "!cat analyses/hp_blastp.col3 | pbcopy"
   ]
  },
  {
   "cell_type": "code",
   "execution_count": 24,
   "metadata": {
    "ExecuteTime": {
     "end_time": "2019-08-17T14:28:35.862205Z",
     "start_time": "2019-08-17T14:28:35.710904Z"
    }
   },
   "outputs": [
    {
     "name": "stdout",
     "output_type": "stream",
     "text": [
      "     551\r\n"
     ]
    }
   ],
   "source": [
    "!cat analyses/hp_blastp.col3 | sort | uniq | wc -l"
   ]
  },
  {
   "cell_type": "code",
   "execution_count": 25,
   "metadata": {
    "ExecuteTime": {
     "end_time": "2019-08-17T14:29:43.277325Z",
     "start_time": "2019-08-17T14:29:43.140629Z"
    }
   },
   "outputs": [
    {
     "name": "stdout",
     "output_type": "stream",
     "text": [
      "Entry\tEntry name\tStatus\tProtein names\tGene names\tOrganism\tLength\tGene ontology (biological process)\tGene ontology (cellular component)\tGene ontology (GO)\tGene ontology (molecular function)\tGene ontology IDs\r\n",
      "B7QDG3\tNNRE_IXOSC\treviewed\tNAD(P)H-hydrate epimerase (EC 5.1.99.6) (NAD(P)HX epimerase)\tISCW022186\tIxodes scapularis (Black-legged tick) (Deer tick)\t275\t\tmitochondrion [GO:0005739]\tmitochondrion [GO:0005739]; metal ion binding [GO:0046872]; NADHX epimerase activity [GO:0052856]; NADPHX epimerase activity [GO:0052857]; nucleotide binding [GO:0000166]\tNADHX epimerase activity [GO:0052856]; NADPHX epimerase activity [GO:0052857]; metal ion binding [GO:0046872]; nucleotide binding [GO:0000166]\tGO:0000166; GO:0005739; GO:0046872; GO:0052856; GO:0052857\r\n",
      "F7FIH8\tNNRE_MONDO\treviewed\tNAD(P)H-hydrate epimerase (EC 5.1.99.6) (Apolipoprotein A-I-binding protein) (AI-BP) (NAD(P)HX epimerase)\tNAXE AIBP APOA1BP\tMonodelphis domestica (Gray short-tailed opossum)\t284\tnicotinamide nucleotide metabolic process [GO:0046496]; protein homotetramerization [GO:0051289]\tcell body [GO:0044297]; cilium [GO:0005929]; cytosol [GO:0005829]; extracellular space [GO:0005615]; mitochondrion [GO:0005739]; nucleoplasm [GO:0005654]\tcell body [GO:0044297]; cilium [GO:0005929]; cytosol [GO:0005829]; extracellular space [GO:0005615]; mitochondrion [GO:0005739]; nucleoplasm [GO:0005654]; metal ion binding [GO:0046872]; NADHX epimerase activity [GO:0052856]; NADPHX epimerase activity [GO:0052857]; nucleotide binding [GO:0000166]; protein homodimerization activity [GO:0042803]; nicotinamide nucleotide metabolic process [GO:0046496]; protein homotetramerization [GO:0051289]\tNADHX epimerase activity [GO:0052856]; NADPHX epimerase activity [GO:0052857]; metal ion binding [GO:0046872]; nucleotide binding [GO:0000166]; protein homodimerization activity [GO:0042803]\tGO:0000166; GO:0005615; GO:0005654; GO:0005739; GO:0005829; GO:0005929; GO:0042803; GO:0044297; GO:0046496; GO:0046872; GO:0051289; GO:0052856; GO:0052857\r\n",
      "O75339\tCILP1_HUMAN\treviewed\tCartilage intermediate layer protein 1 (CILP-1) (Cartilage intermediate-layer protein) [Cleaved into: Cartilage intermediate layer protein 1 C1; Cartilage intermediate layer protein 1 C2]\tCILP UNQ602/PRO1188\tHomo sapiens (Human)\t1184\tcellular response to transforming growth factor beta stimulus [GO:0071560]; dephosphorylation [GO:0016311]; negative regulation of SMAD protein signal transduction [GO:0060392]; negative regulation of gene expression [GO:0010629]; negative regulation of insulin-like growth factor receptor signaling pathway [GO:0043569]\tcollagen-containing extracellular matrix [GO:0062023]; extracellular exosome [GO:0070062]; extracellular space [GO:0005615]\tcollagen-containing extracellular matrix [GO:0062023]; extracellular exosome [GO:0070062]; extracellular space [GO:0005615]; cellular response to transforming growth factor beta stimulus [GO:0071560]; dephosphorylation [GO:0016311]; negative regulation of gene expression [GO:0010629]; negative regulation of insulin-like growth factor receptor signaling pathway [GO:0043569]; negative regulation of SMAD protein signal transduction [GO:0060392]\t\tGO:0005615; GO:0010629; GO:0016311; GO:0043569; GO:0060392; GO:0062023; GO:0070062; GO:0071560\r\n",
      "Q7YRK5\tCOX7C_TARSY\treviewed\tCytochrome c oxidase subunit 7C, mitochondrial (Cytochrome c oxidase polypeptide VIIc)\tCOX7C\tTarsius syrichta (Philippine tarsier)\t63\t\tintegral component of membrane [GO:0016021]; mitochondrial inner membrane [GO:0005743]\tintegral component of membrane [GO:0016021]; mitochondrial inner membrane [GO:0005743]; cytochrome-c oxidase activity [GO:0004129]\tcytochrome-c oxidase activity [GO:0004129]\tGO:0004129; GO:0005743; GO:0016021\r\n",
      "Q60520\tSIN3A_MOUSE\treviewed\tPaired amphipathic helix protein Sin3a (Histone deacetylase complex subunit Sin3a) (Transcriptional corepressor Sin3a)\tSin3a Kiaa4126\tMus musculus (Mouse)\t1274\tDNA replication [GO:0006260]; activation of innate immune response [GO:0002218]; aging [GO:0007568]; cellular protein localization [GO:0034613]; cellular response to dopamine [GO:1903351]; cellular response to glucose stimulus [GO:0071333]; cerebral cortex neuron differentiation [GO:0021895]; hematopoietic progenitor cell differentiation [GO:0002244]; histone deacetylation [GO:0016575]; in utero embryonic development [GO:0001701]; negative regulation of apoptotic process [GO:0043066]; negative regulation of circadian rhythm [GO:0042754]; negative regulation of histone H3-K27 acetylation [GO:1901675]; negative regulation of protein localization to nucleus [GO:1900181]; negative regulation of transcription by RNA polymerase II [GO:0000122]; negative regulation of transcription regulatory region DNA binding [GO:2000678]; negative regulation of transcription, DNA-templated [GO:0045892]; positive regulation of G2/M transition of mitotic cell cycle [GO:0010971]; positive regulation of chromatin silencing [GO:0031937]; positive regulation of defense response to virus by host [GO:0002230]; positive regulation of neuron differentiation [GO:0045666]; positive regulation of transcription by RNA polymerase II [GO:0045944]; protein deacetylation [GO:0006476]; regulation of axon extension [GO:0030516]; regulation of hormone levels [GO:0010817]; regulation of transcription from RNA polymerase II promoter in response to oxidative stress [GO:0043619]; regulation of transcription, DNA-templated [GO:0006355]; response to methylglyoxal [GO:0051595]; response to organonitrogen compound [GO:0010243]; rhythmic process [GO:0048511]\tSin3 complex [GO:0016580]; chromatin [GO:0000785]; kinetochore [GO:0000776]; nucleolus [GO:0005730]; nucleoplasm [GO:0005654]; nucleus [GO:0005634]; protein-containing complex [GO:0032991]; transcription factor complex [GO:0005667]; transcriptional repressor complex [GO:0017053]\tchromatin [GO:0000785]; kinetochore [GO:0000776]; nucleolus [GO:0005730]; nucleoplasm [GO:0005654]; nucleus [GO:0005634]; protein-containing complex [GO:0032991]; Sin3 complex [GO:0016580]; transcription factor complex [GO:0005667]; transcriptional repressor complex [GO:0017053]; chromatin binding [GO:0003682]; DNA binding [GO:0003677]; DNA-binding transcription factor activity [GO:0003700]; protein deacetylase activity [GO:0033558]; protein-containing complex binding [GO:0044877]; RNA binding [GO:0003723]; RNA polymerase II activating transcription factor binding [GO:0001102]; RNA polymerase II repressing transcription factor binding [GO:0001103]; transcription corepressor activity [GO:0003714]; transcription factor binding [GO:0008134]; transcription regulatory region sequence-specific DNA binding [GO:0000976]; activation of innate immune response [GO:0002218]; aging [GO:0007568]; cellular protein localization [GO:0034613]; cellular response to dopamine [GO:1903351]; cellular response to glucose stimulus [GO:0071333]; cerebral cortex neuron differentiation [GO:0021895]; DNA replication [GO:0006260]; hematopoietic progenitor cell differentiation [GO:0002244]; histone deacetylation [GO:0016575]; in utero embryonic development [GO:0001701]; negative regulation of apoptotic process [GO:0043066]; negative regulation of circadian rhythm [GO:0042754]; negative regulation of histone H3-K27 acetylation [GO:1901675]; negative regulation of protein localization to nucleus [GO:1900181]; negative regulation of transcription by RNA polymerase II [GO:0000122]; negative regulation of transcription regulatory region DNA binding [GO:2000678]; negative regulation of transcription, DNA-templated [GO:0045892]; positive regulation of chromatin silencing [GO:0031937]; positive regulation of defense response to virus by host [GO:0002230]; positive regulation of G2/M transition of mitotic cell cycle [GO:0010971]; positive regulation of neuron differentiation [GO:0045666]; positive regulation of transcription by RNA polymerase II [GO:0045944]; protein deacetylation [GO:0006476]; regulation of axon extension [GO:0030516]; regulation of hormone levels [GO:0010817]; regulation of transcription from RNA polymerase II promoter in response to oxidative stress [GO:0043619]; regulation of transcription, DNA-templated [GO:0006355]; response to methylglyoxal [GO:0051595]; response to organonitrogen compound [GO:0010243]; rhythmic process [GO:0048511]\tDNA binding [GO:0003677]; DNA-binding transcription factor activity [GO:0003700]; RNA binding [GO:0003723]; RNA polymerase II activating transcription factor binding [GO:0001102]; RNA polymerase II repressing transcription factor binding [GO:0001103]; chromatin binding [GO:0003682]; protein deacetylase activity [GO:0033558]; protein-containing complex binding [GO:0044877]; transcription corepressor activity [GO:0003714]; transcription factor binding [GO:0008134]; transcription regulatory region sequence-specific DNA binding [GO:0000976]\tGO:0000122; GO:0000776; GO:0000785; GO:0000976; GO:0001102; GO:0001103; GO:0001701; GO:0002218; GO:0002230; GO:0002244; GO:0003677; GO:0003682; GO:0003700; GO:0003714; GO:0003723; GO:0005634; GO:0005654; GO:0005667; GO:0005730; GO:0006260; GO:0006355; GO:0006476; GO:0007568; GO:0008134; GO:0010243; GO:0010817; GO:0010971; GO:0016575; GO:0016580; GO:0017053; GO:0021895; GO:0030516; GO:0031937; GO:0032991; GO:0033558; GO:0034613; GO:0042754; GO:0043066; GO:0043619; GO:0044877; GO:0045666; GO:0045892; GO:0045944; GO:0048511; GO:0051595; GO:0071333; GO:1900181; GO:1901675; GO:1903351; GO:2000678\r\n",
      "Q15796\tSMAD2_HUMAN\treviewed\tMothers against decapentaplegic homolog 2 (MAD homolog 2) (Mothers against DPP homolog 2) (JV18-1) (Mad-related protein 2) (hMAD-2) (SMAD family member 2) (SMAD 2) (Smad2) (hSMAD2)\tSMAD2 MADH2 MADR2\tHomo sapiens (Human)\t467\tSMAD protein complex assembly [GO:0007183]; SMAD protein signal transduction [GO:0060395]; activin receptor signaling pathway [GO:0032924]; adrenal gland development [GO:0030325]; anterior/posterior pattern specification [GO:0009952]; cell fate commitment [GO:0045165]; common-partner SMAD protein phosphorylation [GO:0007182]; embryonic cranial skeleton morphogenesis [GO:0048701]; embryonic foregut morphogenesis [GO:0048617]; endoderm formation [GO:0001706]; gastrulation [GO:0007369]; in utero embryonic development [GO:0001701]; insulin secretion [GO:0030073]; intracellular signal transduction [GO:0035556]; lung development [GO:0030324]; mesoderm formation [GO:0001707]; negative regulation of cell population proliferation [GO:0008285]; negative regulation of transcription by RNA polymerase II [GO:0000122]; negative regulation of transcription, DNA-templated [GO:0045892]; negative regulation of transforming growth factor beta receptor signaling pathway [GO:0030512]; nodal signaling pathway [GO:0038092]; organ growth [GO:0035265]; pancreas development [GO:0031016]; paraxial mesoderm morphogenesis [GO:0048340]; pericardium development [GO:0060039]; positive regulation of BMP signaling pathway [GO:0030513]; positive regulation of epithelial to mesenchymal transition [GO:0010718]; positive regulation of nodal signaling pathway involved in determination of lateral mesoderm left/right asymmetry [GO:1900224]; positive regulation of transcription by RNA polymerase II [GO:0045944]; positive regulation of transcription, DNA-templated [GO:0045893]; post-embryonic development [GO:0009791]; primary miRNA processing [GO:0031053]; protein deubiquitination [GO:0016579]; regulation of binding [GO:0051098]; regulation of transforming growth factor beta receptor signaling pathway [GO:0017015]; response to cholesterol [GO:0070723]; response to glucose [GO:0009749]; secondary palate development [GO:0062009]; signal transduction involved in regulation of gene expression [GO:0023019]; somatic stem cell population maintenance [GO:0035019]; transforming growth factor beta receptor signaling pathway [GO:0007179]; ureteric bud development [GO:0001657]; wound healing [GO:0042060]; zygotic specification of dorsal/ventral axis [GO:0007352]\tSMAD protein complex [GO:0071141]; activin responsive factor complex [GO:0032444]; cytoplasm [GO:0005737]; cytosol [GO:0005829]; heteromeric SMAD protein complex [GO:0071144]; nuclear chromatin [GO:0000790]; nucleoplasm [GO:0005654]; nucleus [GO:0005634]; protein-containing complex [GO:0032991]; transcription factor complex [GO:0005667]\tactivin responsive factor complex [GO:0032444]; cytoplasm [GO:0005737]; cytosol [GO:0005829]; heteromeric SMAD protein complex [GO:0071144]; nuclear chromatin [GO:0000790]; nucleoplasm [GO:0005654]; nucleus [GO:0005634]; protein-containing complex [GO:0032991]; SMAD protein complex [GO:0071141]; transcription factor complex [GO:0005667]; activating transcription factor binding [GO:0033613]; chromatin binding [GO:0003682]; co-SMAD binding [GO:0070410]; disordered domain specific binding [GO:0097718]; DNA-binding transcription activator activity, RNA polymerase II-specific [GO:0001228]; DNA-binding transcription factor activity [GO:0003700]; DNA-binding transcription factor activity, RNA polymerase II-specific [GO:0000981]; double-stranded DNA binding [GO:0003690]; enhancer binding [GO:0035326]; I-SMAD binding [GO:0070411]; metal ion binding [GO:0046872]; phosphatase binding [GO:0019902]; primary miRNA binding [GO:0070878]; protein heterodimerization activity [GO:0046982]; protein homodimerization activity [GO:0042803]; R-SMAD binding [GO:0070412]; RNA polymerase II proximal promoter sequence-specific DNA binding [GO:0000978]; SMAD binding [GO:0046332]; tau protein binding [GO:0048156]; transcription factor binding [GO:0008134]; transforming growth factor beta receptor binding [GO:0005160]; transforming growth factor beta receptor, pathway-specific cytoplasmic mediator activity [GO:0030618]; type I transforming growth factor beta receptor binding [GO:0034713]; ubiquitin protein ligase binding [GO:0031625]; activin receptor signaling pathway [GO:0032924]; adrenal gland development [GO:0030325]; anterior/posterior pattern specification [GO:0009952]; cell fate commitment [GO:0045165]; common-partner SMAD protein phosphorylation [GO:0007182]; embryonic cranial skeleton morphogenesis [GO:0048701]; embryonic foregut morphogenesis [GO:0048617]; endoderm formation [GO:0001706]; gastrulation [GO:0007369]; in utero embryonic development [GO:0001701]; insulin secretion [GO:0030073]; intracellular signal transduction [GO:0035556]; lung development [GO:0030324]; mesoderm formation [GO:0001707]; negative regulation of cell population proliferation [GO:0008285]; negative regulation of transcription by RNA polymerase II [GO:0000122]; negative regulation of transcription, DNA-templated [GO:0045892]; negative regulation of transforming growth factor beta receptor signaling pathway [GO:0030512]; nodal signaling pathway [GO:0038092]; organ growth [GO:0035265]; pancreas development [GO:0031016]; paraxial mesoderm morphogenesis [GO:0048340]; pericardium development [GO:0060039]; positive regulation of BMP signaling pathway [GO:0030513]; positive regulation of epithelial to mesenchymal transition [GO:0010718]; positive regulation of nodal signaling pathway involved in determination of lateral mesoderm left/right asymmetry [GO:1900224]; positive regulation of transcription by RNA polymerase II [GO:0045944]; positive regulation of transcription, DNA-templated [GO:0045893]; post-embryonic development [GO:0009791]; primary miRNA processing [GO:0031053]; protein deubiquitination [GO:0016579]; regulation of binding [GO:0051098]; regulation of transforming growth factor beta receptor signaling pathway [GO:0017015]; response to cholesterol [GO:0070723]; response to glucose [GO:0009749]; secondary palate development [GO:0062009]; signal transduction involved in regulation of gene expression [GO:0023019]; SMAD protein complex assembly [GO:0007183]; SMAD protein signal transduction [GO:0060395]; somatic stem cell population maintenance [GO:0035019]; transforming growth factor beta receptor signaling pathway [GO:0007179]; ureteric bud development [GO:0001657]; wound healing [GO:0042060]; zygotic specification of dorsal/ventral axis [GO:0007352]\tDNA-binding transcription activator activity, RNA polymerase II-specific [GO:0001228]; DNA-binding transcription factor activity [GO:0003700]; DNA-binding transcription factor activity, RNA polymerase II-specific [GO:0000981]; I-SMAD binding [GO:0070411]; R-SMAD binding [GO:0070412]; RNA polymerase II proximal promoter sequence-specific DNA binding [GO:0000978]; SMAD binding [GO:0046332]; activating transcription factor binding [GO:0033613]; chromatin binding [GO:0003682]; co-SMAD binding [GO:0070410]; disordered domain specific binding [GO:0097718]; double-stranded DNA binding [GO:0003690]; enhancer binding [GO:0035326]; metal ion binding [GO:0046872]; phosphatase binding [GO:0019902]; primary miRNA binding [GO:0070878]; protein heterodimerization activity [GO:0046982]; protein homodimerization activity [GO:0042803]; tau protein binding [GO:0048156]; transcription factor binding [GO:0008134]; transforming growth factor beta receptor binding [GO:0005160]; transforming growth factor beta receptor, pathway-specific cytoplasmic mediator activity [GO:0030618]; type I transforming growth factor beta receptor binding [GO:0034713]; ubiquitin protein ligase binding [GO:0031625]\tGO:0000122; GO:0000790; GO:0000978; GO:0000981; GO:0001228; GO:0001657; GO:0001701; GO:0001706; GO:0001707; GO:0003682; GO:0003690; GO:0003700; GO:0005160; GO:0005634; GO:0005654; GO:0005667; GO:0005737; GO:0005829; GO:0007179; GO:0007182; GO:0007183; GO:0007352; GO:0007369; GO:0008134; GO:0008285; GO:0009749; GO:0009791; GO:0009952; GO:0010718; GO:0016579; GO:0017015; GO:0019902; GO:0023019; GO:0030073; GO:0030324; GO:0030325; GO:0030512; GO:0030513; GO:0030618; GO:0031016; GO:0031053; GO:0031625; GO:0032444; GO:0032924; GO:0032991; GO:0033613; GO:0034713; GO:0035019; GO:0035265; GO:0035326; GO:0035556; GO:0038092; GO:0042060; GO:0042803; GO:0045165; GO:0045892; GO:0045893; GO:0045944; GO:0046332; GO:0046872; GO:0046982; GO:0048156; GO:0048340; GO:0048617; GO:0048701; GO:0051098; GO:0060039; GO:0060395; GO:0062009; GO:0070410; GO:0070411; GO:0070412; GO:0070723; GO:0070878; GO:0071141; GO:0071144; GO:0097718; GO:1900224\r\n",
      "Q8TF20\tZN721_HUMAN\treviewed\tZinc finger protein 721\tZNF721 KIAA1982\tHomo sapiens (Human)\t911\tregulation of transcription by RNA polymerase II [GO:0006357]\tnucleus [GO:0005634]\tnucleus [GO:0005634]; DNA binding [GO:0003677]; metal ion binding [GO:0046872]; regulation of transcription by RNA polymerase II [GO:0006357]\tDNA binding [GO:0003677]; metal ion binding [GO:0046872]\tGO:0003677; GO:0005634; GO:0006357; GO:0046872\r\n",
      "O70436\tSMAD2_RAT\treviewed\tMothers against decapentaplegic homolog 2 (MAD homolog 2) (Mothers against DPP homolog 2) (Mad-related protein 2) (SMAD family member 2) (SMAD 2) (Smad2)\tSmad2 Madh2\tRattus norvegicus (Rat)\t467\tSMAD protein complex assembly [GO:0007183]; SMAD protein signal transduction [GO:0060395]; adrenal gland development [GO:0030325]; anterior/posterior pattern specification [GO:0009952]; cell fate commitment [GO:0045165]; common-partner SMAD protein phosphorylation [GO:0007182]; embryonic cranial skeleton morphogenesis [GO:0048701]; embryonic foregut morphogenesis [GO:0048617]; endoderm formation [GO:0001706]; in utero embryonic development [GO:0001701]; insulin secretion [GO:0030073]; intracellular signal transduction [GO:0035556]; lung development [GO:0030324]; mesoderm formation [GO:0001707]; negative regulation of cell population proliferation [GO:0008285]; negative regulation of transcription, DNA-templated [GO:0045892]; nodal signaling pathway [GO:0038092]; organ growth [GO:0035265]; pancreas development [GO:0031016]; paraxial mesoderm morphogenesis [GO:0048340]; pericardium development [GO:0060039]; positive regulation of BMP signaling pathway [GO:0030513]; positive regulation of epithelial to mesenchymal transition [GO:0010718]; positive regulation of nodal signaling pathway involved in determination of lateral mesoderm left/right asymmetry [GO:1900224]; positive regulation of transcription by RNA polymerase II [GO:0045944]; positive regulation of transcription, DNA-templated [GO:0045893]; post-embryonic development [GO:0009791]; regulation of binding [GO:0051098]; regulation of transforming growth factor beta receptor signaling pathway [GO:0017015]; response to cholesterol [GO:0070723]; response to glucose [GO:0009749]; secondary palate development [GO:0062009]; signal transduction involved in regulation of gene expression [GO:0023019]; transforming growth factor beta receptor signaling pathway [GO:0007179]; ureteric bud development [GO:0001657]; wound healing [GO:0042060]; zygotic specification of dorsal/ventral axis [GO:0007352]\tactivin responsive factor complex [GO:0032444]; cytoplasm [GO:0005737]; heteromeric SMAD protein complex [GO:0071144]; nuclear chromatin [GO:0000790]; nucleus [GO:0005634]; protein-containing complex [GO:0032991]; transcription factor complex [GO:0005667]\tactivin responsive factor complex [GO:0032444]; cytoplasm [GO:0005737]; heteromeric SMAD protein complex [GO:0071144]; nuclear chromatin [GO:0000790]; nucleus [GO:0005634]; protein-containing complex [GO:0032991]; transcription factor complex [GO:0005667]; activating transcription factor binding [GO:0033613]; chromatin binding [GO:0003682]; co-SMAD binding [GO:0070410]; disordered domain specific binding [GO:0097718]; DNA-binding transcription activator activity, RNA polymerase II-specific [GO:0001228]; double-stranded DNA binding [GO:0003690]; I-SMAD binding [GO:0070411]; metal ion binding [GO:0046872]; phosphatase binding [GO:0019902]; primary miRNA binding [GO:0070878]; protein heterodimerization activity [GO:0046982]; protein homodimerization activity [GO:0042803]; R-SMAD binding [GO:0070412]; RNA polymerase II proximal promoter sequence-specific DNA binding [GO:0000978]; tau protein binding [GO:0048156]; transcription factor binding [GO:0008134]; transforming growth factor beta receptor, pathway-specific cytoplasmic mediator activity [GO:0030618]; type I transforming growth factor beta receptor binding [GO:0034713]; ubiquitin protein ligase binding [GO:0031625]; adrenal gland development [GO:0030325]; anterior/posterior pattern specification [GO:0009952]; cell fate commitment [GO:0045165]; common-partner SMAD protein phosphorylation [GO:0007182]; embryonic cranial skeleton morphogenesis [GO:0048701]; embryonic foregut morphogenesis [GO:0048617]; endoderm formation [GO:0001706]; in utero embryonic development [GO:0001701]; insulin secretion [GO:0030073]; intracellular signal transduction [GO:0035556]; lung development [GO:0030324]; mesoderm formation [GO:0001707]; negative regulation of cell population proliferation [GO:0008285]; negative regulation of transcription, DNA-templated [GO:0045892]; nodal signaling pathway [GO:0038092]; organ growth [GO:0035265]; pancreas development [GO:0031016]; paraxial mesoderm morphogenesis [GO:0048340]; pericardium development [GO:0060039]; positive regulation of BMP signaling pathway [GO:0030513]; positive regulation of epithelial to mesenchymal transition [GO:0010718]; positive regulation of nodal signaling pathway involved in determination of lateral mesoderm left/right asymmetry [GO:1900224]; positive regulation of transcription by RNA polymerase II [GO:0045944]; positive regulation of transcription, DNA-templated [GO:0045893]; post-embryonic development [GO:0009791]; regulation of binding [GO:0051098]; regulation of transforming growth factor beta receptor signaling pathway [GO:0017015]; response to cholesterol [GO:0070723]; response to glucose [GO:0009749]; secondary palate development [GO:0062009]; signal transduction involved in regulation of gene expression [GO:0023019]; SMAD protein complex assembly [GO:0007183]; SMAD protein signal transduction [GO:0060395]; transforming growth factor beta receptor signaling pathway [GO:0007179]; ureteric bud development [GO:0001657]; wound healing [GO:0042060]; zygotic specification of dorsal/ventral axis [GO:0007352]\tDNA-binding transcription activator activity, RNA polymerase II-specific [GO:0001228]; I-SMAD binding [GO:0070411]; R-SMAD binding [GO:0070412]; RNA polymerase II proximal promoter sequence-specific DNA binding [GO:0000978]; activating transcription factor binding [GO:0033613]; chromatin binding [GO:0003682]; co-SMAD binding [GO:0070410]; disordered domain specific binding [GO:0097718]; double-stranded DNA binding [GO:0003690]; metal ion binding [GO:0046872]; phosphatase binding [GO:0019902]; primary miRNA binding [GO:0070878]; protein heterodimerization activity [GO:0046982]; protein homodimerization activity [GO:0042803]; tau protein binding [GO:0048156]; transcription factor binding [GO:0008134]; transforming growth factor beta receptor, pathway-specific cytoplasmic mediator activity [GO:0030618]; type I transforming growth factor beta receptor binding [GO:0034713]; ubiquitin protein ligase binding [GO:0031625]\tGO:0000790; GO:0000978; GO:0001228; GO:0001657; GO:0001701; GO:0001706; GO:0001707; GO:0003682; GO:0003690; GO:0005634; GO:0005667; GO:0005737; GO:0007179; GO:0007182; GO:0007183; GO:0007352; GO:0008134; GO:0008285; GO:0009749; GO:0009791; GO:0009952; GO:0010718; GO:0017015; GO:0019902; GO:0023019; GO:0030073; GO:0030324; GO:0030325; GO:0030513; GO:0030618; GO:0031016; GO:0031625; GO:0032444; GO:0032991; GO:0033613; GO:0034713; GO:0035265; GO:0035556; GO:0038092; GO:0042060; GO:0042803; GO:0045165; GO:0045892; GO:0045893; GO:0045944; GO:0046872; GO:0046982; GO:0048156; GO:0048340; GO:0048617; GO:0048701; GO:0051098; GO:0060039; GO:0060395; GO:0062009; GO:0070410; GO:0070411; GO:0070412; GO:0070723; GO:0070878; GO:0071144; GO:0097718; GO:1900224\r\n",
      "P0C8G6\tPV21_POMCA\treviewed\tPerivitellin-2 67 kDa subunit (PcPV2 67 kDa subunit) (PcPV2-67) (PV2 MACPF subunit)\t\tPomacea canaliculata (Golden apple snail)\t565\t\t\tnutrient reservoir activity [GO:0045735]; toxin activity [GO:0090729]\tnutrient reservoir activity [GO:0045735]; toxin activity [GO:0090729]\tGO:0045735; GO:0090729\r\n"
     ]
    }
   ],
   "source": [
    "!head analyses/uniprot-yourlist_M201908176746803381A1F0E0DB47453E0216320D908FE8J.tab"
   ]
  },
  {
   "cell_type": "code",
   "execution_count": 27,
   "metadata": {
    "ExecuteTime": {
     "end_time": "2019-08-17T14:32:10.048386Z",
     "start_time": "2019-08-17T14:32:09.861874Z"
    }
   },
   "outputs": [],
   "source": [
    "!cat analyses/uniprot-yourlist_M201908176746803381A1F0E0DB47453E0216320D908FE8J.tab | sort > analyses/uniprot-yourlist_M2019.sorted"
   ]
  },
  {
   "cell_type": "code",
   "execution_count": 28,
   "metadata": {
    "ExecuteTime": {
     "end_time": "2019-08-17T14:32:15.429516Z",
     "start_time": "2019-08-17T14:32:15.300818Z"
    }
   },
   "outputs": [
    {
     "name": "stdout",
     "output_type": "stream",
     "text": [
      "A0A0R4IBK5\tR213A_DANRE\treviewed\tE3 ubiquitin-protein ligase rnf213-alpha (EC 2.3.2.27) (EC 3.6.4.-) (Mysterin-A) (Mysterin-alpha) (RING finger protein 213-A) (RING finger protein 213-alpha) (RING-type E3 ubiquitin transferase rnf213-alpha)\trnf213a\tDanio rerio (Zebrafish) (Brachydanio rerio)\t5209\tblood circulation [GO:0008015]; sprouting angiogenesis [GO:0002040]; ubiquitin-dependent protein catabolic process [GO:0006511]\tcytosol [GO:0005829]\tcytosol [GO:0005829]; ATPase activity [GO:0016887]; metal ion binding [GO:0046872]; ubiquitin-protein transferase activity [GO:0004842]; blood circulation [GO:0008015]; sprouting angiogenesis [GO:0002040]; ubiquitin-dependent protein catabolic process [GO:0006511]\tATPase activity [GO:0016887]; metal ion binding [GO:0046872]; ubiquitin-protein transferase activity [GO:0004842]\tGO:0002040; GO:0004842; GO:0005829; GO:0006511; GO:0008015; GO:0016887; GO:0046872\r\n",
      "A0A1F4\tEYS_DROME\treviewed\tProtein eyes shut (Protein spacemaker)\teys spam CG33955\tDrosophila melanogaster (Fruit fly)\t2176\tcell morphogenesis [GO:0000902]; rhabdomere development [GO:0042052]; temperature compensation of the circadian clock [GO:0010378]\tcell surface [GO:0009986]; extracellular matrix [GO:0031012]; extracellular region [GO:0005576]; extracellular space [GO:0005615]; integral component of membrane [GO:0016021]; non-motile cilium [GO:0097730]\tcell surface [GO:0009986]; extracellular matrix [GO:0031012]; extracellular region [GO:0005576]; extracellular space [GO:0005615]; integral component of membrane [GO:0016021]; non-motile cilium [GO:0097730]; calcium ion binding [GO:0005509]; extracellular matrix structural constituent [GO:0005201]; cell morphogenesis [GO:0000902]; rhabdomere development [GO:0042052]; temperature compensation of the circadian clock [GO:0010378]\tcalcium ion binding [GO:0005509]; extracellular matrix structural constituent [GO:0005201]\tGO:0000902; GO:0005201; GO:0005509; GO:0005576; GO:0005615; GO:0009986; GO:0010378; GO:0016021; GO:0031012; GO:0042052; GO:0097730\r\n",
      "A0JM23\tNPHP3_XENTR\treviewed\tNephrocystin-3\tnphp3\tXenopus tropicalis (Western clawed frog) (Silurana tropicalis)\t1311\tWnt signaling pathway [GO:0016055]; cilium assembly [GO:0060271]; negative regulation of canonical Wnt signaling pathway [GO:0090090]; regulation of Wnt signaling pathway, planar cell polarity pathway [GO:2000095]\tcilium [GO:0005929]\tcilium [GO:0005929]; cilium assembly [GO:0060271]; negative regulation of canonical Wnt signaling pathway [GO:0090090]; regulation of Wnt signaling pathway, planar cell polarity pathway [GO:2000095]; Wnt signaling pathway [GO:0016055]\t\tGO:0005929; GO:0016055; GO:0060271; GO:0090090; GO:2000095\r\n",
      "A0JMU8\tCASC3_XENLA\treviewed\tProtein CASC3 (Cancer susceptibility candidate gene 3 protein homolog) (Metastatic lymph node protein 51 homolog) (Protein MLN 51 homolog) (XlMLN51)\tcasc3 mln51\tXenopus laevis (African clawed frog)\t686\tmRNA splicing, via spliceosome [GO:0000398]; mRNA transport [GO:0051028]; nuclear-transcribed mRNA catabolic process, nonsense-mediated decay [GO:0000184]; regulation of translation [GO:0006417]\tU2-type catalytic step 1 spliceosome [GO:0071006]; cytoplasmic stress granule [GO:0010494]; dendrite [GO:0030425]; exon-exon junction complex [GO:0035145]; nuclear speck [GO:0016607]; nucleus [GO:0005634]; perinuclear region of cytoplasm [GO:0048471]\tcytoplasmic stress granule [GO:0010494]; dendrite [GO:0030425]; exon-exon junction complex [GO:0035145]; nuclear speck [GO:0016607]; nucleus [GO:0005634]; perinuclear region of cytoplasm [GO:0048471]; U2-type catalytic step 1 spliceosome [GO:0071006]; RNA binding [GO:0003723]; mRNA splicing, via spliceosome [GO:0000398]; mRNA transport [GO:0051028]; nuclear-transcribed mRNA catabolic process, nonsense-mediated decay [GO:0000184]; regulation of translation [GO:0006417]\tRNA binding [GO:0003723]\tGO:0000184; GO:0000398; GO:0003723; GO:0005634; GO:0006417; GO:0010494; GO:0016607; GO:0030425; GO:0035145; GO:0048471; GO:0051028; GO:0071006\r\n",
      "A0JNC0\tTMOD1_BOVIN\treviewed\tTropomodulin-1 (Erythrocyte tropomodulin) (E-Tmod)\tTMOD1\tBos taurus (Bovine)\t359\tadult locomotory behavior [GO:0008344]; lens fiber cell development [GO:0070307]; muscle contraction [GO:0006936]; myofibril assembly [GO:0030239]; pointed-end actin filament capping [GO:0051694]\tCOP9 signalosome [GO:0008180]; actin filament [GO:0005884]; cortical cytoskeleton [GO:0030863]; membrane [GO:0016020]; myofibril [GO:0030016]; sarcomere [GO:0030017]; striated muscle thin filament [GO:0005865]\tactin filament [GO:0005884]; COP9 signalosome [GO:0008180]; cortical cytoskeleton [GO:0030863]; membrane [GO:0016020]; myofibril [GO:0030016]; sarcomere [GO:0030017]; striated muscle thin filament [GO:0005865]; actin binding [GO:0003779]; actin filament binding [GO:0051015]; tropomyosin binding [GO:0005523]; adult locomotory behavior [GO:0008344]; lens fiber cell development [GO:0070307]; muscle contraction [GO:0006936]; myofibril assembly [GO:0030239]; pointed-end actin filament capping [GO:0051694]\tactin binding [GO:0003779]; actin filament binding [GO:0051015]; tropomyosin binding [GO:0005523]\tGO:0003779; GO:0005523; GO:0005865; GO:0005884; GO:0006936; GO:0008180; GO:0008344; GO:0016020; GO:0030016; GO:0030017; GO:0030239; GO:0030863; GO:0051015; GO:0051694; GO:0070307\r\n",
      "A0MSJ1\tCRA1B_DANRE\treviewed\tCollagen alpha-1(XXVII) chain B\tcol27a1b col27a1\tDanio rerio (Zebrafish) (Brachydanio rerio)\t1658\tbone mineralization [GO:0030282]; extracellular matrix organization [GO:0030198]; notochord morphogenesis [GO:0048570]; skeletal system development [GO:0001501]\tcollagen trimer [GO:0005581]; extracellular matrix [GO:0031012]; extracellular space [GO:0005615]\tcollagen trimer [GO:0005581]; extracellular matrix [GO:0031012]; extracellular space [GO:0005615]; extracellular matrix structural constituent [GO:0005201]; metal ion binding [GO:0046872]; bone mineralization [GO:0030282]; extracellular matrix organization [GO:0030198]; notochord morphogenesis [GO:0048570]; skeletal system development [GO:0001501]\textracellular matrix structural constituent [GO:0005201]; metal ion binding [GO:0046872]\tGO:0001501; GO:0005201; GO:0005581; GO:0005615; GO:0030198; GO:0030282; GO:0031012; GO:0046872; GO:0048570\r\n",
      "A0NLY7\tISAHY_LABAI\treviewed\tIsatin hydrolase (EC 3.5.2.20) (Isatin amidohydrolase) (Isatin hydrolase isoform b) (IH-b)\tSIAM614_09648\tLabrenzia aggregata (strain ATCC 25650 / DSM 13394 / JCM 20685 / NBRC 16684 / NCIMB 2208 / IAM 12614) (Stappia aggregata)\t263\ttryptophan catabolic process to kynurenine [GO:0019441]\t\tarylformamidase activity [GO:0004061]; hydrolase activity, acting on carbon-nitrogen (but not peptide) bonds, in cyclic amides [GO:0016812]; manganese ion binding [GO:0030145]; tryptophan catabolic process to kynurenine [GO:0019441]\tarylformamidase activity [GO:0004061]; hydrolase activity, acting on carbon-nitrogen (but not peptide) bonds, in cyclic amides [GO:0016812]; manganese ion binding [GO:0030145]\tGO:0004061; GO:0016812; GO:0019441; GO:0030145\r\n",
      "A2ASS6\tTITIN_MOUSE\treviewed\tTitin (EC 2.7.11.1) (Connectin)\tTtn\tMus musculus (Mouse)\t35213\tadult heart development [GO:0007512]; cardiac muscle contraction [GO:0060048]; cardiac muscle fiber development [GO:0048739]; cardiac muscle hypertrophy [GO:0003300]; cardiac muscle tissue morphogenesis [GO:0055008]; cardiac myofibril assembly [GO:0055003]; detection of muscle stretch [GO:0035995]; forward locomotion [GO:0043056]; heart development [GO:0007507]; heart growth [GO:0060419]; heart morphogenesis [GO:0003007]; in utero embryonic development [GO:0001701]; muscle contraction [GO:0006936]; positive regulation of gene expression [GO:0010628]; positive regulation of protein secretion [GO:0050714]; protein kinase A signaling [GO:0010737]; regulation of catalytic activity [GO:0050790]; regulation of protein kinase activity [GO:0045859]; regulation of relaxation of cardiac muscle [GO:1901897]; response to calcium ion [GO:0051592]; sarcomere organization [GO:0045214]; sarcomerogenesis [GO:0048769]; skeletal muscle myosin thick filament assembly [GO:0030241]; skeletal muscle thin filament assembly [GO:0030240]; somitogenesis [GO:0001756]; striated muscle cell development [GO:0055002]; striated muscle myosin thick filament assembly [GO:0071688]; ventricular system development [GO:0021591]\tA band [GO:0031672]; I band [GO:0031674]; M band [GO:0031430]; Z disc [GO:0030018]; condensed nuclear chromosome [GO:0000794]; muscle myosin complex [GO:0005859]; myofibril [GO:0030016]; sarcomere [GO:0030017]; striated muscle thin filament [GO:0005865]\tA band [GO:0031672]; condensed nuclear chromosome [GO:0000794]; I band [GO:0031674]; M band [GO:0031430]; muscle myosin complex [GO:0005859]; myofibril [GO:0030016]; sarcomere [GO:0030017]; striated muscle thin filament [GO:0005865]; Z disc [GO:0030018]; actin filament binding [GO:0051015]; actinin binding [GO:0042805]; ankyrin binding [GO:0030506]; ATP binding [GO:0005524]; calcium ion binding [GO:0005509]; calmodulin binding [GO:0005516]; enzyme binding [GO:0019899]; identical protein binding [GO:0042802]; muscle alpha-actinin binding [GO:0051371]; protease binding [GO:0002020]; protein kinase binding [GO:0019901]; protein self-association [GO:0043621]; protein serine/threonine kinase activity [GO:0004674]; protein tyrosine kinase activity [GO:0004713]; structural constituent of cytoskeleton [GO:0005200]; structural constituent of muscle [GO:0008307]; telethonin binding [GO:0031433]; adult heart development [GO:0007512]; cardiac muscle contraction [GO:0060048]; cardiac muscle fiber development [GO:0048739]; cardiac muscle hypertrophy [GO:0003300]; cardiac muscle tissue morphogenesis [GO:0055008]; cardiac myofibril assembly [GO:0055003]; detection of muscle stretch [GO:0035995]; forward locomotion [GO:0043056]; heart development [GO:0007507]; heart growth [GO:0060419]; heart morphogenesis [GO:0003007]; in utero embryonic development [GO:0001701]; muscle contraction [GO:0006936]; positive regulation of gene expression [GO:0010628]; positive regulation of protein secretion [GO:0050714]; protein kinase A signaling [GO:0010737]; regulation of catalytic activity [GO:0050790]; regulation of protein kinase activity [GO:0045859]; regulation of relaxation of cardiac muscle [GO:1901897]; response to calcium ion [GO:0051592]; sarcomere organization [GO:0045214]; sarcomerogenesis [GO:0048769]; skeletal muscle myosin thick filament assembly [GO:0030241]; skeletal muscle thin filament assembly [GO:0030240]; somitogenesis [GO:0001756]; striated muscle cell development [GO:0055002]; striated muscle myosin thick filament assembly [GO:0071688]; ventricular system development [GO:0021591]\tATP binding [GO:0005524]; actin filament binding [GO:0051015]; actinin binding [GO:0042805]; ankyrin binding [GO:0030506]; calcium ion binding [GO:0005509]; calmodulin binding [GO:0005516]; enzyme binding [GO:0019899]; identical protein binding [GO:0042802]; muscle alpha-actinin binding [GO:0051371]; protease binding [GO:0002020]; protein kinase binding [GO:0019901]; protein self-association [GO:0043621]; protein serine/threonine kinase activity [GO:0004674]; protein tyrosine kinase activity [GO:0004713]; structural constituent of cytoskeleton [GO:0005200]; structural constituent of muscle [GO:0008307]; telethonin binding [GO:0031433]\tGO:0000794; GO:0001701; GO:0001756; GO:0002020; GO:0003007; GO:0003300; GO:0004674; GO:0004713; GO:0005200; GO:0005509; GO:0005516; GO:0005524; GO:0005859; GO:0005865; GO:0006936; GO:0007507; GO:0007512; GO:0008307; GO:0010628; GO:0010737; GO:0019899; GO:0019901; GO:0021591; GO:0030016; GO:0030017; GO:0030018; GO:0030240; GO:0030241; GO:0030506; GO:0031430; GO:0031433; GO:0031672; GO:0031674; GO:0035995; GO:0042802; GO:0042805; GO:0043056; GO:0043621; GO:0045214; GO:0045859; GO:0048739; GO:0048769; GO:0050714; GO:0050790; GO:0051015; GO:0051371; GO:0051592; GO:0055002; GO:0055003; GO:0055008; GO:0060048; GO:0060419; GO:0071688; GO:1901897\r\n",
      "A2RRS8\tCEP78_XENTR\treviewed\tCentrosomal protein of 78 kDa (Cep78)\tcep78\tXenopus tropicalis (Western clawed frog) (Silurana tropicalis)\t727\tcilium organization [GO:0044782]\tcentriole [GO:0005814]; centrosome [GO:0005813]; ciliary basal body [GO:0036064]\tcentriole [GO:0005814]; centrosome [GO:0005813]; ciliary basal body [GO:0036064]; cilium organization [GO:0044782]\t\tGO:0005813; GO:0005814; GO:0036064; GO:0044782\r\n",
      "A2RSX7\tTYW5_MOUSE\treviewed\ttRNA wybutosine-synthesizing protein 5 (EC 1.14.11.42) (tRNA(Phe) (7-(3-amino-3-carboxypropyl)wyosine(37)-C(2))-hydroxylase)\tTyw5\tMus musculus (Mouse)\t315\twybutosine biosynthetic process [GO:0031591]\t\t2-oxoglutarate-dependent dioxygenase activity [GO:0016706]; iron ion binding [GO:0005506]; protein homodimerization activity [GO:0042803]; tRNA binding [GO:0000049]; tRNAPhe (7-(3-amino-3-carboxypropyl)wyosine37-C2)-hydroxylase activity [GO:0102524]; wybutosine biosynthetic process [GO:0031591]\t2-oxoglutarate-dependent dioxygenase activity [GO:0016706]; iron ion binding [GO:0005506]; protein homodimerization activity [GO:0042803]; tRNA binding [GO:0000049]; tRNAPhe (7-(3-amino-3-carboxypropyl)wyosine37-C2)-hydroxylase activity [GO:0102524]\tGO:0000049; GO:0005506; GO:0016706; GO:0031591; GO:0042803; GO:0102524\r\n"
     ]
    }
   ],
   "source": [
    "!head analyses/uniprot-yourlist_M2019.sorted"
   ]
  },
  {
   "cell_type": "code",
   "execution_count": 29,
   "metadata": {
    "ExecuteTime": {
     "end_time": "2019-08-17T14:36:08.367480Z",
     "start_time": "2019-08-17T14:36:08.201128Z"
    }
   },
   "outputs": [],
   "source": [
    "!sort -k 3 analyses/hp_blastp.outfmt6 > analyses/hp_blastp.sorted"
   ]
  },
  {
   "cell_type": "code",
   "execution_count": 30,
   "metadata": {
    "ExecuteTime": {
     "end_time": "2019-08-17T14:36:16.408216Z",
     "start_time": "2019-08-17T14:36:16.269674Z"
    }
   },
   "outputs": [
    {
     "name": "stdout",
     "output_type": "stream",
     "text": [
      "PGEN_00000878-RA\tsp\tA0A0R4IBK5\tR213A_DANRE\t25.610\t246\t170\t5\t73\t307\t1275\t1518\t1.32e-18\t90.1\r\n",
      "PGEN_00001559-RA\tsp\tA0A0R4IBK5\tR213A_DANRE\t30.585\t1128\t651\t36\t1168\t2213\t2423\t3500\t2.89e-126\t454\r\n",
      "PGEN_00000079-RA\tsp\tA0A1F4\tEYS_DROME\t28.906\t128\t78\t1\t72\t199\t299\t413\t1.17e-08\t61.2\r\n",
      "PGEN_00000079-RA\tsp\tA0A1F4\tEYS_DROME\t29.870\t154\t83\t7\t82\t230\t270\t403\t3.13e-11\t69.3\r\n",
      "PGEN_00000079-RA\tsp\tA0A1F4\tEYS_DROME\t30.952\t168\t89\t8\t74\t234\t221\t368\t1.18e-09\t64.3\r\n",
      "PGEN_00000079-RA\tsp\tA0A1F4\tEYS_DROME\t34.969\t163\t87\t5\t75\t234\t184\t330\t2.11e-21\t101\r\n",
      "PGEN_00000384-RA\tsp\tA0JM23\tNPHP3_XENTR\t47.170\t159\t72\t6\t19\t174\t1\t150\t2.77e-32\t124\r\n",
      "PGEN_00000151-RA\tsp\tA0JMU8\tCASC3_XENLA\t45.946\t185\t77\t8\t27\t191\t51\t232\t7.51e-25\t113\r\n",
      "PGEN_00001508-RA\tsp\tA0JNC0\tTMOD1_BOVIN\t32.995\t197\t75\t6\t29\t174\t16\t206\t4.17e-15\t74.7\r\n",
      "PGEN_00001402-RA\tsp\tA0MSJ1\tCRA1B_DANRE\t32.864\t213\t100\t7\t1417\t1612\t654\t840\t8.86e-07\t58.2\r\n"
     ]
    }
   ],
   "source": [
    "!head analyses/hp_blastp.sorted"
   ]
  },
  {
   "cell_type": "code",
   "execution_count": 32,
   "metadata": {
    "ExecuteTime": {
     "end_time": "2019-08-17T14:37:18.550804Z",
     "start_time": "2019-08-17T14:37:18.417447Z"
    }
   },
   "outputs": [
    {
     "name": "stdout",
     "output_type": "stream",
     "text": [
      "A0A0R4IBK5\tPGEN_00000878-RA\tsp\tR213A_DANRE\t25.610\t246\t170\t5\t73\t307\t1275\t1518\t1.32e-18\t90.1\tR213A_DANRE\treviewed\tE3 ubiquitin-protein ligase rnf213-alpha (EC 2.3.2.27) (EC 3.6.4.-) (Mysterin-A) (Mysterin-alpha) (RING finger protein 213-A) (RING finger protein 213-alpha) (RING-type E3 ubiquitin transferase rnf213-alpha)\trnf213a\tDanio rerio (Zebrafish) (Brachydanio rerio)\t5209\tblood circulation [GO:0008015]; sprouting angiogenesis [GO:0002040]; ubiquitin-dependent protein catabolic process [GO:0006511]\tcytosol [GO:0005829]\tcytosol [GO:0005829]; ATPase activity [GO:0016887]; metal ion binding [GO:0046872]; ubiquitin-protein transferase activity [GO:0004842]; blood circulation [GO:0008015]; sprouting angiogenesis [GO:0002040]; ubiquitin-dependent protein catabolic process [GO:0006511]\tATPase activity [GO:0016887]; metal ion binding [GO:0046872]; ubiquitin-protein transferase activity [GO:0004842]\tGO:0002040; GO:0004842; GO:0005829; GO:0006511; GO:0008015; GO:0016887; GO:0046872\r\n",
      "A0A0R4IBK5\tPGEN_00001559-RA\tsp\tR213A_DANRE\t30.585\t1128\t651\t36\t1168\t2213\t2423\t3500\t2.89e-126\t454\tR213A_DANRE\treviewed\tE3 ubiquitin-protein ligase rnf213-alpha (EC 2.3.2.27) (EC 3.6.4.-) (Mysterin-A) (Mysterin-alpha) (RING finger protein 213-A) (RING finger protein 213-alpha) (RING-type E3 ubiquitin transferase rnf213-alpha)\trnf213a\tDanio rerio (Zebrafish) (Brachydanio rerio)\t5209\tblood circulation [GO:0008015]; sprouting angiogenesis [GO:0002040]; ubiquitin-dependent protein catabolic process [GO:0006511]\tcytosol [GO:0005829]\tcytosol [GO:0005829]; ATPase activity [GO:0016887]; metal ion binding [GO:0046872]; ubiquitin-protein transferase activity [GO:0004842]; blood circulation [GO:0008015]; sprouting angiogenesis [GO:0002040]; ubiquitin-dependent protein catabolic process [GO:0006511]\tATPase activity [GO:0016887]; metal ion binding [GO:0046872]; ubiquitin-protein transferase activity [GO:0004842]\tGO:0002040; GO:0004842; GO:0005829; GO:0006511; GO:0008015; GO:0016887; GO:0046872\r\n",
      "A0A1F4\tPGEN_00000079-RA\tsp\tEYS_DROME\t28.906\t128\t78\t1\t72\t199\t299\t413\t1.17e-08\t61.2\tEYS_DROME\treviewed\tProtein eyes shut (Protein spacemaker)\teys spam CG33955\tDrosophila melanogaster (Fruit fly)\t2176\tcell morphogenesis [GO:0000902]; rhabdomere development [GO:0042052]; temperature compensation of the circadian clock [GO:0010378]\tcell surface [GO:0009986]; extracellular matrix [GO:0031012]; extracellular region [GO:0005576]; extracellular space [GO:0005615]; integral component of membrane [GO:0016021]; non-motile cilium [GO:0097730]\tcell surface [GO:0009986]; extracellular matrix [GO:0031012]; extracellular region [GO:0005576]; extracellular space [GO:0005615]; integral component of membrane [GO:0016021]; non-motile cilium [GO:0097730]; calcium ion binding [GO:0005509]; extracellular matrix structural constituent [GO:0005201]; cell morphogenesis [GO:0000902]; rhabdomere development [GO:0042052]; temperature compensation of the circadian clock [GO:0010378]\tcalcium ion binding [GO:0005509]; extracellular matrix structural constituent [GO:0005201]\tGO:0000902; GO:0005201; GO:0005509; GO:0005576; GO:0005615; GO:0009986; GO:0010378; GO:0016021; GO:0031012; GO:0042052; GO:0097730\r\n",
      "A0A1F4\tPGEN_00000079-RA\tsp\tEYS_DROME\t29.870\t154\t83\t7\t82\t230\t270\t403\t3.13e-11\t69.3\tEYS_DROME\treviewed\tProtein eyes shut (Protein spacemaker)\teys spam CG33955\tDrosophila melanogaster (Fruit fly)\t2176\tcell morphogenesis [GO:0000902]; rhabdomere development [GO:0042052]; temperature compensation of the circadian clock [GO:0010378]\tcell surface [GO:0009986]; extracellular matrix [GO:0031012]; extracellular region [GO:0005576]; extracellular space [GO:0005615]; integral component of membrane [GO:0016021]; non-motile cilium [GO:0097730]\tcell surface [GO:0009986]; extracellular matrix [GO:0031012]; extracellular region [GO:0005576]; extracellular space [GO:0005615]; integral component of membrane [GO:0016021]; non-motile cilium [GO:0097730]; calcium ion binding [GO:0005509]; extracellular matrix structural constituent [GO:0005201]; cell morphogenesis [GO:0000902]; rhabdomere development [GO:0042052]; temperature compensation of the circadian clock [GO:0010378]\tcalcium ion binding [GO:0005509]; extracellular matrix structural constituent [GO:0005201]\tGO:0000902; GO:0005201; GO:0005509; GO:0005576; GO:0005615; GO:0009986; GO:0010378; GO:0016021; GO:0031012; GO:0042052; GO:0097730\r\n",
      "A0A1F4\tPGEN_00000079-RA\tsp\tEYS_DROME\t30.952\t168\t89\t8\t74\t234\t221\t368\t1.18e-09\t64.3\tEYS_DROME\treviewed\tProtein eyes shut (Protein spacemaker)\teys spam CG33955\tDrosophila melanogaster (Fruit fly)\t2176\tcell morphogenesis [GO:0000902]; rhabdomere development [GO:0042052]; temperature compensation of the circadian clock [GO:0010378]\tcell surface [GO:0009986]; extracellular matrix [GO:0031012]; extracellular region [GO:0005576]; extracellular space [GO:0005615]; integral component of membrane [GO:0016021]; non-motile cilium [GO:0097730]\tcell surface [GO:0009986]; extracellular matrix [GO:0031012]; extracellular region [GO:0005576]; extracellular space [GO:0005615]; integral component of membrane [GO:0016021]; non-motile cilium [GO:0097730]; calcium ion binding [GO:0005509]; extracellular matrix structural constituent [GO:0005201]; cell morphogenesis [GO:0000902]; rhabdomere development [GO:0042052]; temperature compensation of the circadian clock [GO:0010378]\tcalcium ion binding [GO:0005509]; extracellular matrix structural constituent [GO:0005201]\tGO:0000902; GO:0005201; GO:0005509; GO:0005576; GO:0005615; GO:0009986; GO:0010378; GO:0016021; GO:0031012; GO:0042052; GO:0097730\r\n",
      "A0A1F4\tPGEN_00000079-RA\tsp\tEYS_DROME\t34.969\t163\t87\t5\t75\t234\t184\t330\t2.11e-21\t101\tEYS_DROME\treviewed\tProtein eyes shut (Protein spacemaker)\teys spam CG33955\tDrosophila melanogaster (Fruit fly)\t2176\tcell morphogenesis [GO:0000902]; rhabdomere development [GO:0042052]; temperature compensation of the circadian clock [GO:0010378]\tcell surface [GO:0009986]; extracellular matrix [GO:0031012]; extracellular region [GO:0005576]; extracellular space [GO:0005615]; integral component of membrane [GO:0016021]; non-motile cilium [GO:0097730]\tcell surface [GO:0009986]; extracellular matrix [GO:0031012]; extracellular region [GO:0005576]; extracellular space [GO:0005615]; integral component of membrane [GO:0016021]; non-motile cilium [GO:0097730]; calcium ion binding [GO:0005509]; extracellular matrix structural constituent [GO:0005201]; cell morphogenesis [GO:0000902]; rhabdomere development [GO:0042052]; temperature compensation of the circadian clock [GO:0010378]\tcalcium ion binding [GO:0005509]; extracellular matrix structural constituent [GO:0005201]\tGO:0000902; GO:0005201; GO:0005509; GO:0005576; GO:0005615; GO:0009986; GO:0010378; GO:0016021; GO:0031012; GO:0042052; GO:0097730\r\n",
      "A0JM23\tPGEN_00000384-RA\tsp\tNPHP3_XENTR\t47.170\t159\t72\t6\t19\t174\t1\t150\t2.77e-32\t124\tNPHP3_XENTR\treviewed\tNephrocystin-3\tnphp3\tXenopus tropicalis (Western clawed frog) (Silurana tropicalis)\t1311\tWnt signaling pathway [GO:0016055]; cilium assembly [GO:0060271]; negative regulation of canonical Wnt signaling pathway [GO:0090090]; regulation of Wnt signaling pathway, planar cell polarity pathway [GO:2000095]\tcilium [GO:0005929]\tcilium [GO:0005929]; cilium assembly [GO:0060271]; negative regulation of canonical Wnt signaling pathway [GO:0090090]; regulation of Wnt signaling pathway, planar cell polarity pathway [GO:2000095]; Wnt signaling pathway [GO:0016055]\t\tGO:0005929; GO:0016055; GO:0060271; GO:0090090; GO:2000095\r\n",
      "A0JMU8\tPGEN_00000151-RA\tsp\tCASC3_XENLA\t45.946\t185\t77\t8\t27\t191\t51\t232\t7.51e-25\t113\tCASC3_XENLA\treviewed\tProtein CASC3 (Cancer susceptibility candidate gene 3 protein homolog) (Metastatic lymph node protein 51 homolog) (Protein MLN 51 homolog) (XlMLN51)\tcasc3 mln51\tXenopus laevis (African clawed frog)\t686\tmRNA splicing, via spliceosome [GO:0000398]; mRNA transport [GO:0051028]; nuclear-transcribed mRNA catabolic process, nonsense-mediated decay [GO:0000184]; regulation of translation [GO:0006417]\tU2-type catalytic step 1 spliceosome [GO:0071006]; cytoplasmic stress granule [GO:0010494]; dendrite [GO:0030425]; exon-exon junction complex [GO:0035145]; nuclear speck [GO:0016607]; nucleus [GO:0005634]; perinuclear region of cytoplasm [GO:0048471]\tcytoplasmic stress granule [GO:0010494]; dendrite [GO:0030425]; exon-exon junction complex [GO:0035145]; nuclear speck [GO:0016607]; nucleus [GO:0005634]; perinuclear region of cytoplasm [GO:0048471]; U2-type catalytic step 1 spliceosome [GO:0071006]; RNA binding [GO:0003723]; mRNA splicing, via spliceosome [GO:0000398]; mRNA transport [GO:0051028]; nuclear-transcribed mRNA catabolic process, nonsense-mediated decay [GO:0000184]; regulation of translation [GO:0006417]\tRNA binding [GO:0003723]\tGO:0000184; GO:0000398; GO:0003723; GO:0005634; GO:0006417; GO:0010494; GO:0016607; GO:0030425; GO:0035145; GO:0048471; GO:0051028; GO:0071006\r\n",
      "A0JNC0\tPGEN_00001508-RA\tsp\tTMOD1_BOVIN\t32.995\t197\t75\t6\t29\t174\t16\t206\t4.17e-15\t74.7\tTMOD1_BOVIN\treviewed\tTropomodulin-1 (Erythrocyte tropomodulin) (E-Tmod)\tTMOD1\tBos taurus (Bovine)\t359\tadult locomotory behavior [GO:0008344]; lens fiber cell development [GO:0070307]; muscle contraction [GO:0006936]; myofibril assembly [GO:0030239]; pointed-end actin filament capping [GO:0051694]\tCOP9 signalosome [GO:0008180]; actin filament [GO:0005884]; cortical cytoskeleton [GO:0030863]; membrane [GO:0016020]; myofibril [GO:0030016]; sarcomere [GO:0030017]; striated muscle thin filament [GO:0005865]\tactin filament [GO:0005884]; COP9 signalosome [GO:0008180]; cortical cytoskeleton [GO:0030863]; membrane [GO:0016020]; myofibril [GO:0030016]; sarcomere [GO:0030017]; striated muscle thin filament [GO:0005865]; actin binding [GO:0003779]; actin filament binding [GO:0051015]; tropomyosin binding [GO:0005523]; adult locomotory behavior [GO:0008344]; lens fiber cell development [GO:0070307]; muscle contraction [GO:0006936]; myofibril assembly [GO:0030239]; pointed-end actin filament capping [GO:0051694]\tactin binding [GO:0003779]; actin filament binding [GO:0051015]; tropomyosin binding [GO:0005523]\tGO:0003779; GO:0005523; GO:0005865; GO:0005884; GO:0006936; GO:0008180; GO:0008344; GO:0016020; GO:0030016; GO:0030017; GO:0030239; GO:0030863; GO:0051015; GO:0051694; GO:0070307\r\n",
      "A0MSJ1\tPGEN_00001402-RA\tsp\tCRA1B_DANRE\t32.864\t213\t100\t7\t1417\t1612\t654\t840\t8.86e-07\t58.2\tCRA1B_DANRE\treviewed\tCollagen alpha-1(XXVII) chain B\tcol27a1b col27a1\tDanio rerio (Zebrafish) (Brachydanio rerio)\t1658\tbone mineralization [GO:0030282]; extracellular matrix organization [GO:0030198]; notochord morphogenesis [GO:0048570]; skeletal system development [GO:0001501]\tcollagen trimer [GO:0005581]; extracellular matrix [GO:0031012]; extracellular space [GO:0005615]\tcollagen trimer [GO:0005581]; extracellular matrix [GO:0031012]; extracellular space [GO:0005615]; extracellular matrix structural constituent [GO:0005201]; metal ion binding [GO:0046872]; bone mineralization [GO:0030282]; extracellular matrix organization [GO:0030198]; notochord morphogenesis [GO:0048570]; skeletal system development [GO:0001501]\textracellular matrix structural constituent [GO:0005201]; metal ion binding [GO:0046872]\tGO:0001501; GO:0005201; GO:0005581; GO:0005615; GO:0030198; GO:0030282; GO:0031012; GO:0046872; GO:0048570\r\n",
      "join: stdout: Broken pipe\r\n"
     ]
    }
   ],
   "source": [
    "!join -1 3 -2 1 -t $'\\t' \\\n",
    "analyses/hp_blastp.sorted \\\n",
    "analyses/uniprot-yourlist_M2019.sorted | head"
   ]
  },
  {
   "cell_type": "code",
   "execution_count": null,
   "metadata": {},
   "outputs": [],
   "source": [
    "!join -1 3 -2 1 -t $'\\t' \\\n",
    "analyses/hp_blastp.sorted \\\n",
    "analyses/uniprot-yourlist_M2019.sorted \\\n",
    "> analyses/0"
   ]
  }
 ],
 "metadata": {
  "kernelspec": {
   "display_name": "Python 3",
   "language": "python",
   "name": "python3"
  },
  "language_info": {
   "codemirror_mode": {
    "name": "ipython",
    "version": 3
   },
   "file_extension": ".py",
   "mimetype": "text/x-python",
   "name": "python",
   "nbconvert_exporter": "python",
   "pygments_lexer": "ipython3",
   "version": "3.6.8"
  }
 },
 "nbformat": 4,
 "nbformat_minor": 2
}
