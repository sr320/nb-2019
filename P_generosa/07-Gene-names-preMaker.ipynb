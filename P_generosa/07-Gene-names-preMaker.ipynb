{
 "cells": [
  {
   "cell_type": "markdown",
   "metadata": {},
   "source": [
    "## A notebook to seamlessly take blast output to GO Slim list"
   ]
  },
  {
   "cell_type": "markdown",
   "metadata": {
    "collapsed": true
   },
   "source": [
    "This is a notebook meant to run in a working directory. Please set working directory as variable in next cell"
   ]
  },
  {
   "cell_type": "code",
   "execution_count": 5,
   "metadata": {
    "ExecuteTime": {
     "end_time": "2019-02-25T16:41:49.282041Z",
     "start_time": "2019-02-25T16:41:49.277053Z"
    }
   },
   "outputs": [],
   "source": [
    "wd=\"/Users/sr320/Documents/GitHub/nb-2019/P_generosa/wd/022319\"\n"
   ]
  },
  {
   "cell_type": "code",
   "execution_count": 6,
   "metadata": {
    "ExecuteTime": {
     "end_time": "2019-02-25T16:41:51.833132Z",
     "start_time": "2019-02-25T16:41:51.813958Z"
    }
   },
   "outputs": [
    {
     "name": "stdout",
     "output_type": "stream",
     "text": [
      "/Users/sr320/Documents/GitHub/nb-2019/P_generosa/wd/022319\n"
     ]
    }
   ],
   "source": [
    "cd $wd"
   ]
  },
  {
   "cell_type": "markdown",
   "metadata": {},
   "source": [
    "### In this directory you will need three files\n",
    "1) blastout file in format `-6`    \n",
    "2) Uniprot GO annotation file (340M) available here `http://owl.fish.washington.edu/halfshell/bu-alanine-wd/17-07-20/uniprot-SP-GO.sorted`    \n",
    "3) GOslim file available here `http://owl.fish.washington.edu/halfshell/bu-alanine-wd/17-07-20/GO-GOslim.sorted`"
   ]
  },
  {
   "cell_type": "code",
   "execution_count": 7,
   "metadata": {
    "ExecuteTime": {
     "end_time": "2019-02-25T16:41:54.330522Z",
     "start_time": "2019-02-25T16:41:54.202160Z"
    }
   },
   "outputs": [
    {
     "name": "stdout",
     "output_type": "stream",
     "text": [
      "Blastquery-GOslim.tab\r\n",
      "GO-GOslim.sorted\r\n",
      "Pgenerosa_v070.a.makergene.blastx.uniprot.tab\r\n",
      "__blast-annot.tab\r\n",
      "_blast-GO-unfolded.sorted\r\n",
      "_blast-GO-unfolded.sorted2\r\n",
      "_blast-GO-unfolded.tab\r\n",
      "_blast-annot.tab\r\n",
      "_blast-sep.tab\r\n",
      "_blast-sort.tab\r\n",
      "_intermediate.file\r\n",
      "uniprot-SP-GO.sorted\r\n"
     ]
    }
   ],
   "source": [
    "#checking if files in directory\n",
    "!ls "
   ]
  },
  {
   "cell_type": "markdown",
   "metadata": {},
   "source": [
    "### Set blastout file as variable"
   ]
  },
  {
   "cell_type": "code",
   "execution_count": 8,
   "metadata": {
    "ExecuteTime": {
     "end_time": "2019-02-25T16:42:32.049778Z",
     "start_time": "2019-02-25T16:42:32.044647Z"
    }
   },
   "outputs": [],
   "source": [
    "blastout=\"Pgenerosa_v070.a.makergene.blastx.uniprot.tab\"\n"
   ]
  },
  {
   "cell_type": "markdown",
   "metadata": {},
   "source": [
    "# That should be the last thing you have to Type!"
   ]
  },
  {
   "cell_type": "markdown",
   "metadata": {},
   "source": []
  },
  {
   "cell_type": "code",
   "execution_count": 5,
   "metadata": {
    "ExecuteTime": {
     "end_time": "2019-02-23T15:50:00.063181Z",
     "start_time": "2019-02-23T15:49:59.937482Z"
    }
   },
   "outputs": [
    {
     "name": "stdout",
     "output_type": "stream",
     "text": [
      "PGA_scaffold171564__1_contigs__length_6010:2907-4279\tsp|Q7Z020|TRPA1_DROME\t74.419\t43\t11\t0\t1154\t1282\t912\t954\t7.23e-11\t68.6\r\n",
      "PGA_scaffold19103__1_contigs__length_6100:3445-5297\tsp|C1DFA8|ALLA_AZOVD\t36.364\t77\t47\t1\t303\t79\t70\t146\t2.50e-09\t60.1\r\n"
     ]
    }
   ],
   "source": [
    "!head -2 $blastout"
   ]
  },
  {
   "cell_type": "code",
   "execution_count": 6,
   "metadata": {
    "ExecuteTime": {
     "end_time": "2019-02-23T15:50:03.265140Z",
     "start_time": "2019-02-23T15:50:02.895233Z"
    }
   },
   "outputs": [],
   "source": [
    "#convert pipes to tab\n",
    "!tr '|' '\\t' < $blastout \\\n",
    "> _blast-sep.tab"
   ]
  },
  {
   "cell_type": "code",
   "execution_count": 9,
   "metadata": {
    "ExecuteTime": {
     "end_time": "2019-02-25T16:42:42.060349Z",
     "start_time": "2019-02-25T16:42:41.932988Z"
    },
    "scrolled": true
   },
   "outputs": [
    {
     "name": "stdout",
     "output_type": "stream",
     "text": [
      "PGA_scaffold171564__1_contigs__length_6010:2907-4279\tsp\tQ7Z020\tTRPA1_DROME\t74.419\t43\t11\t0\t1154\t1282\t912\t954\t7.23e-11\t68.6\r\n",
      "PGA_scaffold19103__1_contigs__length_6100:3445-5297\tsp\tC1DFA8\tALLA_AZOVD\t36.364\t77\t47\t1\t303\t79\t70\t146\t2.50e-09\t60.1\r\n"
     ]
    }
   ],
   "source": [
    "!head -2 _blast-sep.tab"
   ]
  },
  {
   "cell_type": "code",
   "execution_count": 13,
   "metadata": {
    "ExecuteTime": {
     "end_time": "2019-02-25T16:43:44.764873Z",
     "start_time": "2019-02-25T16:43:44.327446Z"
    }
   },
   "outputs": [],
   "source": [
    "#reducing number of columns and sorting \n",
    "!awk -v OFS='\\t' '{print $3, $1, $13}' < _blast-sep.tab | sort \\\n",
    "> __blast-sort.tab"
   ]
  },
  {
   "cell_type": "code",
   "execution_count": 14,
   "metadata": {
    "ExecuteTime": {
     "end_time": "2019-02-25T16:43:45.027388Z",
     "start_time": "2019-02-25T16:43:44.904668Z"
    }
   },
   "outputs": [
    {
     "name": "stdout",
     "output_type": "stream",
     "text": [
      "A0A0H2VCA1\tPGA_scaffold53906__1_contigs__length_4067:460-2508\t3.33e-09\r\n",
      "A0A0R4I9Y1\tPGA_scaffold283088__1_contigs__length_1068:150-520\t8.97e-09\r\n"
     ]
    }
   ],
   "source": [
    "!head -2 __blast-sort.tab"
   ]
  },
  {
   "cell_type": "code",
   "execution_count": 12,
   "metadata": {
    "ExecuteTime": {
     "end_time": "2019-02-25T16:43:22.438854Z",
     "start_time": "2019-02-25T16:43:22.315114Z"
    }
   },
   "outputs": [
    {
     "name": "stdout",
     "output_type": "stream",
     "text": [
      "A0A023GPI8\tLECA_CANBL\treviewed\tLectin alpha chain (CboL) [Cleaved into: Lectin beta chain; Lectin gamma chain]\t\tCanavalia boliviana\t237\t\t\tmannose binding [GO:0005537]; metal ion binding [GO:0046872]\tmannose binding [GO:0005537]; metal ion binding [GO:0046872]\tGO:0005537; GO:0046872\r\n"
     ]
    }
   ],
   "source": [
    "!head -1 uniprot-SP-GO.sorted"
   ]
  },
  {
   "cell_type": "code",
   "execution_count": 19,
   "metadata": {
    "ExecuteTime": {
     "end_time": "2019-02-25T16:45:27.504465Z",
     "start_time": "2019-02-25T16:45:23.419266Z"
    },
    "scrolled": true
   },
   "outputs": [],
   "source": [
    "#joining blast with uniprot annoation file and reducing to three columns UniprotID, Query, All GO terms\n",
    "!join -t $'\\t' \\\n",
    "__blast-sort.tab \\\n",
    "uniprot-SP-GO.sorted \\\n",
    "> __blast-annot.tab"
   ]
  },
  {
   "cell_type": "code",
   "execution_count": 21,
   "metadata": {
    "ExecuteTime": {
     "end_time": "2019-02-25T16:45:45.300179Z",
     "start_time": "2019-02-25T16:45:45.178106Z"
    }
   },
   "outputs": [
    {
     "name": "stdout",
     "output_type": "stream",
     "text": [
      "A0A0H2VCA1\tPGA_scaffold53906__1_contigs__length_4067:460-2508\t3.33e-09\tUPAG_ECOL6\treviewed\tAutotransporter adhesin UpaG\tupaG c4424\tEscherichia coli O6:H1 (strain CFT073 / ATCC 700928 / UPEC)\t1778\tpathogenesis [GO:0009405]\tcell outer membrane [GO:0009279]; cell surface [GO:0009986]; integral component of membrane [GO:0016021]\t\tcell outer membrane [GO:0009279]; cell surface [GO:0009986]; integral component of membrane [GO:0016021]; pathogenesis [GO:0009405]\tGO:0009279; GO:0009405; GO:0009986; GO:0016021\r\n",
      "A0A0R4I9Y1\tPGA_scaffold283088__1_contigs__length_1068:150-520\t8.97e-09\tR213B_DANRE\treviewed\tE3 ubiquitin-protein ligase rnf213-beta (EC 2.3.2.27) (EC 3.6.4.-) (Mysterin-B) (Mysterin-beta) (RING finger protein 213-B) (RING finger protein 213-beta) (RING-type E3 ubiquitin transferase rnf213-beta)\trnf213b\tDanio rerio (Zebrafish) (Brachydanio rerio)\t5061\t\tcytosol [GO:0005829]\tATPase activity [GO:0016887]; metal ion binding [GO:0046872]; ubiquitin-protein transferase activity [GO:0004842]\tcytosol [GO:0005829]; ATPase activity [GO:0016887]; metal ion binding [GO:0046872]; ubiquitin-protein transferase activity [GO:0004842]\tGO:0004842; GO:0005829; GO:0016887; GO:0046872\r\n"
     ]
    }
   ],
   "source": [
    "!head -2 __blast-annot.tab"
   ]
  },
  {
   "cell_type": "code",
   "execution_count": 26,
   "metadata": {
    "ExecuteTime": {
     "end_time": "2019-02-25T16:48:10.659350Z",
     "start_time": "2019-02-25T16:48:10.518080Z"
    }
   },
   "outputs": [
    {
     "name": "stdout",
     "output_type": "stream",
     "text": [
      "PGA_scaffold53906__1_contigs__length_4067:460-2508\tA0A0H2VCA1\t3.33e-09\tAutotransporter\r\n",
      "PGA_scaffold283088__1_contigs__length_1068:150-520\tA0A0R4I9Y1\t8.97e-09\tE3\r\n",
      "PGA_scaffold283089__1_contigs__length_1038:152-480\tA0A0R4I9Y1\t1.89e-09\tE3\r\n",
      "PGA_scaffold283090__1_contigs__length_1068:548-918\tA0A0R4I9Y1\t8.97e-09\tE3\r\n",
      "PGA_scaffold283091__1_contigs__length_1038:558-886\tA0A0R4I9Y1\t1.89e-09\tE3\r\n",
      "PGA_scaffold283642__1_contigs__length_1068:150-520\tA0A0R4I9Y1\t8.97e-09\tE3\r\n",
      "PGA_scaffold283643__1_contigs__length_1038:152-480\tA0A0R4I9Y1\t1.89e-09\tE3\r\n",
      "PGA_scaffold283644__1_contigs__length_1068:548-918\tA0A0R4I9Y1\t8.97e-09\tE3\r\n",
      "PGA_scaffold283645__1_contigs__length_1038:558-886\tA0A0R4I9Y1\t1.89e-09\tE3\r\n",
      "PGA_scaffold3__111_contigs__length_57743597:18027636-18027997\tA0A0R4I9Y1\t2.12e-15\tE3\r\n",
      "awk: write error on /dev/stdout\r\n",
      " input record number 410, file \r\n",
      " source line number 1\r\n"
     ]
    }
   ],
   "source": [
    "!awk -v OFS='\\t' '{print $2, $1, $3, $6}' < __blast-annot.tab | head"
   ]
  },
  {
   "cell_type": "code",
   "execution_count": null,
   "metadata": {},
   "outputs": [],
   "source": []
  }
 ],
 "metadata": {
  "kernelspec": {
   "display_name": "Python 3",
   "language": "python",
   "name": "python3"
  },
  "language_info": {
   "codemirror_mode": {
    "name": "ipython",
    "version": 3
   },
   "file_extension": ".py",
   "mimetype": "text/x-python",
   "name": "python",
   "nbconvert_exporter": "python",
   "pygments_lexer": "ipython3",
   "version": "3.6.3"
  }
 },
 "nbformat": 4,
 "nbformat_minor": 1
}
