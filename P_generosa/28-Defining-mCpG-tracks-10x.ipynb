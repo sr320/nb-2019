{
 "cells": [
  {
   "cell_type": "code",
   "execution_count": 1,
   "metadata": {
    "ExecuteTime": {
     "end_time": "2019-09-06T13:56:25.873399Z",
     "start_time": "2019-09-06T13:56:25.699286Z"
    },
    "collapsed": false,
    "deletable": true,
    "editable": true
   },
   "outputs": [
    {
     "name": "stdout",
     "output_type": "stream",
     "text": [
      "PGA_scaffold1__77_contigs__length_89643857 53 54 3.125\r\n",
      "PGA_scaffold1__77_contigs__length_89643857 71 72 2.77777777777778\r\n",
      "PGA_scaffold1__77_contigs__length_89643857 95 96 2.0408\r\n",
      "PGA_scaffold1__77_contigs__length_89643857 118 119 0.0000\r\n",
      "PGA_scaffold1__77_contigs__length_89643857 192 193 0.0000\r\n",
      "PGA_scaffold1__77_contigs__length_89643857 201 202 0.0000\r\n",
      "PGA_scaffold1__77_contigs__length_89643857 208 209 0.0000\r\n",
      "PGA_scaffold1__77_contigs__length_89643857 212 213 0.0000\r\n",
      "PGA_scaffold1__77_contigs__length_89643857 220 221 0.0000\r\n",
      "PGA_scaffold1__77_contigs__length_89643857 237 238 1.3158\r\n"
     ]
    }
   ],
   "source": [
    "!head analyses/Pg_val_destrand.10x.bedgraph"
   ]
  },
  {
   "cell_type": "code",
   "execution_count": 2,
   "metadata": {
    "ExecuteTime": {
     "end_time": "2019-09-06T13:57:21.826038Z",
     "start_time": "2019-09-06T13:56:37.709680Z"
    },
    "collapsed": true,
    "deletable": true,
    "editable": true
   },
   "outputs": [],
   "source": [
    "#If percent methylation is greater or equal to 50, then save the loci information\n",
    "!awk '{if ($4 >= 50) { print $1, $2, $3, $4 }}' analyses/Pg_val_destrand.10x.bedgraph \\\n",
    "> analyses/Pg_val_destrand.10x.50p.bedgraph"
   ]
  },
  {
   "cell_type": "code",
   "execution_count": 3,
   "metadata": {
    "ExecuteTime": {
     "end_time": "2019-09-06T13:57:21.985700Z",
     "start_time": "2019-09-06T13:57:21.838027Z"
    },
    "collapsed": false,
    "deletable": true,
    "editable": true
   },
   "outputs": [
    {
     "name": "stdout",
     "output_type": "stream",
     "text": [
      "PGA_scaffold1__77_contigs__length_89643857 11797 11798 50.0000\r\n",
      "PGA_scaffold1__77_contigs__length_89643857 11838 11839 50.0000\r\n",
      "PGA_scaffold1__77_contigs__length_89643857 11843 11844 50.0000\r\n",
      "PGA_scaffold1__77_contigs__length_89643857 11846 11847 50.0000\r\n",
      "PGA_scaffold1__77_contigs__length_89643857 11851 11852 55.5556\r\n",
      "PGA_scaffold1__77_contigs__length_89643857 12029 12030 56.2500\r\n",
      "PGA_scaffold1__77_contigs__length_89643857 51414 51415 56.8345\r\n",
      "PGA_scaffold1__77_contigs__length_89643857 51426 51427 58.3333\r\n",
      "PGA_scaffold1__77_contigs__length_89643857 51470 51471 55.0725\r\n",
      "PGA_scaffold1__77_contigs__length_89643857 51563 51564 77.0833\r\n"
     ]
    }
   ],
   "source": [
    "!head analyses/Pg_val_destrand.10x.50p.bedgraph"
   ]
  },
  {
   "cell_type": "code",
   "execution_count": 4,
   "metadata": {
    "ExecuteTime": {
     "end_time": "2019-09-06T13:58:19.461100Z",
     "start_time": "2019-09-06T13:57:30.879788Z"
    },
    "collapsed": true,
    "deletable": true,
    "editable": true
   },
   "outputs": [],
   "source": [
    "%%bash\n",
    "awk '{if ($4 < 50) { print $1, $2, $3, $4}}' analyses/Pg_val_destrand.10x.bedgraph \\\n",
    "| awk '{if ($4 > 0) { print $1, $2, $3, $4 }}' \\\n",
    "> analyses/Pg_val_destrand.10x.sparse.bedgraph"
   ]
  },
  {
   "cell_type": "code",
   "execution_count": 5,
   "metadata": {
    "ExecuteTime": {
     "end_time": "2019-09-06T13:58:19.610470Z",
     "start_time": "2019-09-06T13:58:19.464088Z"
    },
    "collapsed": false,
    "deletable": true,
    "editable": true
   },
   "outputs": [
    {
     "name": "stdout",
     "output_type": "stream",
     "text": [
      "PGA_scaffold1__77_contigs__length_89643857 53 54 3.125\r\n",
      "PGA_scaffold1__77_contigs__length_89643857 71 72 2.77777777777778\r\n",
      "PGA_scaffold1__77_contigs__length_89643857 95 96 2.0408\r\n",
      "PGA_scaffold1__77_contigs__length_89643857 237 238 1.3158\r\n",
      "PGA_scaffold1__77_contigs__length_89643857 564 565 2.2727\r\n",
      "PGA_scaffold1__77_contigs__length_89643857 582 583 2.3256\r\n",
      "PGA_scaffold1__77_contigs__length_89643857 617 618 15.3846\r\n",
      "PGA_scaffold1__77_contigs__length_89643857 674 675 7.1429\r\n",
      "PGA_scaffold1__77_contigs__length_89643857 680 681 6.2500\r\n",
      "PGA_scaffold1__77_contigs__length_89643857 1165 1166 4.7619\r\n"
     ]
    }
   ],
   "source": [
    "!head analyses/Pg_val_destrand.10x.sparse.bedgraph"
   ]
  },
  {
   "cell_type": "code",
   "execution_count": 8,
   "metadata": {
    "ExecuteTime": {
     "end_time": "2019-09-06T13:59:48.092263Z",
     "start_time": "2019-09-06T13:59:04.041111Z"
    },
    "collapsed": true,
    "deletable": true,
    "editable": true
   },
   "outputs": [],
   "source": [
    "!awk '{if ($4 == 0) { print $1, $2, $3, $4 }}' analyses/Pg_val_destrand.10x.bedgraph \\\n",
    "> analyses/Pg_val_destrand.10x.zero.bedgraph"
   ]
  },
  {
   "cell_type": "code",
   "execution_count": 9,
   "metadata": {
    "ExecuteTime": {
     "end_time": "2019-09-06T13:59:48.361408Z",
     "start_time": "2019-09-06T13:59:48.097896Z"
    },
    "collapsed": false,
    "deletable": true,
    "editable": true
   },
   "outputs": [
    {
     "name": "stdout",
     "output_type": "stream",
     "text": [
      "PGA_scaffold1__77_contigs__length_89643857 118 119 0.0000\r\n",
      "PGA_scaffold1__77_contigs__length_89643857 192 193 0.0000\r\n",
      "PGA_scaffold1__77_contigs__length_89643857 201 202 0.0000\r\n",
      "PGA_scaffold1__77_contigs__length_89643857 208 209 0.0000\r\n",
      "PGA_scaffold1__77_contigs__length_89643857 212 213 0.0000\r\n",
      "PGA_scaffold1__77_contigs__length_89643857 220 221 0.0000\r\n",
      "PGA_scaffold1__77_contigs__length_89643857 394 395 0.0000\r\n",
      "PGA_scaffold1__77_contigs__length_89643857 576 577 0.0000\r\n",
      "PGA_scaffold1__77_contigs__length_89643857 656 657 0.0000\r\n",
      "PGA_scaffold1__77_contigs__length_89643857 718 719 0.0000\r\n"
     ]
    }
   ],
   "source": [
    "!head analyses/Pg_val_destrand.10x.zero.bedgraph"
   ]
  },
  {
   "cell_type": "code",
   "execution_count": 10,
   "metadata": {
    "ExecuteTime": {
     "end_time": "2019-09-06T13:59:50.237467Z",
     "start_time": "2019-09-06T13:59:48.368930Z"
    },
    "collapsed": false,
    "deletable": true,
    "editable": true
   },
   "outputs": [
    {
     "name": "stdout",
     "output_type": "stream",
     "text": [
      " 3072742 analyses/Pg_val_destrand.10x.50p.bedgraph\n",
      " 12086789 analyses/Pg_val_destrand.10x.bedgraph\n",
      " 4036704 analyses/Pg_val_destrand.10x.sparse.bedgraph\n",
      " 4977343 analyses/Pg_val_destrand.10x.zero.bedgraph\n",
      " 24173578 total\n"
     ]
    }
   ],
   "source": [
    "!wc -l analyses/*val_destrand.10x*bedgraph"
   ]
  },
  {
   "cell_type": "code",
   "execution_count": 21,
   "metadata": {
    "ExecuteTime": {
     "end_time": "2019-09-06T14:16:31.214112Z",
     "start_time": "2019-09-06T14:16:31.202136Z"
    },
    "collapsed": false,
    "deletable": true,
    "editable": true
   },
   "outputs": [
    {
     "data": {
      "text/plain": [
       "0.4118002721814702"
      ]
     },
     "execution_count": 21,
     "metadata": {},
     "output_type": "execute_result"
    }
   ],
   "source": [
    "4977343/12086789\n"
   ]
  },
  {
   "cell_type": "code",
   "execution_count": 22,
   "metadata": {
    "ExecuteTime": {
     "end_time": "2019-09-06T14:16:59.157511Z",
     "start_time": "2019-09-06T14:16:59.150782Z"
    },
    "collapsed": false,
    "deletable": true,
    "editable": true
   },
   "outputs": [
    {
     "data": {
      "text/plain": [
       "0.33397654248783526"
      ]
     },
     "execution_count": 22,
     "metadata": {},
     "output_type": "execute_result"
    }
   ],
   "source": [
    "4036704/12086789\n"
   ]
  },
  {
   "cell_type": "code",
   "execution_count": 23,
   "metadata": {
    "ExecuteTime": {
     "end_time": "2019-09-06T14:17:24.150686Z",
     "start_time": "2019-09-06T14:17:24.142933Z"
    },
    "collapsed": false,
    "deletable": true,
    "editable": true
   },
   "outputs": [
    {
     "data": {
      "text/plain": [
       "0.25422318533069455"
      ]
     },
     "execution_count": 23,
     "metadata": {},
     "output_type": "execute_result"
    }
   ],
   "source": [
    "3072742/12086789\n"
   ]
  },
  {
   "cell_type": "code",
   "execution_count": 11,
   "metadata": {
    "ExecuteTime": {
     "end_time": "2019-09-06T14:00:31.795315Z",
     "start_time": "2019-09-06T14:00:31.769399Z"
    },
    "collapsed": false,
    "deletable": true,
    "editable": true
   },
   "outputs": [
    {
     "data": {
      "text/plain": [
       "12086789"
      ]
     },
     "execution_count": 11,
     "metadata": {},
     "output_type": "execute_result"
    }
   ],
   "source": [
    "24173578-12086789\n"
   ]
  },
  {
   "cell_type": "code",
   "execution_count": 12,
   "metadata": {
    "ExecuteTime": {
     "end_time": "2019-09-06T14:00:38.537446Z",
     "start_time": "2019-09-06T14:00:37.586348Z"
    },
    "collapsed": true,
    "deletable": true,
    "editable": true
   },
   "outputs": [],
   "source": [
    "import pandas as pd"
   ]
  },
  {
   "cell_type": "code",
   "execution_count": 13,
   "metadata": {
    "ExecuteTime": {
     "end_time": "2019-09-06T14:00:38.830825Z",
     "start_time": "2019-09-06T14:00:38.540484Z"
    },
    "collapsed": true,
    "deletable": true,
    "editable": true
   },
   "outputs": [],
   "source": [
    "%matplotlib inline\n",
    "\n",
    "import matplotlib\n",
    "import numpy as np\n",
    "import matplotlib.pyplot as plt"
   ]
  },
  {
   "cell_type": "code",
   "execution_count": 14,
   "metadata": {
    "ExecuteTime": {
     "end_time": "2019-09-06T14:01:21.846281Z",
     "start_time": "2019-09-06T14:01:21.406191Z"
    },
    "collapsed": false,
    "deletable": true,
    "editable": true
   },
   "outputs": [
    {
     "data": {
      "image/png": "[encoded data removed]",
      "text/plain": [
       "<Figure size 720x720 with 1 Axes>"
      ]
     },
     "metadata": {},
     "output_type": "display_data"
    }
   ],
   "source": [
    "df = pd.DataFrame({'abundance': [4977343, 4036704 , 3072742],\n",
    "                   'radius': [2439.7, 6051.8, 6378.1]},\n",
    "                  index=['zero', 'sparse', 'methylated (>50%)'])\n",
    "plot = df.plot.pie(y='abundance', figsize=(10, 10))"
   ]
  },
  {
   "cell_type": "markdown",
   "metadata": {
    "deletable": true,
    "editable": true
   },
   "source": [
    "## Creating Beds of different mCpG bgraphs"
   ]
  },
  {
   "cell_type": "code",
   "execution_count": 15,
   "metadata": {
    "ExecuteTime": {
     "end_time": "2019-09-06T14:03:12.623338Z",
     "start_time": "2019-09-06T14:02:58.783564Z"
    },
    "collapsed": true,
    "deletable": true,
    "editable": true
   },
   "outputs": [],
   "source": [
    "!awk '{print $1\"\\t\"$2\"\\t\"$3}' analyses/Pg_val_destrand.10x.50p.bedgraph \\\n",
    "> analyses/Pg_val_destrand.10x.50p.bed"
   ]
  },
  {
   "cell_type": "code",
   "execution_count": 16,
   "metadata": {
    "ExecuteTime": {
     "end_time": "2019-09-06T14:03:12.773356Z",
     "start_time": "2019-09-06T14:03:12.630793Z"
    },
    "collapsed": false,
    "deletable": true,
    "editable": true
   },
   "outputs": [
    {
     "name": "stdout",
     "output_type": "stream",
     "text": [
      "PGA_scaffold1__77_contigs__length_89643857\t11797\t11798\r\n",
      "PGA_scaffold1__77_contigs__length_89643857\t11838\t11839\r\n",
      "PGA_scaffold1__77_contigs__length_89643857\t11843\t11844\r\n",
      "PGA_scaffold1__77_contigs__length_89643857\t11846\t11847\r\n",
      "PGA_scaffold1__77_contigs__length_89643857\t11851\t11852\r\n",
      "PGA_scaffold1__77_contigs__length_89643857\t12029\t12030\r\n",
      "PGA_scaffold1__77_contigs__length_89643857\t51414\t51415\r\n",
      "PGA_scaffold1__77_contigs__length_89643857\t51426\t51427\r\n",
      "PGA_scaffold1__77_contigs__length_89643857\t51470\t51471\r\n",
      "PGA_scaffold1__77_contigs__length_89643857\t51563\t51564\r\n"
     ]
    }
   ],
   "source": [
    "!head analyses/Pg_val_destrand.10x.50p.bed"
   ]
  },
  {
   "cell_type": "code",
   "execution_count": 17,
   "metadata": {
    "ExecuteTime": {
     "end_time": "2019-09-06T14:03:30.903434Z",
     "start_time": "2019-09-06T14:03:12.783137Z"
    },
    "collapsed": true,
    "deletable": true,
    "editable": true
   },
   "outputs": [],
   "source": [
    "!awk '{print $1\"\\t\"$2\"\\t\"$3}' analyses/Pg_val_destrand.10x.sparse.bedgraph \\\n",
    "> analyses/Pg_val_destrand.10x.sparse.bed"
   ]
  },
  {
   "cell_type": "code",
   "execution_count": 18,
   "metadata": {
    "ExecuteTime": {
     "end_time": "2019-09-06T14:03:53.554256Z",
     "start_time": "2019-09-06T14:03:30.913944Z"
    },
    "collapsed": true,
    "deletable": true,
    "editable": true
   },
   "outputs": [],
   "source": [
    "!awk '{print $1\"\\t\"$2\"\\t\"$3}' analyses/Pg_val_destrand.10x.zero.bedgraph \\\n",
    "> analyses/Pg_val_destrand.10x.zero.bed"
   ]
  },
  {
   "cell_type": "code",
   "execution_count": null,
   "metadata": {
    "collapsed": true,
    "deletable": true,
    "editable": true
   },
   "outputs": [],
   "source": []
  }
 ],
 "metadata": {
  "kernelspec": {
   "display_name": "Python 2",
   "language": "python",
   "name": "python2"
  },
  "language_info": {
   "codemirror_mode": {
    "name": "ipython",
    "version": 2
   },
   "file_extension": ".py",
   "mimetype": "text/x-python",
   "name": "python",
   "nbconvert_exporter": "python",
   "pygments_lexer": "ipython2",
   "version": "2.7.12"
  }
 },
 "nbformat": 4,
 "nbformat_minor": 2
}
