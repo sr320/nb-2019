{
 "cells": [
  {
   "cell_type": "code",
   "execution_count": 3,
   "metadata": {
    "collapsed": false
   },
   "outputs": [
    {
     "name": "stdout",
     "output_type": "stream",
     "text": [
      "##gff-version 3\r\n",
      "PGA_scaffold111520__1_contigs__length_1373\t.\tcontig\t1\t1373\t.\t.\t.\tID=PGA_scaffold111520__1_contigs__length_1373;Name=PGA_scaffold111520__1_contigs__length_1373\r\n",
      "###\r\n",
      "PGA_scaffold111520__1_contigs__length_1373\trepeatmasker\tmatch\t60\t173\t686\t+\t.\tID=PGA_scaffold111520__1_contigs__length_1373:hit:328291:1.3.0.0;Name=species:rnd-5_family-1667|genus:Unknown;Target=species:rnd-5_family-1667|genus:Unknown 407 521 +\r\n",
      "PGA_scaffold111520__1_contigs__length_1373\trepeatmasker\tmatch_part\t60\t173\t686\t+\t.\tID=PGA_scaffold111520__1_contigs__length_1373:hsp:532676:1.3.0.0;Parent=PGA_scaffold111520__1_contigs__length_1373:hit:328291:1.3.0.0;Target=species:rnd-5_family-1667|genus:Unknown 407 521 +\r\n",
      "PGA_scaffold111520__1_contigs__length_1373\trepeatmasker\tmatch\t347\t396\t240\t+\t.\tID=PGA_scaffold111520__1_contigs__length_1373:hit:328292:1.3.0.0;Name=species:BivaMD-SINE1_CrVi|genus:SINE%2FtRNA;Target=species:BivaMD-SINE1_CrVi|genus:SINE%2FtRNA 15 64 +\r\n",
      "PGA_scaffold111520__1_contigs__length_1373\trepeatmasker\tmatch_part\t347\t396\t240\t+\t.\tID=PGA_scaffold111520__1_contigs__length_1373:hsp:532677:1.3.0.0;Parent=PGA_scaffold111520__1_contigs__length_1373:hit:328292:1.3.0.0;Target=species:BivaMD-SINE1_CrVi|genus:SINE%252FtRNA 15 64 +\r\n",
      "PGA_scaffold111520__1_contigs__length_1373\trepeatmasker\tmatch\t573\t633\t242\t+\t.\tID=PGA_scaffold111520__1_contigs__length_1373:hit:328293:1.3.0.0;Name=species:rnd-1_family-113|genus:DNA%2FCMC-EnSpm;Target=species:rnd-1_family-113|genus:DNA%2FCMC-EnSpm 425 484 +\r\n",
      "PGA_scaffold111520__1_contigs__length_1373\trepeatmasker\tmatch_part\t573\t633\t242\t+\t.\tID=PGA_scaffold111520__1_contigs__length_1373:hsp:532678:1.3.0.0;Parent=PGA_scaffold111520__1_contigs__length_1373:hit:328293:1.3.0.0;Target=species:rnd-1_family-113|genus:DNA%252FCMC-EnSpm 425 484 +\r\n",
      "PGA_scaffold111520__1_contigs__length_1373\trepeatmasker\tmatch\t684\t765\t344\t+\t.\tID=PGA_scaffold111520__1_contigs__length_1373:hit:328294:1.3.0.0;Name=species:BivaCORE-SINE1_RuDe|genus:SINE%2FtRNA-Core;Target=species:BivaCORE-SINE1_RuDe|genus:SINE%2FtRNA-Core 123 203 +\r\n"
     ]
    }
   ],
   "source": [
    "!head /Volumes/Serine/wd/19-02-16/Pgenerosa_v070.all.gff"
   ]
  },
  {
   "cell_type": "code",
   "execution_count": 5,
   "metadata": {
    "collapsed": false
   },
   "outputs": [
    {
     "name": "stdout",
     "output_type": "stream",
     "text": [
      "3\r\n",
      ".\r\n",
      "\r\n",
      "repeatmasker\r\n",
      "repeatmasker\r\n",
      "repeatmasker\r\n",
      "repeatmasker\r\n",
      "repeatmasker\r\n",
      "repeatmasker\r\n",
      "repeatmasker\r\n"
     ]
    }
   ],
   "source": [
    "!head /Volumes/Serine/wd/19-02-16/Pgenerosa_v070.all.gff | awk '{print $2}' "
   ]
  },
  {
   "cell_type": "code",
   "execution_count": 6,
   "metadata": {
    "collapsed": false,
    "deletable": true,
    "editable": true
   },
   "outputs": [
    {
     "name": "stdout",
     "output_type": "stream",
     "text": [
      "\n",
      ".\n",
      "3\n",
      "blastn\n",
      "blastx\n",
      "est2genome\n",
      "maker\n",
      "protein2genome\n",
      "repeatmasker\n",
      "repeatrunner\n"
     ]
    }
   ],
   "source": [
    "!cat /Volumes/Serine/wd/19-02-16/Pgenerosa_v070.all.gff | awk '{print $2}' | sort | uniq"
   ]
  },
  {
   "cell_type": "code",
   "execution_count": 7,
   "metadata": {
    "collapsed": false
   },
   "outputs": [
    {
     "name": "stdout",
     "output_type": "stream",
     "text": [
      "  962218\r\n"
     ]
    }
   ],
   "source": [
    "!grep \"maker\" /Volumes/Serine/wd/19-02-16/Pgenerosa_v070.all.gff | wc -l"
   ]
  },
  {
   "cell_type": "code",
   "execution_count": 9,
   "metadata": {
    "collapsed": false
   },
   "outputs": [
    {
     "name": "stdout",
     "output_type": "stream",
     "text": [
      "PGA_scaffold171564__1_contigs__length_6010\tmaker\tgene\t2908\t4279\t.\t+\t.\tID=maker-PGA_scaffold171564__1_contigs__length_6010-exonerate_protein2genome-gene-0.0;Name=maker-PGA_scaffold171564__1_contigs__length_6010-exonerate_protein2genome-gene-0.0\r\n",
      "PGA_scaffold19103__1_contigs__length_6100\tmaker\tgene\t3446\t5297\t.\t-\t.\tID=maker-PGA_scaffold19103__1_contigs__length_6100-exonerate_protein2genome-gene-0.0;Name=maker-PGA_scaffold19103__1_contigs__length_6100-exonerate_protein2genome-gene-0.0\r\n",
      "PGA_scaffold43528__1_contigs__length_13364\tmaker\tgene\t6366\t6803\t.\t-\t.\tID=maker-PGA_scaffold43528__1_contigs__length_13364-exonerate_protein2genome-gene-0.0;Name=maker-PGA_scaffold43528__1_contigs__length_13364-exonerate_protein2genome-gene-0.0\r\n",
      "PGA_scaffold229666__1_contigs__length_7299\tmaker\tgene\t3952\t5004\t.\t+\t.\tID=maker-PGA_scaffold229666__1_contigs__length_7299-exonerate_protein2genome-gene-0.1;Name=maker-PGA_scaffold229666__1_contigs__length_7299-exonerate_protein2genome-gene-0.1\r\n",
      "PGA_scaffold229666__1_contigs__length_7299\tmaker\tgene\t3499\t3831\t.\t+\t.\tID=maker-PGA_scaffold229666__1_contigs__length_7299-exonerate_protein2genome-gene-0.0;Name=maker-PGA_scaffold229666__1_contigs__length_7299-exonerate_protein2genome-gene-0.0\r\n",
      "PGA_scaffold216949__1_contigs__length_4727\tmaker\tgene\t3529\t3831\t.\t-\t.\tID=maker-PGA_scaffold216949__1_contigs__length_4727-exonerate_protein2genome-gene-0.0;Name=maker-PGA_scaffold216949__1_contigs__length_4727-exonerate_protein2genome-gene-0.0\r\n",
      "PGA_scaffold94356__1_contigs__length_1047\tmaker\tgene\t801\t986\t.\t-\t.\tID=maker-PGA_scaffold94356__1_contigs__length_1047-exonerate_protein2genome-gene-0.0;Name=maker-PGA_scaffold94356__1_contigs__length_1047-exonerate_protein2genome-gene-0.0\r\n",
      "PGA_scaffold285130__1_contigs__length_6957\tmaker\tgene\t4214\t4795\t.\t+\t.\tID=maker-PGA_scaffold285130__1_contigs__length_6957-exonerate_protein2genome-gene-0.0;Name=maker-PGA_scaffold285130__1_contigs__length_6957-exonerate_protein2genome-gene-0.0\r\n",
      "PGA_scaffold132901__1_contigs__length_1641\tmaker\tgene\t1037\t1631\t.\t+\t.\tID=maker-PGA_scaffold132901__1_contigs__length_1641-exonerate_est2genome-gene-0.0;Name=maker-PGA_scaffold132901__1_contigs__length_1641-exonerate_est2genome-gene-0.0\r\n",
      "PGA_scaffold267826__1_contigs__length_1046\tmaker\tgene\t226\t1046\t.\t+\t.\tID=maker-PGA_scaffold267826__1_contigs__length_1046-exonerate_est2genome-gene-0.0;Name=maker-PGA_scaffold267826__1_contigs__length_1046-exonerate_est2genome-gene-0.0\r\n"
     ]
    }
   ],
   "source": [
    "!fgrep \"maker\" /Volumes/Serine/wd/19-02-16/Pgenerosa_v070.all.gff | grep \"\tgene\t\" | head"
   ]
  },
  {
   "cell_type": "code",
   "execution_count": 10,
   "metadata": {
    "collapsed": false
   },
   "outputs": [
    {
     "name": "stdout",
     "output_type": "stream",
     "text": [
      "  127907\r\n"
     ]
    }
   ],
   "source": [
    "!fgrep \"maker\" /Volumes/Serine/wd/19-02-16/Pgenerosa_v070.all.gff | grep \"\tgene\t\" | wc -l"
   ]
  },
  {
   "cell_type": "code",
   "execution_count": 11,
   "metadata": {
    "collapsed": true
   },
   "outputs": [],
   "source": [
    "!fgrep \"maker\" /Volumes/Serine/wd/19-02-16/Pgenerosa_v070.all.gff | grep \"\tgene\t\" \\\n",
    "> /Volumes/Serine/wd/19-02-16/Pgenerosa_v070.a.makergene.gff"
   ]
  },
  {
   "cell_type": "code",
   "execution_count": null,
   "metadata": {
    "collapsed": true
   },
   "outputs": [],
   "source": []
  }
 ],
 "metadata": {
  "kernelspec": {
   "display_name": "Python 2",
   "language": "python",
   "name": "python2"
  },
  "language_info": {
   "codemirror_mode": {
    "name": "ipython",
    "version": 2
   },
   "file_extension": ".py",
   "mimetype": "text/x-python",
   "name": "python",
   "nbconvert_exporter": "python",
   "pygments_lexer": "ipython2",
   "version": "2.7.12"
  }
 },
 "nbformat": 4,
 "nbformat_minor": 0
}
