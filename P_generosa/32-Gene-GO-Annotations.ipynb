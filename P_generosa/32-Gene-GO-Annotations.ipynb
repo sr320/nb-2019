{
 "cells": [
  {
   "cell_type": "code",
   "execution_count": 1,
   "metadata": {
    "ExecuteTime": {
     "end_time": "2019-10-23T17:12:32.036205Z",
     "start_time": "2019-10-23T17:12:31.681133Z"
    }
   },
   "outputs": [
    {
     "name": "stdout",
     "output_type": "stream",
     "text": [
      "--2019-10-23 10:12:31--  https://gannet.fish.washington.edu/Atumefaciens/20190928_Pgenerosa_v074.a4_gensas_annotation/Panopea-generosa-vv0.74.a4.5d951a9b74287-blast_functional.tab\n",
      "Resolving gannet.fish.washington.edu (gannet.fish.washington.edu)... 128.95.149.52\n",
      "Connecting to gannet.fish.washington.edu (gannet.fish.washington.edu)|128.95.149.52|:443... connected.\n",
      "HTTP request sent, awaiting response... 200 OK\n",
      "Length: 1533389 (1.5M) [text/plain]\n",
      "Saving to: ‘Panopea-generosa-vv0.74.a4.5d951a9b74287-blast_functional.tab’\n",
      "\n",
      "Panopea-generosa-vv 100%[===================>]   1.46M  --.-KB/s    in 0.05s   \n",
      "\n",
      "2019-10-23 10:12:31 (32.3 MB/s) - ‘Panopea-generosa-vv0.74.a4.5d951a9b74287-blast_functional.tab’ saved [1533389/1533389]\n",
      "\n"
     ]
    }
   ],
   "source": [
    "!wget https://gannet.fish.washington.edu/Atumefaciens/20190928_Pgenerosa_v074.a4_gensas_annotation/Panopea-generosa-vv0.74.a4.5d951a9b74287-blast_functional.tab"
   ]
  },
  {
   "cell_type": "code",
   "execution_count": 2,
   "metadata": {
    "ExecuteTime": {
     "end_time": "2019-10-23T17:12:50.384344Z",
     "start_time": "2019-10-23T17:12:50.220721Z"
    }
   },
   "outputs": [
    {
     "name": "stdout",
     "output_type": "stream",
     "text": [
      "01-Exploring-Genome-v070.ipynb\r\n",
      "02-Exploring-early-070-maker.ipynb\r\n",
      "03-Simple-gene-track.ipynb\r\n",
      "04-Genes-from-preMaker.ipynb\r\n",
      "05-Joining-HP-gene-IDs.ipynb\r\n",
      "06.ipynb\r\n",
      "\u001b[34m065_bismark\u001b[m\u001b[m/\r\n",
      "07-Gene-names-preMaker.ipynb\r\n",
      "10-Gene-Methylation.ipynb\r\n",
      "11-genome-recip-blast.ipynb\r\n",
      "12-Exploring-HiC.ipynb\r\n",
      "13-18scaffold-assembly.ipynb\r\n",
      "14-Bismark-v074.ipynb\r\n",
      "15-Big-Mystery-Scaffold.ipynb\r\n",
      "16-v74-GO-Annotations.ipynb\r\n",
      "17-Coverage-IGV-v74.ipynb\r\n",
      "18-Downloading-BAMs.ipynb\r\n",
      "19-v74-protein-info.ipynb\r\n",
      "20-Destranding-Bismark-cov.ipynb\r\n",
      "21-Destranding-2-bg.ipynb\r\n",
      "22-Concat-Coverage.ipynb\r\n",
      "23-Defining-mCpG-tracks-5x.ipynb\r\n",
      "24-Creating-intron-track.ipynb\r\n",
      "25-liu-python.ipynb\r\n",
      "26-Revising-TE-track.ipynb\r\n",
      "27-mCG-feature-overlap-5x.ipynb\r\n",
      "28-Defining-mCpG-tracks-10x.ipynb\r\n",
      "29-mCG-feature-overlap-10x.ipynb\r\n",
      "30-Creating-intragenic-track.ipynb\r\n",
      "31-Plotting-genomic.ipynb\r\n",
      "32-Gene-GO-Annotations.ipynb\r\n",
      "50-methylkit.Rmd\r\n",
      "51-methylkit-day10.Rmd\r\n",
      "52-methylkit-day10.Rmd\r\n",
      "55-karotypeR.Rmd\r\n",
      "EPI-145_S38_L005_R1_001_val_1_bismark_bt2_pe.deduplicated.bismark.cov.gz\r\n",
      "Panopea-generosa-vv0.74.a4.5d951a9b74287-blast_functional.tab\r\n",
      "\u001b[34manalyses\u001b[m\u001b[m/\r\n",
      "\u001b[34mdata\u001b[m\u001b[m/\r\n",
      "\u001b[34migv\u001b[m\u001b[m/\r\n",
      "\u001b[34mimg\u001b[m\u001b[m/\r\n",
      "myobj_d10\r\n",
      "\u001b[34mnotes\u001b[m\u001b[m/\r\n",
      "\u001b[34mtracks\u001b[m\u001b[m/\r\n",
      "\u001b[34mwd\u001b[m\u001b[m/\r\n"
     ]
    }
   ],
   "source": [
    "ls"
   ]
  },
  {
   "cell_type": "code",
   "execution_count": 3,
   "metadata": {
    "ExecuteTime": {
     "end_time": "2019-10-23T17:13:12.054317Z",
     "start_time": "2019-10-23T17:13:11.902720Z"
    }
   },
   "outputs": [],
   "source": [
    "!mv Panopea-generosa-vv0.74.a4.5d951a9b74287-blast_functional.tab data/"
   ]
  },
  {
   "cell_type": "code",
   "execution_count": 9,
   "metadata": {
    "ExecuteTime": {
     "end_time": "2019-08-17T14:13:53.933658Z",
     "start_time": "2019-08-17T14:13:53.803765Z"
    }
   },
   "outputs": [
    {
     "name": "stdout",
     "output_type": "stream",
     "text": [
      "\u001b[34mGeoduck_Meth-master\u001b[m\u001b[m\r\n",
      "Pgenerosa_v070.a.makergene.blastx.uniprot.tab\r\n",
      "Pgenerosa_v070.a.makergene.gff\r\n",
      "Pgenerosa_v070.fa\r\n",
      "Pgenerosa_v071.fasta\r\n",
      "Pgenerosa_v071.fasta.fai\r\n",
      "Pgenerosa_v073.fasta\r\n",
      "blastp.outfmt6\r\n",
      "geo-tran4-v071.gff\r\n",
      "geo-tran4-v071.sorted.gff\r\n",
      "geo-tran4-v071.sorted.gff.idx\r\n",
      "pgen_bsseq_all_R1_bismark_bt2.deduplicated.bedGraph\r\n",
      "pgen_bsseq_all_R1_bismark_bt2.deduplicated.bedGraph.tdf\r\n"
     ]
    }
   ],
   "source": [
    "!ls data/"
   ]
  },
  {
   "cell_type": "code",
   "execution_count": 17,
   "metadata": {
    "ExecuteTime": {
     "end_time": "2019-10-23T17:19:15.773565Z",
     "start_time": "2019-10-23T17:19:15.611608Z"
    }
   },
   "outputs": [
    {
     "name": "stdout",
     "output_type": "stream",
     "text": [
      "#\r\n",
      "# Output is generated by GenSAS 7.x-5.0\r\n",
      "#\r\n",
      "#name     : mRNA\r\n",
      "#start    : Start of alignment in subject\r\n",
      "#end      : End of alignment in subject\r\n",
      "#m_start  : Start of alignment in query\r\n",
      "#m_end    : End of alignment in query\r\n",
      "#al       : Alignment length\r\n",
      "#score    : Row score of the match\r\n"
     ]
    }
   ],
   "source": [
    "!head data/Panopea-generosa-vv0.74.a4.5d951a9b74287-blast_functional.tab"
   ]
  },
  {
   "cell_type": "code",
   "execution_count": 5,
   "metadata": {
    "ExecuteTime": {
     "end_time": "2019-10-23T17:13:41.294865Z",
     "start_time": "2019-10-23T17:13:41.158164Z"
    }
   },
   "outputs": [
    {
     "name": "stdout",
     "output_type": "stream",
     "text": [
      "   16561 data/Panopea-generosa-vv0.74.a4.5d951a9b74287-blast_functional.tab\r\n"
     ]
    }
   ],
   "source": [
    "!wc -l data/Panopea-generosa-vv0.74.a4.5d951a9b74287-blast_functional.tab"
   ]
  },
  {
   "cell_type": "code",
   "execution_count": 20,
   "metadata": {
    "ExecuteTime": {
     "end_time": "2019-10-23T17:20:21.844300Z",
     "start_time": "2019-10-23T17:20:21.520689Z"
    }
   },
   "outputs": [],
   "source": [
    "!tr '|' '\\t' < data/Panopea-generosa-vv0.74.a4.5d951a9b74287-blast_functional.tab \\\n",
    "| sed '/#/d' |  sed '/Accession/d' > analyses/Pg-gensas-blastx.tab"
   ]
  },
  {
   "cell_type": "code",
   "execution_count": 21,
   "metadata": {
    "ExecuteTime": {
     "end_time": "2019-10-23T17:20:22.141432Z",
     "start_time": "2019-10-23T17:20:22.012041Z"
    }
   },
   "outputs": [
    {
     "name": "stdout",
     "output_type": "stream",
     "text": [
      "21910-PGEN_.00g000010.m01\t121\t229\t165\tQ86IC9\tsp\tQ86IC9\tCAMT1_DICDI\t11\t122\t8.93e-14\t35.652\t115\r\n",
      "21910-PGEN_.00g000020.m01\t147\t467\t968\tP04177\tsp\tP04177\tTY3H_RAT\t20\t339\t3.47e-127\t55.140\t321\r\n",
      "21910-PGEN_.00g000050.m01\t566\t722\t182\tQ8L840\tsp\tQ8L840\tRQL4A_ARATH\t2\t167\t2.67e-14\t35.119\t168\r\n",
      "21910-PGEN_.00g000080.m01\t268\t322\t152\tA1E2V0\tsp\tA1E2V0\tBIRC3_CANLF\t163\t220\t3.91e-10\t53.448\t58\r\n",
      "21910-PGEN_.00g000090.m01\t199\t327\t161\tP34456\tsp\tP34456\tYMD2_CAEEL\t7\t134\t7.52e-12\t26.357\t129\r\n",
      "21910-PGEN_.00g000210.m01\t18\t200\t263\tO00463\tsp\tO00463\tTRAF5_HUMAN\t5\t191\t2.24e-25\t34.921\t189\r\n",
      "21910-PGEN_.00g000230.m01\t48\t155\t287\tQ00945\tsp\tQ00945\tCONO_LYMST\t31\t134\t1.59e-32\t50.000\t108\r\n",
      "21910-PGEN_.00g000240.m01\t4\t605\t1091\tQ5SWK7\tsp\tQ5SWK7\tRN145_MOUSE\t13\t601\t2.65e-139\t39.607\t611\r\n",
      "21910-PGEN_.00g000280.m01\t4\t153\t210\tQ8ZXT3\tsp\tQ8ZXT3\tY1111_PYRAE\t853\t1012\t1.10e-17\t38.750\t160\r\n",
      "21910-PGEN_.00g000300.m01\t159\t347\t480\tQ5REG4\tsp\tQ5REG4\tDTX3_PONAB\t1135\t1320\t1.20e-51\t50.794\t189\r\n"
     ]
    }
   ],
   "source": [
    "!head analyses/Pg-gensas-blastx.tab\n"
   ]
  },
  {
   "cell_type": "code",
   "execution_count": 25,
   "metadata": {
    "ExecuteTime": {
     "end_time": "2019-10-23T17:20:46.140427Z",
     "start_time": "2019-10-23T17:20:45.905992Z"
    }
   },
   "outputs": [],
   "source": [
    "!awk -v OFS='\\t' '{print $5}' < analyses/Pg-gensas-blastx.tab \\\n",
    "> analyses/gene_blastp.col5"
   ]
  },
  {
   "cell_type": "code",
   "execution_count": 26,
   "metadata": {
    "ExecuteTime": {
     "end_time": "2019-10-23T17:20:46.472116Z",
     "start_time": "2019-10-23T17:20:46.329979Z"
    }
   },
   "outputs": [
    {
     "name": "stdout",
     "output_type": "stream",
     "text": [
      "   16548 analyses/gene_blastp.col5\r\n"
     ]
    }
   ],
   "source": [
    "!wc -l analyses/gene_blastp.col5"
   ]
  },
  {
   "cell_type": "code",
   "execution_count": 27,
   "metadata": {
    "ExecuteTime": {
     "end_time": "2019-10-23T17:20:50.074049Z",
     "start_time": "2019-10-23T17:20:49.928710Z"
    }
   },
   "outputs": [
    {
     "name": "stdout",
     "output_type": "stream",
     "text": [
      "Q86IC9\r\n",
      "P04177\r\n",
      "Q8L840\r\n",
      "A1E2V0\r\n",
      "P34456\r\n",
      "O00463\r\n",
      "Q00945\r\n",
      "Q5SWK7\r\n",
      "Q8ZXT3\r\n",
      "Q5REG4\r\n"
     ]
    }
   ],
   "source": [
    "!head analyses/gene_blastp.col5"
   ]
  },
  {
   "cell_type": "code",
   "execution_count": 30,
   "metadata": {
    "ExecuteTime": {
     "end_time": "2019-10-23T17:21:51.230654Z",
     "start_time": "2019-10-23T17:21:51.011707Z"
    }
   },
   "outputs": [],
   "source": [
    "!cat analyses/gene_blastp.col5 | pbcopy"
   ]
  },
  {
   "cell_type": "code",
   "execution_count": 29,
   "metadata": {
    "ExecuteTime": {
     "end_time": "2019-10-23T17:21:18.201389Z",
     "start_time": "2019-10-23T17:21:17.883394Z"
    }
   },
   "outputs": [
    {
     "name": "stdout",
     "output_type": "stream",
     "text": [
      "   10157\r\n"
     ]
    }
   ],
   "source": [
    "!cat analyses/gene_blastp.col5 | sort | uniq | wc -l"
   ]
  },
  {
   "cell_type": "code",
   "execution_count": 31,
   "metadata": {
    "ExecuteTime": {
     "end_time": "2019-10-23T17:22:25.385254Z",
     "start_time": "2019-10-23T17:22:25.045785Z"
    }
   },
   "outputs": [],
   "source": [
    "!cat analyses/gene_blastp.col5 | sort | uniq | pbcopy"
   ]
  },
  {
   "cell_type": "code",
   "execution_count": 32,
   "metadata": {
    "ExecuteTime": {
     "end_time": "2019-10-23T17:27:38.957940Z",
     "start_time": "2019-10-23T17:27:38.795246Z"
    }
   },
   "outputs": [
    {
     "name": "stdout",
     "output_type": "stream",
     "text": [
      "Entry\tEntry name\tStatus\tProtein names\tGene ontology (biological process)\tGene ontology (GO)\tGene ontology IDs\tGene ontology (molecular function)\tGene ontology (cellular component)\r\n",
      "A0A044RE18\tBLI_ONCVO\treviewed\tEndoprotease bli (EC 3.4.21.75) (Blisterase)\tcellular response to salt [GO:1902075]; chemosensory behavior [GO:0007635]; collagen and cuticulin-based cuticle development [GO:0040002]; dibasic protein processing [GO:0090472]; positive regulation of synaptic growth at neuromuscular junction [GO:0045887]; zymogen activation [GO:0031638]\textracellular region [GO:0005576]; nucleus [GO:0005634]; metal ion binding [GO:0046872]; serine-type endopeptidase activity [GO:0004252]; cellular response to salt [GO:1902075]; chemosensory behavior [GO:0007635]; collagen and cuticulin-based cuticle development [GO:0040002]; dibasic protein processing [GO:0090472]; positive regulation of synaptic growth at neuromuscular junction [GO:0045887]; zymogen activation [GO:0031638]\tGO:0004252; GO:0005576; GO:0005634; GO:0007635; GO:0031638; GO:0040002; GO:0045887; GO:0046872; GO:0090472; GO:1902075\tmetal ion binding [GO:0046872]; serine-type endopeptidase activity [GO:0004252]\textracellular region [GO:0005576]; nucleus [GO:0005634]\r\n",
      "A0A0A7DNP6\tGRHLP_RUDPH\treviewed\tPrepro-gonadotropin-releasing hormone-like protein (rp-GnRH) [Cleaved into: GnRH dodecapeptide; GnRH-associated peptide (GAP)]\tneuropeptide signaling pathway [GO:0007218]\textracellular region [GO:0005576]; neuropeptide signaling pathway [GO:0007218]\tGO:0005576; GO:0007218\t\textracellular region [GO:0005576]\r\n",
      "A0A0B5A7M7\tINS1_CONIM\treviewed\tCon-Ins Im1 (Insulin 1) [Cleaved into: Con-Ins I1 B chain; Con-Ins I1 A chain]\tglucose metabolic process [GO:0006006]\textracellular region [GO:0005576]; hormone activity [GO:0005179]; toxin activity [GO:0090729]; glucose metabolic process [GO:0006006]\tGO:0005179; GO:0005576; GO:0006006; GO:0090729\thormone activity [GO:0005179]; toxin activity [GO:0090729]\textracellular region [GO:0005576]\r\n",
      "A0A0B5A8P8\tINS2_CONIM\treviewed\tCon-Ins Im2 (Insulin 2) [Cleaved into: Con-Ins I2 B chain; Con-Ins I2 A chain]\tglucose metabolic process [GO:0006006]\textracellular region [GO:0005576]; hormone activity [GO:0005179]; toxin activity [GO:0090729]; glucose metabolic process [GO:0006006]\tGO:0005179; GO:0005576; GO:0006006; GO:0090729\thormone activity [GO:0005179]; toxin activity [GO:0090729]\textracellular region [GO:0005576]\r\n",
      "A0A0E0RTV6\tZEB1_GIBZE\treviewed\tFAD-linked oxidoreductase ZEB1 (EC 1.-.-.-) (Zearalenone biosynthesis protein 1)\t\tFAD binding [GO:0071949]; oxidoreductase activity [GO:0016491]\tGO:0016491; GO:0071949\tFAD binding [GO:0071949]; oxidoreductase activity [GO:0016491]\t\r\n",
      "A0A0F7YYX3\tCPROH_CONVC\treviewed\tNeuropeptide prohormone-4\t\textracellular region [GO:0005576]\tGO:0005576\t\textracellular region [GO:0005576]\r\n",
      "A0A0F7YZI5\tCTHB5_CONVC\treviewed\tThyrostimulin beta-5 subunit\t\textracellular region [GO:0005576]; hormone activity [GO:0005179]; toxin activity [GO:0090729]\tGO:0005179; GO:0005576; GO:0090729\thormone activity [GO:0005179]; toxin activity [GO:0090729]\textracellular region [GO:0005576]\r\n",
      "A0A0F7Z3J2\tCTHA2_CONVC\treviewed\tThyrostimulin alpha-2 subunit\t\textracellular region [GO:0005576]; hormone activity [GO:0005179]; toxin activity [GO:0090729]\tGO:0005179; GO:0005576; GO:0090729\thormone activity [GO:0005179]; toxin activity [GO:0090729]\textracellular region [GO:0005576]\r\n",
      "A0A0G2K344\tPK3CA_RAT\treviewed\tPhosphatidylinositol 4,5-bisphosphate 3-kinase catalytic subunit alpha isoform (PI3-kinase subunit alpha) (PI3K-alpha) (PI3Kalpha) (PtdIns-3-kinase subunit alpha) (EC 2.7.1.153) (Phosphatidylinositol 4,5-bisphosphate 3-kinase 110 kDa catalytic subunit alpha) (PtdIns-3-kinase subunit p110-alpha) (p110alpha) (Phosphoinositide-3-kinase catalytic alpha polypeptide) (Serine/threonine protein kinase PIK3CA) (EC 2.7.11.1)\tangiogenesis [GO:0001525]; negative regulation of gene expression [GO:0010629]; phagocytosis [GO:0006909]; phosphatidylinositol 3-kinase signaling [GO:0014065]; phosphatidylinositol-3-phosphate biosynthetic process [GO:0036092]; phosphatidylinositol-mediated signaling [GO:0048015]; phosphatidylinositol phosphorylation [GO:0046854]; positive regulation of smooth muscle cell proliferation [GO:0048661]; response to butyrate [GO:1903544]; response to dexamethasone [GO:0071548]; response to leucine [GO:0043201]; response to muscle inactivity [GO:0014870]\tcytoplasm [GO:0005737]; cytosol [GO:0005829]; membrane [GO:0016020]; phosphatidylinositol 3-kinase complex [GO:0005942]; phosphatidylinositol 3-kinase complex, class IA [GO:0005943]; plasma membrane [GO:0005886]; 1-phosphatidylinositol-3-kinase activity [GO:0016303]; 1-phosphatidylinositol-4-phosphate 3-kinase activity [GO:0035005]; ATP binding [GO:0005524]; phosphatidylinositol-3,4-bisphosphate 5-kinase activity [GO:0052812]; phosphatidylinositol-4,5-bisphosphate 3-kinase activity [GO:0046934]; protein serine/threonine kinase activity [GO:0004674]; angiogenesis [GO:0001525]; negative regulation of gene expression [GO:0010629]; phagocytosis [GO:0006909]; phosphatidylinositol 3-kinase signaling [GO:0014065]; phosphatidylinositol phosphorylation [GO:0046854]; phosphatidylinositol-3-phosphate biosynthetic process [GO:0036092]; phosphatidylinositol-mediated signaling [GO:0048015]; positive regulation of smooth muscle cell proliferation [GO:0048661]; response to butyrate [GO:1903544]; response to dexamethasone [GO:0071548]; response to leucine [GO:0043201]; response to muscle inactivity [GO:0014870]\tGO:0001525; GO:0004674; GO:0005524; GO:0005737; GO:0005829; GO:0005886; GO:0005942; GO:0005943; GO:0006909; GO:0010629; GO:0014065; GO:0014870; GO:0016020; GO:0016303; GO:0035005; GO:0036092; GO:0043201; GO:0046854; GO:0046934; GO:0048015; GO:0048661; GO:0052812; GO:0071548; GO:1903544\t1-phosphatidylinositol-3-kinase activity [GO:0016303]; 1-phosphatidylinositol-4-phosphate 3-kinase activity [GO:0035005]; ATP binding [GO:0005524]; phosphatidylinositol-3,4-bisphosphate 5-kinase activity [GO:0052812]; phosphatidylinositol-4,5-bisphosphate 3-kinase activity [GO:0046934]; protein serine/threonine kinase activity [GO:0004674]\tcytoplasm [GO:0005737]; cytosol [GO:0005829]; membrane [GO:0016020]; phosphatidylinositol 3-kinase complex [GO:0005942]; phosphatidylinositol 3-kinase complex, class IA [GO:0005943]; plasma membrane [GO:0005886]\r\n"
     ]
    }
   ],
   "source": [
    "!head analyses/uniprot-yourlist_M20191023216DA2B77BFBD2E6699CA9B6D1C41EB24D82ED2.tab"
   ]
  },
  {
   "cell_type": "code",
   "execution_count": 33,
   "metadata": {
    "ExecuteTime": {
     "end_time": "2019-10-23T17:28:18.607908Z",
     "start_time": "2019-10-23T17:28:17.419114Z"
    }
   },
   "outputs": [],
   "source": [
    "!cat analyses/uniprot-yourlist_M20191023216DA2B77BFBD2E6699CA9B6D1C41EB24D82ED2.tab \\\n",
    "| sort > analyses/uniprot-yourlist_M2019_82ED2.sorted"
   ]
  },
  {
   "cell_type": "code",
   "execution_count": 34,
   "metadata": {
    "ExecuteTime": {
     "end_time": "2019-10-23T17:28:24.070743Z",
     "start_time": "2019-10-23T17:28:23.917210Z"
    }
   },
   "outputs": [
    {
     "name": "stdout",
     "output_type": "stream",
     "text": [
      "A0A044RE18\tBLI_ONCVO\treviewed\tEndoprotease bli (EC 3.4.21.75) (Blisterase)\tcellular response to salt [GO:1902075]; chemosensory behavior [GO:0007635]; collagen and cuticulin-based cuticle development [GO:0040002]; dibasic protein processing [GO:0090472]; positive regulation of synaptic growth at neuromuscular junction [GO:0045887]; zymogen activation [GO:0031638]\textracellular region [GO:0005576]; nucleus [GO:0005634]; metal ion binding [GO:0046872]; serine-type endopeptidase activity [GO:0004252]; cellular response to salt [GO:1902075]; chemosensory behavior [GO:0007635]; collagen and cuticulin-based cuticle development [GO:0040002]; dibasic protein processing [GO:0090472]; positive regulation of synaptic growth at neuromuscular junction [GO:0045887]; zymogen activation [GO:0031638]\tGO:0004252; GO:0005576; GO:0005634; GO:0007635; GO:0031638; GO:0040002; GO:0045887; GO:0046872; GO:0090472; GO:1902075\tmetal ion binding [GO:0046872]; serine-type endopeptidase activity [GO:0004252]\textracellular region [GO:0005576]; nucleus [GO:0005634]\r\n",
      "A0A0A7DNP6\tGRHLP_RUDPH\treviewed\tPrepro-gonadotropin-releasing hormone-like protein (rp-GnRH) [Cleaved into: GnRH dodecapeptide; GnRH-associated peptide (GAP)]\tneuropeptide signaling pathway [GO:0007218]\textracellular region [GO:0005576]; neuropeptide signaling pathway [GO:0007218]\tGO:0005576; GO:0007218\t\textracellular region [GO:0005576]\r\n",
      "A0A0B5A7M7\tINS1_CONIM\treviewed\tCon-Ins Im1 (Insulin 1) [Cleaved into: Con-Ins I1 B chain; Con-Ins I1 A chain]\tglucose metabolic process [GO:0006006]\textracellular region [GO:0005576]; hormone activity [GO:0005179]; toxin activity [GO:0090729]; glucose metabolic process [GO:0006006]\tGO:0005179; GO:0005576; GO:0006006; GO:0090729\thormone activity [GO:0005179]; toxin activity [GO:0090729]\textracellular region [GO:0005576]\r\n",
      "A0A0B5A8P8\tINS2_CONIM\treviewed\tCon-Ins Im2 (Insulin 2) [Cleaved into: Con-Ins I2 B chain; Con-Ins I2 A chain]\tglucose metabolic process [GO:0006006]\textracellular region [GO:0005576]; hormone activity [GO:0005179]; toxin activity [GO:0090729]; glucose metabolic process [GO:0006006]\tGO:0005179; GO:0005576; GO:0006006; GO:0090729\thormone activity [GO:0005179]; toxin activity [GO:0090729]\textracellular region [GO:0005576]\r\n",
      "A0A0E0RTV6\tZEB1_GIBZE\treviewed\tFAD-linked oxidoreductase ZEB1 (EC 1.-.-.-) (Zearalenone biosynthesis protein 1)\t\tFAD binding [GO:0071949]; oxidoreductase activity [GO:0016491]\tGO:0016491; GO:0071949\tFAD binding [GO:0071949]; oxidoreductase activity [GO:0016491]\t\r\n",
      "A0A0F7YYX3\tCPROH_CONVC\treviewed\tNeuropeptide prohormone-4\t\textracellular region [GO:0005576]\tGO:0005576\t\textracellular region [GO:0005576]\r\n",
      "A0A0F7YZI5\tCTHB5_CONVC\treviewed\tThyrostimulin beta-5 subunit\t\textracellular region [GO:0005576]; hormone activity [GO:0005179]; toxin activity [GO:0090729]\tGO:0005179; GO:0005576; GO:0090729\thormone activity [GO:0005179]; toxin activity [GO:0090729]\textracellular region [GO:0005576]\r\n",
      "A0A0F7Z3J2\tCTHA2_CONVC\treviewed\tThyrostimulin alpha-2 subunit\t\textracellular region [GO:0005576]; hormone activity [GO:0005179]; toxin activity [GO:0090729]\tGO:0005179; GO:0005576; GO:0090729\thormone activity [GO:0005179]; toxin activity [GO:0090729]\textracellular region [GO:0005576]\r\n",
      "A0A0G2K344\tPK3CA_RAT\treviewed\tPhosphatidylinositol 4,5-bisphosphate 3-kinase catalytic subunit alpha isoform (PI3-kinase subunit alpha) (PI3K-alpha) (PI3Kalpha) (PtdIns-3-kinase subunit alpha) (EC 2.7.1.153) (Phosphatidylinositol 4,5-bisphosphate 3-kinase 110 kDa catalytic subunit alpha) (PtdIns-3-kinase subunit p110-alpha) (p110alpha) (Phosphoinositide-3-kinase catalytic alpha polypeptide) (Serine/threonine protein kinase PIK3CA) (EC 2.7.11.1)\tangiogenesis [GO:0001525]; negative regulation of gene expression [GO:0010629]; phagocytosis [GO:0006909]; phosphatidylinositol 3-kinase signaling [GO:0014065]; phosphatidylinositol-3-phosphate biosynthetic process [GO:0036092]; phosphatidylinositol-mediated signaling [GO:0048015]; phosphatidylinositol phosphorylation [GO:0046854]; positive regulation of smooth muscle cell proliferation [GO:0048661]; response to butyrate [GO:1903544]; response to dexamethasone [GO:0071548]; response to leucine [GO:0043201]; response to muscle inactivity [GO:0014870]\tcytoplasm [GO:0005737]; cytosol [GO:0005829]; membrane [GO:0016020]; phosphatidylinositol 3-kinase complex [GO:0005942]; phosphatidylinositol 3-kinase complex, class IA [GO:0005943]; plasma membrane [GO:0005886]; 1-phosphatidylinositol-3-kinase activity [GO:0016303]; 1-phosphatidylinositol-4-phosphate 3-kinase activity [GO:0035005]; ATP binding [GO:0005524]; phosphatidylinositol-3,4-bisphosphate 5-kinase activity [GO:0052812]; phosphatidylinositol-4,5-bisphosphate 3-kinase activity [GO:0046934]; protein serine/threonine kinase activity [GO:0004674]; angiogenesis [GO:0001525]; negative regulation of gene expression [GO:0010629]; phagocytosis [GO:0006909]; phosphatidylinositol 3-kinase signaling [GO:0014065]; phosphatidylinositol phosphorylation [GO:0046854]; phosphatidylinositol-3-phosphate biosynthetic process [GO:0036092]; phosphatidylinositol-mediated signaling [GO:0048015]; positive regulation of smooth muscle cell proliferation [GO:0048661]; response to butyrate [GO:1903544]; response to dexamethasone [GO:0071548]; response to leucine [GO:0043201]; response to muscle inactivity [GO:0014870]\tGO:0001525; GO:0004674; GO:0005524; GO:0005737; GO:0005829; GO:0005886; GO:0005942; GO:0005943; GO:0006909; GO:0010629; GO:0014065; GO:0014870; GO:0016020; GO:0016303; GO:0035005; GO:0036092; GO:0043201; GO:0046854; GO:0046934; GO:0048015; GO:0048661; GO:0052812; GO:0071548; GO:1903544\t1-phosphatidylinositol-3-kinase activity [GO:0016303]; 1-phosphatidylinositol-4-phosphate 3-kinase activity [GO:0035005]; ATP binding [GO:0005524]; phosphatidylinositol-3,4-bisphosphate 5-kinase activity [GO:0052812]; phosphatidylinositol-4,5-bisphosphate 3-kinase activity [GO:0046934]; protein serine/threonine kinase activity [GO:0004674]\tcytoplasm [GO:0005737]; cytosol [GO:0005829]; membrane [GO:0016020]; phosphatidylinositol 3-kinase complex [GO:0005942]; phosphatidylinositol 3-kinase complex, class IA [GO:0005943]; plasma membrane [GO:0005886]\r\n",
      "A0A0H5BMX5\tTCEB1_TULGE\treviewed\tTuliposide B-converting enzyme 1, amyloplastic (TgTCEB1) (EC 4.2.99.23)\tdefense response [GO:0006952]\tamyloplast [GO:0009501]; hydrolase activity [GO:0016787]; lyase activity [GO:0016829]; defense response [GO:0006952]\tGO:0006952; GO:0009501; GO:0016787; GO:0016829\thydrolase activity [GO:0016787]; lyase activity [GO:0016829]\tamyloplast [GO:0009501]\r\n"
     ]
    }
   ],
   "source": [
    "!head analyses/uniprot-yourlist_M2019_82ED2.sorted"
   ]
  },
  {
   "cell_type": "code",
   "execution_count": 35,
   "metadata": {
    "ExecuteTime": {
     "end_time": "2019-10-23T17:29:11.352544Z",
     "start_time": "2019-10-23T17:29:11.195913Z"
    }
   },
   "outputs": [
    {
     "name": "stdout",
     "output_type": "stream",
     "text": [
      "21910-PGEN_.00g000010.m01\t121\t229\t165\tQ86IC9\tsp\tQ86IC9\tCAMT1_DICDI\t11\t122\t8.93e-14\t35.652\t115\r\n",
      "21910-PGEN_.00g000020.m01\t147\t467\t968\tP04177\tsp\tP04177\tTY3H_RAT\t20\t339\t3.47e-127\t55.140\t321\r\n",
      "21910-PGEN_.00g000050.m01\t566\t722\t182\tQ8L840\tsp\tQ8L840\tRQL4A_ARATH\t2\t167\t2.67e-14\t35.119\t168\r\n",
      "21910-PGEN_.00g000080.m01\t268\t322\t152\tA1E2V0\tsp\tA1E2V0\tBIRC3_CANLF\t163\t220\t3.91e-10\t53.448\t58\r\n",
      "21910-PGEN_.00g000090.m01\t199\t327\t161\tP34456\tsp\tP34456\tYMD2_CAEEL\t7\t134\t7.52e-12\t26.357\t129\r\n",
      "21910-PGEN_.00g000210.m01\t18\t200\t263\tO00463\tsp\tO00463\tTRAF5_HUMAN\t5\t191\t2.24e-25\t34.921\t189\r\n",
      "21910-PGEN_.00g000230.m01\t48\t155\t287\tQ00945\tsp\tQ00945\tCONO_LYMST\t31\t134\t1.59e-32\t50.000\t108\r\n",
      "21910-PGEN_.00g000240.m01\t4\t605\t1091\tQ5SWK7\tsp\tQ5SWK7\tRN145_MOUSE\t13\t601\t2.65e-139\t39.607\t611\r\n",
      "21910-PGEN_.00g000280.m01\t4\t153\t210\tQ8ZXT3\tsp\tQ8ZXT3\tY1111_PYRAE\t853\t1012\t1.10e-17\t38.750\t160\r\n",
      "21910-PGEN_.00g000300.m01\t159\t347\t480\tQ5REG4\tsp\tQ5REG4\tDTX3_PONAB\t1135\t1320\t1.20e-51\t50.794\t189\r\n"
     ]
    }
   ],
   "source": [
    "!head analyses/Pg-gensas-blastx.tab"
   ]
  },
  {
   "cell_type": "code",
   "execution_count": 37,
   "metadata": {
    "ExecuteTime": {
     "end_time": "2019-10-23T17:29:32.817516Z",
     "start_time": "2019-10-23T17:29:32.438073Z"
    }
   },
   "outputs": [],
   "source": [
    "!sort -k 5 analyses/Pg-gensas-blastx.tab > analyses/Pg-gensas-blastx.sorted\n"
   ]
  },
  {
   "cell_type": "code",
   "execution_count": 38,
   "metadata": {
    "ExecuteTime": {
     "end_time": "2019-10-23T17:29:39.063014Z",
     "start_time": "2019-10-23T17:29:38.935292Z"
    }
   },
   "outputs": [
    {
     "name": "stdout",
     "output_type": "stream",
     "text": [
      "21910-PGEN_.00g298510.m01\t195\t626\t539\tA0A044RE18\tsp\tA0A044RE18\tBLI_ONCVO\t135\t578\t2.66e-56\t32.829\t463\r\n",
      "21910-PGEN_.00g298100.m01\t195\t626\t542\tA0A044RE18\tsp\tA0A044RE18\tBLI_ONCVO\t99\t542\t7.89e-57\t32.972\t461\r\n",
      "21910-PGEN_.00g047160.m01\t5\t94\t284\tA0A0A7DNP6\tsp\tA0A0A7DNP6\tGRHLP_RUDPH\t9\t96\t1.66e-33\t56.667\t90\r\n",
      "21910-PGEN_.00g059020.m01\t26\t149\t135\tA0A0B5A7M7\tsp\tA0A0B5A7M7\tINS1_CONIM\t59\t178\t5.90e-09\t29.927\t137\r\n",
      "21910-PGEN_.00g272560.m01\t33\t140\t164\tA0A0B5A8P8\tsp\tA0A0B5A8P8\tINS2_CONIM\t27\t140\t7.44e-14\t31.707\t123\r\n",
      "21910-PGEN_.00g274950.m01\t119\t292\t258\tA0A0E0RTV6\tsp\tA0A0E0RTV6\tZEB1_GIBZE\t126\t311\t1.75e-22\t38.298\t188\r\n",
      "21910-PGEN_.00g031120.m01\t12\t193\t197\tA0A0F7YYX3\tsp\tA0A0F7YYX3\tCPROH_CONVC\t28\t213\t1.19e-17\t31.720\t186\r\n",
      "21910-PGEN_.00g015590.m01\t22\t135\t327\tA0A0F7YZI5\tsp\tA0A0F7YZI5\tCTHB5_CONVC\t56\t168\t2.42e-38\t54.783\t115\r\n",
      "21910-PGEN_.00g015600.m01\t45\t143\t368\tA0A0F7Z3J2\tsp\tA0A0F7Z3J2\tCTHA2_CONVC\t72\t170\t2.24e-44\t68.687\t99\r\n",
      "21910-PGEN_.00g320520.m01\t5\t1063\t3021\tA0A0G2K344\tsp\tA0A0G2K344\tPK3CA_RAT\t3\t1049\t0.0\t54.229\t1064\r\n"
     ]
    }
   ],
   "source": [
    "!head analyses/Pg-gensas-blastx.sorted"
   ]
  },
  {
   "cell_type": "code",
   "execution_count": 40,
   "metadata": {
    "ExecuteTime": {
     "end_time": "2019-10-23T17:30:19.667520Z",
     "start_time": "2019-10-23T17:30:19.512508Z"
    }
   },
   "outputs": [
    {
     "name": "stdout",
     "output_type": "stream",
     "text": [
      "A0A044RE18\t21910-PGEN_.00g298510.m01\t195\t626\t539\tsp\tA0A044RE18\tBLI_ONCVO\t135\t578\t2.66e-56\t32.829\t463\tBLI_ONCVO\treviewed\tEndoprotease bli (EC 3.4.21.75) (Blisterase)\tcellular response to salt [GO:1902075]; chemosensory behavior [GO:0007635]; collagen and cuticulin-based cuticle development [GO:0040002]; dibasic protein processing [GO:0090472]; positive regulation of synaptic growth at neuromuscular junction [GO:0045887]; zymogen activation [GO:0031638]\textracellular region [GO:0005576]; nucleus [GO:0005634]; metal ion binding [GO:0046872]; serine-type endopeptidase activity [GO:0004252]; cellular response to salt [GO:1902075]; chemosensory behavior [GO:0007635]; collagen and cuticulin-based cuticle development [GO:0040002]; dibasic protein processing [GO:0090472]; positive regulation of synaptic growth at neuromuscular junction [GO:0045887]; zymogen activation [GO:0031638]\tGO:0004252; GO:0005576; GO:0005634; GO:0007635; GO:0031638; GO:0040002; GO:0045887; GO:0046872; GO:0090472; GO:1902075\tmetal ion binding [GO:0046872]; serine-type endopeptidase activity [GO:0004252]\textracellular region [GO:0005576]; nucleus [GO:0005634]\r\n",
      "join: stdout: Broken pipe\r\n"
     ]
    }
   ],
   "source": [
    "!join -1 5 -2 1 -t $'\\t' \\\n",
    "analyses/Pg-gensas-blastx.sorted \\\n",
    "analyses/uniprot-yourlist_M2019_82ED2.sorted | head -1"
   ]
  },
  {
   "cell_type": "code",
   "execution_count": 41,
   "metadata": {
    "ExecuteTime": {
     "end_time": "2019-10-23T17:31:11.828723Z",
     "start_time": "2019-10-23T17:31:11.372432Z"
    }
   },
   "outputs": [],
   "source": [
    "!join -1 5 -2 1 -t $'\\t' \\\n",
    "analyses/Pg-gensas-blastx.sorted \\\n",
    "analyses/uniprot-yourlist_M2019_82ED2.sorted  \\\n",
    "> analyses/1023_GO-annot.tab"
   ]
  },
  {
   "cell_type": "code",
   "execution_count": null,
   "metadata": {},
   "outputs": [],
   "source": []
  }
 ],
 "metadata": {
  "kernelspec": {
   "display_name": "Python 3",
   "language": "python",
   "name": "python3"
  },
  "language_info": {
   "codemirror_mode": {
    "name": "ipython",
    "version": 3
   },
   "file_extension": ".py",
   "mimetype": "text/x-python",
   "name": "python",
   "nbconvert_exporter": "python",
   "pygments_lexer": "ipython3",
   "version": "3.6.8"
  }
 },
 "nbformat": 4,
 "nbformat_minor": 2
}
