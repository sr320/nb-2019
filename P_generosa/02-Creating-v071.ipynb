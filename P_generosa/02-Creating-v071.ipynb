{
 "cells": [
  {
   "cell_type": "code",
   "execution_count": 1,
   "metadata": {
    "ExecuteTime": {
     "end_time": "2019-02-11T18:20:33.013074Z",
     "start_time": "2019-02-11T18:20:32.970979Z"
    }
   },
   "outputs": [
    {
     "data": {
      "text/plain": [
       "'/Users/sr320/Documents/GitHub/nb-2019/P_generosa'"
      ]
     },
     "execution_count": 1,
     "metadata": {},
     "output_type": "execute_result"
    }
   ],
   "source": [
    "pwd"
   ]
  },
  {
   "cell_type": "code",
   "execution_count": 3,
   "metadata": {
    "ExecuteTime": {
     "end_time": "2019-02-11T18:24:44.707061Z",
     "start_time": "2019-02-11T18:22:53.977752Z"
    }
   },
   "outputs": [],
   "source": [
    "!awk '!/^>/ { next } { getline seq } length(seq) >= 10000 { print $0 \"\\n\" seq }' \\\n",
    "data/Pgenerosa_v070.fa \\\n",
    "> data/Pgenerosa_v071.fa"
   ]
  },
  {
   "cell_type": "code",
   "execution_count": 4,
   "metadata": {
    "ExecuteTime": {
     "end_time": "2019-02-11T18:24:54.862992Z",
     "start_time": "2019-02-11T18:24:44.711857Z"
    }
   },
   "outputs": [
    {
     "name": "stdout",
     "output_type": "stream",
     "text": [
      "313649\r\n"
     ]
    }
   ],
   "source": [
    "!fgrep -c \">\" data/Pgenerosa_v070.fa"
   ]
  },
  {
   "cell_type": "code",
   "execution_count": 5,
   "metadata": {
    "ExecuteTime": {
     "end_time": "2019-02-11T18:24:55.003104Z",
     "start_time": "2019-02-11T18:24:54.871747Z"
    }
   },
   "outputs": [
    {
     "name": "stdout",
     "output_type": "stream",
     "text": [
      "0\r\n"
     ]
    }
   ],
   "source": [
    "!fgrep -c \">\" data/Pgenerosa_v071.fa"
   ]
  },
  {
   "cell_type": "code",
   "execution_count": 6,
   "metadata": {
    "ExecuteTime": {
     "end_time": "2019-02-11T18:33:12.007675Z",
     "start_time": "2019-02-11T18:24:55.009721Z"
    }
   },
   "outputs": [
    {
     "name": "stdout",
     "output_type": "stream",
     "text": [
      "^C\r\n"
     ]
    }
   ],
   "source": [
    "!cp data/Pgen*fa /Volumes/web/halfshell/genomic-databank/"
   ]
  },
  {
   "cell_type": "code",
   "execution_count": 9,
   "metadata": {
    "ExecuteTime": {
     "end_time": "2019-02-11T18:46:45.696573Z",
     "start_time": "2019-02-11T18:33:22.342064Z"
    }
   },
   "outputs": [
    {
     "name": "stdout",
     "output_type": "stream",
     "text": [
      "  % Total    % Received % Xferd  Average Speed   Time    Time     Time  Current\n",
      "                                 Dload  Upload   Total   Spent    Left  Speed\n",
      "100 1349M  100 1349M    0     0  1721k      0  0:13:23  0:13:23 --:--:-- 1765k 5 70.4M    0     0  1899k      0  0:12:07  0:00:38  0:11:29 2144k 219M    0     0  1842k      0  0:12:30  0:02:02  0:10:28 1472k  18  250M    0     0  1869k      0  0:12:19  0:02:17  0:10:02 2056k23  323M    0     0  1924k      0  0:11:58  0:02:52  0:09:06 2208k    0  1893k      0  0:12:09  0:03:01  0:09:08 1669k 25  345M    0     0  1892k      0  0:12:10  0:03:07  0:09:03 1776kM   27  373M    0     0  1882k      0  0:12:14  0:03:23  0:08:51 1966k381M    0     0  1888k      0  0:12:12  0:03:27  0:08:45 2030k07M    0     0  1904k      0  0:12:05  0:03:39  0:08:26 2112k2  434M    0     0  1917k      0  0:12:00  0:03:52  0:08:08 2104k 37  509M    0     0  1925k      0  0:11:57  0:04:31  0:07:26 1422k 628M    0     0  1915k      0  0:12:01  0:05:36  0:06:25 1698k50  686M    0     0  1894k      0  0:12:09  0:06:11  0:05:58 2154k04M    0     0  1849k      0  0:12:27  0:06:30  0:05:57  932k59  803M    0     0  1843k      0  0:12:29  0:07:26  0:05:03 2024k9M   59  805M    0     0  1844k      0  0:12:29  0:07:27  0:05:02 2030k59  807M    0     0  1845k      0  0:12:28  0:07:28  0:05:00 2240k 838M    0     0  1841k      0  0:12:30  0:07:46  0:04:44 1808k 62  843M    0     0  1815k      0  0:12:41  0:07:56  0:04:45  211k  846M    0     0  1812k      0  0:12:42  0:07:58  0:04:44  624k 0  0:12:45  0:08:00  0:04:45  601k64M    0     0  1800k      0  0:12:47  0:08:12  0:04:35 1842k 895M    0     0  1783k      0  0:12:55  0:08:34  0:04:21  818k 69  935M    0     0  1757k      0  0:13:06  0:09:05  0:04:01 1626k49M    0     0  1755k      0  0:13:07  0:09:14  0:03:53 1731k0  956M    0     0  1756k      0  0:13:07  0:09:18  0:03:49 1924k1  965M    0     0  1756k      0  0:13:07  0:09:23  0:03:44 1757k72  974M    0     0  1751k      0  0:13:09  0:09:30  0:03:39 1629k7M    0     0  1748k      0  0:13:10  0:09:38  0:03:32 1576k 989M    0     0  1744k      0  0:13:12  0:09:41  0:03:31 1188k 990M    0     0  1742k      0  0:13:13  0:09:42  0:03:31  934k95M    0     0  1741k      0  0:13:13  0:09:45  0:03:28 1364k1349M   75 1018M    0     0  1737k      0  0:13:15  0:10:00  0:03:15 1709k6 1027M    0     0  1736k      0  0:13:16  0:10:06  0:03:10 1541k77 1044M    0     0  1733k      0  0:13:17  0:10:17  0:03:00 1186k7M    0     0  1734k      0  0:13:16  0:10:30  0:02:46 1679k0 1090M    0     0  1723k      0  0:13:21  0:10:48  0:02:33 1011k1106M    0     0  1724k      0  0:13:21  0:10:57  0:02:24 1910k3 1128M    0     0  1727k      0  0:13:20  0:11:09  0:02:11 1730k90 1217M    0     0  1710k      0  0:13:28  0:12:09  0:01:19 1100k0  1715k      0  0:13:25  0:12:28  0:00:57 1759k7M    0     0  1717k      0  0:13:25  0:12:30  0:00:55 1989kM    0     0  1719k      0  0:13:23  0:12:53  0:00:30 2087k7 1311M    0     0  1720k      0  0:13:23  0:13:01  0:00:22 1845k     0  1721k      0  0:13:23  0:13:10  0:00:13 1795k\n"
     ]
    }
   ],
   "source": [
    "!curl -O http://owl.fish.washington.edu/Athaliana/20180512_geoduck_fasta_subsets/PGA_assembly_10k_plus.fasta"
   ]
  },
  {
   "cell_type": "code",
   "execution_count": null,
   "metadata": {},
   "outputs": [],
   "source": []
  }
 ],
 "metadata": {
  "kernelspec": {
   "display_name": "Python 3",
   "language": "python",
   "name": "python3"
  },
  "language_info": {
   "codemirror_mode": {
    "name": "ipython",
    "version": 3
   },
   "file_extension": ".py",
   "mimetype": "text/x-python",
   "name": "python",
   "nbconvert_exporter": "python",
   "pygments_lexer": "ipython3",
   "version": "3.6.3"
  }
 },
 "nbformat": 4,
 "nbformat_minor": 2
}
