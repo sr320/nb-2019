{
 "cells": [
  {
   "cell_type": "code",
   "execution_count": 4,
   "metadata": {
    "ExecuteTime": {
     "end_time": "2019-08-17T14:57:11.783487Z",
     "start_time": "2019-08-17T14:50:37.140788Z"
    }
   },
   "outputs": [],
   "source": [
    "!wget -r \\\n",
    "–q \\\n",
    "-o analyses/tmp_002_cov.txt \\\n",
    "--no-directories --no-parent \\\n",
    "-P analyses/ \\\n",
    "-A deduplicated.bismark.cov.gz https://gannet.fish.washington.edu/seashell/bu-mox/scrubbed/0807/\n"
   ]
  },
  {
   "cell_type": "code",
   "execution_count": 8,
   "metadata": {
    "ExecuteTime": {
     "end_time": "2019-08-17T15:01:01.957108Z",
     "start_time": "2019-08-17T15:01:00.493882Z"
    }
   },
   "outputs": [],
   "source": [
    "!gunzip analyses/*pe.deduplicated.bismark.cov.gz "
   ]
  },
  {
   "cell_type": "code",
   "execution_count": 11,
   "metadata": {
    "ExecuteTime": {
     "end_time": "2019-08-17T15:02:11.757541Z",
     "start_time": "2019-08-17T15:02:11.623441Z"
    }
   },
   "outputs": [
    {
     "name": "stdout",
     "output_type": "stream",
     "text": [
      "analyses/EPI-151_S2_L002_R1_001_val_1_bismark_bt2_pe.deduplicated.bismark.cov\r\n",
      "analyses/EPI-152_S3_L002_R1_001_val_1_bismark_bt2_pe.deduplicated.bismark.cov\r\n",
      "analyses/EPI-153_S4_L002_R1_001_val_1_bismark_bt2_pe.deduplicated.bismark.cov\r\n",
      "analyses/EPI-154_S5_L002_R1_001_val_1_bismark_bt2_pe.deduplicated.bismark.cov\r\n",
      "analyses/EPI-159_S6_L002_R1_001_val_1_bismark_bt2_pe.deduplicated.bismark.cov\r\n",
      "analyses/EPI-160_S7_L002_R1_001_val_1_bismark_bt2_pe.deduplicated.bismark.cov\r\n",
      "analyses/EPI-161_S8_L002_R1_001_val_1_bismark_bt2_pe.deduplicated.bismark.cov\r\n",
      "analyses/EPI-162_S9_L002_R1_001_val_1_bismark_bt2_pe.deduplicated.bismark.cov\r\n",
      "analyses/EPI-167_S10_L002_R1_001_val_1_bismark_bt2_pe.deduplicated.bismark.cov\r\n",
      "analyses/EPI-168_S11_L002_R1_001_val_1_bismark_bt2_pe.deduplicated.bismark.cov\r\n",
      "analyses/EPI-169_S12_L002_R1_001_val_1_bismark_bt2_pe.deduplicated.bismark.cov\r\n",
      "analyses/EPI-170_S13_L002_R1_001_val_1_bismark_bt2_pe.deduplicated.bismark.cov\r\n"
     ]
    }
   ],
   "source": [
    "!ls analyses/*ed.bismark.cov"
   ]
  },
  {
   "cell_type": "code",
   "execution_count": 9,
   "metadata": {
    "ExecuteTime": {
     "end_time": "2019-08-17T15:01:31.458442Z",
     "start_time": "2019-08-17T15:01:31.324189Z"
    }
   },
   "outputs": [
    {
     "name": "stdout",
     "output_type": "stream",
     "text": [
      "PGA_scaffold1__77_contigs__length_89643857\t54\t54\t0\t0\t1\r\n",
      "PGA_scaffold1__77_contigs__length_89643857\t72\t72\t0\t0\t1\r\n",
      "PGA_scaffold1__77_contigs__length_89643857\t96\t96\t0\t0\t2\r\n",
      "PGA_scaffold1__77_contigs__length_89643857\t97\t97\t0\t0\t1\r\n",
      "PGA_scaffold1__77_contigs__length_89643857\t119\t119\t0\t0\t2\r\n",
      "PGA_scaffold1__77_contigs__length_89643857\t120\t120\t0\t0\t1\r\n",
      "PGA_scaffold1__77_contigs__length_89643857\t193\t193\t0\t0\t1\r\n",
      "PGA_scaffold1__77_contigs__length_89643857\t194\t194\t0\t0\t1\r\n",
      "PGA_scaffold1__77_contigs__length_89643857\t202\t202\t0\t0\t1\r\n",
      "PGA_scaffold1__77_contigs__length_89643857\t203\t203\t0\t0\t1\r\n"
     ]
    }
   ],
   "source": [
    "!head analyses/EPI-151*"
   ]
  },
  {
   "cell_type": "markdown",
   "metadata": {},
   "source": [
    "`<chromosome> <start position> <end position> <methylation percentage> <count methylated> <count unmethylated>`"
   ]
  },
  {
   "cell_type": "code",
   "execution_count": 12,
   "metadata": {
    "ExecuteTime": {
     "end_time": "2019-08-17T15:43:31.524761Z",
     "start_time": "2019-08-17T15:34:44.098246Z"
    }
   },
   "outputs": [],
   "source": [
    "%%bash\n",
    "for f in analyses/*.cov\n",
    "do\n",
    "    awk '{print $1, $2-1, $2, $4, $5+$6}' ${f} | awk '{if ($5 >= 10) { print $1, $2-1, $2, $4 }}' \\\n",
    "> ${f}_10x.bedgraph\n",
    "done"
   ]
  },
  {
   "cell_type": "code",
   "execution_count": 15,
   "metadata": {
    "ExecuteTime": {
     "end_time": "2019-08-17T15:49:27.334423Z",
     "start_time": "2019-08-17T15:49:27.181452Z"
    }
   },
   "outputs": [
    {
     "name": "stdout",
     "output_type": "stream",
     "text": [
      "analyses/EPI-151_S2_L002_R1_001_val_1_bismark_bt2_pe.deduplicated.bismark.cov_10x.bedgraph\r\n",
      "analyses/EPI-152_S3_L002_R1_001_val_1_bismark_bt2_pe.deduplicated.bismark.cov_10x.bedgraph\r\n",
      "analyses/EPI-153_S4_L002_R1_001_val_1_bismark_bt2_pe.deduplicated.bismark.cov_10x.bedgraph\r\n",
      "analyses/EPI-154_S5_L002_R1_001_val_1_bismark_bt2_pe.deduplicated.bismark.cov_10x.bedgraph\r\n",
      "analyses/EPI-159_S6_L002_R1_001_val_1_bismark_bt2_pe.deduplicated.bismark.cov_10x.bedgraph\r\n",
      "analyses/EPI-160_S7_L002_R1_001_val_1_bismark_bt2_pe.deduplicated.bismark.cov_10x.bedgraph\r\n",
      "analyses/EPI-161_S8_L002_R1_001_val_1_bismark_bt2_pe.deduplicated.bismark.cov_10x.bedgraph\r\n",
      "analyses/EPI-162_S9_L002_R1_001_val_1_bismark_bt2_pe.deduplicated.bismark.cov_10x.bedgraph\r\n",
      "analyses/EPI-167_S10_L002_R1_001_val_1_bismark_bt2_pe.deduplicated.bismark.cov_10x.bedgraph\r\n",
      "analyses/EPI-168_S11_L002_R1_001_val_1_bismark_bt2_pe.deduplicated.bismark.cov_10x.bedgraph\r\n",
      "analyses/EPI-169_S12_L002_R1_001_val_1_bismark_bt2_pe.deduplicated.bismark.cov_10x.bedgraph\r\n",
      "analyses/EPI-170_S13_L002_R1_001_val_1_bismark_bt2_pe.deduplicated.bismark.cov_10x.bedgraph\r\n"
     ]
    }
   ],
   "source": [
    "!ls analyses/*_10x.bedgraph"
   ]
  },
  {
   "cell_type": "code",
   "execution_count": 16,
   "metadata": {
    "ExecuteTime": {
     "end_time": "2019-08-17T15:49:40.882187Z",
     "start_time": "2019-08-17T15:49:40.747486Z"
    }
   },
   "outputs": [
    {
     "name": "stdout",
     "output_type": "stream",
     "text": [
      "==> analyses/EPI-151_S2_L002_R1_001_val_1_bismark_bt2_pe.deduplicated.bismark.cov_10x.bedgraph <==\r\n",
      "PGA_scaffold1__77_contigs__length_89643857 49554 49555 8.33333333333333\r\n",
      "PGA_scaffold1__77_contigs__length_89643857 49575 49576 8.33333333333333\r\n",
      "PGA_scaffold1__77_contigs__length_89643857 49637 49638 0\r\n",
      "PGA_scaffold1__77_contigs__length_89643857 49641 49642 9.09090909090909\r\n",
      "PGA_scaffold1__77_contigs__length_89643857 66422 66423 0\r\n",
      "PGA_scaffold1__77_contigs__length_89643857 68924 68925 18.1818181818182\r\n",
      "PGA_scaffold1__77_contigs__length_89643857 69220 69221 10\r\n",
      "PGA_scaffold1__77_contigs__length_89643857 69226 69227 20\r\n",
      "PGA_scaffold1__77_contigs__length_89643857 77406 77407 81.8181818181818\r\n",
      "PGA_scaffold1__77_contigs__length_89643857 77476 77477 80\r\n",
      "\r\n",
      "==> analyses/EPI-152_S3_L002_R1_001_val_1_bismark_bt2_pe.deduplicated.bismark.cov_10x.bedgraph <==\r\n",
      "PGA_scaffold1__77_contigs__length_89643857 52001 52002 0\r\n",
      "PGA_scaffold1__77_contigs__length_89643857 66422 66423 20\r\n",
      "PGA_scaffold1__77_contigs__length_89643857 68924 68925 70\r\n",
      "PGA_scaffold1__77_contigs__length_89643857 68997 68998 36.3636363636364\r\n",
      "PGA_scaffold1__77_contigs__length_89643857 71086 71087 100\r\n",
      "PGA_scaffold1__77_contigs__length_89643857 87593 87594 90.9090909090909\r\n",
      "PGA_scaffold1__77_contigs__length_89643857 87636 87637 75\r\n",
      "PGA_scaffold1__77_contigs__length_89643857 87640 87641 41.6666666666667\r\n",
      "PGA_scaffold1__77_contigs__length_89643857 87643 87644 83.3333333333333\r\n",
      "PGA_scaffold1__77_contigs__length_89643857 98783 98784 0\r\n",
      "\r\n",
      "==> analyses/EPI-153_S4_L002_R1_001_val_1_bismark_bt2_pe.deduplicated.bismark.cov_10x.bedgraph <==\r\n",
      "PGA_scaffold1__77_contigs__length_89643857 66087 66088 0\r\n",
      "PGA_scaffold1__77_contigs__length_89643857 66422 66423 0\r\n",
      "PGA_scaffold1__77_contigs__length_89643857 77476 77477 70\r\n",
      "PGA_scaffold1__77_contigs__length_89643857 77482 77483 81.8181818181818\r\n",
      "PGA_scaffold1__77_contigs__length_89643857 77512 77513 86.6666666666667\r\n",
      "PGA_scaffold1__77_contigs__length_89643857 106444 106445 14.2857142857143\r\n",
      "PGA_scaffold1__77_contigs__length_89643857 106527 106528 0\r\n",
      "PGA_scaffold1__77_contigs__length_89643857 120553 120554 7.69230769230769\r\n",
      "PGA_scaffold1__77_contigs__length_89643857 120569 120570 7.69230769230769\r\n",
      "PGA_scaffold1__77_contigs__length_89643857 120582 120583 7.14285714285714\r\n",
      "\r\n",
      "==> analyses/EPI-154_S5_L002_R1_001_val_1_bismark_bt2_pe.deduplicated.bismark.cov_10x.bedgraph <==\r\n",
      "PGA_scaffold1__77_contigs__length_89643857 66052 66053 54.5454545454545\r\n",
      "PGA_scaffold1__77_contigs__length_89643857 66422 66423 0\r\n",
      "PGA_scaffold1__77_contigs__length_89643857 81627 81628 90\r\n",
      "PGA_scaffold1__77_contigs__length_89643857 81635 81636 90\r\n",
      "PGA_scaffold1__77_contigs__length_89643857 81659 81660 90.9090909090909\r\n",
      "PGA_scaffold1__77_contigs__length_89643857 81663 81664 83.3333333333333\r\n",
      "PGA_scaffold1__77_contigs__length_89643857 85828 85829 15.3846153846154\r\n",
      "PGA_scaffold1__77_contigs__length_89643857 85844 85845 15.3846153846154\r\n",
      "PGA_scaffold1__77_contigs__length_89643857 106444 106445 14.2857142857143\r\n",
      "PGA_scaffold1__77_contigs__length_89643857 106527 106528 0\r\n",
      "\r\n",
      "==> analyses/EPI-159_S6_L002_R1_001_val_1_bismark_bt2_pe.deduplicated.bismark.cov_10x.bedgraph <==\r\n",
      "PGA_scaffold1__77_contigs__length_89643857 49257 49258 0\r\n",
      "PGA_scaffold1__77_contigs__length_89643857 49262 49263 0\r\n",
      "PGA_scaffold1__77_contigs__length_89643857 66422 66423 0\r\n",
      "PGA_scaffold1__77_contigs__length_89643857 68924 68925 0\r\n",
      "PGA_scaffold1__77_contigs__length_89643857 106444 106445 16.6666666666667\r\n",
      "PGA_scaffold1__77_contigs__length_89643857 106527 106528 0\r\n",
      "PGA_scaffold1__77_contigs__length_89643857 154386 154387 0\r\n",
      "PGA_scaffold1__77_contigs__length_89643857 154402 154403 7.14285714285714\r\n",
      "PGA_scaffold1__77_contigs__length_89643857 154415 154416 0\r\n",
      "PGA_scaffold1__77_contigs__length_89643857 154437 154438 0\r\n",
      "\r\n",
      "==> analyses/EPI-160_S7_L002_R1_001_val_1_bismark_bt2_pe.deduplicated.bismark.cov_10x.bedgraph <==\r\n",
      "PGA_scaffold1__77_contigs__length_89643857 52001 52002 10\r\n",
      "PGA_scaffold1__77_contigs__length_89643857 60917 60918 0\r\n",
      "PGA_scaffold1__77_contigs__length_89643857 66052 66053 33.3333333333333\r\n",
      "PGA_scaffold1__77_contigs__length_89643857 66087 66088 7.69230769230769\r\n",
      "PGA_scaffold1__77_contigs__length_89643857 66422 66423 0\r\n",
      "PGA_scaffold1__77_contigs__length_89643857 71084 71085 83.3333333333333\r\n",
      "PGA_scaffold1__77_contigs__length_89643857 71086 71087 92.3076923076923\r\n",
      "PGA_scaffold1__77_contigs__length_89643857 71155 71156 61.5384615384615\r\n",
      "PGA_scaffold1__77_contigs__length_89643857 71183 71184 92.3076923076923\r\n",
      "PGA_scaffold1__77_contigs__length_89643857 76060 76061 91.6666666666667\r\n",
      "\r\n",
      "==> analyses/EPI-161_S8_L002_R1_001_val_1_bismark_bt2_pe.deduplicated.bismark.cov_10x.bedgraph <==\r\n",
      "PGA_scaffold1__77_contigs__length_89643857 68924 68925 50\r\n",
      "PGA_scaffold1__77_contigs__length_89643857 68997 68998 20\r\n",
      "PGA_scaffold1__77_contigs__length_89643857 76060 76061 100\r\n",
      "PGA_scaffold1__77_contigs__length_89643857 106444 106445 16.6666666666667\r\n",
      "PGA_scaffold1__77_contigs__length_89643857 106527 106528 8.33333333333333\r\n",
      "PGA_scaffold1__77_contigs__length_89643857 120553 120554 0\r\n",
      "PGA_scaffold1__77_contigs__length_89643857 120569 120570 0\r\n",
      "PGA_scaffold1__77_contigs__length_89643857 120582 120583 0\r\n",
      "PGA_scaffold1__77_contigs__length_89643857 151651 151652 0\r\n",
      "PGA_scaffold1__77_contigs__length_89643857 151701 151702 0\r\n",
      "\r\n",
      "==> analyses/EPI-162_S9_L002_R1_001_val_1_bismark_bt2_pe.deduplicated.bismark.cov_10x.bedgraph <==\r\n",
      "PGA_scaffold1__77_contigs__length_89643857 66052 66053 20\r\n",
      "PGA_scaffold1__77_contigs__length_89643857 68924 68925 30\r\n",
      "PGA_scaffold1__77_contigs__length_89643857 151651 151652 0\r\n",
      "PGA_scaffold1__77_contigs__length_89643857 154402 154403 0\r\n",
      "PGA_scaffold1__77_contigs__length_89643857 154415 154416 0\r\n",
      "PGA_scaffold1__77_contigs__length_89643857 154495 154496 0\r\n",
      "PGA_scaffold1__77_contigs__length_89643857 154514 154515 0\r\n",
      "PGA_scaffold1__77_contigs__length_89643857 155565 155566 24\r\n",
      "PGA_scaffold1__77_contigs__length_89643857 156300 156301 70\r\n",
      "PGA_scaffold1__77_contigs__length_89643857 175832 175833 100\r\n",
      "\r\n",
      "==> analyses/EPI-167_S10_L002_R1_001_val_1_bismark_bt2_pe.deduplicated.bismark.cov_10x.bedgraph <==\r\n",
      "PGA_scaffold1__77_contigs__length_89643857 49342 49343 30\r\n",
      "PGA_scaffold1__77_contigs__length_89643857 61386 61387 10\r\n",
      "PGA_scaffold1__77_contigs__length_89643857 66422 66423 0\r\n",
      "PGA_scaffold1__77_contigs__length_89643857 68924 68925 14.2857142857143\r\n",
      "PGA_scaffold1__77_contigs__length_89643857 68997 68998 10\r\n",
      "PGA_scaffold1__77_contigs__length_89643857 69220 69221 0\r\n",
      "PGA_scaffold1__77_contigs__length_89643857 69226 69227 0\r\n",
      "PGA_scaffold1__77_contigs__length_89643857 85828 85829 42.8571428571429\r\n",
      "PGA_scaffold1__77_contigs__length_89643857 85844 85845 7.69230769230769\r\n",
      "PGA_scaffold1__77_contigs__length_89643857 120553 120554 7.14285714285714\r\n",
      "\r\n",
      "==> analyses/EPI-168_S11_L002_R1_001_val_1_bismark_bt2_pe.deduplicated.bismark.cov_10x.bedgraph <==\r\n",
      "PGA_scaffold1__77_contigs__length_89643857 71084 71085 80\r\n",
      "PGA_scaffold1__77_contigs__length_89643857 71086 71087 90\r\n",
      "PGA_scaffold1__77_contigs__length_89643857 76060 76061 81.8181818181818\r\n",
      "PGA_scaffold1__77_contigs__length_89643857 120553 120554 0\r\n",
      "PGA_scaffold1__77_contigs__length_89643857 120569 120570 0\r\n",
      "PGA_scaffold1__77_contigs__length_89643857 120582 120583 9.09090909090909\r\n",
      "PGA_scaffold1__77_contigs__length_89643857 136613 136614 54.5454545454545\r\n",
      "PGA_scaffold1__77_contigs__length_89643857 151646 151647 0\r\n",
      "PGA_scaffold1__77_contigs__length_89643857 151651 151652 0\r\n",
      "PGA_scaffold1__77_contigs__length_89643857 151701 151702 0\r\n",
      "\r\n",
      "==> analyses/EPI-169_S12_L002_R1_001_val_1_bismark_bt2_pe.deduplicated.bismark.cov_10x.bedgraph <==\r\n",
      "PGA_scaffold1__77_contigs__length_89643857 66422 66423 0\r\n",
      "PGA_scaffold1__77_contigs__length_89643857 68924 68925 18.1818181818182\r\n",
      "PGA_scaffold1__77_contigs__length_89643857 120553 120554 0\r\n",
      "PGA_scaffold1__77_contigs__length_89643857 120569 120570 0\r\n",
      "PGA_scaffold1__77_contigs__length_89643857 120582 120583 0\r\n",
      "PGA_scaffold1__77_contigs__length_89643857 144185 144186 30\r\n",
      "PGA_scaffold1__77_contigs__length_89643857 144202 144203 40\r\n",
      "PGA_scaffold1__77_contigs__length_89643857 144212 144213 40\r\n",
      "PGA_scaffold1__77_contigs__length_89643857 144238 144239 50\r\n",
      "PGA_scaffold1__77_contigs__length_89643857 151646 151647 0\r\n",
      "\r\n",
      "==> analyses/EPI-170_S13_L002_R1_001_val_1_bismark_bt2_pe.deduplicated.bismark.cov_10x.bedgraph <==\r\n",
      "PGA_scaffold1__77_contigs__length_89643857 49554 49555 0\r\n",
      "PGA_scaffold1__77_contigs__length_89643857 49575 49576 0\r\n",
      "PGA_scaffold1__77_contigs__length_89643857 49637 49638 0\r\n",
      "PGA_scaffold1__77_contigs__length_89643857 64252 64253 0\r\n",
      "PGA_scaffold1__77_contigs__length_89643857 68924 68925 0\r\n",
      "PGA_scaffold1__77_contigs__length_89643857 71084 71085 100\r\n",
      "PGA_scaffold1__77_contigs__length_89643857 71086 71087 100\r\n",
      "PGA_scaffold1__77_contigs__length_89643857 90341 90342 54.5454545454545\r\n",
      "PGA_scaffold1__77_contigs__length_89643857 98783 98784 0\r\n",
      "PGA_scaffold1__77_contigs__length_89643857 98804 98805 0\r\n"
     ]
    }
   ],
   "source": [
    "!head analyses/*_10x.bedgraph"
   ]
  },
  {
   "cell_type": "code",
   "execution_count": 17,
   "metadata": {
    "ExecuteTime": {
     "end_time": "2019-08-17T15:57:16.197597Z",
     "start_time": "2019-08-17T15:50:53.245450Z"
    }
   },
   "outputs": [],
   "source": [
    "!wget -r \\\n",
    "–q \\\n",
    "-o analyses/tmp_002_cov.txt \\\n",
    "--no-directories --no-parent \\\n",
    "-P analyses/ \\\n",
    "-A deduplicated.bismark.cov.gz https://gannet.fish.washington.edu/seashell/bu-mox/scrubbed/0807-003/\n"
   ]
  },
  {
   "cell_type": "code",
   "execution_count": null,
   "metadata": {
    "ExecuteTime": {
     "start_time": "2019-08-17T15:51:09.556Z"
    }
   },
   "outputs": [],
   "source": [
    "!wget -r \\\n",
    "–q \\\n",
    "-o analyses/tmp_004_cov.txt \\\n",
    "--no-directories --no-parent \\\n",
    "-P analyses/ \\\n",
    "-A deduplicated.bismark.cov.gz https://gannet.fish.washington.edu/seashell/bu-mox/scrubbed/0807-004/\n"
   ]
  },
  {
   "cell_type": "code",
   "execution_count": null,
   "metadata": {
    "ExecuteTime": {
     "start_time": "2019-08-17T15:51:27.478Z"
    }
   },
   "outputs": [],
   "source": [
    "!wget -r \\\n",
    "–q \\\n",
    "-o analyses/tmp_005_cov.txt \\\n",
    "--no-directories --no-parent \\\n",
    "-P analyses/ \\\n",
    "-A deduplicated.bismark.cov.gz https://gannet.fish.washington.edu/seashell/bu-mox/scrubbed/0809-005/\n"
   ]
  },
  {
   "cell_type": "code",
   "execution_count": null,
   "metadata": {},
   "outputs": [],
   "source": []
  }
 ],
 "metadata": {
  "kernelspec": {
   "display_name": "Python 3",
   "language": "python",
   "name": "python3"
  },
  "language_info": {
   "codemirror_mode": {
    "name": "ipython",
    "version": 3
   },
   "file_extension": ".py",
   "mimetype": "text/x-python",
   "name": "python",
   "nbconvert_exporter": "python",
   "pygments_lexer": "ipython3",
   "version": "3.6.8"
  }
 },
 "nbformat": 4,
 "nbformat_minor": 2
}
