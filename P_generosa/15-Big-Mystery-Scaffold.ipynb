{
 "cells": [
  {
   "cell_type": "code",
   "execution_count": 1,
   "metadata": {
    "ExecuteTime": {
     "end_time": "2019-07-31T02:29:43.958501Z",
     "start_time": "2019-07-31T02:29:43.790320Z"
    }
   },
   "outputs": [
    {
     "name": "stdout",
     "output_type": "stream",
     "text": [
      ">PGA_scaffold1__77_contigs__length_89643857\r\n",
      "ATGCGCAGAAGTTGTTCCGGAAAATGGTACTGTAGTGACATGTGAATATGACCCGTATTT\r\n",
      "AGAGAAAGTAGCGAGAATGTACTTTGATTCAACTCCGCATGGCAGGAAGATTCACATTCG\r\n",
      "TATAGGTATTGTTTTTAAATTAATTATAATAATGTGTATTGTTGAAACTAAAAAAACAAG\r\n",
      "CAAGCAGGGTGTCGGATAAAACGTAGGACGCTCGACATTGCGATACCAGAATTTGCTCGA\r\n",
      "TGTTATTGAGCTAATTATCAAAAATAAATACCATCCACTGTGTTGTTCCTGGGTGCCACA\r\n",
      "TGGATGAAGGCAAGAATGTAGCCACTGTAGTTCATACAATTCCCAGAAGTAGTGTCTTGT\r\n",
      "GTGTTTAAACATGAATATCTGAATTAGTTGAAAACGGGTATATATATAAATTTGGTTGAG\r\n",
      "CTGTAAAACTAATGAATGTGTGTGGTTTATTTAAGAATTAATTATTACTTTTTTATCAGA\r\n",
      "AGTAGTTTTTGAAAAAAATACTGTTTTTGAAAGTTACACTTATTCAAATAAGTAGCAACA\r\n"
     ]
    }
   ],
   "source": [
    "!head /Users/sr320/Desktop/v074/Pgenerosa_v070.18.fa"
   ]
  },
  {
   "cell_type": "code",
   "execution_count": 2,
   "metadata": {
    "ExecuteTime": {
     "end_time": "2019-07-31T02:31:26.369171Z",
     "start_time": "2019-07-31T02:31:26.350635Z"
    }
   },
   "outputs": [
    {
     "data": {
      "text/plain": [
       "'/Users/sr320/Documents/GitHub/nb-2019/P_generosa'"
      ]
     },
     "execution_count": 2,
     "metadata": {},
     "output_type": "execute_result"
    }
   ],
   "source": [
    "pwd\n"
   ]
  },
  {
   "cell_type": "code",
   "execution_count": 3,
   "metadata": {
    "ExecuteTime": {
     "end_time": "2019-07-31T02:31:35.085190Z",
     "start_time": "2019-07-31T02:31:34.929016Z"
    }
   },
   "outputs": [
    {
     "name": "stdout",
     "output_type": "stream",
     "text": [
      "01-Exploring-Genome-v070.ipynb      12-Exploring-HiC.ipynb\r\n",
      "02-Exploring-early-070-maker.ipynb  13-18scaffold-assembly.ipynb\r\n",
      "03-Simple-gene-track.ipynb          14-Bismark-v074.ipynb\r\n",
      "04-Genes-from-preMaker.ipynb        15-Big-Mystery-Scaffold.ipynb\r\n",
      "05-Joining-HP-gene-IDs.ipynb        \u001b[34manalyses\u001b[m\u001b[m/\r\n",
      "06.ipynb                            \u001b[34mdata\u001b[m\u001b[m/\r\n",
      "\u001b[34m065_bismark\u001b[m\u001b[m/                        \u001b[34mimg\u001b[m\u001b[m/\r\n",
      "07-Gene-names-preMaker.ipynb        \u001b[34mnotes\u001b[m\u001b[m/\r\n",
      "10-Gene-Methylation.ipynb           \u001b[34mwd\u001b[m\u001b[m/\r\n",
      "11-genome-recip-blast.ipynb\r\n"
     ]
    }
   ],
   "source": [
    "ls"
   ]
  },
  {
   "cell_type": "code",
   "execution_count": 5,
   "metadata": {
    "ExecuteTime": {
     "end_time": "2019-07-31T02:32:52.432441Z",
     "start_time": "2019-07-31T02:32:52.420911Z"
    }
   },
   "outputs": [
    {
     "name": "stdout",
     "output_type": "stream",
     "text": [
      "/Users/sr320/Documents/GitHub/nb-2019/P_generosa/analyses\n"
     ]
    }
   ],
   "source": [
    "cd analyses/"
   ]
  },
  {
   "cell_type": "code",
   "execution_count": 6,
   "metadata": {
    "ExecuteTime": {
     "end_time": "2019-07-31T02:37:22.459626Z",
     "start_time": "2019-07-31T02:32:54.846590Z"
    }
   },
   "outputs": [
    {
     "name": "stdout",
     "output_type": "stream",
     "text": [
      "Process is interrupted.\n"
     ]
    }
   ],
   "source": [
    "%%bash\n",
    "while read line\n",
    "do\n",
    "    if [[ ${line:0:1} == '>' ]]\n",
    "    then\n",
    "        outfile=${line#>}.fa\n",
    "        echo $line > $outfile\n",
    "    else\n",
    "        echo $line >> $outfile\n",
    "    fi\n",
    "done < /Users/sr320/Desktop/v074/Pgenerosa_v070.18.fa"
   ]
  },
  {
   "cell_type": "markdown",
   "metadata": {},
   "source": [
    "Killed code above after scaffold 1 was generated"
   ]
  },
  {
   "cell_type": "code",
   "execution_count": 5,
   "metadata": {
    "ExecuteTime": {
     "end_time": "2019-07-31T03:16:38.894148Z",
     "start_time": "2019-07-31T03:16:38.469547Z"
    }
   },
   "outputs": [
    {
     "name": "stdout",
     "output_type": "stream",
     "text": [
      "AATACTTCTACATTTCAGAATAAGTGTACAAGGTTATATCAAGCACACAAGTTGAACAAG\r\n",
      "CAGCCGTTTTGCTCAGTCAGTTAGAGCGTCGAGCTCATAACGCGAATGTCGTGGGTTCGA\r\n",
      "CCCCCACAATGGCCAATTATGTTTTATTTTAAAATGTTTATTTTTCTCAGTTGTAGGTCT\r\n",
      "ATAACAAATCATCTAACGAATGTTGTAGCATAGTTCATTCGGTTAATGCGTCGTGCACAA\r\n",
      "TACGTGAATGCCATGGCCCGGGATCTGCCCTTACAATATATTGCCATATAATTCATTTTA\r\n",
      "TTGAATTTTAATGTATATATAACAGAAATTATCTATCTGTCCTAATTGATAACTCAGTAA\r\n",
      "CCCGATAAAAATATGTTTCAACAAGCGGCCGTTTAGCCCAGTCGGTTAAAGCGTCGTGCT\r\n",
      "AATAACGCGAATGTCGTGGGTTCGACCCCCACAATGGNNNNNNNNNNNNNNNNNNNNNNN\r\n",
      "NNNNNNNNNNNNNNNNNNNNNNNNNNNNNNNNNNNNNNNNNNNNNNNNNNNNNNNNNNNN\r\n",
      "NNNNNNNNNNNNNNNNN\r\n"
     ]
    }
   ],
   "source": [
    "!tail analyses/PGA_scaffold1__77_contigs__length_89643857.fa"
   ]
  },
  {
   "cell_type": "code",
   "execution_count": null,
   "metadata": {},
   "outputs": [],
   "source": []
  },
  {
   "cell_type": "markdown",
   "metadata": {},
   "source": [
    "Now want to break up and blast..."
   ]
  },
  {
   "cell_type": "code",
   "execution_count": 15,
   "metadata": {
    "ExecuteTime": {
     "end_time": "2019-07-31T03:01:16.817786Z",
     "start_time": "2019-07-31T03:01:16.639224Z"
    }
   },
   "outputs": [
    {
     "name": "stdout",
     "output_type": "stream",
     "text": [
      "fasta-splitter, version 0.2.2, 2014-08-29\r\n",
      "Copyright (c) 2012-2014 Kirill Kryukov\r\n",
      "Usage: fasta-splitter.pl [options] <file>...\r\n",
      "Options:\r\n",
      "    --n-parts <N>        - Divide into <N> parts\r\n",
      "    --part-size <N>      - Divide into parts of size <N>\r\n",
      "    --measure (all|seq|count) - Specify whether all data, sequence length, or\r\n",
      "                           number of sequences is used for determining part\r\n",
      "                           sizes ('all' by default).\r\n",
      "    --line-length        - Set output sequence line length, 0 for single line\r\n",
      "                           (default: 60).\r\n",
      "    --eol (dos|mac|unix) - Choose end-of-line character ('unix' by default).\r\n",
      "    --version            - Show version.\r\n",
      "    --help               - Show help.\r\n"
     ]
    }
   ],
   "source": [
    "!perl ../../scripts/fasta-splitter.pl"
   ]
  },
  {
   "cell_type": "code",
   "execution_count": 18,
   "metadata": {
    "ExecuteTime": {
     "end_time": "2019-07-31T13:19:37.551029Z",
     "start_time": "2019-07-31T13:19:34.615877Z"
    }
   },
   "outputs": [
    {
     "name": "stdout",
     "output_type": "stream",
     "text": [
      "analyses/PGA_scaffold1_89643857.fa: 1 sequences, 89643857 bp => dividing into 10 parts . OK\n",
      "All done, 3 seconds elapsed\n"
     ]
    }
   ],
   "source": [
    "!perl ../scripts/fasta-splitter.pl \\\n",
    "--n-parts 10 \\\n",
    "analyses/PGA_scaffold1_89643857.fa\n",
    "\n"
   ]
  },
  {
   "cell_type": "code",
   "execution_count": 17,
   "metadata": {
    "ExecuteTime": {
     "end_time": "2019-07-31T13:19:23.205020Z",
     "start_time": "2019-07-31T13:19:21.942965Z"
    }
   },
   "outputs": [],
   "source": [
    "!sed s/\\n//g  <analyses/PGA_scaffold1__77_contigs__length_89643857.fa \\\n",
    "> analyses/PGA_scaffold1_89643857.fa\n"
   ]
  },
  {
   "cell_type": "markdown",
   "metadata": {},
   "source": [
    "## Sam split out"
   ]
  },
  {
   "cell_type": "code",
   "execution_count": 20,
   "metadata": {
    "ExecuteTime": {
     "end_time": "2019-07-31T13:28:21.987125Z",
     "start_time": "2019-07-31T13:28:06.996156Z"
    }
   },
   "outputs": [
    {
     "name": "stdout",
     "output_type": "stream",
     "text": [
      "00000.fa\r\n",
      "00001.fa\r\n",
      "00002.fa\r\n",
      "00003.fa\r\n",
      "00004.fa\r\n",
      "00005.fa\r\n",
      "00006.fa\r\n",
      "00007.fa\r\n",
      "00008.fa\r\n",
      "00009.fa\r\n"
     ]
    }
   ],
   "source": [
    "!ls /Volumes/web/Atumefaciens/20190731_faSplit_PGA-scaffold1_splits_2000bp | head"
   ]
  },
  {
   "cell_type": "code",
   "execution_count": 22,
   "metadata": {
    "ExecuteTime": {
     "end_time": "2019-07-31T13:31:31.084433Z",
     "start_time": "2019-07-31T13:31:05.840541Z"
    }
   },
   "outputs": [
    {
     "name": "stderr",
     "output_type": "stream",
     "text": [
      "bash: line 1: /bin/cat: Argument list too long\n"
     ]
    }
   ],
   "source": [
    "%%bash\n",
    "cat /Volumes/web/Atumefaciens/20190731_faSplit_PGA-scaffold1_splits_2000bp/*fa \\\n",
    "> analyses/PGA_scaffold1_splits_2000.fasta"
   ]
  },
  {
   "cell_type": "code",
   "execution_count": null,
   "metadata": {
    "ExecuteTime": {
     "start_time": "2019-07-31T13:35:26.547Z"
    }
   },
   "outputs": [],
   "source": [
    "%%bash\n",
    "for f in /Volumes/web/Atumefaciens/20190731_faSplit_PGA-scaffold1_splits_2000bp/*fa; \\\n",
    "do cat \"$f\" >> analyses/PGA_scaffold1_splits_2000.fasta; done\n"
   ]
  },
  {
   "cell_type": "code",
   "execution_count": null,
   "metadata": {},
   "outputs": [],
   "source": []
  }
 ],
 "metadata": {
  "kernelspec": {
   "display_name": "Python 3",
   "language": "python",
   "name": "python3"
  },
  "language_info": {
   "codemirror_mode": {
    "name": "ipython",
    "version": 3
   },
   "file_extension": ".py",
   "mimetype": "text/x-python",
   "name": "python",
   "nbconvert_exporter": "python",
   "pygments_lexer": "ipython3",
   "version": "3.6.8"
  }
 },
 "nbformat": 4,
 "nbformat_minor": 2
}
