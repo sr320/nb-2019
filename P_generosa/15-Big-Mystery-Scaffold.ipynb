{
 "cells": [
  {
   "cell_type": "code",
   "execution_count": 1,
   "metadata": {
    "ExecuteTime": {
     "end_time": "2019-07-31T02:29:43.958501Z",
     "start_time": "2019-07-31T02:29:43.790320Z"
    }
   },
   "outputs": [
    {
     "name": "stdout",
     "output_type": "stream",
     "text": [
      ">PGA_scaffold1__77_contigs__length_89643857\r\n",
      "ATGCGCAGAAGTTGTTCCGGAAAATGGTACTGTAGTGACATGTGAATATGACCCGTATTT\r\n",
      "AGAGAAAGTAGCGAGAATGTACTTTGATTCAACTCCGCATGGCAGGAAGATTCACATTCG\r\n",
      "TATAGGTATTGTTTTTAAATTAATTATAATAATGTGTATTGTTGAAACTAAAAAAACAAG\r\n",
      "CAAGCAGGGTGTCGGATAAAACGTAGGACGCTCGACATTGCGATACCAGAATTTGCTCGA\r\n",
      "TGTTATTGAGCTAATTATCAAAAATAAATACCATCCACTGTGTTGTTCCTGGGTGCCACA\r\n",
      "TGGATGAAGGCAAGAATGTAGCCACTGTAGTTCATACAATTCCCAGAAGTAGTGTCTTGT\r\n",
      "GTGTTTAAACATGAATATCTGAATTAGTTGAAAACGGGTATATATATAAATTTGGTTGAG\r\n",
      "CTGTAAAACTAATGAATGTGTGTGGTTTATTTAAGAATTAATTATTACTTTTTTATCAGA\r\n",
      "AGTAGTTTTTGAAAAAAATACTGTTTTTGAAAGTTACACTTATTCAAATAAGTAGCAACA\r\n"
     ]
    }
   ],
   "source": [
    "!head /Users/sr320/Desktop/v074/Pgenerosa_v070.18.fa"
   ]
  },
  {
   "cell_type": "code",
   "execution_count": 2,
   "metadata": {
    "ExecuteTime": {
     "end_time": "2019-07-31T02:31:26.369171Z",
     "start_time": "2019-07-31T02:31:26.350635Z"
    }
   },
   "outputs": [
    {
     "data": {
      "text/plain": [
       "'/Users/sr320/Documents/GitHub/nb-2019/P_generosa'"
      ]
     },
     "execution_count": 2,
     "metadata": {},
     "output_type": "execute_result"
    }
   ],
   "source": [
    "pwd\n"
   ]
  },
  {
   "cell_type": "code",
   "execution_count": 3,
   "metadata": {
    "ExecuteTime": {
     "end_time": "2019-07-31T02:31:35.085190Z",
     "start_time": "2019-07-31T02:31:34.929016Z"
    }
   },
   "outputs": [
    {
     "name": "stdout",
     "output_type": "stream",
     "text": [
      "01-Exploring-Genome-v070.ipynb      12-Exploring-HiC.ipynb\r\n",
      "02-Exploring-early-070-maker.ipynb  13-18scaffold-assembly.ipynb\r\n",
      "03-Simple-gene-track.ipynb          14-Bismark-v074.ipynb\r\n",
      "04-Genes-from-preMaker.ipynb        15-Big-Mystery-Scaffold.ipynb\r\n",
      "05-Joining-HP-gene-IDs.ipynb        \u001b[34manalyses\u001b[m\u001b[m/\r\n",
      "06.ipynb                            \u001b[34mdata\u001b[m\u001b[m/\r\n",
      "\u001b[34m065_bismark\u001b[m\u001b[m/                        \u001b[34mimg\u001b[m\u001b[m/\r\n",
      "07-Gene-names-preMaker.ipynb        \u001b[34mnotes\u001b[m\u001b[m/\r\n",
      "10-Gene-Methylation.ipynb           \u001b[34mwd\u001b[m\u001b[m/\r\n",
      "11-genome-recip-blast.ipynb\r\n"
     ]
    }
   ],
   "source": [
    "ls"
   ]
  },
  {
   "cell_type": "code",
   "execution_count": 5,
   "metadata": {
    "ExecuteTime": {
     "end_time": "2019-07-31T02:32:52.432441Z",
     "start_time": "2019-07-31T02:32:52.420911Z"
    }
   },
   "outputs": [
    {
     "name": "stdout",
     "output_type": "stream",
     "text": [
      "/Users/sr320/Documents/GitHub/nb-2019/P_generosa/analyses\n"
     ]
    }
   ],
   "source": [
    "cd analyses/"
   ]
  },
  {
   "cell_type": "code",
   "execution_count": 6,
   "metadata": {
    "ExecuteTime": {
     "end_time": "2019-07-31T02:37:22.459626Z",
     "start_time": "2019-07-31T02:32:54.846590Z"
    }
   },
   "outputs": [
    {
     "name": "stdout",
     "output_type": "stream",
     "text": [
      "Process is interrupted.\n"
     ]
    }
   ],
   "source": [
    "%%bash\n",
    "while read line\n",
    "do\n",
    "    if [[ ${line:0:1} == '>' ]]\n",
    "    then\n",
    "        outfile=${line#>}.fa\n",
    "        echo $line > $outfile\n",
    "    else\n",
    "        echo $line >> $outfile\n",
    "    fi\n",
    "done < /Users/sr320/Desktop/v074/Pgenerosa_v070.18.fa"
   ]
  },
  {
   "cell_type": "markdown",
   "metadata": {},
   "source": [
    "Killed code above after scaffold 1 was generated"
   ]
  },
  {
   "cell_type": "code",
   "execution_count": 5,
   "metadata": {
    "ExecuteTime": {
     "end_time": "2019-07-31T03:16:38.894148Z",
     "start_time": "2019-07-31T03:16:38.469547Z"
    }
   },
   "outputs": [
    {
     "name": "stdout",
     "output_type": "stream",
     "text": [
      "AATACTTCTACATTTCAGAATAAGTGTACAAGGTTATATCAAGCACACAAGTTGAACAAG\r\n",
      "CAGCCGTTTTGCTCAGTCAGTTAGAGCGTCGAGCTCATAACGCGAATGTCGTGGGTTCGA\r\n",
      "CCCCCACAATGGCCAATTATGTTTTATTTTAAAATGTTTATTTTTCTCAGTTGTAGGTCT\r\n",
      "ATAACAAATCATCTAACGAATGTTGTAGCATAGTTCATTCGGTTAATGCGTCGTGCACAA\r\n",
      "TACGTGAATGCCATGGCCCGGGATCTGCCCTTACAATATATTGCCATATAATTCATTTTA\r\n",
      "TTGAATTTTAATGTATATATAACAGAAATTATCTATCTGTCCTAATTGATAACTCAGTAA\r\n",
      "CCCGATAAAAATATGTTTCAACAAGCGGCCGTTTAGCCCAGTCGGTTAAAGCGTCGTGCT\r\n",
      "AATAACGCGAATGTCGTGGGTTCGACCCCCACAATGGNNNNNNNNNNNNNNNNNNNNNNN\r\n",
      "NNNNNNNNNNNNNNNNNNNNNNNNNNNNNNNNNNNNNNNNNNNNNNNNNNNNNNNNNNNN\r\n",
      "NNNNNNNNNNNNNNNNN\r\n"
     ]
    }
   ],
   "source": [
    "!tail analyses/PGA_scaffold1__77_contigs__length_89643857.fa"
   ]
  },
  {
   "cell_type": "code",
   "execution_count": null,
   "metadata": {},
   "outputs": [],
   "source": []
  },
  {
   "cell_type": "markdown",
   "metadata": {},
   "source": [
    "Now want to break up and blast..."
   ]
  },
  {
   "cell_type": "code",
   "execution_count": 15,
   "metadata": {
    "ExecuteTime": {
     "end_time": "2019-07-31T03:01:16.817786Z",
     "start_time": "2019-07-31T03:01:16.639224Z"
    }
   },
   "outputs": [
    {
     "name": "stdout",
     "output_type": "stream",
     "text": [
      "fasta-splitter, version 0.2.2, 2014-08-29\r\n",
      "Copyright (c) 2012-2014 Kirill Kryukov\r\n",
      "Usage: fasta-splitter.pl [options] <file>...\r\n",
      "Options:\r\n",
      "    --n-parts <N>        - Divide into <N> parts\r\n",
      "    --part-size <N>      - Divide into parts of size <N>\r\n",
      "    --measure (all|seq|count) - Specify whether all data, sequence length, or\r\n",
      "                           number of sequences is used for determining part\r\n",
      "                           sizes ('all' by default).\r\n",
      "    --line-length        - Set output sequence line length, 0 for single line\r\n",
      "                           (default: 60).\r\n",
      "    --eol (dos|mac|unix) - Choose end-of-line character ('unix' by default).\r\n",
      "    --version            - Show version.\r\n",
      "    --help               - Show help.\r\n"
     ]
    }
   ],
   "source": [
    "!perl ../../scripts/fasta-splitter.pl"
   ]
  },
  {
   "cell_type": "code",
   "execution_count": 18,
   "metadata": {
    "ExecuteTime": {
     "end_time": "2019-07-31T13:19:37.551029Z",
     "start_time": "2019-07-31T13:19:34.615877Z"
    }
   },
   "outputs": [
    {
     "name": "stdout",
     "output_type": "stream",
     "text": [
      "analyses/PGA_scaffold1_89643857.fa: 1 sequences, 89643857 bp => dividing into 10 parts . OK\n",
      "All done, 3 seconds elapsed\n"
     ]
    }
   ],
   "source": [
    "!perl ../scripts/fasta-splitter.pl \\\n",
    "--n-parts 10 \\\n",
    "analyses/PGA_scaffold1_89643857.fa\n",
    "\n"
   ]
  },
  {
   "cell_type": "code",
   "execution_count": 17,
   "metadata": {
    "ExecuteTime": {
     "end_time": "2019-07-31T13:19:23.205020Z",
     "start_time": "2019-07-31T13:19:21.942965Z"
    }
   },
   "outputs": [],
   "source": [
    "!sed s/\\n//g  <analyses/PGA_scaffold1__77_contigs__length_89643857.fa \\\n",
    "> analyses/PGA_scaffold1_89643857.fa\n"
   ]
  },
  {
   "cell_type": "markdown",
   "metadata": {},
   "source": [
    "## Sam split out"
   ]
  },
  {
   "cell_type": "code",
   "execution_count": 20,
   "metadata": {
    "ExecuteTime": {
     "end_time": "2019-07-31T13:28:21.987125Z",
     "start_time": "2019-07-31T13:28:06.996156Z"
    }
   },
   "outputs": [
    {
     "name": "stdout",
     "output_type": "stream",
     "text": [
      "00000.fa\r\n",
      "00001.fa\r\n",
      "00002.fa\r\n",
      "00003.fa\r\n",
      "00004.fa\r\n",
      "00005.fa\r\n",
      "00006.fa\r\n",
      "00007.fa\r\n",
      "00008.fa\r\n",
      "00009.fa\r\n"
     ]
    }
   ],
   "source": [
    "!ls /Volumes/web/Atumefaciens/20190731_faSplit_PGA-scaffold1_splits_2000bp | head"
   ]
  },
  {
   "cell_type": "code",
   "execution_count": 22,
   "metadata": {
    "ExecuteTime": {
     "end_time": "2019-07-31T13:31:31.084433Z",
     "start_time": "2019-07-31T13:31:05.840541Z"
    }
   },
   "outputs": [
    {
     "name": "stderr",
     "output_type": "stream",
     "text": [
      "bash: line 1: /bin/cat: Argument list too long\n"
     ]
    }
   ],
   "source": [
    "%%bash\n",
    "cat /Volumes/web/Atumefaciens/20190731_faSplit_PGA-scaffold1_splits_2000bp/*fa \\\n",
    "> analyses/PGA_scaffold1_splits_2000.fasta"
   ]
  },
  {
   "cell_type": "code",
   "execution_count": 23,
   "metadata": {
    "ExecuteTime": {
     "end_time": "2019-07-31T15:14:10.893442Z",
     "start_time": "2019-07-31T13:35:26.552132Z"
    }
   },
   "outputs": [],
   "source": [
    "%%bash\n",
    "for f in /Volumes/web/Atumefaciens/20190731_faSplit_PGA-scaffold1_splits_2000bp/*fa; \\\n",
    "do cat \"$f\" >> analyses/PGA_scaffold1_splits_2000.fasta; done\n"
   ]
  },
  {
   "cell_type": "code",
   "execution_count": 24,
   "metadata": {
    "ExecuteTime": {
     "end_time": "2019-07-31T15:28:31.063633Z",
     "start_time": "2019-07-31T15:28:30.313309Z"
    }
   },
   "outputs": [
    {
     "name": "stdout",
     "output_type": "stream",
     "text": [
      "38734\r\n"
     ]
    }
   ],
   "source": [
    "!fgrep -c \">\" /Users/sr320/Documents/GitHub/nb-2019/P_generosa/analyses/PGA_scaffold1_splits_2000.fasta "
   ]
  },
  {
   "cell_type": "code",
   "execution_count": 26,
   "metadata": {
    "ExecuteTime": {
     "end_time": "2019-08-01T16:20:36.233783Z",
     "start_time": "2019-07-31T15:34:26.046145Z"
    }
   },
   "outputs": [],
   "source": [
    "!/Applications/bioinfo/ncbi-blast-2.7.1+/bin/blastx \\\n",
    "-query analyses/PGA_scaffold1_splits_2000.fasta  \\\n",
    "-db /Users/sr320/blast-tutorial/db/uniprot_sprot  \\\n",
    "-out analyses/Pg_sc1-uniprot_blastx.tab \\\n",
    "-evalue 1E-20 \\\n",
    "-num_threads 4 \\\n",
    "-max_target_seqs 1 \\\n",
    "-outfmt 6\n",
    "\n"
   ]
  },
  {
   "cell_type": "code",
   "execution_count": 28,
   "metadata": {
    "ExecuteTime": {
     "end_time": "2019-08-01T16:23:21.032874Z",
     "start_time": "2019-08-01T16:23:20.893111Z"
    }
   },
   "outputs": [
    {
     "name": "stdout",
     "output_type": "stream",
     "text": [
      "    1312 analyses/Pg_sc1-uniprot_blastx.tab\r\n"
     ]
    }
   ],
   "source": [
    "!wc -l analyses/Pg_sc1-uniprot_blastx.tab"
   ]
  },
  {
   "cell_type": "code",
   "execution_count": 29,
   "metadata": {
    "ExecuteTime": {
     "end_time": "2019-08-01T16:23:37.573456Z",
     "start_time": "2019-08-01T16:23:37.432404Z"
    }
   },
   "outputs": [
    {
     "name": "stdout",
     "output_type": "stream",
     "text": [
      "44755\tsp|Q71UH5|CALM_PYTSP\t74.074\t81\t21\t0\t630\t388\t60\t140\t4.78e-31\t122\r\n",
      "44755\tsp|Q71UH5|CALM_PYTSP\t77.778\t63\t12\t1\t1463\t1281\t9\t71\t5.90e-22\t95.9\r\n",
      "44763\tsp|Q71UH5|CALM_PYTSP\t83.951\t81\t13\t0\t393\t151\t60\t140\t5.49e-39\t144\r\n",
      "44763\tsp|Q71UH5|CALM_PYTSP\t96.078\t51\t2\t0\t1232\t1080\t10\t60\t1.21e-23\t100\r\n",
      "44767\tsp|Q71UH5|CALM_PYTSP\t83.951\t81\t13\t0\t279\t37\t60\t140\t1.35e-38\t143\r\n",
      "44767\tsp|Q71UH5|CALM_PYTSP\t96.078\t51\t2\t0\t1120\t968\t10\t60\t1.21e-23\t100\r\n",
      "44777\tsp|Q8STF0|CALM_STRIE\t98.765\t81\t1\t0\t1301\t1059\t67\t147\t8.36e-47\t166\r\n",
      "44778\tsp|P21251|CALM_STIJA\t98.039\t51\t1\t0\t397\t245\t10\t60\t4.05e-24\t102\r\n",
      "44788\tsp|O02367|CALM_CIOIN\t96.296\t81\t3\t0\t681\t439\t60\t140\t1.31e-45\t162\r\n",
      "44809\tsp|Q8CCP0|NEMF_MOUSE\t81.356\t59\t11\t0\t378\t202\t579\t637\t1.94e-25\t116\r\n"
     ]
    }
   ],
   "source": [
    "!tail analyses/Pg_sc1-uniprot_blastx.tab"
   ]
  },
  {
   "cell_type": "code",
   "execution_count": null,
   "metadata": {},
   "outputs": [],
   "source": []
  }
 ],
 "metadata": {
  "kernelspec": {
   "display_name": "Python 3",
   "language": "python",
   "name": "python3"
  },
  "language_info": {
   "codemirror_mode": {
    "name": "ipython",
    "version": 3
   },
   "file_extension": ".py",
   "mimetype": "text/x-python",
   "name": "python",
   "nbconvert_exporter": "python",
   "pygments_lexer": "ipython3",
   "version": "3.6.8"
  }
 },
 "nbformat": 4,
 "nbformat_minor": 2
}
