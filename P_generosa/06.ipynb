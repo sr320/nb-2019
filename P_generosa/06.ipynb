{
 "cells": [
  {
   "cell_type": "markdown",
   "metadata": {
    "deletable": true,
    "editable": true
   },
   "source": [
    "## A notebook to seamlessly take blast output to GO Slim list"
   ]
  },
  {
   "cell_type": "markdown",
   "metadata": {
    "collapsed": true,
    "deletable": true,
    "editable": true
   },
   "source": [
    "This is a notebook meant to run in a working directory. Please set working directory as variable in next cell"
   ]
  },
  {
   "cell_type": "code",
   "execution_count": 1,
   "metadata": {
    "ExecuteTime": {
     "end_time": "2019-02-23T15:27:55.152341Z",
     "start_time": "2019-02-23T15:27:55.141197Z"
    },
    "collapsed": true,
    "deletable": true,
    "editable": true
   },
   "outputs": [],
   "source": [
    "wd=\"/Users/sr320/Documents/GitHub/nb-2019/P_generosa/wd/022319\"\n"
   ]
  },
  {
   "cell_type": "code",
   "execution_count": 2,
   "metadata": {
    "ExecuteTime": {
     "end_time": "2019-02-23T15:27:56.005262Z",
     "start_time": "2019-02-23T15:27:55.982841Z"
    },
    "collapsed": false,
    "deletable": true,
    "editable": true
   },
   "outputs": [
    {
     "name": "stdout",
     "output_type": "stream",
     "text": [
      "/Users/sr320/Documents/GitHub/nb-2019/P_generosa/wd/022319\n"
     ]
    }
   ],
   "source": [
    "cd $wd"
   ]
  },
  {
   "cell_type": "code",
   "execution_count": 3,
   "metadata": {
    "ExecuteTime": {
     "end_time": "2019-02-23T15:31:15.352396Z",
     "start_time": "2019-02-23T15:28:24.984390Z"
    },
    "collapsed": false,
    "deletable": true,
    "editable": true
   },
   "outputs": [
    {
     "name": "stdout",
     "output_type": "stream",
     "text": [
      "  % Total    % Received % Xferd  Average Speed   Time    Time     Time  Current\n",
      "                                 Dload  Upload   Total   Spent    Left  Speed\n",
      "100  340M  100  340M    0     0  2050k      0  0:02:50  0:02:50 --:--:-- 2323k 0:03:24 1487k134M    0     0  1888k      0  0:03:04  0:01:13  0:01:51 2418k183M    0     0  1921k      0  0:03:01  0:01:38  0:01:23 2148k4k      0  0:02:56  0:01:49  0:01:07 2463k   0     0  2046k      0  0:02:50  0:02:41  0:00:09 2446k\n"
     ]
    }
   ],
   "source": [
    "!curl -O http://owl.fish.washington.edu/halfshell/bu-alanine-wd/17-07-20/uniprot-SP-GO.sorted"
   ]
  },
  {
   "cell_type": "code",
   "execution_count": 4,
   "metadata": {
    "ExecuteTime": {
     "end_time": "2019-02-23T15:31:16.782220Z",
     "start_time": "2019-02-23T15:31:15.360945Z"
    },
    "collapsed": false,
    "deletable": true,
    "editable": true
   },
   "outputs": [
    {
     "name": "stdout",
     "output_type": "stream",
     "text": [
      "  % Total    % Received % Xferd  Average Speed   Time    Time     Time  Current\n",
      "                                 Dload  Upload   Total   Spent    Left  Speed\n",
      "100 2314k  100 2314k    0     0  2314k      0  0:00:01  0:00:01 --:--:-- 1840k\n"
     ]
    }
   ],
   "source": [
    "!curl -O http://owl.fish.washington.edu/halfshell/bu-alanine-wd/17-07-20/GO-GOslim.sorted"
   ]
  },
  {
   "cell_type": "markdown",
   "metadata": {
    "deletable": true,
    "editable": true
   },
   "source": [
    "### In this directory you will need three files\n",
    "1) blastout file in format `-6`    \n",
    "2) Uniprot GO annotation file (340M) available here `http://owl.fish.washington.edu/halfshell/bu-alanine-wd/17-07-20/uniprot-SP-GO.sorted`    \n",
    "3) GOslim file available here `http://owl.fish.washington.edu/halfshell/bu-alanine-wd/17-07-20/GO-GOslim.sorted`"
   ]
  },
  {
   "cell_type": "code",
   "execution_count": 5,
   "metadata": {
    "ExecuteTime": {
     "end_time": "2019-02-23T15:31:16.920853Z",
     "start_time": "2019-02-23T15:31:16.787285Z"
    },
    "collapsed": false,
    "deletable": true,
    "editable": true
   },
   "outputs": [
    {
     "name": "stdout",
     "output_type": "stream",
     "text": [
      "GO-GOslim.sorted\r\n",
      "Pgenerosa_v070.a.makergene.blastx.uniprot.tab\r\n",
      "uniprot-SP-GO.sorted\r\n"
     ]
    }
   ],
   "source": [
    "#checking if files in directory\n",
    "!ls "
   ]
  },
  {
   "cell_type": "markdown",
   "metadata": {
    "deletable": true,
    "editable": true
   },
   "source": [
    "### Set blastout file as variable"
   ]
  },
  {
   "cell_type": "code",
   "execution_count": 9,
   "metadata": {
    "ExecuteTime": {
     "end_time": "2019-02-23T15:34:33.529139Z",
     "start_time": "2019-02-23T15:34:33.524442Z"
    },
    "collapsed": true,
    "deletable": true,
    "editable": true
   },
   "outputs": [],
   "source": [
    "blastout=\"Pgenerosa_v070.a.makergene.blastx.uniprot.tab\"\n"
   ]
  },
  {
   "cell_type": "markdown",
   "metadata": {
    "deletable": true,
    "editable": true
   },
   "source": [
    "# That should be the last thing you have to Type!"
   ]
  },
  {
   "cell_type": "markdown",
   "metadata": {
    "deletable": true,
    "editable": true
   },
   "source": []
  },
  {
   "cell_type": "code",
   "execution_count": 10,
   "metadata": {
    "ExecuteTime": {
     "end_time": "2019-02-23T15:34:36.204883Z",
     "start_time": "2019-02-23T15:34:36.072266Z"
    },
    "collapsed": false,
    "deletable": true,
    "editable": true
   },
   "outputs": [
    {
     "name": "stdout",
     "output_type": "stream",
     "text": [
      "PGA_scaffold171564__1_contigs__length_6010:2907-4279\tsp|Q7Z020|TRPA1_DROME\t74.419\t43\t11\t0\t1154\t1282\t912\t954\t7.23e-11\t68.6\r\n",
      "PGA_scaffold19103__1_contigs__length_6100:3445-5297\tsp|C1DFA8|ALLA_AZOVD\t36.364\t77\t47\t1\t303\t79\t70\t146\t2.50e-09\t60.1\r\n"
     ]
    }
   ],
   "source": [
    "!head -2 $blastout"
   ]
  },
  {
   "cell_type": "code",
   "execution_count": 11,
   "metadata": {
    "ExecuteTime": {
     "end_time": "2019-02-23T15:34:44.141238Z",
     "start_time": "2019-02-23T15:34:43.769522Z"
    },
    "collapsed": true,
    "deletable": true,
    "editable": true
   },
   "outputs": [],
   "source": [
    "#convert pipes to tab\n",
    "!tr '|' '\\t' < $blastout \\\n",
    "> _blast-sep.tab"
   ]
  },
  {
   "cell_type": "code",
   "execution_count": 12,
   "metadata": {
    "ExecuteTime": {
     "end_time": "2019-02-23T15:34:46.186766Z",
     "start_time": "2019-02-23T15:34:46.056083Z"
    },
    "collapsed": false,
    "deletable": true,
    "editable": true,
    "scrolled": true
   },
   "outputs": [
    {
     "name": "stdout",
     "output_type": "stream",
     "text": [
      "PGA_scaffold171564__1_contigs__length_6010:2907-4279\tsp\tQ7Z020\tTRPA1_DROME\t74.419\t43\t11\t0\t1154\t1282\t912\t954\t7.23e-11\t68.6\r\n",
      "PGA_scaffold19103__1_contigs__length_6100:3445-5297\tsp\tC1DFA8\tALLA_AZOVD\t36.364\t77\t47\t1\t303\t79\t70\t146\t2.50e-09\t60.1\r\n"
     ]
    }
   ],
   "source": [
    "!head -2 _blast-sep.tab"
   ]
  },
  {
   "cell_type": "code",
   "execution_count": 21,
   "metadata": {
    "ExecuteTime": {
     "end_time": "2019-02-23T15:37:27.266110Z",
     "start_time": "2019-02-23T15:37:26.776610Z"
    },
    "collapsed": true,
    "deletable": true,
    "editable": true
   },
   "outputs": [],
   "source": [
    "#reducing number of columns and sorting \n",
    "!awk -v OFS='\\t' '{print $3, $1, $13}' < _blast-sep.tab | sort \\\n",
    "> _blast-sort.tab"
   ]
  },
  {
   "cell_type": "code",
   "execution_count": 22,
   "metadata": {
    "ExecuteTime": {
     "end_time": "2019-02-23T15:37:27.820655Z",
     "start_time": "2019-02-23T15:37:27.695137Z"
    },
    "collapsed": false,
    "deletable": true,
    "editable": true
   },
   "outputs": [
    {
     "name": "stdout",
     "output_type": "stream",
     "text": [
      "A0A0H2VCA1\tPGA_scaffold53906__1_contigs__length_4067:460-2508\t3.33e-09\r\n",
      "A0A0R4I9Y1\tPGA_scaffold283088__1_contigs__length_1068:150-520\t8.97e-09\r\n"
     ]
    }
   ],
   "source": [
    "!head -2 _blast-sort.tab"
   ]
  },
  {
   "cell_type": "code",
   "execution_count": 20,
   "metadata": {
    "ExecuteTime": {
     "end_time": "2019-02-23T15:36:39.210290Z",
     "start_time": "2019-02-23T15:36:39.085432Z"
    },
    "collapsed": false,
    "deletable": true,
    "editable": true
   },
   "outputs": [
    {
     "name": "stdout",
     "output_type": "stream",
     "text": [
      "A0A023GPI8\tLECA_CANBL\treviewed\tLectin alpha chain (CboL) [Cleaved into: Lectin beta chain; Lectin gamma chain]\t\tCanavalia boliviana\t237\t\t\tmannose binding [GO:0005537]; metal ion binding [GO:0046872]\tmannose binding [GO:0005537]; metal ion binding [GO:0046872]\tGO:0005537; GO:0046872\r\n"
     ]
    }
   ],
   "source": [
    "!head  -1 uniprot-SP-GO.sorted"
   ]
  },
  {
   "cell_type": "code",
   "execution_count": 23,
   "metadata": {
    "ExecuteTime": {
     "end_time": "2019-02-23T15:38:02.097696Z",
     "start_time": "2019-02-23T15:37:57.747292Z"
    },
    "collapsed": true,
    "deletable": true,
    "editable": true,
    "scrolled": true
   },
   "outputs": [],
   "source": [
    "#joining blast with uniprot annoation file and reducing to three columns UniprotID, Query, All GO terms\n",
    "!join -t $'\\t' \\\n",
    "_blast-sort.tab \\\n",
    "uniprot-SP-GO.sorted \\\n",
    "| cut -f1,2,14 \\\n",
    "> _blast-annot.tab"
   ]
  },
  {
   "cell_type": "code",
   "execution_count": 24,
   "metadata": {
    "ExecuteTime": {
     "end_time": "2019-02-23T15:38:02.232963Z",
     "start_time": "2019-02-23T15:38:02.104680Z"
    },
    "collapsed": false,
    "deletable": true,
    "editable": true
   },
   "outputs": [
    {
     "name": "stdout",
     "output_type": "stream",
     "text": [
      "A0A0H2VCA1\tPGA_scaffold53906__1_contigs__length_4067:460-2508\tGO:0009279; GO:0009405; GO:0009986; GO:0016021\r\n",
      "A0A0R4I9Y1\tPGA_scaffold283088__1_contigs__length_1068:150-520\tGO:0004842; GO:0005829; GO:0016887; GO:0046872\r\n"
     ]
    }
   ],
   "source": [
    "!head -2 _blast-annot.tab"
   ]
  },
  {
   "cell_type": "markdown",
   "metadata": {
    "deletable": true,
    "editable": true
   },
   "source": [
    "## The following is a script modidified from Sam"
   ]
  },
  {
   "cell_type": "code",
   "execution_count": 25,
   "metadata": {
    "ExecuteTime": {
     "end_time": "2019-02-23T15:41:41.754204Z",
     "start_time": "2019-02-23T15:38:19.981095Z"
    },
    "collapsed": true,
    "deletable": true,
    "editable": true
   },
   "outputs": [],
   "source": [
    "%%bash \n",
    "\n",
    "# This script was originally written to address a specific problem that Rhonda was having\n",
    "\n",
    "\n",
    "\n",
    "# input_file is the initial, \"problem\" file\n",
    "# file is an intermediate file that most of the program works upon\n",
    "# output_file is the final file produced by the script\n",
    "input_file=\"_blast-annot.tab\"\n",
    "file=\"_intermediate.file\"\n",
    "output_file=\"_blast-GO-unfolded.tab\"\n",
    "\n",
    "# sed command substitutes the \"; \" sequence to a tab and writes the new format to a new file.\n",
    "# This character sequence is how the GO terms are delimited in their field.\n",
    "sed $'s/; /\\t/g' \"$input_file\" > \"$file\"\n",
    "\n",
    "# Identify first field containing a GO term.\n",
    "# Search file with grep for \"GO:\" and pipe to awk.\n",
    "# Awk sets tab as field delimiter (-F'\\t'), runs a for loop that looks for \"GO:\" (~/GO:/), and then prints the field number).\n",
    "# Awk results are piped to sort, which sorts unique by number (-ug).\n",
    "# Sort results are piped to head to retrieve the lowest value (i.e. the top of the list; \"-n1\").\n",
    "begin_goterms=$(grep \"GO:\" \"$file\" | awk -F'\\t' '{for (i=1;i<=NF;i++) if($i ~/GO:/) print i}' | sort -ug | head -n1)\n",
    "\n",
    "# While loop to process each line of the input file.\n",
    "while read -r line\n",
    "\tdo\n",
    "\t\n",
    "\t# Send contents of the current line to awk.\n",
    "\t# Set the field separator as a tab (-F'\\t') and print the number of fields in that line.\n",
    "\t# Save the results of the echo/awk pipe (i.e. number of fields) to the variable \"max_field\".\n",
    "\tmax_field=$(echo \"$line\" | awk -F'\\t' '{print NF}')\n",
    "\n",
    "\t# Send contents of current line to cut.\n",
    "\t# Cut fields (i.e. retain those fields) 1-12.\n",
    "\t# Save the results of the echo/cut pipe (i.e. fields 1-12) to the variable \"fixed_fields\"\n",
    "\tfixed_fields=$(echo \"$line\" | cut -f1-2)\n",
    "\n",
    "\t# Since not all the lines contain the same number of fields (e.g. may not have GO terms),\n",
    "\t# evaluate the number of fields in each line to determine how to handle current line.\n",
    "\n",
    "\t# If the value in max_field is less than the field number where the GO terms begin,\n",
    "\t# then just print the current line (%s) followed by a newline (\\n).\n",
    "\tif (( \"$max_field\" < \"$begin_goterms\" ))\n",
    "\t\tthen printf \"%s\\n\" \"$line\"\n",
    "\t\t\telse\n",
    "\n",
    "\t\t\t# Send contents of current line (which contains GO terms) to cut.\n",
    "\t\t\t# Cut fields (i.e. retain those fields) 13 to whatever the last field is in the curent line.\n",
    "\t\t\t# Save the results of the echo/cut pipe (i.e. all the GO terms fields) to the variable \"goterms\".\n",
    "\t\t\tgoterms=$(echo \"$line\" | cut -f\"$begin_goterms\"-\"$max_field\")\n",
    "\t\t\t\n",
    "\t\t\t# Assign values in the variable \"goterms\" to a new indexed array (called \"array\"), \n",
    "\t\t\t# with tab delimiter (IFS=$'\\t')\n",
    "\t\t\tIFS=$'\\t' read -r -a array <<<\"$goterms\"\n",
    "\t\t\t\n",
    "\t\t\t# Iterate through each element of the array.\n",
    "\t\t\t# Print the first 12 fields (i.e. the fields stored in \"fixed_fields\") followed by a tab (%s\\t).\n",
    "\t\t\t# Print the current element in the array (i.e. the current GO term) followed by a new line (%s\\n).\n",
    "\t\t\tfor element in \"${!array[@]}\"\t\n",
    "\t\t\t\tdo printf \"%s\\t%s\\n\" \"$fixed_fields\" \"${array[$element]}\"\n",
    "\t\t\tdone\n",
    "\tfi\n",
    "\n",
    "# Send the input file into the while loop and send the output to a file named \"rhonda_fixed.txt\".\n",
    "done < \"$file\" > \"$output_file\""
   ]
  },
  {
   "cell_type": "code",
   "execution_count": 26,
   "metadata": {
    "ExecuteTime": {
     "end_time": "2019-02-23T15:41:41.888346Z",
     "start_time": "2019-02-23T15:41:41.757756Z"
    },
    "collapsed": false,
    "deletable": true,
    "editable": true
   },
   "outputs": [
    {
     "name": "stdout",
     "output_type": "stream",
     "text": [
      "A0A0H2VCA1\tPGA_scaffold53906__1_contigs__length_4067:460-2508\tGO:0009279\r\n",
      "A0A0H2VCA1\tPGA_scaffold53906__1_contigs__length_4067:460-2508\tGO:0009405\r\n",
      "A0A0H2VCA1\tPGA_scaffold53906__1_contigs__length_4067:460-2508\tGO:0009986\r\n",
      "A0A0H2VCA1\tPGA_scaffold53906__1_contigs__length_4067:460-2508\tGO:0016021\r\n",
      "A0A0R4I9Y1\tPGA_scaffold283088__1_contigs__length_1068:150-520\tGO:0004842\r\n",
      "A0A0R4I9Y1\tPGA_scaffold283088__1_contigs__length_1068:150-520\tGO:0005829\r\n",
      "A0A0R4I9Y1\tPGA_scaffold283088__1_contigs__length_1068:150-520\tGO:0016887\r\n",
      "A0A0R4I9Y1\tPGA_scaffold283088__1_contigs__length_1068:150-520\tGO:0046872\r\n",
      "A0A0R4I9Y1\tPGA_scaffold283089__1_contigs__length_1038:152-480\tGO:0004842\r\n",
      "A0A0R4I9Y1\tPGA_scaffold283089__1_contigs__length_1038:152-480\tGO:0005829\r\n"
     ]
    }
   ],
   "source": [
    "!head _blast-GO-unfolded.tab"
   ]
  },
  {
   "cell_type": "code",
   "execution_count": 38,
   "metadata": {
    "ExecuteTime": {
     "end_time": "2019-02-23T15:48:10.522224Z",
     "start_time": "2019-02-23T15:48:10.388442Z"
    },
    "collapsed": false,
    "deletable": true,
    "editable": true
   },
   "outputs": [
    {
     "name": "stdout",
     "output_type": "stream",
     "text": [
      "A0A0H2VCA1\tPGA_scaffold53906__1_contigs__length_4067:460-2508\tGO:0009279\r\n",
      "A0A0H2VCA1\tPGA_scaffold53906__1_contigs__length_4067:460-2508\tGO:0009405\r\n",
      "A0A0H2VCA1\tPGA_scaffold53906__1_contigs__length_4067:460-2508\tGO:0009986\r\n",
      "A0A0H2VCA1\tPGA_scaffold53906__1_contigs__length_4067:460-2508\tGO:0016021\r\n",
      "A0A0R4I9Y1\tPGA_scaffold283088__1_contigs__length_1068:150-520\tGO:0004842\r\n",
      "A0A0R4I9Y1\tPGA_scaffold283088__1_contigs__length_1068:150-520\tGO:0005829\r\n",
      "A0A0R4I9Y1\tPGA_scaffold283088__1_contigs__length_1068:150-520\tGO:0016887\r\n",
      "A0A0R4I9Y1\tPGA_scaffold283088__1_contigs__length_1068:150-520\tGO:0046872\r\n",
      "A0A0R4I9Y1\tPGA_scaffold283089__1_contigs__length_1038:152-480\tGO:0004842\r\n",
      "A0A0R4I9Y1\tPGA_scaffold283089__1_contigs__length_1038:152-480\tGO:0005829\r\n",
      "awk: write error on /dev/stdout\r\n",
      " input record number 444, file \r\n",
      " source line number 1\r\n",
      "cat: stdout: Broken pipe\r\n"
     ]
    }
   ],
   "source": [
    "!cat _blast-GO-unfolded.tab | awk -v OFS='\\t' '$1=$1' | head"
   ]
  },
  {
   "cell_type": "code",
   "execution_count": 35,
   "metadata": {
    "ExecuteTime": {
     "end_time": "2019-02-23T15:46:12.828122Z",
     "start_time": "2019-02-23T15:46:09.482143Z"
    },
    "collapsed": true,
    "deletable": true,
    "editable": true
   },
   "outputs": [],
   "source": [
    "!awk -v OFS='\\t' '{print $3, $1, $2}' < _blast-GO-unfolded.tab | sort \\\n",
    "> _blast-GO-unfolded.sorted2"
   ]
  },
  {
   "cell_type": "code",
   "execution_count": 36,
   "metadata": {
    "ExecuteTime": {
     "end_time": "2019-02-23T15:46:12.969784Z",
     "start_time": "2019-02-23T15:46:12.834522Z"
    },
    "collapsed": false,
    "deletable": true,
    "editable": true
   },
   "outputs": [
    {
     "name": "stdout",
     "output_type": "stream",
     "text": [
      "\tA0JNG7\tPGA_scaffold12__71_contigs__length_50438331:42801765-42801930\r\n",
      "\tA0JNG7\tPGA_scaffold12__71_contigs__length_50438331:42808273-42830085\r\n",
      "\tA0JPQ7\tPGA_scaffold65427__1_contigs__length_16157:10372-15838\r\n",
      "\tA2VDD2\tPGA_scaffold284723__1_contigs__length_11064:8758-9184\r\n",
      "\tA2VDD2\tPGA_scaffold284726__1_contigs__length_11191:8819-9245\r\n",
      "\tA2VDD2\tPGA_scaffold284737__1_contigs__length_11064:1880-2306\r\n",
      "\tA2VDD2\tPGA_scaffold284740__1_contigs__length_11191:1946-2372\r\n",
      "\tA2VDD2\tPGA_scaffold38337__1_contigs__length_10439:5444-7907\r\n",
      "\tA2VDD2\tPGA_scaffold65668__1_contigs__length_7967:6830-7253\r\n",
      "\tA2VDD2\tPGA_scaffold6__104_contigs__length_61759565:47442001-47442556\r\n"
     ]
    }
   ],
   "source": [
    "!head _blast-GO-unfolded.sorted2"
   ]
  },
  {
   "cell_type": "code",
   "execution_count": 27,
   "metadata": {
    "ExecuteTime": {
     "end_time": "2019-02-23T15:42:55.534195Z",
     "start_time": "2019-02-23T15:42:52.819051Z"
    },
    "collapsed": true,
    "deletable": true,
    "editable": true
   },
   "outputs": [],
   "source": [
    "!sort -k3 _blast-GO-unfolded.tab > _blast-GO-unfolded.sorted"
   ]
  },
  {
   "cell_type": "code",
   "execution_count": 32,
   "metadata": {
    "ExecuteTime": {
     "end_time": "2019-02-23T15:43:53.869736Z",
     "start_time": "2019-02-23T15:43:53.742920Z"
    },
    "collapsed": false,
    "deletable": true,
    "editable": true
   },
   "outputs": [
    {
     "name": "stdout",
     "output_type": "stream",
     "text": [
      "A0JNG7\tPGA_scaffold12__71_contigs__length_50438331:42801765-42801930\r\n",
      "A0JNG7\tPGA_scaffold12__71_contigs__length_50438331:42808273-42830085\r\n",
      "A0JPQ7\tPGA_scaffold65427__1_contigs__length_16157:10372-15838\r\n",
      "A2VDD2\tPGA_scaffold284723__1_contigs__length_11064:8758-9184\r\n",
      "A2VDD2\tPGA_scaffold284726__1_contigs__length_11191:8819-9245\r\n",
      "A2VDD2\tPGA_scaffold284737__1_contigs__length_11064:1880-2306\r\n",
      "A2VDD2\tPGA_scaffold284740__1_contigs__length_11191:1946-2372\r\n",
      "A2VDD2\tPGA_scaffold38337__1_contigs__length_10439:5444-7907\r\n",
      "A2VDD2\tPGA_scaffold65668__1_contigs__length_7967:6830-7253\r\n",
      "A2VDD2\tPGA_scaffold6__104_contigs__length_61759565:47442001-47442556\r\n"
     ]
    }
   ],
   "source": [
    "!head  _blast-GO-unfolded.sorted"
   ]
  },
  {
   "cell_type": "code",
   "execution_count": 31,
   "metadata": {
    "ExecuteTime": {
     "end_time": "2019-02-23T15:43:31.398602Z",
     "start_time": "2019-02-23T15:43:31.265043Z"
    },
    "collapsed": false,
    "deletable": true,
    "editable": true
   },
   "outputs": [
    {
     "name": "stdout",
     "output_type": "stream",
     "text": [
      "GO:0000001\tmitochondrion inheritance\tcell organization and biogenesis\tP\r\n"
     ]
    }
   ],
   "source": [
    "!head -1 GO-GOslim.sorted"
   ]
  },
  {
   "cell_type": "code",
   "execution_count": 28,
   "metadata": {
    "ExecuteTime": {
     "end_time": "2019-02-23T15:42:56.551746Z",
     "start_time": "2019-02-23T15:42:56.351696Z"
    },
    "collapsed": true,
    "deletable": true,
    "editable": true
   },
   "outputs": [],
   "source": [
    "#joining files to get GOslim for each query (with duplicate GOslim / query removed)\n",
    "!join -1 3 -2 1 -t $'\\t' \\\n",
    "_blast-GO-unfolded.sorted \\\n",
    "GO-GOslim.sorted \\\n",
    "| uniq | awk -F'\\t' -v OFS='\\t' '{print $3, $1, $5, $6}' \\\n",
    "> Blastquery-GOslim.tab"
   ]
  },
  {
   "cell_type": "code",
   "execution_count": 29,
   "metadata": {
    "ExecuteTime": {
     "end_time": "2019-02-23T15:43:00.384924Z",
     "start_time": "2019-02-23T15:43:00.254313Z"
    },
    "collapsed": true,
    "deletable": true,
    "editable": true,
    "scrolled": true
   },
   "outputs": [],
   "source": [
    "!head Blastquery-GOslim.tab"
   ]
  },
  {
   "cell_type": "code",
   "execution_count": null,
   "metadata": {
    "collapsed": true,
    "deletable": true,
    "editable": true
   },
   "outputs": [],
   "source": []
  }
 ],
 "metadata": {
  "kernelspec": {
   "display_name": "Python 2",
   "language": "python",
   "name": "python2"
  },
  "language_info": {
   "codemirror_mode": {
    "name": "ipython",
    "version": 2
   },
   "file_extension": ".py",
   "mimetype": "text/x-python",
   "name": "python",
   "nbconvert_exporter": "python",
   "pygments_lexer": "ipython2",
   "version": "2.7.12"
  }
 },
 "nbformat": 4,
 "nbformat_minor": 1
}
