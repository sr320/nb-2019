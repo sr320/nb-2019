{
 "cells": [
  {
   "cell_type": "code",
   "execution_count": 1,
   "metadata": {
    "ExecuteTime": {
     "end_time": "2019-09-04T15:55:37.400662Z",
     "start_time": "2019-09-04T15:55:37.239234Z"
    }
   },
   "outputs": [
    {
     "name": "stdout",
     "output_type": "stream",
     "text": [
      "PGA_scaffold1__77_contigs__length_89643857 17 18 11.1111111111111\r\n",
      "PGA_scaffold1__77_contigs__length_89643857 53 54 3.125\r\n",
      "PGA_scaffold1__77_contigs__length_89643857 71 72 2.77777777777778\r\n",
      "PGA_scaffold1__77_contigs__length_89643857 95 96 2.0408\r\n",
      "PGA_scaffold1__77_contigs__length_89643857 118 119 0.0000\r\n",
      "PGA_scaffold1__77_contigs__length_89643857 192 193 0.0000\r\n",
      "PGA_scaffold1__77_contigs__length_89643857 201 202 0.0000\r\n",
      "PGA_scaffold1__77_contigs__length_89643857 208 209 0.0000\r\n",
      "PGA_scaffold1__77_contigs__length_89643857 212 213 0.0000\r\n",
      "PGA_scaffold1__77_contigs__length_89643857 220 221 0.0000\r\n"
     ]
    }
   ],
   "source": [
    "!head analyses/Pg_val_destrand.5x.bedgraph"
   ]
  },
  {
   "cell_type": "code",
   "execution_count": 4,
   "metadata": {
    "ExecuteTime": {
     "end_time": "2019-09-04T16:08:43.725923Z",
     "start_time": "2019-09-04T16:07:55.117719Z"
    }
   },
   "outputs": [],
   "source": [
    "#If percent methylation is greater or equal to 50, then save the loci information\n",
    "!awk '{if ($4 >= 50) { print $1, $2, $3, $4 }}' analyses/Pg_val_destrand.5x.bedgraph \\\n",
    "> analyses/Pg_val_destrand.5x.50p.bedgraph"
   ]
  },
  {
   "cell_type": "code",
   "execution_count": 5,
   "metadata": {
    "ExecuteTime": {
     "end_time": "2019-09-04T16:08:43.884560Z",
     "start_time": "2019-09-04T16:08:43.734609Z"
    }
   },
   "outputs": [
    {
     "name": "stdout",
     "output_type": "stream",
     "text": [
      "PGA_scaffold1__77_contigs__length_89643857 11797 11798 50.0000\r\n",
      "PGA_scaffold1__77_contigs__length_89643857 11838 11839 50.0000\r\n",
      "PGA_scaffold1__77_contigs__length_89643857 11843 11844 50.0000\r\n",
      "PGA_scaffold1__77_contigs__length_89643857 11846 11847 50.0000\r\n",
      "PGA_scaffold1__77_contigs__length_89643857 11851 11852 55.5556\r\n",
      "PGA_scaffold1__77_contigs__length_89643857 12029 12030 56.2500\r\n",
      "PGA_scaffold1__77_contigs__length_89643857 51414 51415 56.8345\r\n",
      "PGA_scaffold1__77_contigs__length_89643857 51426 51427 58.3333\r\n",
      "PGA_scaffold1__77_contigs__length_89643857 51470 51471 55.0725\r\n",
      "PGA_scaffold1__77_contigs__length_89643857 51563 51564 77.0833\r\n"
     ]
    }
   ],
   "source": [
    "!head analyses/Pg_val_destrand.5x.50p.bedgraph"
   ]
  },
  {
   "cell_type": "code",
   "execution_count": 6,
   "metadata": {
    "ExecuteTime": {
     "end_time": "2019-09-04T16:09:38.336676Z",
     "start_time": "2019-09-04T16:08:43.893931Z"
    }
   },
   "outputs": [],
   "source": [
    "%%bash\n",
    "awk '{if ($4 < 50) { print $1, $2, $3, $4}}' analyses/Pg_val_destrand.5x.bedgraph \\\n",
    "| awk '{if ($4 > 0) { print $1, $2, $3, $4 }}' \\\n",
    "> analyses/Pg_val_destrand.5x.bedgraph"
   ]
  },
  {
   "cell_type": "code",
   "execution_count": 7,
   "metadata": {
    "ExecuteTime": {
     "end_time": "2019-09-04T16:11:17.940287Z",
     "start_time": "2019-09-04T16:11:17.804096Z"
    }
   },
   "outputs": [
    {
     "name": "stdout",
     "output_type": "stream",
     "text": [
      "PGA_scaffold1__77_contigs__length_89643857 17 18 11.1111111111111\r\n",
      "PGA_scaffold1__77_contigs__length_89643857 53 54 3.125\r\n",
      "PGA_scaffold1__77_contigs__length_89643857 71 72 2.77777777777778\r\n",
      "PGA_scaffold1__77_contigs__length_89643857 95 96 2.0408\r\n",
      "PGA_scaffold1__77_contigs__length_89643857 237 238 1.3158\r\n",
      "PGA_scaffold1__77_contigs__length_89643857 564 565 2.2727\r\n",
      "PGA_scaffold1__77_contigs__length_89643857 582 583 2.3256\r\n",
      "PGA_scaffold1__77_contigs__length_89643857 617 618 15.3846\r\n",
      "PGA_scaffold1__77_contigs__length_89643857 674 675 7.1429\r\n",
      "PGA_scaffold1__77_contigs__length_89643857 680 681 6.2500\r\n"
     ]
    }
   ],
   "source": [
    "!head analyses/Pg_val_destrand.5x.sparse.bedgraph"
   ]
  },
  {
   "cell_type": "code",
   "execution_count": 12,
   "metadata": {
    "ExecuteTime": {
     "end_time": "2019-09-04T16:14:46.401189Z",
     "start_time": "2019-09-04T16:13:56.709159Z"
    }
   },
   "outputs": [],
   "source": [
    "!awk '{if ($4 == 0) { print $1, $2, $3, $4 }}' analyses/Pg_val_destrand.5x.bedgraph \\\n",
    "> analyses/Pg_val_destrand.5x.zero.bedgraph"
   ]
  },
  {
   "cell_type": "code",
   "execution_count": 13,
   "metadata": {
    "ExecuteTime": {
     "end_time": "2019-09-04T16:14:46.553386Z",
     "start_time": "2019-09-04T16:14:46.404385Z"
    }
   },
   "outputs": [
    {
     "name": "stdout",
     "output_type": "stream",
     "text": [
      "PGA_scaffold1__77_contigs__length_89643857 118 119 0.0000\r\n",
      "PGA_scaffold1__77_contigs__length_89643857 192 193 0.0000\r\n",
      "PGA_scaffold1__77_contigs__length_89643857 201 202 0.0000\r\n",
      "PGA_scaffold1__77_contigs__length_89643857 208 209 0.0000\r\n",
      "PGA_scaffold1__77_contigs__length_89643857 212 213 0.0000\r\n",
      "PGA_scaffold1__77_contigs__length_89643857 220 221 0.0000\r\n",
      "PGA_scaffold1__77_contigs__length_89643857 394 395 0.0000\r\n",
      "PGA_scaffold1__77_contigs__length_89643857 576 577 0.0000\r\n",
      "PGA_scaffold1__77_contigs__length_89643857 644 645 0.0000\r\n",
      "PGA_scaffold1__77_contigs__length_89643857 656 657 0.0000\r\n"
     ]
    }
   ],
   "source": [
    "!head analyses/Pg_val_destrand.5x.zero.bedgraph"
   ]
  },
  {
   "cell_type": "code",
   "execution_count": 14,
   "metadata": {
    "ExecuteTime": {
     "end_time": "2019-09-04T16:15:03.059318Z",
     "start_time": "2019-09-04T16:15:01.276781Z"
    }
   },
   "outputs": [
    {
     "name": "stdout",
     "output_type": "stream",
     "text": [
      " 3268495 analyses/Pg_val_destrand.5x.50p.bedgraph\n",
      " 13618340 analyses/Pg_val_destrand.5x.bedgraph\n",
      " 4225670 analyses/Pg_val_destrand.5x.sparse.bedgraph\n",
      " 6124175 analyses/Pg_val_destrand.5x.zero.bedgraph\n",
      " 27236680 total\n"
     ]
    }
   ],
   "source": [
    "!wc -l analyses/*val_destrand.5x*bedgraph"
   ]
  },
  {
   "cell_type": "code",
   "execution_count": 16,
   "metadata": {
    "ExecuteTime": {
     "end_time": "2019-09-04T16:15:30.242145Z",
     "start_time": "2019-09-04T16:15:30.216441Z"
    }
   },
   "outputs": [
    {
     "data": {
      "text/plain": [
       "13618340"
      ]
     },
     "execution_count": 16,
     "metadata": {},
     "output_type": "execute_result"
    }
   ],
   "source": [
    "27236680-13618340\n"
   ]
  },
  {
   "cell_type": "code",
   "execution_count": 18,
   "metadata": {
    "ExecuteTime": {
     "end_time": "2019-09-04T16:17:10.685061Z",
     "start_time": "2019-09-04T16:17:09.631990Z"
    }
   },
   "outputs": [],
   "source": [
    "import pandas as pd"
   ]
  },
  {
   "cell_type": "code",
   "execution_count": 22,
   "metadata": {
    "ExecuteTime": {
     "end_time": "2019-09-04T16:18:59.484695Z",
     "start_time": "2019-09-04T16:18:59.466339Z"
    }
   },
   "outputs": [],
   "source": [
    "%matplotlib inline\n",
    "\n",
    "import matplotlib\n",
    "import numpy as np\n",
    "import matplotlib.pyplot as plt"
   ]
  },
  {
   "cell_type": "code",
   "execution_count": 28,
   "metadata": {
    "ExecuteTime": {
     "end_time": "2019-09-04T16:21:31.424977Z",
     "start_time": "2019-09-04T16:21:31.260319Z"
    }
   },
   "outputs": [
    {
     "data": {
      "image/png": "[encoded data removed]",
      "text/plain": [
       "<Figure size 720x720 with 1 Axes>"
      ]
     },
     "metadata": {},
     "output_type": "display_data"
    }
   ],
   "source": [
    "df = pd.DataFrame({'abundance': [6124175, 4225670 , 3268495],\n",
    "                   'radius': [2439.7, 6051.8, 6378.1]},\n",
    "                  index=['zero', 'sparse', 'methylated (>50%)'])\n",
    "plot = df.plot.pie(y='abundance', figsize=(10, 10))"
   ]
  },
  {
   "cell_type": "markdown",
   "metadata": {},
   "source": [
    "## Creating Beds of different mCpG bgraphs"
   ]
  },
  {
   "cell_type": "code",
   "execution_count": 30,
   "metadata": {
    "ExecuteTime": {
     "end_time": "2019-09-04T16:32:27.124865Z",
     "start_time": "2019-09-04T16:32:12.393689Z"
    }
   },
   "outputs": [],
   "source": [
    "!awk '{print $1\"\\t\"$2\"\\t\"$3}' analyses/Pg_val_destrand.5x.50p.bedgraph \\\n",
    "> analyses/Pg_val_destrand.5x.50p.bed"
   ]
  },
  {
   "cell_type": "code",
   "execution_count": 31,
   "metadata": {
    "ExecuteTime": {
     "end_time": "2019-09-04T16:32:27.272816Z",
     "start_time": "2019-09-04T16:32:27.132257Z"
    }
   },
   "outputs": [
    {
     "name": "stdout",
     "output_type": "stream",
     "text": [
      "PGA_scaffold1__77_contigs__length_89643857\t11797\t11798\r\n",
      "PGA_scaffold1__77_contigs__length_89643857\t11838\t11839\r\n",
      "PGA_scaffold1__77_contigs__length_89643857\t11843\t11844\r\n",
      "PGA_scaffold1__77_contigs__length_89643857\t11846\t11847\r\n",
      "PGA_scaffold1__77_contigs__length_89643857\t11851\t11852\r\n",
      "PGA_scaffold1__77_contigs__length_89643857\t12029\t12030\r\n",
      "PGA_scaffold1__77_contigs__length_89643857\t51414\t51415\r\n",
      "PGA_scaffold1__77_contigs__length_89643857\t51426\t51427\r\n",
      "PGA_scaffold1__77_contigs__length_89643857\t51470\t51471\r\n",
      "PGA_scaffold1__77_contigs__length_89643857\t51563\t51564\r\n"
     ]
    }
   ],
   "source": [
    "!head analyses/Pg_val_destrand.5x.50p.bed"
   ]
  },
  {
   "cell_type": "code",
   "execution_count": 32,
   "metadata": {
    "ExecuteTime": {
     "end_time": "2019-09-04T16:36:19.342393Z",
     "start_time": "2019-09-04T16:35:59.985145Z"
    }
   },
   "outputs": [],
   "source": [
    "!awk '{print $1\"\\t\"$2\"\\t\"$3}' analyses/Pg_val_destrand.5x.sparse.bedgraph \\\n",
    "> analyses/Pg_val_destrand.5x.sparse.bed"
   ]
  },
  {
   "cell_type": "code",
   "execution_count": 33,
   "metadata": {
    "ExecuteTime": {
     "end_time": "2019-09-04T16:36:46.435056Z",
     "start_time": "2019-09-04T16:36:19.348412Z"
    }
   },
   "outputs": [],
   "source": [
    "!awk '{print $1\"\\t\"$2\"\\t\"$3}' analyses/Pg_val_destrand.5x.zero.bedgraph \\\n",
    "> analyses/Pg_val_destrand.5x.zero.bed"
   ]
  },
  {
   "cell_type": "code",
   "execution_count": 34,
   "metadata": {
    "ExecuteTime": {
     "end_time": "2019-09-04T16:40:41.018255Z",
     "start_time": "2019-09-04T16:40:40.870080Z"
    }
   },
   "outputs": [
    {
     "name": "stdout",
     "output_type": "stream",
     "text": [
      "\r\n",
      "Tool:    bedtools complement (aka complementBed)\r\n",
      "Version: v2.27.1\r\n",
      "Summary: Returns the base pair complement of a feature file.\r\n",
      "\r\n",
      "Usage:   bedtools complement [OPTIONS] -i <bed/gff/vcf> -g <genome>\r\n",
      "\r\n",
      "Notes: \r\n",
      "\t(1)  The genome file should tab delimited and structured as follows:\r\n",
      "\t     <chromName><TAB><chromSize>\r\n",
      "\r\n",
      "\tFor example, Human (hg19):\r\n",
      "\tchr1\t249250621\r\n",
      "\tchr2\t243199373\r\n",
      "\t...\r\n",
      "\tchr18_gl000207_random\t4262\r\n",
      "\r\n",
      "Tips: \r\n",
      "\tOne can use the UCSC Genome Browser's MySQL database to extract\r\n",
      "\tchromosome sizes. For example, H. sapiens:\r\n",
      "\r\n",
      "\tmysql --user=genome --host=genome-mysql.cse.ucsc.edu -A -e \\\r\n",
      "\t\"select chrom, size from hg19.chromInfo\"  > hg19.genome\r\n",
      "\r\n",
      "\r\n",
      "\r\n",
      "\r\n",
      "***** ERROR: no -g genome file provided. *****\r\n"
     ]
    }
   ],
   "source": [
    "!/Applications/bioinfo/bedtools2/bin/complementBed"
   ]
  },
  {
   "cell_type": "code",
   "execution_count": null,
   "metadata": {},
   "outputs": [],
   "source": []
  }
 ],
 "metadata": {
  "kernelspec": {
   "display_name": "Python 3",
   "language": "python",
   "name": "python3"
  },
  "language_info": {
   "codemirror_mode": {
    "name": "ipython",
    "version": 3
   },
   "file_extension": ".py",
   "mimetype": "text/x-python",
   "name": "python",
   "nbconvert_exporter": "python",
   "pygments_lexer": "ipython3",
   "version": "3.6.8"
  }
 },
 "nbformat": 4,
 "nbformat_minor": 2
}
