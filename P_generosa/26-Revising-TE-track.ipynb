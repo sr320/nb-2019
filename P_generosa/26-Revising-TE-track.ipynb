{
 "cells": [
  {
   "cell_type": "code",
   "execution_count": 16,
   "metadata": {
    "ExecuteTime": {
     "end_time": "2019-09-04T19:34:24.454193Z",
     "start_time": "2019-09-04T19:34:24.312057Z"
    }
   },
   "outputs": [
    {
     "name": "stdout",
     "output_type": "stream",
     "text": [
      "PGA_scaffold9\tRepeatMasker\tsimilarity\t38573716\t38573754\t 2.8\t+\t.\tTarget \"Motif:(TTCT)n\" 1 38\r\n",
      "PGA_scaffold9\tRepeatMasker\tsimilarity\t38573755\t38573878\t21.4\t+\t.\tTarget \"Motif:(TTC)n\" 1 122\r\n",
      "PGA_scaffold9\tRepeatMasker\tsimilarity\t38574040\t38574341\t32.9\t-\t.\tTarget \"Motif:Kolobok-7_CGi\" 2450 2750\r\n",
      "PGA_scaffold9\tRepeatMasker\tsimilarity\t38574250\t38574705\t35.0\t-\t.\tTarget \"Motif:Kolobok-10_CGi\" 2901 3372\r\n",
      "PGA_scaffold9\tRepeatMasker\tsimilarity\t38575823\t38575995\t25.9\t-\t.\tTarget \"Motif:Kolobok-10_CGi\" 2054 2229\r\n",
      "PGA_scaffold9\tRepeatMasker\tsimilarity\t38578619\t38578660\t19.1\t+\t.\tTarget \"Motif:Helitron-N9_CGi\" 185 226\r\n",
      "PGA_scaffold9\tRepeatMasker\tsimilarity\t38579369\t38579395\t12.0\t+\t.\tTarget \"Motif:(ATCT)n\" 1 28\r\n",
      "PGA_scaffold9\tRepeatMasker\tsimilarity\t38579893\t38579930\t 0.0\t+\t.\tTarget \"Motif:(ATTC)n\" 1 38\r\n",
      "PGA_scaffold9\tRepeatMasker\tsimilarity\t38580008\t38580069\t17.3\t+\t.\tTarget \"Motif:CR1-49_AAe\" 5009 5066\r\n",
      "PGA_scaffold9\tRepeatMasker\tsimilarity\t38581511\t38581557\t10.9\t+\t.\tTarget \"Motif:A-rich\" 1 44\r\n"
     ]
    }
   ],
   "source": [
    "!tail data/Pgenerosa_v074.fa.out.gff"
   ]
  },
  {
   "cell_type": "code",
   "execution_count": 26,
   "metadata": {
    "ExecuteTime": {
     "end_time": "2019-09-04T19:42:18.987350Z",
     "start_time": "2019-09-04T19:42:08.479990Z"
    }
   },
   "outputs": [
    {
     "name": "stdout",
     "output_type": "stream",
     "text": [
      "PGA_scaffold1\tRepeatMasker\tsimilarity\t161\t224\t12.7\t-\t.\tTarget \"Motif:Gypsy-6_HV-LTR\" 167 224\r\n",
      "PGA_scaffold1\tRepeatMasker\tsimilarity\t1876\t1934\t23.8\t+\t.\tTarget \"Motif:(ATTC)n\" 1 54\r\n",
      "PGA_scaffold1\tRepeatMasker\tsimilarity\t2928\t3026\t19.8\t-\t.\tTarget \"Motif:Mon1a8\" 8 109\r\n",
      "PGA_scaffold1\tRepeatMasker\tsimilarity\t8054\t8084\t 3.3\t+\t.\tTarget \"Motif:(CGT)n\" 1 31\r\n",
      "PGA_scaffold1\tRepeatMasker\tsimilarity\t8318\t8614\t17.0\t+\t.\tTarget \"Motif:BivaMeta-SINE1_HyCu\" 1 300\r\n",
      "PGA_scaffold1\tRepeatMasker\tsimilarity\t8572\t8621\t18.0\t+\t.\tTarget \"Motif:BivaV-SINE1_BaAz\" 205 254\r\n",
      "PGA_scaffold1\tRepeatMasker\tsimilarity\t9614\t9727\t28.9\t-\t.\tTarget \"Motif:Helitron-N38_CGi\" 19 137\r\n",
      "PGA_scaffold1\tRepeatMasker\tsimilarity\t9849\t9922\t16.4\t-\t.\tTarget \"Motif:Helitron-N2g_CGi\" 1 73\r\n",
      "PGA_scaffold1\tRepeatMasker\tsimilarity\t11610\t11644\t11.4\t+\t.\tTarget \"Motif:Gypsy47-I_DR\" 3362 3396\r\n",
      "PGA_scaffold1\tRepeatMasker\tsimilarity\t14354\t14423\t22.8\t-\t.\tTarget \"Motif:Helitron-N43_CGi\" 43 108\r\n",
      "sort: Broken pipe\r\n"
     ]
    }
   ],
   "source": [
    "!cat data/Pgenerosa_v074.fa.out.gff | sort -V | head"
   ]
  },
  {
   "cell_type": "code",
   "execution_count": 19,
   "metadata": {
    "ExecuteTime": {
     "end_time": "2019-09-04T19:35:43.843828Z",
     "start_time": "2019-09-04T19:35:32.372482Z"
    }
   },
   "outputs": [],
   "source": [
    "!cat data/Pgenerosa_v074.fa.out.gff | sort -V > data/Pgenerosa_v074.fa.out.gff.sorted"
   ]
  },
  {
   "cell_type": "code",
   "execution_count": 28,
   "metadata": {
    "ExecuteTime": {
     "end_time": "2019-09-04T19:48:39.733158Z",
     "start_time": "2019-09-04T19:45:21.647038Z"
    }
   },
   "outputs": [
    {
     "name": "stdout",
     "output_type": "stream",
     "text": [
      "PGA_scaffold9__45_contigs__length_38581958\tRepeatMasker\tsimilarity\t9982172\t9982200\t 7.2\t+\t.\tTarget \"Motif:(TA)n\" 1 30\r\n",
      "PGA_scaffold9__45_contigs__length_38581958\tRepeatMasker\tsimilarity\t9984990\t9985041\t11.6\t+\t.\tTarget \"Motif:(ACATAT)n\" 1 53\r\n",
      "PGA_scaffold9__45_contigs__length_38581958\tRepeatMasker\tsimilarity\t9985481\t9985515\t 9.2\t+\t.\tTarget \"Motif:(TATTAAC)n\" 1 39\r\n",
      "PGA_scaffold9__45_contigs__length_38581958\tRepeatMasker\tsimilarity\t9985592\t9985800\t29.3\t+\t.\tTarget \"Motif:BivaMeta-SINE1_HyCu\" 2 215\r\n",
      "PGA_scaffold9__45_contigs__length_38581958\tRepeatMasker\tsimilarity\t9990576\t9990774\t33.5\t-\t.\tTarget \"Motif:Gypsy-18_PBa-I\" 5888 6088\r\n",
      "PGA_scaffold9__45_contigs__length_38581958\tRepeatMasker\tsimilarity\t9990900\t9990940\t14.6\t-\t.\tTarget \"Motif:Gypsy-39_DPu-I\" 4429 4469\r\n",
      "PGA_scaffold9__45_contigs__length_38581958\tRepeatMasker\tsimilarity\t9991523\t9991672\t32.9\t-\t.\tTarget \"Motif:Gypsy-101_GM-I\" 2475 2626\r\n",
      "PGA_scaffold9__45_contigs__length_38581958\tRepeatMasker\tsimilarity\t9991672\t9992305\t28.1\t-\t.\tTarget \"Motif:Gypsy-39_DPu-I\" 2893 3794\r\n",
      "PGA_scaffold9__45_contigs__length_38581958\tRepeatMasker\tsimilarity\t9997065\t9997345\t26.4\t-\t.\tTarget \"Motif:BivaMeta-SINE1_HyCu\" 9 294\r\n",
      "PGA_scaffold9__45_contigs__length_38581958\tRepeatMasker\tsimilarity\t9999877\t9999905\t15.3\t+\t.\tTarget \"Motif:(TATTA)n\" 1 30\r\n"
     ]
    }
   ],
   "source": [
    "!cat data/Pgenerosa_v074.fa.out.gff | sort -g | sed 's/PGA_scaffold1/PGA_scaffold1__77_contigs__length_89643857/g' \\\n",
    "| sed 's/PGA_scaffold2/PGA_scaffold2__36_contigs__length_69596280/g' \\\n",
    "| sed 's/PGA_scaffold3/PGA_scaffold3__111_contigs__length_57743597/g' \\\n",
    "| sed 's/PGA_scaffold4/PGA_scaffold4__129_contigs__length_65288255/g' \\\n",
    "| sed 's/PGA_scaffold5/PGA_scaffold5__109_contigs__length_67248332/g' \\\n",
    "| sed 's/PGA_scaffold6/PGA_scaffold6__104_contigs__length_61759565/g' \\\n",
    "| sed 's/PGA_scaffold7/PGA_scaffold7__69_contigs__length_43120122/g' \\\n",
    "| sed 's/PGA_scaffold8/PGA_scaffold8__63_contigs__length_61151155/g' \\\n",
    "| sed 's/PGA_scaffold9/PGA_scaffold9__45_contigs__length_38581958/g' \\\n",
    "| sed 's/PGA_scaffold10/PGA_scaffold10__49_contigs__length_53961475/g' \\\n",
    "| sed 's/PGA_scaffold11/PGA_scaffold11__79_contigs__length_51449921/g' \\\n",
    "| sed 's/PGA_scaffold12/PGA_scaffold12__71_contigs__length_50438331/g' \\\n",
    "| sed 's/PGA_scaffold13/PGA_scaffold13__52_contigs__length_44396874/g' \\\n",
    "| sed 's/PGA_scaffold14/PGA_scaffold14__91_contigs__length_45393038/g' \\\n",
    "| sed 's/PGA_scaffold15/PGA_scaffold15__101_contigs__length_47938513/g' \\\n",
    "| sed 's/PGA_scaffold16/PGA_scaffold16__33_contigs__length_31980953/g' \\\n",
    "| sed 's/PGA_scaffold17/PGA_scaffold17__51_contigs__length_34923512/g' \\\n",
    "| sed 's/PGA_scaffold18/PGA_scaffold18__69_contigs__length_27737463/g' \\\n",
    "| tail\n"
   ]
  },
  {
   "cell_type": "code",
   "execution_count": 33,
   "metadata": {
    "ExecuteTime": {
     "end_time": "2019-09-04T20:17:36.525238Z",
     "start_time": "2019-09-04T20:16:51.663709Z"
    }
   },
   "outputs": [
    {
     "name": "stdout",
     "output_type": "stream",
     "text": [
      "PGA_scaffold9__45_contigs__length_38581958\tRepeatMasker\tsimilarity\t38574250\t38574705\t35.0\t-\t.\tTarget \"Motif:Kolobok-10_CGi\" 2901 3372\r\n",
      "PGA_scaffold9__45_contigs__length_38581958\tRepeatMasker\tsimilarity\t38575823\t38575995\t25.9\t-\t.\tTarget \"Motif:Kolobok-10_CGi\" 2054 2229\r\n",
      "PGA_scaffold9__45_contigs__length_38581958\tRepeatMasker\tsimilarity\t38578619\t38578660\t19.1\t+\t.\tTarget \"Motif:Helitron-N9_CGi\" 185 226\r\n",
      "PGA_scaffold9__45_contigs__length_38581958\tRepeatMasker\tsimilarity\t38579369\t38579395\t12.0\t+\t.\tTarget \"Motif:(ATCT)n\" 1 28\r\n",
      "PGA_scaffold9__45_contigs__length_38581958\tRepeatMasker\tsimilarity\t38579893\t38579930\t 0.0\t+\t.\tTarget \"Motif:(ATTC)n\" 1 38\r\n",
      "PGA_scaffold9__45_contigs__length_38581958\tRepeatMasker\tsimilarity\t38580008\t38580069\t17.3\t+\t.\tTarget \"Motif:CR1-49_AAe\" 5009 5066\r\n",
      "PGA_scaffold9__45_contigs__length_38581958\tRepeatMasker\tsimilarity\t38581511\t38581557\t10.9\t+\t.\tTarget \"Motif:A-rich\" 1 44\r\n",
      "##date 2019-06-28\r\n",
      "##gff-version 2\r\n",
      "##sequence-region Pgenerosa_v074.fa\r\n"
     ]
    }
   ],
   "source": [
    "!cat data/Pgenerosa_v074.fa.out.gff | sort -V | sed 's/PGA_scaffold1/PGA_scaffold1__77_contigs__length_89643857/g' \\\n",
    "| sed 's/PGA_scaffold2/PGA_scaffold2__36_contigs__length_69596280/g' \\\n",
    "| sed 's/PGA_scaffold3/PGA_scaffold3__111_contigs__length_57743597/g' \\\n",
    "| sed 's/PGA_scaffold4/PGA_scaffold4__129_contigs__length_65288255/g' \\\n",
    "| sed 's/PGA_scaffold5/PGA_scaffold5__109_contigs__length_67248332/g' \\\n",
    "| sed 's/PGA_scaffold6/PGA_scaffold6__104_contigs__length_61759565/g' \\\n",
    "| sed 's/PGA_scaffold7/PGA_scaffold7__69_contigs__length_43120122/g' \\\n",
    "| sed 's/PGA_scaffold8/PGA_scaffold8__63_contigs__length_61151155/g' \\\n",
    "| sed 's/PGA_scaffold9/PGA_scaffold9__45_contigs__length_38581958/g' \\\n",
    "| sed 's/PGA_scaffold10/PGA_scaffold10__49_contigs__length_53961475/g' \\\n",
    "| sed 's/PGA_scaffold11/PGA_scaffold11__79_contigs__length_51449921/g' \\\n",
    "| sed 's/PGA_scaffold12/PGA_scaffold12__71_contigs__length_50438331/g' \\\n",
    "| sed 's/PGA_scaffold13/PGA_scaffold13__52_contigs__length_44396874/g' \\\n",
    "| sed 's/PGA_scaffold14/PGA_scaffold14__91_contigs__length_45393038/g' \\\n",
    "| sed 's/PGA_scaffold15/PGA_scaffold15__101_contigs__length_47938513/g' \\\n",
    "| sed 's/PGA_scaffold16/PGA_scaffold16__33_contigs__length_31980953/g' \\\n",
    "| sed 's/PGA_scaffold17/PGA_scaffold17__51_contigs__length_34923512/g' \\\n",
    "| sed 's/PGA_scaffold18/PGA_scaffold18__69_contigs__length_27737463/g' \\\n",
    "| sort -V \\\n",
    "| tail\n"
   ]
  },
  {
   "cell_type": "code",
   "execution_count": 31,
   "metadata": {
    "ExecuteTime": {
     "end_time": "2019-09-04T20:14:20.721827Z",
     "start_time": "2019-09-04T20:14:07.241550Z"
    }
   },
   "outputs": [
    {
     "name": "stdout",
     "output_type": "stream",
     "text": [
      "PGA_scaffold18\tRepeatMasker\tsimilarity\t27727302\t27727463\t27.4\t+\t.\tTarget \"Motif:SAT-1_CGi\" 146 313\r\n",
      "PGA_scaffold18\tRepeatMasker\tsimilarity\t27729952\t27730058\t25.2\t+\t.\tTarget \"Motif:Helitron-27_CGi\" 1 123\r\n",
      "PGA_scaffold18\tRepeatMasker\tsimilarity\t27730683\t27730713\t 0.0\t+\t.\tTarget \"Motif:(TGAT)n\" 1 31\r\n",
      "PGA_scaffold18\tRepeatMasker\tsimilarity\t27730794\t27730831\t18.8\t+\t.\tTarget \"Motif:(ACCAAT)n\" 1 38\r\n",
      "PGA_scaffold18\tRepeatMasker\tsimilarity\t27730933\t27730993\t29.5\t-\t.\tTarget \"Motif:TRNALysTTT_CB\" 1 61\r\n",
      "PGA_scaffold18\tRepeatMasker\tsimilarity\t27734664\t27734878\t21.3\t+\t.\tTarget \"Motif:BivaMeta-SINE1_HyCu\" 82 300\r\n",
      "PGA_scaffold18\tRepeatMasker\tsimilarity\t27734836\t27734885\t22.0\t+\t.\tTarget \"Motif:BivaV-SINE1_BaAz\" 205 254\r\n",
      "##date 2019-06-28\r\n",
      "##gff-version 2\r\n",
      "##sequence-region Pgenerosa_v074.fa\r\n"
     ]
    }
   ],
   "source": [
    "!cat data/Pgenerosa_v074.fa.out.gff | sort -V | tail"
   ]
  },
  {
   "cell_type": "code",
   "execution_count": 46,
   "metadata": {
    "ExecuteTime": {
     "end_time": "2019-09-04T21:47:36.394577Z",
     "start_time": "2019-09-04T21:47:35.291130Z"
    }
   },
   "outputs": [
    {
     "name": "stdout",
     "output_type": "stream",
     "text": [
      "  % Total    % Received % Xferd  Average Speed   Time    Time     Time  Current\n",
      "                                 Dload  Upload   Total   Spent    Left  Speed\n",
      "100   341  100   341    0     0    652      0 --:--:-- --:--:-- --:--:--   652\n",
      "100 10193  100 10193    0     0  10684      0 --:--:-- --:--:-- --:--:-- 43374\n"
     ]
    }
   ],
   "source": [
    "!curl -O -L -J https://osf.io/pju6y/download"
   ]
  },
  {
   "cell_type": "code",
   "execution_count": 44,
   "metadata": {
    "ExecuteTime": {
     "end_time": "2019-09-04T21:46:30.820109Z",
     "start_time": "2019-09-04T21:46:30.670532Z"
    }
   },
   "outputs": [
    {
     "name": "stdout",
     "output_type": "stream",
     "text": [
      "Usage: curl [options...] <url>\r\n",
      "     --abstract-unix-socket <path> Connect via abstract Unix domain socket\r\n",
      "     --anyauth       Pick any authentication method\r\n",
      " -a, --append        Append to target file when uploading\r\n",
      "     --basic         Use HTTP Basic Authentication\r\n",
      "     --cacert <file> CA certificate to verify peer against\r\n",
      "     --capath <dir>  CA directory to verify peer against\r\n",
      " -E, --cert <certificate[:password]> Client certificate file and password\r\n",
      "     --cert-status   Verify the status of the server certificate\r\n",
      "     --cert-type <type> Certificate file type (DER/PEM/ENG)\r\n",
      "     --ciphers <list of ciphers> SSL ciphers to use\r\n",
      "     --compressed    Request compressed response\r\n",
      "     --compressed-ssh Enable SSH compression\r\n",
      " -K, --config <file> Read config from a file\r\n",
      "     --connect-timeout <seconds> Maximum time allowed for connection\r\n",
      "     --connect-to <HOST1:PORT1:HOST2:PORT2> Connect to host\r\n",
      " -C, --continue-at <offset> Resumed transfer offset\r\n",
      " -b, --cookie <data> Send cookies from string/file\r\n",
      " -c, --cookie-jar <filename> Write cookies to <filename> after operation\r\n",
      "     --create-dirs   Create necessary local directory hierarchy\r\n",
      "     --crlf          Convert LF to CRLF in upload\r\n",
      "     --crlfile <file> Get a CRL list in PEM format from the given file\r\n",
      " -d, --data <data>   HTTP POST data\r\n",
      "     --data-ascii <data> HTTP POST ASCII data\r\n",
      "     --data-binary <data> HTTP POST binary data\r\n",
      "     --data-raw <data> HTTP POST data, '@' allowed\r\n",
      "     --data-urlencode <data> HTTP POST data url encoded\r\n",
      "     --delegation <LEVEL> GSS-API delegation permission\r\n",
      "     --digest        Use HTTP Digest Authentication\r\n",
      " -q, --disable       Disable .curlrc\r\n",
      "     --disable-eprt  Inhibit using EPRT or LPRT\r\n",
      "     --disable-epsv  Inhibit using EPSV\r\n",
      "     --disallow-username-in-url Disallow username in url\r\n",
      "     --dns-interface <interface> Interface to use for DNS requests\r\n",
      "     --dns-ipv4-addr <address> IPv4 address to use for DNS requests\r\n",
      "     --dns-ipv6-addr <address> IPv6 address to use for DNS requests\r\n",
      "     --dns-servers <addresses> DNS server addrs to use\r\n",
      "     --doh-url <URL> Resolve host names over DOH\r\n",
      " -D, --dump-header <filename> Write the received headers to <filename>\r\n",
      "     --egd-file <file> EGD socket path for random data\r\n",
      "     --engine <name> Crypto engine to use\r\n",
      "     --expect100-timeout <seconds> How long to wait for 100-continue\r\n",
      " -f, --fail          Fail silently (no output at all) on HTTP errors\r\n",
      "     --fail-early    Fail on first transfer error, do not continue\r\n",
      "     --false-start   Enable TLS False Start\r\n",
      " -F, --form <name=content> Specify multipart MIME data\r\n",
      "     --form-string <name=string> Specify multipart MIME data\r\n",
      "     --ftp-account <data> Account data string\r\n",
      "     --ftp-alternative-to-user <command> String to replace USER [name]\r\n",
      "     --ftp-create-dirs Create the remote dirs if not present\r\n",
      "     --ftp-method <method> Control CWD usage\r\n",
      "     --ftp-pasv      Use PASV/EPSV instead of PORT\r\n",
      " -P, --ftp-port <address> Use PORT instead of PASV\r\n",
      "     --ftp-pret      Send PRET before PASV\r\n",
      "     --ftp-skip-pasv-ip Skip the IP address for PASV\r\n",
      "     --ftp-ssl-ccc   Send CCC after authenticating\r\n",
      "     --ftp-ssl-ccc-mode <active/passive> Set CCC mode\r\n",
      "     --ftp-ssl-control Require SSL/TLS for FTP login, clear for transfer\r\n",
      " -G, --get           Put the post data in the URL and use GET\r\n",
      " -g, --globoff       Disable URL sequences and ranges using {} and []\r\n",
      "     --happy-eyeballs-timeout-ms <milliseconds> How long to wait in milliseconds for IPv6 before trying IPv4\r\n",
      "     --haproxy-protocol Send HAProxy PROXY protocol v1 header\r\n",
      " -I, --head          Show document info only\r\n",
      " -H, --header <header/@file> Pass custom header(s) to server\r\n",
      " -h, --help          This help text\r\n",
      "     --hostpubmd5 <md5> Acceptable MD5 hash of the host public key\r\n",
      " -0, --http1.0       Use HTTP 1.0\r\n",
      "     --http1.1       Use HTTP 1.1\r\n",
      "     --http2         Use HTTP 2\r\n",
      "     --http2-prior-knowledge Use HTTP 2 without HTTP/1.1 Upgrade\r\n",
      "     --ignore-content-length Ignore the size of the remote resource\r\n",
      " -i, --include       Include protocol response headers in the output\r\n",
      " -k, --insecure      Allow insecure server connections when using SSL\r\n",
      "     --interface <name> Use network INTERFACE (or address)\r\n",
      " -4, --ipv4          Resolve names to IPv4 addresses\r\n",
      " -6, --ipv6          Resolve names to IPv6 addresses\r\n",
      " -j, --junk-session-cookies Ignore session cookies read from file\r\n",
      "     --keepalive-time <seconds> Interval time for keepalive probes\r\n",
      "     --key <key>     Private key file name\r\n",
      "     --key-type <type> Private key file type (DER/PEM/ENG)\r\n",
      "     --krb <level>   Enable Kerberos with security <level>\r\n",
      "     --libcurl <file> Dump libcurl equivalent code of this command line\r\n",
      "     --limit-rate <speed> Limit transfer speed to RATE\r\n",
      " -l, --list-only     List only mode\r\n",
      "     --local-port <num/range> Force use of RANGE for local port numbers\r\n",
      " -L, --location      Follow redirects\r\n",
      "     --location-trusted Like --location, and send auth to other hosts\r\n",
      "     --login-options <options> Server login options\r\n",
      "     --mail-auth <address> Originator address of the original email\r\n",
      "     --mail-from <address> Mail from this address\r\n",
      "     --mail-rcpt <address> Mail to this address\r\n",
      " -M, --manual        Display the full manual\r\n",
      "     --max-filesize <bytes> Maximum file size to download\r\n",
      "     --max-redirs <num> Maximum number of redirects allowed\r\n",
      " -m, --max-time <seconds> Maximum time allowed for the transfer\r\n",
      "     --metalink      Process given URLs as metalink XML file\r\n",
      "     --negotiate     Use HTTP Negotiate (SPNEGO) authentication\r\n",
      " -n, --netrc         Must read .netrc for user name and password\r\n",
      "     --netrc-file <filename> Specify FILE for netrc\r\n",
      "     --netrc-optional Use either .netrc or URL\r\n",
      " -:, --next          Make next URL use its separate set of options\r\n",
      "     --no-alpn       Disable the ALPN TLS extension\r\n",
      " -N, --no-buffer     Disable buffering of the output stream\r\n",
      "     --no-keepalive  Disable TCP keepalive on the connection\r\n",
      "     --no-npn        Disable the NPN TLS extension\r\n",
      "     --no-sessionid  Disable SSL session-ID reusing\r\n",
      "     --noproxy <no-proxy-list> List of hosts which do not use proxy\r\n",
      "     --ntlm          Use HTTP NTLM authentication\r\n",
      "     --ntlm-wb       Use HTTP NTLM authentication with winbind\r\n",
      "     --oauth2-bearer <token> OAuth 2 Bearer Token\r\n",
      " -o, --output <file> Write to file instead of stdout\r\n",
      "     --pass <phrase> Pass phrase for the private key\r\n",
      "     --path-as-is    Do not squash .. sequences in URL path\r\n",
      "     --pinnedpubkey <hashes> FILE/HASHES Public key to verify peer against\r\n",
      "     --post301       Do not switch to GET after following a 301\r\n",
      "     --post302       Do not switch to GET after following a 302\r\n",
      "     --post303       Do not switch to GET after following a 303\r\n",
      "     --preproxy [protocol://]host[:port] Use this proxy first\r\n",
      " -#, --progress-bar  Display transfer progress as a bar\r\n",
      "     --proto <protocols> Enable/disable PROTOCOLS\r\n",
      "     --proto-default <protocol> Use PROTOCOL for any URL missing a scheme\r\n",
      "     --proto-redir <protocols> Enable/disable PROTOCOLS on redirect\r\n",
      " -x, --proxy [protocol://]host[:port] Use this proxy\r\n",
      "     --proxy-anyauth Pick any proxy authentication method\r\n",
      "     --proxy-basic   Use Basic authentication on the proxy\r\n",
      "     --proxy-cacert <file> CA certificate to verify peer against for proxy\r\n",
      "     --proxy-capath <dir> CA directory to verify peer against for proxy\r\n",
      "     --proxy-cert <cert[:passwd]> Set client certificate for proxy\r\n",
      "     --proxy-cert-type <type> Client certificate type for HTTPS proxy\r\n",
      "     --proxy-ciphers <list> SSL ciphers to use for proxy\r\n",
      "     --proxy-crlfile <file> Set a CRL list for proxy\r\n",
      "     --proxy-digest  Use Digest authentication on the proxy\r\n",
      "     --proxy-header <header/@file> Pass custom header(s) to proxy\r\n",
      "     --proxy-insecure Do HTTPS proxy connections without verifying the proxy\r\n",
      "     --proxy-key <key> Private key for HTTPS proxy\r\n",
      "     --proxy-key-type <type> Private key file type for proxy\r\n",
      "     --proxy-negotiate Use HTTP Negotiate (SPNEGO) authentication on the proxy\r\n",
      "     --proxy-ntlm    Use NTLM authentication on the proxy\r\n",
      "     --proxy-pass <phrase> Pass phrase for the private key for HTTPS proxy\r\n",
      "     --proxy-pinnedpubkey <hashes> FILE/HASHES public key to verify proxy with\r\n",
      "     --proxy-service-name <name> SPNEGO proxy service name\r\n",
      "     --proxy-ssl-allow-beast Allow security flaw for interop for HTTPS proxy\r\n",
      "     --proxy-tls13-ciphers <ciphersuite list> TLS 1.3 proxy cipher suites\r\n",
      "     --proxy-tlsauthtype <type> TLS authentication type for HTTPS proxy\r\n",
      "     --proxy-tlspassword <string> TLS password for HTTPS proxy\r\n",
      "     --proxy-tlsuser <name> TLS username for HTTPS proxy\r\n",
      "     --proxy-tlsv1   Use TLSv1 for HTTPS proxy\r\n",
      " -U, --proxy-user <user:password> Proxy user and password\r\n",
      "     --proxy1.0 <host[:port]> Use HTTP/1.0 proxy on given port\r\n",
      " -p, --proxytunnel   Operate through an HTTP proxy tunnel (using CONNECT)\r\n",
      "     --pubkey <key>  SSH Public key file name\r\n",
      " -Q, --quote         Send command(s) to server before transfer\r\n",
      "     --random-file <file> File for reading random data from\r\n",
      " -r, --range <range> Retrieve only the bytes within RANGE\r\n",
      "     --raw           Do HTTP \"raw\"; no transfer decoding\r\n",
      " -e, --referer <URL> Referrer URL\r\n",
      " -J, --remote-header-name Use the header-provided filename\r\n",
      " -O, --remote-name   Write output to a file named as the remote file\r\n",
      "     --remote-name-all Use the remote file name for all URLs\r\n",
      " -R, --remote-time   Set the remote file's time on the local output\r\n",
      " -X, --request <command> Specify request command to use\r\n",
      "     --request-target Specify the target for this request\r\n",
      "     --resolve <host:port:address[,address]...> Resolve the host+port to this address\r\n",
      "     --retry <num>   Retry request if transient problems occur\r\n",
      "     --retry-connrefused Retry on connection refused (use with --retry)\r\n",
      "     --retry-delay <seconds> Wait time between retries\r\n",
      "     --retry-max-time <seconds> Retry only within this period\r\n",
      "     --sasl-ir       Enable initial response in SASL authentication\r\n",
      "     --service-name <name> SPNEGO service name\r\n",
      " -S, --show-error    Show error even when -s is used\r\n",
      " -s, --silent        Silent mode\r\n",
      "     --socks4 <host[:port]> SOCKS4 proxy on given host + port\r\n",
      "     --socks4a <host[:port]> SOCKS4a proxy on given host + port\r\n",
      "     --socks5 <host[:port]> SOCKS5 proxy on given host + port\r\n",
      "     --socks5-basic  Enable username/password auth for SOCKS5 proxies\r\n",
      "     --socks5-gssapi Enable GSS-API auth for SOCKS5 proxies\r\n",
      "     --socks5-gssapi-nec Compatibility with NEC SOCKS5 server\r\n",
      "     --socks5-gssapi-service <name> SOCKS5 proxy service name for GSS-API\r\n",
      "     --socks5-hostname <host[:port]> SOCKS5 proxy, pass host name to proxy\r\n",
      " -Y, --speed-limit <speed> Stop transfers slower than this\r\n",
      " -y, --speed-time <seconds> Trigger 'speed-limit' abort after this time\r\n",
      "     --ssl           Try SSL/TLS\r\n",
      "     --ssl-allow-beast Allow security flaw to improve interop\r\n",
      "     --ssl-no-revoke Disable cert revocation checks (WinSSL)\r\n",
      "     --ssl-reqd      Require SSL/TLS\r\n",
      " -2, --sslv2         Use SSLv2\r\n",
      " -3, --sslv3         Use SSLv3\r\n",
      "     --stderr        Where to redirect stderr\r\n",
      "     --styled-output Enable styled output for HTTP headers\r\n",
      "     --suppress-connect-headers Suppress proxy CONNECT response headers\r\n",
      "     --tcp-fastopen  Use TCP Fast Open\r\n",
      "     --tcp-nodelay   Use the TCP_NODELAY option\r\n",
      " -t, --telnet-option <opt=val> Set telnet option\r\n",
      "     --tftp-blksize <value> Set TFTP BLKSIZE option\r\n",
      "     --tftp-no-options Do not send any TFTP options\r\n",
      " -z, --time-cond <time> Transfer based on a time condition\r\n",
      "     --tls-max <VERSION> Use TLSv1.0 or greater\r\n",
      "     --tls13-ciphers <list of TLS 1.3 ciphersuites> TLS 1.3 cipher suites to use\r\n",
      "     --tlsauthtype <type> TLS authentication type\r\n",
      "     --tlspassword   TLS password\r\n",
      "     --tlsuser <name> TLS user name\r\n",
      " -1, --tlsv1         Use TLSv1.0 or greater\r\n",
      "     --tlsv1.0       Use TLSv1.0 or greater\r\n",
      "     --tlsv1.1       Use TLSv1.1 or greater\r\n",
      "     --tlsv1.2       Use TLSv1.2 or greater\r\n",
      "     --tlsv1.3       Use TLSv1.3 or greater\r\n",
      "     --tr-encoding   Request compressed transfer encoding\r\n",
      "     --trace <file>  Write a debug trace to FILE\r\n",
      "     --trace-ascii <file> Like --trace, but without hex output\r\n",
      "     --trace-time    Add time stamps to trace/verbose output\r\n",
      "     --unix-socket <path> Connect through this Unix domain socket\r\n",
      " -T, --upload-file <file> Transfer local FILE to destination\r\n",
      "     --url <url>     URL to work with\r\n",
      " -B, --use-ascii     Use ASCII/text transfer\r\n",
      " -u, --user <user:password> Server user and password\r\n",
      " -A, --user-agent <name> Send User-Agent <name> to server\r\n",
      " -v, --verbose       Make the operation more talkative\r\n",
      " -V, --version       Show version number and quit\r\n",
      " -w, --write-out <format> Use output FORMAT after completion\r\n",
      "     --xattr         Store metadata in extended file attributes\r\n"
     ]
    }
   ],
   "source": [
    "!curl --help"
   ]
  },
  {
   "cell_type": "code",
   "execution_count": 36,
   "metadata": {
    "ExecuteTime": {
     "end_time": "2019-09-04T21:36:32.822478Z",
     "start_time": "2019-09-04T21:36:32.676678Z"
    }
   },
   "outputs": [
    {
     "name": "stdout",
     "output_type": "stream",
     "text": [
      "01-Exploring-Genome-v070.ipynb      20-Destranding-Bismark-cov.ipynb\r\n",
      "02-Exploring-early-070-maker.ipynb  21-Destranding-2-bg.ipynb\r\n",
      "03-Simple-gene-track.ipynb          22-Concat-Coverage.ipynb\r\n",
      "04-Genes-from-preMaker.ipynb        23-Defining-mCpG-tracks.ipynb\r\n",
      "05-Joining-HP-gene-IDs.ipynb        24-Genome-feature-tracks.ipynb\r\n",
      "06.ipynb                            25-liu-python.ipynb\r\n",
      "\u001b[34m065_bismark\u001b[m\u001b[m/                        26-Revising-TE-track.ipynb\r\n",
      "07-Gene-names-preMaker.ipynb        50-methylkit.Rmd\r\n",
      "10-Gene-Methylation.ipynb           \u001b[34manalyses\u001b[m\u001b[m/\r\n",
      "11-genome-recip-blast.ipynb         \u001b[34mdata\u001b[m\u001b[m/\r\n",
      "12-Exploring-HiC.ipynb              download\r\n",
      "13-18scaffold-assembly.ipynb        head\r\n",
      "14-Bismark-v074.ipynb               \u001b[34migv\u001b[m\u001b[m/\r\n",
      "15-Big-Mystery-Scaffold.ipynb       \u001b[34mimg\u001b[m\u001b[m/\r\n",
      "16-v74-GO-Annotations.ipynb         \u001b[34mnotes\u001b[m\u001b[m/\r\n",
      "17-Coverage-IGV-v74.ipynb           \u001b[34mtracks\u001b[m\u001b[m/\r\n",
      "18-Downloading-BAMs.ipynb           \u001b[34mwd\u001b[m\u001b[m/\r\n",
      "19-v74-protein-info.ipynb\r\n"
     ]
    }
   ],
   "source": [
    "ls"
   ]
  },
  {
   "cell_type": "code",
   "execution_count": 42,
   "metadata": {
    "ExecuteTime": {
     "end_time": "2019-09-04T21:40:22.949661Z",
     "start_time": "2019-09-04T21:40:22.818851Z"
    }
   },
   "outputs": [
    {
     "name": "stdout",
     "output_type": "stream",
     "text": [
      "PGA_scaffold9\tRepeatMasker\tsimilarity\t38573716\t38573754\t 2.8\t+\t.\tTarget \"Motif:(TTCT)n\" 1 38\r\n",
      "PGA_scaffold9\tRepeatMasker\tsimilarity\t38573755\t38573878\t21.4\t+\t.\tTarget \"Motif:(TTC)n\" 1 122\r\n",
      "PGA_scaffold9\tRepeatMasker\tsimilarity\t38574040\t38574341\t32.9\t-\t.\tTarget \"Motif:Kolobok-7_CGi\" 2450 2750\r\n",
      "PGA_scaffold9\tRepeatMasker\tsimilarity\t38574250\t38574705\t35.0\t-\t.\tTarget \"Motif:Kolobok-10_CGi\" 2901 3372\r\n",
      "PGA_scaffold9\tRepeatMasker\tsimilarity\t38575823\t38575995\t25.9\t-\t.\tTarget \"Motif:Kolobok-10_CGi\" 2054 2229\r\n",
      "PGA_scaffold9\tRepeatMasker\tsimilarity\t38578619\t38578660\t19.1\t+\t.\tTarget \"Motif:Helitron-N9_CGi\" 185 226\r\n",
      "PGA_scaffold9\tRepeatMasker\tsimilarity\t38579369\t38579395\t12.0\t+\t.\tTarget \"Motif:(ATCT)n\" 1 28\r\n",
      "PGA_scaffold9\tRepeatMasker\tsimilarity\t38579893\t38579930\t 0.0\t+\t.\tTarget \"Motif:(ATTC)n\" 1 38\r\n",
      "PGA_scaffold9\tRepeatMasker\tsimilarity\t38580008\t38580069\t17.3\t+\t.\tTarget \"Motif:CR1-49_AAe\" 5009 5066\r\n",
      "PGA_scaffold9\tRepeatMasker\tsimilarity\t38581511\t38581557\t10.9\t+\t.\tTarget \"Motif:A-rich\" 1 44\r\n"
     ]
    }
   ],
   "source": [
    "!tail head"
   ]
  },
  {
   "cell_type": "markdown",
   "metadata": {},
   "source": [
    "# USING GENSAS OUT"
   ]
  },
  {
   "cell_type": "code",
   "execution_count": null,
   "metadata": {},
   "outputs": [],
   "source": []
  }
 ],
 "metadata": {
  "kernelspec": {
   "display_name": "Python 3",
   "language": "python",
   "name": "python3"
  },
  "language_info": {
   "codemirror_mode": {
    "name": "ipython",
    "version": 3
   },
   "file_extension": ".py",
   "mimetype": "text/x-python",
   "name": "python",
   "nbconvert_exporter": "python",
   "pygments_lexer": "ipython3",
   "version": "3.6.8"
  }
 },
 "nbformat": 4,
 "nbformat_minor": 2
}
