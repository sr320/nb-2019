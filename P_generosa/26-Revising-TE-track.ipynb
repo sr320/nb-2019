{
 "cells": [
  {
   "cell_type": "code",
   "execution_count": 16,
   "metadata": {
    "ExecuteTime": {
     "end_time": "2019-09-04T19:34:24.454193Z",
     "start_time": "2019-09-04T19:34:24.312057Z"
    }
   },
   "outputs": [
    {
     "name": "stdout",
     "output_type": "stream",
     "text": [
      "PGA_scaffold9\tRepeatMasker\tsimilarity\t38573716\t38573754\t 2.8\t+\t.\tTarget \"Motif:(TTCT)n\" 1 38\r\n",
      "PGA_scaffold9\tRepeatMasker\tsimilarity\t38573755\t38573878\t21.4\t+\t.\tTarget \"Motif:(TTC)n\" 1 122\r\n",
      "PGA_scaffold9\tRepeatMasker\tsimilarity\t38574040\t38574341\t32.9\t-\t.\tTarget \"Motif:Kolobok-7_CGi\" 2450 2750\r\n",
      "PGA_scaffold9\tRepeatMasker\tsimilarity\t38574250\t38574705\t35.0\t-\t.\tTarget \"Motif:Kolobok-10_CGi\" 2901 3372\r\n",
      "PGA_scaffold9\tRepeatMasker\tsimilarity\t38575823\t38575995\t25.9\t-\t.\tTarget \"Motif:Kolobok-10_CGi\" 2054 2229\r\n",
      "PGA_scaffold9\tRepeatMasker\tsimilarity\t38578619\t38578660\t19.1\t+\t.\tTarget \"Motif:Helitron-N9_CGi\" 185 226\r\n",
      "PGA_scaffold9\tRepeatMasker\tsimilarity\t38579369\t38579395\t12.0\t+\t.\tTarget \"Motif:(ATCT)n\" 1 28\r\n",
      "PGA_scaffold9\tRepeatMasker\tsimilarity\t38579893\t38579930\t 0.0\t+\t.\tTarget \"Motif:(ATTC)n\" 1 38\r\n",
      "PGA_scaffold9\tRepeatMasker\tsimilarity\t38580008\t38580069\t17.3\t+\t.\tTarget \"Motif:CR1-49_AAe\" 5009 5066\r\n",
      "PGA_scaffold9\tRepeatMasker\tsimilarity\t38581511\t38581557\t10.9\t+\t.\tTarget \"Motif:A-rich\" 1 44\r\n"
     ]
    }
   ],
   "source": [
    "!tail data/Pgenerosa_v074.fa.out.gff"
   ]
  },
  {
   "cell_type": "code",
   "execution_count": null,
   "metadata": {
    "ExecuteTime": {
     "start_time": "2019-09-04T19:34:45.713Z"
    }
   },
   "outputs": [],
   "source": [
    "!cat data/Pgenerosa_v074.fa.out.gff | sort -V | tail"
   ]
  },
  {
   "cell_type": "code",
   "execution_count": 7,
   "metadata": {
    "ExecuteTime": {
     "end_time": "2019-09-04T19:24:05.146792Z",
     "start_time": "2019-09-04T19:20:44.334188Z"
    }
   },
   "outputs": [
    {
     "name": "stdout",
     "output_type": "stream",
     "text": [
      "PGA_scaffold9__45_contigs__length_38581958\tRepeatMasker\tsimilarity\t9982172\t9982200\t 7.2\t+\t.\tTarget \"Motif:(TA)n\" 1 30\n",
      "PGA_scaffold9__45_contigs__length_38581958\tRepeatMasker\tsimilarity\t9984990\t9985041\t11.6\t+\t.\tTarget \"Motif:(ACATAT)n\" 1 53\n",
      "PGA_scaffold9__45_contigs__length_38581958\tRepeatMasker\tsimilarity\t9985481\t9985515\t 9.2\t+\t.\tTarget \"Motif:(TATTAAC)n\" 1 39\n",
      "PGA_scaffold9__45_contigs__length_38581958\tRepeatMasker\tsimilarity\t9985592\t9985800\t29.3\t+\t.\tTarget \"Motif:BivaMeta-SINE1_HyCu\" 2 215\n",
      "PGA_scaffold9__45_contigs__length_38581958\tRepeatMasker\tsimilarity\t9990576\t9990774\t33.5\t-\t.\tTarget \"Motif:Gypsy-18_PBa-I\" 5888 6088\n",
      "PGA_scaffold9__45_contigs__length_38581958\tRepeatMasker\tsimilarity\t9990900\t9990940\t14.6\t-\t.\tTarget \"Motif:Gypsy-39_DPu-I\" 4429 4469\n",
      "PGA_scaffold9__45_contigs__length_38581958\tRepeatMasker\tsimilarity\t9991523\t9991672\t32.9\t-\t.\tTarget \"Motif:Gypsy-101_GM-I\" 2475 2626\n",
      "PGA_scaffold9__45_contigs__length_38581958\tRepeatMasker\tsimilarity\t9991672\t9992305\t28.1\t-\t.\tTarget \"Motif:Gypsy-39_DPu-I\" 2893 3794\n",
      "PGA_scaffold9__45_contigs__length_38581958\tRepeatMasker\tsimilarity\t9997065\t9997345\t26.4\t-\t.\tTarget \"Motif:BivaMeta-SINE1_HyCu\" 9 294\n",
      "PGA_scaffold9__45_contigs__length_38581958\tRepeatMasker\tsimilarity\t9999877\t9999905\t15.3\t+\t.\tTarget \"Motif:(TATTA)n\" 1 30\n"
     ]
    }
   ],
   "source": [
    "cat data/Pgenerosa_v074.fa.out.gff | sed 's/PGA_scaffold1/PGA_scaffold1__77_contigs__length_89643857/g' \\\n",
    "| sed 's/PGA_scaffold2/PGA_scaffold2__36_contigs__length_69596280/g' \\\n",
    "| sed 's/PGA_scaffold3/PGA_scaffold3__111_contigs__length_57743597/g' \\\n",
    "| sed 's/PGA_scaffold4/PGA_scaffold4__129_contigs__length_65288255/g' \\\n",
    "| sed 's/PGA_scaffold5/PGA_scaffold5__109_contigs__length_67248332/g' \\\n",
    "| sed 's/PGA_scaffold6/PGA_scaffold6__104_contigs__length_61759565/g' \\\n",
    "| sed 's/PGA_scaffold7/PGA_scaffold7__69_contigs__length_43120122/g' \\\n",
    "| sed 's/PGA_scaffold8/PGA_scaffold8__63_contigs__length_61151155/g' \\\n",
    "| sed 's/PGA_scaffold9/PGA_scaffold9__45_contigs__length_38581958/g' \\\n",
    "| sed 's/PGA_scaffold10/PGA_scaffold10__49_contigs__length_53961475/g' \\\n",
    "| sed 's/PGA_scaffold11/PGA_scaffold11__79_contigs__length_51449921/g' \\\n",
    "| sed 's/PGA_scaffold12/PGA_scaffold12__71_contigs__length_50438331/g' \\\n",
    "| sed 's/PGA_scaffold13/PGA_scaffold13__52_contigs__length_44396874/g' \\\n",
    "| sed 's/PGA_scaffold14/PGA_scaffold14__91_contigs__length_45393038/g' \\\n",
    "| sed 's/PGA_scaffold15/PGA_scaffold15__101_contigs__length_47938513/g' \\\n",
    "| sed 's/PGA_scaffold16/PGA_scaffold16__33_contigs__length_31980953/g' \\\n",
    "| sed 's/PGA_scaffold17/PGA_scaffold17__51_contigs__length_34923512/g' \\\n",
    "| sed 's/PGA_scaffold18/PGA_scaffold18__69_contigs__length_27737463/g' \\\n",
    "| sort -g | tail\n"
   ]
  },
  {
   "cell_type": "code",
   "execution_count": 11,
   "metadata": {
    "ExecuteTime": {
     "end_time": "2019-09-04T19:27:12.177105Z",
     "start_time": "2019-09-04T19:26:56.497725Z"
    }
   },
   "outputs": [],
   "source": [
    "cat data/Pgenerosa_v074.fa.out.gff | sed 's/PGA_scaffold1/PGA_scaffold1__77_contigs__length_89643857/g' \\\n",
    "| sed 's/PGA_scaffold2/PGA_scaffold2__36_contigs__length_69596280/g' \\\n",
    "| sed 's/PGA_scaffold3/PGA_scaffold3__111_contigs__length_57743597/g' \\\n",
    "| sed 's/PGA_scaffold4/PGA_scaffold4__129_contigs__length_65288255/g' \\\n",
    "| sed 's/PGA_scaffold5/PGA_scaffold5__109_contigs__length_67248332/g' \\\n",
    "| sed 's/PGA_scaffold6/PGA_scaffold6__104_contigs__length_61759565/g' \\\n",
    "| sed 's/PGA_scaffold7/PGA_scaffold7__69_contigs__length_43120122/g' \\\n",
    "| sed 's/PGA_scaffold8/PGA_scaffold8__63_contigs__length_61151155/g' \\\n",
    "| sed 's/PGA_scaffold9/PGA_scaffold9__45_contigs__length_38581958/g' \\\n",
    "| sed 's/PGA_scaffold10/PGA_scaffold10__49_contigs__length_53961475/g' \\\n",
    "| sed 's/PGA_scaffold11/PGA_scaffold11__79_contigs__length_51449921/g' \\\n",
    "| sed 's/PGA_scaffold12/PGA_scaffold12__71_contigs__length_50438331/g' \\\n",
    "| sed 's/PGA_scaffold13/PGA_scaffold13__52_contigs__length_44396874/g' \\\n",
    "| sed 's/PGA_scaffold14/PGA_scaffold14__91_contigs__length_45393038/g' \\\n",
    "| sed 's/PGA_scaffold15/PGA_scaffold15__101_contigs__length_47938513/g' \\\n",
    "| sed 's/PGA_scaffold16/PGA_scaffold16__33_contigs__length_31980953/g' \\\n",
    "| sed 's/PGA_scaffold17/PGA_scaffold17__51_contigs__length_34923512/g' \\\n",
    "| sed 's/PGA_scaffold18/PGA_scaffold18__69_contigs__length_27737463/g' \\\n",
    "> tracks/Pgenerosa_v074.rm.TE.gff\n"
   ]
  },
  {
   "cell_type": "code",
   "execution_count": 15,
   "metadata": {
    "ExecuteTime": {
     "end_time": "2019-09-04T19:34:16.494063Z",
     "start_time": "2019-09-04T19:33:54.114445Z"
    }
   },
   "outputs": [
    {
     "name": "stdout",
     "output_type": "stream",
     "text": [
      "PGA_scaffold9__45_contigs__length_38581958\tRepeatMasker\tsimilarity\t38574250\t38574705\t35.0\t-\t.\tTarget \"Motif:Kolobok-10_CGi\" 2901 3372\r\n",
      "PGA_scaffold9__45_contigs__length_38581958\tRepeatMasker\tsimilarity\t38575823\t38575995\t25.9\t-\t.\tTarget \"Motif:Kolobok-10_CGi\" 2054 2229\r\n",
      "PGA_scaffold9__45_contigs__length_38581958\tRepeatMasker\tsimilarity\t38578619\t38578660\t19.1\t+\t.\tTarget \"Motif:Helitron-N9_CGi\" 185 226\r\n",
      "PGA_scaffold9__45_contigs__length_38581958\tRepeatMasker\tsimilarity\t38579369\t38579395\t12.0\t+\t.\tTarget \"Motif:(ATCT)n\" 1 28\r\n",
      "PGA_scaffold9__45_contigs__length_38581958\tRepeatMasker\tsimilarity\t38579893\t38579930\t 0.0\t+\t.\tTarget \"Motif:(ATTC)n\" 1 38\r\n",
      "PGA_scaffold9__45_contigs__length_38581958\tRepeatMasker\tsimilarity\t38580008\t38580069\t17.3\t+\t.\tTarget \"Motif:CR1-49_AAe\" 5009 5066\r\n",
      "PGA_scaffold9__45_contigs__length_38581958\tRepeatMasker\tsimilarity\t38581511\t38581557\t10.9\t+\t.\tTarget \"Motif:A-rich\" 1 44\r\n",
      "##date 2019-06-28\r\n",
      "##gff-version 2\r\n",
      "##sequence-region Pgenerosa_v074.fa\r\n"
     ]
    }
   ],
   "source": [
    "cat data/Pgenerosa_v074.fa.out.gff | sed 's/PGA_scaffold1/PGA_scaffold1__77_contigs__length_89643857/g' \\\n",
    "| sed 's/PGA_scaffold2/PGA_scaffold2__36_contigs__length_69596280/g' \\\n",
    "| sed 's/PGA_scaffold3/PGA_scaffold3__111_contigs__length_57743597/g' \\\n",
    "| sed 's/PGA_scaffold4/PGA_scaffold4__129_contigs__length_65288255/g' \\\n",
    "| sed 's/PGA_scaffold5/PGA_scaffold5__109_contigs__length_67248332/g' \\\n",
    "| sed 's/PGA_scaffold6/PGA_scaffold6__104_contigs__length_61759565/g' \\\n",
    "| sed 's/PGA_scaffold7/PGA_scaffold7__69_contigs__length_43120122/g' \\\n",
    "| sed 's/PGA_scaffold8/PGA_scaffold8__63_contigs__length_61151155/g' \\\n",
    "| sed 's/PGA_scaffold9/PGA_scaffold9__45_contigs__length_38581958/g' \\\n",
    "| sed 's/PGA_scaffold10/PGA_scaffold10__49_contigs__length_53961475/g' \\\n",
    "| sed 's/PGA_scaffold11/PGA_scaffold11__79_contigs__length_51449921/g' \\\n",
    "| sed 's/PGA_scaffold12/PGA_scaffold12__71_contigs__length_50438331/g' \\\n",
    "| sed 's/PGA_scaffold13/PGA_scaffold13__52_contigs__length_44396874/g' \\\n",
    "| sed 's/PGA_scaffold14/PGA_scaffold14__91_contigs__length_45393038/g' \\\n",
    "| sed 's/PGA_scaffold15/PGA_scaffold15__101_contigs__length_47938513/g' \\\n",
    "| sed 's/PGA_scaffold16/PGA_scaffold16__33_contigs__length_31980953/g' \\\n",
    "| sed 's/PGA_scaffold17/PGA_scaffold17__51_contigs__length_34923512/g' \\\n",
    "| sed 's/PGA_scaffold18/PGA_scaffold18__69_contigs__length_27737463/g' \\\n",
    "| gsort -V | tail"
   ]
  },
  {
   "cell_type": "code",
   "execution_count": null,
   "metadata": {},
   "outputs": [],
   "source": []
  }
 ],
 "metadata": {
  "kernelspec": {
   "display_name": "Python 3",
   "language": "python",
   "name": "python3"
  },
  "language_info": {
   "codemirror_mode": {
    "name": "ipython",
    "version": 3
   },
   "file_extension": ".py",
   "mimetype": "text/x-python",
   "name": "python",
   "nbconvert_exporter": "python",
   "pygments_lexer": "ipython3",
   "version": "3.6.8"
  }
 },
 "nbformat": 4,
 "nbformat_minor": 2
}
