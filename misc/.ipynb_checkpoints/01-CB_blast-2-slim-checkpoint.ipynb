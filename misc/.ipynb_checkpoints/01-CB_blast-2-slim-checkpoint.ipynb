{
 "cells": [
  {
   "cell_type": "markdown",
   "metadata": {},
   "source": [
    "## A notebook for Joining blastoutput and UNIPROT GO file"
   ]
  },
  {
   "cell_type": "markdown",
   "metadata": {
    "collapsed": true
   },
   "source": [
    "This is a notebook meant to run in a working directory. Please set working directory as variable in next cell"
   ]
  },
  {
   "cell_type": "code",
   "execution_count": 5,
   "metadata": {
    "ExecuteTime": {
     "end_time": "2019-03-21T11:54:35.105356Z",
     "start_time": "2019-03-21T11:54:35.101267Z"
    }
   },
   "outputs": [],
   "source": [
    "wd=\"/Users/sr320/Documents/GitHub/nb-2019/misc/wd\"\n"
   ]
  },
  {
   "cell_type": "code",
   "execution_count": 29,
   "metadata": {
    "ExecuteTime": {
     "end_time": "2019-03-21T12:22:10.722905Z",
     "start_time": "2019-03-21T12:22:10.707259Z"
    }
   },
   "outputs": [
    {
     "name": "stdout",
     "output_type": "stream",
     "text": [
      "/Users/sr320/Documents/GitHub/nb-2019/misc/wd\n"
     ]
    }
   ],
   "source": [
    "cd $wd"
   ]
  },
  {
   "cell_type": "code",
   "execution_count": 12,
   "metadata": {
    "ExecuteTime": {
     "end_time": "2019-03-21T12:10:21.991180Z",
     "start_time": "2019-03-21T12:10:19.011305Z"
    }
   },
   "outputs": [
    {
     "name": "stderr",
     "output_type": "stream",
     "text": [
      "  % Total    % Received % Xferd  Average Speed   Time    Time     Time  Current\n",
      "                                 Dload  Upload   Total   Spent    Left  Speed\n",
      "\r",
      "  0     0    0     0    0     0      0      0 --:--:-- --:--:-- --:--:--     0\r",
      "  0 2314k    0  1090    0     0   1109      0  0:35:36 --:--:--  0:35:36  1108\r",
      " 10 2314k   10  242k    0     0   169k      0  0:00:13  0:00:01  0:00:12  169k\r",
      " 55 2314k   55 1281k    0     0   528k      0  0:00:04  0:00:02  0:00:02  528k\r",
      "100 2314k  100 2314k    0     0   787k      0  0:00:02  0:00:02 --:--:--  787k\n"
     ]
    }
   ],
   "source": [
    "%%bash\n",
    "curl -O http://owl.fish.washington.edu/halfshell/bu-alanine-wd/17-07-20/GO-GOslim.sorted"
   ]
  },
  {
   "cell_type": "markdown",
   "metadata": {},
   "source": [
    "### In this directory you will need three files\n",
    "1) blastout file in format `-6`    \n",
    "2) Uniprot GO annotation file (340M) available here `http://owl.fish.washington.edu/halfshell/bu-alanine-wd/17-07-20/uniprot-SP-GO.sorted`    \n",
    "3) GOslim file available here `http://owl.fish.washington.edu/halfshell/bu-alanine-wd/17-07-20/GO-GOslim.sorted`"
   ]
  },
  {
   "cell_type": "code",
   "execution_count": 14,
   "metadata": {
    "ExecuteTime": {
     "end_time": "2019-03-21T12:16:20.211516Z",
     "start_time": "2019-03-21T12:16:20.077304Z"
    }
   },
   "outputs": [
    {
     "name": "stdout",
     "output_type": "stream",
     "text": [
      "GO-GOslim.sorted blastout.tab     sp.tab\r\n"
     ]
    }
   ],
   "source": [
    "#checking if files in directory\n",
    "!ls "
   ]
  },
  {
   "cell_type": "markdown",
   "metadata": {},
   "source": [
    "### Set blastout file as variable"
   ]
  },
  {
   "cell_type": "code",
   "execution_count": 15,
   "metadata": {
    "ExecuteTime": {
     "end_time": "2019-03-21T12:16:39.655865Z",
     "start_time": "2019-03-21T12:16:39.647708Z"
    }
   },
   "outputs": [],
   "source": [
    "blastout=\"blastout.tab\"\n"
   ]
  },
  {
   "cell_type": "code",
   "execution_count": 16,
   "metadata": {
    "ExecuteTime": {
     "end_time": "2019-03-21T12:16:47.092444Z",
     "start_time": "2019-03-21T12:16:46.943986Z"
    }
   },
   "outputs": [
    {
     "name": "stdout",
     "output_type": "stream",
     "text": [
      "TRINITY_DN31278_c0_g1_i1\tsp|Q54J75|RPB2_DICDI\t64\t111\t40\t0\t1\t333\t950\t1060\t6.90E-40\t164.5\r\n",
      "TRINITY_DN31239_c0_g1_i1\tsp|Q9SIT6|AB5G_ARATH\t29.6\t125\t88\t0\t58\t432\t440\t564\t1.40E-12\t74.3\r\n"
     ]
    }
   ],
   "source": [
    "!head -2 $blastout"
   ]
  },
  {
   "cell_type": "code",
   "execution_count": 17,
   "metadata": {
    "ExecuteTime": {
     "end_time": "2019-03-21T12:16:49.385589Z",
     "start_time": "2019-03-21T12:16:49.255892Z"
    }
   },
   "outputs": [],
   "source": [
    "#convert pipes to tab\n",
    "!tr '|' '\\t' < $blastout \\\n",
    "> _blast-sep.tab"
   ]
  },
  {
   "cell_type": "code",
   "execution_count": 18,
   "metadata": {
    "ExecuteTime": {
     "end_time": "2019-03-21T12:16:51.461499Z",
     "start_time": "2019-03-21T12:16:51.325492Z"
    },
    "scrolled": true
   },
   "outputs": [
    {
     "name": "stdout",
     "output_type": "stream",
     "text": [
      "TRINITY_DN31278_c0_g1_i1\tsp\tQ54J75\tRPB2_DICDI\t64\t111\t40\t0\t1\t333\t950\t1060\t6.90E-40\t164.5\r\n",
      "TRINITY_DN31239_c0_g1_i1\tsp\tQ9SIT6\tAB5G_ARATH\t29.6\t125\t88\t0\t58\t432\t440\t564\t1.40E-12\t74.3\r\n"
     ]
    }
   ],
   "source": [
    "!head -2 _blast-sep.tab"
   ]
  },
  {
   "cell_type": "code",
   "execution_count": 19,
   "metadata": {
    "ExecuteTime": {
     "end_time": "2019-03-21T12:17:06.792903Z",
     "start_time": "2019-03-21T12:17:06.658956Z"
    }
   },
   "outputs": [],
   "source": [
    "#reducing number of columns and sorting \n",
    "!awk -v OFS='\\t' '{print $3, $1, $13}' < _blast-sep.tab | sort \\\n",
    "> _blast-sort.tab"
   ]
  },
  {
   "cell_type": "code",
   "execution_count": 20,
   "metadata": {
    "ExecuteTime": {
     "end_time": "2019-03-21T12:17:07.659729Z",
     "start_time": "2019-03-21T12:17:07.532548Z"
    }
   },
   "outputs": [
    {
     "name": "stdout",
     "output_type": "stream",
     "text": [
      "F4KD38\tTRINITY_DN31290_c0_g1_i1\t4.10E-27\r\n",
      "P32234\tTRINITY_DN31227_c0_g1_i1\t1.60E-23\r\n"
     ]
    }
   ],
   "source": [
    "!head -2 _blast-sort.tab"
   ]
  },
  {
   "cell_type": "markdown",
   "metadata": {},
   "source": [
    "### Sort SPID"
   ]
  },
  {
   "cell_type": "code",
   "execution_count": 21,
   "metadata": {
    "ExecuteTime": {
     "end_time": "2019-03-21T12:18:17.330444Z",
     "start_time": "2019-03-21T12:18:17.199602Z"
    }
   },
   "outputs": [
    {
     "name": "stdout",
     "output_type": "stream",
     "text": [
      "UniProtKB\tA0A010PZJ8\tpart_of\tGO:0005737\tGO_REF:0000038\tECO:0000323\tUniProtKB-KW:KW-0963\t20190212\tUniProt\r\n",
      "UniProtKB\tA0A010PZJ8\tpart_of\tGO:0005737\tGO_REF:0000040\tECO:0000323\tUniProtKB-SubCell:SL-0086\t20190211\tUniProt\r\n"
     ]
    }
   ],
   "source": [
    "!head -2 sp.tab"
   ]
  },
  {
   "cell_type": "code",
   "execution_count": 26,
   "metadata": {
    "ExecuteTime": {
     "end_time": "2019-03-21T12:20:04.690800Z",
     "start_time": "2019-03-21T12:20:04.557581Z"
    }
   },
   "outputs": [],
   "source": [
    "#sorting second column\n",
    "!sort sp.tab -k 2  > uniprot-SP-GO.sorted"
   ]
  },
  {
   "cell_type": "code",
   "execution_count": 27,
   "metadata": {
    "ExecuteTime": {
     "end_time": "2019-03-21T12:21:19.754959Z",
     "start_time": "2019-03-21T12:21:19.623087Z"
    },
    "scrolled": true
   },
   "outputs": [],
   "source": [
    "#joining blast with uniprot annoation file and \n",
    "!join -1 1 -2 2 -t $'\\t' \\\n",
    "_blast-sort.tab \\\n",
    "uniprot-SP-GO.sorted \\\n",
    "> _blast-annot.tab"
   ]
  },
  {
   "cell_type": "code",
   "execution_count": 28,
   "metadata": {
    "ExecuteTime": {
     "end_time": "2019-03-21T12:21:20.532659Z",
     "start_time": "2019-03-21T12:21:20.404300Z"
    }
   },
   "outputs": [
    {
     "name": "stdout",
     "output_type": "stream",
     "text": [
      "Q27514\tTRINITY_DN31262_c0_g1_i1\t2.40E-23\tUniProtKB\tenables\tGO:0008168\tGO_REF:0000038\tECO:0000323\tUniProtKB-KW:KW-0489\t20190212\tUniProt\r\n",
      "Q84TJ0\tTRINITY_DN31299_c0_g1_i1\t1.80E-60\tUniProtKB\tenables\tGO:0016787\tGO_REF:0000038\tECO:0000323\tUniProtKB-KW:KW-0378\t20190212\tUniProt\r\n"
     ]
    }
   ],
   "source": [
    "!head -2 _blast-annot.tab"
   ]
  },
  {
   "cell_type": "code",
   "execution_count": null,
   "metadata": {},
   "outputs": [],
   "source": []
  },
  {
   "cell_type": "code",
   "execution_count": null,
   "metadata": {},
   "outputs": [],
   "source": []
  },
  {
   "cell_type": "code",
   "execution_count": null,
   "metadata": {},
   "outputs": [],
   "source": []
  },
  {
   "cell_type": "code",
   "execution_count": null,
   "metadata": {},
   "outputs": [],
   "source": []
  },
  {
   "cell_type": "code",
   "execution_count": null,
   "metadata": {},
   "outputs": [],
   "source": []
  },
  {
   "cell_type": "code",
   "execution_count": 106,
   "metadata": {},
   "outputs": [],
   "source": []
  },
  {
   "cell_type": "code",
   "execution_count": null,
   "metadata": {
    "collapsed": true
   },
   "outputs": [],
   "source": []
  }
 ],
 "metadata": {
  "kernelspec": {
   "display_name": "Python 3",
   "language": "python",
   "name": "python3"
  },
  "language_info": {
   "codemirror_mode": {
    "name": "ipython",
    "version": 3
   },
   "file_extension": ".py",
   "mimetype": "text/x-python",
   "name": "python",
   "nbconvert_exporter": "python",
   "pygments_lexer": "ipython3",
   "version": "3.6.8"
  }
 },
 "nbformat": 4,
 "nbformat_minor": 1
}
